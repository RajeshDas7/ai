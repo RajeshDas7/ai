{
 "cells": [
  {
   "cell_type": "markdown",
   "id": "1635d5f3",
   "metadata": {},
   "source": [
    "### Q1. What is a probability distribution, exactly? If the values are meant to be random, how can you predict them at all?"
   ]
  },
  {
   "cell_type": "code",
   "execution_count": null,
   "id": "184d4bf7",
   "metadata": {},
   "outputs": [],
   "source": [
    "A probability distribution is a statistical function that\n",
    "describes all the possible values and likelihoods that a random variable can take within a given range.\n",
    "This range will be bounded between the minimum and maximum possible values\n",
    "\n",
    "\n",
    "precisely where the possible value is likely to be plotted on the probability distribution \n",
    "depends on a number of factors. These factors include the distribution's\n",
    "mean (average), standard deviation, skewness, and kurtosis.\n"
   ]
  },
  {
   "cell_type": "markdown",
   "id": "4a3374b0",
   "metadata": {},
   "source": [
    "### Q2. Is there a distinction between true random numbers and pseudo-random numbers, if there is one? Why are the latter considered “good enough”?"
   ]
  },
  {
   "cell_type": "code",
   "execution_count": null,
   "id": "f48ea37e",
   "metadata": {},
   "outputs": [],
   "source": [
    "The difference between true random number generators(TRNGs) and pseudo-random number generators(PRNGs) \n",
    "is that TRNGs use an unpredictable physical means to generate numbers \n",
    "(like atmospheric noise), and PRNGs use mathematical algorithms (completely computer-generated)."
   ]
  },
  {
   "cell_type": "markdown",
   "id": "40124766",
   "metadata": {},
   "source": [
    "### Q3. What are the two main factors that influence the behaviour of a &quot;normal&quot; probability distribution?\n"
   ]
  },
  {
   "cell_type": "code",
   "execution_count": null,
   "id": "5d2486ec",
   "metadata": {},
   "outputs": [],
   "source": [
    "maen and standard deviation"
   ]
  },
  {
   "cell_type": "markdown",
   "id": "1dc5649e",
   "metadata": {},
   "source": [
    "### Q4. Provide a real-life example of a normal distribution.\n"
   ]
  },
  {
   "cell_type": "code",
   "execution_count": null,
   "id": "8f9c75de",
   "metadata": {},
   "outputs": [],
   "source": [
    "rolling a dice\n",
    "tossing a coin"
   ]
  },
  {
   "cell_type": "markdown",
   "id": "724ab467",
   "metadata": {},
   "source": [
    "### Q5. In the short term, how can you expect a probability distribution to behave? What do you think will happen as the number of trials grows?"
   ]
  },
  {
   "cell_type": "code",
   "execution_count": null,
   "id": "f6a9d346",
   "metadata": {},
   "outputs": [],
   "source": [
    "in the short term the probability distribution will behave same as sample behaviour.\n",
    "as the number of trial increases it will behave like the population distribution"
   ]
  },
  {
   "cell_type": "markdown",
   "id": "11ef8cbd",
   "metadata": {},
   "source": [
    "### Q6. What kind of object can be shuffled by using random.shuffle?\n"
   ]
  },
  {
   "cell_type": "code",
   "execution_count": null,
   "id": "1751d01e",
   "metadata": {},
   "outputs": [],
   "source": [
    "To randomly shuffle elements of lists ( list ), strings ( str ) and tuples ( tuple ) in Python, use the random module. \n",
    "random provides shuffle() that shuffles the original list in place,"
   ]
  },
  {
   "cell_type": "markdown",
   "id": "d54fe8e3",
   "metadata": {},
   "source": [
    "### Q7. Describe the math package&#39;s general categories of functions.\n"
   ]
  },
  {
   "cell_type": "code",
   "execution_count": null,
   "id": "608be324",
   "metadata": {},
   "outputs": [],
   "source": [
    "math.ceil(x)====Return the ceiling of x, the smallest integer greater than or equal to x.\n",
    "math.comb(n, k)===Return the number of ways to choose k items from n items without repetition and without order.\n",
    "math.copysign(x, y)===Return a float with the magnitude (absolute value) of x but the sign of y."
   ]
  },
  {
   "cell_type": "markdown",
   "id": "f393c0d9",
   "metadata": {},
   "source": [
    "### Q8. What is the relationship between exponentiation and logarithms?\n"
   ]
  },
  {
   "cell_type": "code",
   "execution_count": null,
   "id": "6d8bbb61",
   "metadata": {},
   "outputs": [],
   "source": [
    "exp(a) :- This function returns the value of e raised to the power a ====(e**a) \n",
    "log(a, b) :- This function returns the logarithmic value of a with base b."
   ]
  },
  {
   "cell_type": "markdown",
   "id": "2ac63c6d",
   "metadata": {},
   "source": [
    "### Q9. What are the three logarithmic functions that Python supports?"
   ]
  },
  {
   "cell_type": "code",
   "execution_count": null,
   "id": "5875354c",
   "metadata": {},
   "outputs": [],
   "source": [
    "math.log(14)\n",
    "math.log2(14)\n",
    "math.log10(14)"
   ]
  },
  {
   "cell_type": "code",
   "execution_count": null,
   "id": "932dbb31",
   "metadata": {},
   "outputs": [],
   "source": []
  },
  {
   "cell_type": "code",
   "execution_count": null,
   "id": "7161f1ae",
   "metadata": {},
   "outputs": [],
   "source": []
  },
  {
   "cell_type": "code",
   "execution_count": null,
   "id": "07e88af3",
   "metadata": {},
   "outputs": [],
   "source": []
  }
 ],
 "metadata": {
  "kernelspec": {
   "display_name": "Python 3",
   "language": "python",
   "name": "python3"
  },
  "language_info": {
   "codemirror_mode": {
    "name": "ipython",
    "version": 3
   },
   "file_extension": ".py",
   "mimetype": "text/x-python",
   "name": "python",
   "nbconvert_exporter": "python",
   "pygments_lexer": "ipython3",
   "version": "3.8.8"
  }
 },
 "nbformat": 4,
 "nbformat_minor": 5
}
