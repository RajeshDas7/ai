{
 "cells": [
  {
   "cell_type": "markdown",
   "id": "6e2c245f",
   "metadata": {},
   "source": [
    "### 1. What is the concept of human learning? Please give two examples."
   ]
  },
  {
   "cell_type": "code",
   "execution_count": null,
   "id": "8d36cbd9",
   "metadata": {},
   "outputs": [],
   "source": [
    " learning is a change in behaviour, influenced by previous behaviour.\n",
    "\n",
    "Verbal learning\n",
    "Problem solving"
   ]
  },
  {
   "cell_type": "markdown",
   "id": "6a873c18",
   "metadata": {},
   "source": [
    "### 2. What different forms of human learning are there? Are there any machine learning equivalents?\n"
   ]
  },
  {
   "cell_type": "code",
   "execution_count": null,
   "id": "8b16281b",
   "metadata": {},
   "outputs": [],
   "source": [
    "Motor learning\n",
    "Verbal learning\n",
    "Concept learning\n",
    "Discrimination learning\n",
    "Learning of principles\n",
    "Problem solving\n",
    "\n",
    "yes they are machine learning equivalent"
   ]
  },
  {
   "cell_type": "markdown",
   "id": "15e1d98c",
   "metadata": {},
   "source": [
    "### 3. What is machine learning, and how does it work? What are the key responsibilities of machine\n",
    "learning?"
   ]
  },
  {
   "cell_type": "code",
   "execution_count": null,
   "id": "a9f28b73",
   "metadata": {},
   "outputs": [],
   "source": [
    ": It is an application of artificial intelligence (AI) that provides systems the ability\n",
    "to learn automatically and to improve from experiences without being programmed. It focuses on the\n",
    "development of computer applications that can access the data and used it to learn for themselves.\n",
    "\n",
    ".The primary aim is to allow the computers to learn automatically without\n",
    "human intervention or assistance and adjust actions accordingly"
   ]
  },
  {
   "cell_type": "markdown",
   "id": "0038bc95",
   "metadata": {},
   "source": [
    "### 4. Define the terms &quot;penalty&quot; and &quot;reward&quot; in the context of reinforcement learning.\n"
   ]
  },
  {
   "cell_type": "code",
   "execution_count": null,
   "id": "a22c871f",
   "metadata": {},
   "outputs": [],
   "source": [
    "A reinforcement learning algorithm,\n",
    "receives rewards by performing correctly and penalties for performing incorrectly."
   ]
  },
  {
   "cell_type": "markdown",
   "id": "82c50289",
   "metadata": {},
   "source": [
    "### 5. Explain the term &quot;learning as a search&quot;?\n"
   ]
  },
  {
   "cell_type": "code",
   "execution_count": null,
   "id": "0b2c8486",
   "metadata": {},
   "outputs": [],
   "source": []
  },
  {
   "cell_type": "markdown",
   "id": "2fd7ded8",
   "metadata": {},
   "source": [
    "### 6. What are the various goals of machine learning? What is the relationship between these and\n",
    "human learning?"
   ]
  },
  {
   "cell_type": "code",
   "execution_count": null,
   "id": "4c3b54ec",
   "metadata": {},
   "outputs": [],
   "source": [
    "(1) To make the computers smarter, more intelligent. The more direct objective in this aspect is to\n",
    "develop systems (programs) for specific practical learning tasks in application domains.\n",
    "\n",
    "(2) To dev elop computational models of human learning process and perform computer simulations.\n",
    "The study in this aspect is also called cognitive modeling.\n",
    "\n",
    "(3) To explore new learning methods and develop general learning algorithms independent of applications."
   ]
  },
  {
   "cell_type": "markdown",
   "id": "75cf91eb",
   "metadata": {},
   "source": [
    "### 7. Illustrate the various elements of machine learning using a real-life illustration.\n"
   ]
  },
  {
   "cell_type": "code",
   "execution_count": null,
   "id": "d3abfe38",
   "metadata": {},
   "outputs": [],
   "source": [
    "Data Set. Machines need a lot of data to function, to learn from, and ultimately make decisions based on it.\n",
    "\n",
    "Algorithms. Simply consider an algorithm as a mathematical or logical program that turns a data set into a model. \n",
    "\n",
    "Models.\n",
    "\n",
    "Feature Extraction. \n",
    "\n",
    "Training"
   ]
  },
  {
   "cell_type": "markdown",
   "id": "f682019a",
   "metadata": {},
   "source": [
    "### 8. Provide an example of the abstraction method.\n"
   ]
  },
  {
   "cell_type": "code",
   "execution_count": null,
   "id": "2b6d5075",
   "metadata": {},
   "outputs": [],
   "source": [
    "from abc import ABC, abstractmethod\n",
    " \n",
    "class Polygon(ABC):\n",
    " \n",
    "    @abstractmethod\n",
    "    def noofsides(self):\n",
    "        pass\n",
    " \n",
    "class Triangle(Polygon):\n",
    " \n",
    "    # overriding abstract method\n",
    "    def noofsides(self):\n",
    "        print(\"I have 3 sides\")\n",
    " \n",
    "class Pentagon(Polygon):\n",
    " \n",
    "    # overriding abstract method\n",
    "    def noofsides(self):\n",
    "        print(\"I have 5 sides\")\n",
    " \n",
    "class Hexagon(Polygon):\n",
    " \n",
    "    # overriding abstract method\n",
    "    def noofsides(self):\n",
    "        print(\"I have 6 sides\")\n",
    " \n",
    "class Quadrilateral(Polygon):\n",
    " \n",
    "    # overriding abstract method\n",
    "    def noofsides(self):\n",
    "        print(\"I have 4 sides\")\n",
    " \n",
    "\n",
    "R = Triangle()\n",
    "R.noofsides()\n",
    " \n",
    "K = Quadrilateral()\n",
    "K.noofsides()\n",
    " \n",
    "R = Pentagon()\n",
    "R.noofsides()\n",
    " \n",
    "K = Hexagon()\n",
    "K.noofsides()"
   ]
  },
  {
   "cell_type": "markdown",
   "id": "e658ddb2",
   "metadata": {},
   "source": [
    "### 9. What is the concept of generalization? What function does it play in the machine learning\n",
    "process?\n",
    "What is classification, exactly? What are the main distinctions between classification and regression?\n"
   ]
  },
  {
   "cell_type": "code",
   "execution_count": null,
   "id": "41fde646",
   "metadata": {},
   "outputs": [],
   "source": [
    "Classification is a process of finding a function which helps in \n",
    "dividing the dataset into classes based on different parameters. In Classification, a computer program\n",
    "is trained on the training dataset and based on that training, it categorizes the data into different classes.\n",
    "\n",
    "In machine learning, generalization is a definition to demonstrate how well is a trained model to classify or forecast unseen data.\n",
    "Training a generalized machine learning model means, in general, it works for all subset of unseen data.\n",
    "\n",
    "The main difference between Regression and Classification algorithms \n",
    "that Regression algorithms are used to predict the continuous values such as price, salary, age, etc.\n",
    "\n",
    "and Classification algorithms are used to predict/Classify the discrete values such as Male or Female,\n",
    "True or False, Spam or Not Spam, etc."
   ]
  },
  {
   "cell_type": "markdown",
   "id": "e6b968a9",
   "metadata": {},
   "source": [
    "### 11. What is regression, and how does it work? Give an example of a real-world problem that was\n",
    "solved using regression."
   ]
  },
  {
   "cell_type": "code",
   "execution_count": null,
   "id": "59bce3c0",
   "metadata": {},
   "outputs": [],
   "source": [
    "Regression is a process of finding the correlations between dependent and independent variables. \n",
    "It helps in predicting the continuous variables such as prediction of Market Trends, prediction of House prices, etc.\n",
    "\n",
    "The task of the Regression algorithm is to find the mapping function to map the input variable(x)\n",
    "to the continuous output variable(y).\n",
    "\n",
    "Example: Suppose we want to do weather forecasting, so for this, we will use the Regression algorithm. \n",
    "In weather prediction, the model is trained on the past data, and once the training is completed,\n",
    "it can easily predict the weather for future days."
   ]
  },
  {
   "cell_type": "markdown",
   "id": "fe65cdf9",
   "metadata": {},
   "source": [
    "### 12. Describe the clustering mechanism in detail.\n"
   ]
  },
  {
   "cell_type": "code",
   "execution_count": null,
   "id": "ae33dcd8",
   "metadata": {},
   "outputs": [],
   "source": [
    "Clustering is the task of dividing the population or data points into a number of groups\n",
    "such that data points in the same groups are more similar\n",
    "to other data points in the same group and dissimilar to the data points in other groups. \n",
    "It is basically a collection of objects on the basis of similarity and dissimilarity between them. "
   ]
  },
  {
   "cell_type": "markdown",
   "id": "f76a1b0c",
   "metadata": {},
   "source": [
    "### 13. Make brief observations on two of the following topics:\n",
    "\n",
    "i. Machine learning algorithms are used\n",
    "\n",
    "ii. Studying under supervision\n",
    "\n",
    "iii. Studying without supervision\n",
    "\n",
    "iv. Reinforcement learning is a form of learning based on positive reinforcement."
   ]
  },
  {
   "cell_type": "code",
   "execution_count": null,
   "id": "5d183e12",
   "metadata": {},
   "outputs": [],
   "source": []
  }
 ],
 "metadata": {
  "kernelspec": {
   "display_name": "Python 3",
   "language": "python",
   "name": "python3"
  },
  "language_info": {
   "codemirror_mode": {
    "name": "ipython",
    "version": 3
   },
   "file_extension": ".py",
   "mimetype": "text/x-python",
   "name": "python",
   "nbconvert_exporter": "python",
   "pygments_lexer": "ipython3",
   "version": "3.8.8"
  }
 },
 "nbformat": 4,
 "nbformat_minor": 5
}
