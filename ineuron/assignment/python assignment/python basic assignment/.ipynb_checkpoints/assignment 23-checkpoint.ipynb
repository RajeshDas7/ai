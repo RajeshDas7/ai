{
 "cells": [
  {
   "cell_type": "markdown",
   "id": "d2755bb5",
   "metadata": {},
   "source": [
    "### 1. What is the result of the code, and why?\n",
    "\n",
    "def func(a, b=6, c=8):\n",
    "    \n",
    "    print(a, b, c)\n",
    "\n",
    "func(1, 2)"
   ]
  },
  {
   "cell_type": "code",
   "execution_count": 1,
   "id": "d0a85c76",
   "metadata": {},
   "outputs": [
    {
     "name": "stdout",
     "output_type": "stream",
     "text": [
      "1 2 8\n"
     ]
    }
   ],
   "source": [
    "def func(a, b=6, c=8):\n",
    "    print(a, b, c)\n",
    "func(1, 2)\n",
    "\n",
    "output =>>> 1 2 8\n",
    "\n",
    "the default value of the function argument b and c is 6 and 8.\n",
    "when func(1,2) is called we are passing a=1 b=2.\n",
    "we are not passing any value for c so it will consider the default value\n"
   ]
  },
  {
   "cell_type": "markdown",
   "id": "fd76b22d",
   "metadata": {},
   "source": [
    "### 2. What is the result of this code, and why?\n",
    "\n",
    "def func(a, b, c=5):\n",
    "    \n",
    "    print(a, b, c)\n",
    "\n",
    "func(1, c=3, b=2)"
   ]
  },
  {
   "cell_type": "code",
   "execution_count": 2,
   "id": "0d55a34c",
   "metadata": {},
   "outputs": [
    {
     "name": "stdout",
     "output_type": "stream",
     "text": [
      "1 2 3\n"
     ]
    }
   ],
   "source": [
    "def func(a, b, c=5):\n",
    "    \n",
    "    print(a, b, c)\n",
    "\n",
    "func(1, c=3, b=2)\n",
    "\n",
    "output =>>>  1 2 3\n",
    "\n",
    "when we call func() for argument a we are passing 1\n",
    "for c we are passing 3\n",
    "and for b we are passing 2.\n",
    "as we are passing the value as argument when we call the function \n",
    "it will not consider the default value"
   ]
  },
  {
   "cell_type": "code",
   "execution_count": null,
   "id": "c7e79b0b",
   "metadata": {},
   "outputs": [],
   "source": []
  },
  {
   "cell_type": "markdown",
   "id": "1f50af52",
   "metadata": {},
   "source": [
    "### 3. How about this code: what is its result, and why?\n",
    "    \n",
    "def func(a, *pargs):\n",
    "    \n",
    "    print(a, pargs)\n",
    "    \n",
    "func(1, 2, 3)"
   ]
  },
  {
   "cell_type": "code",
   "execution_count": 3,
   "id": "3fd41f7d",
   "metadata": {},
   "outputs": [
    {
     "name": "stdout",
     "output_type": "stream",
     "text": [
      "1 (2, 3)\n"
     ]
    }
   ],
   "source": [
    "def func(a, *pargs):\n",
    "    \n",
    "    print(a, pargs)\n",
    "    \n",
    "func(1, 2, 3)\n",
    "\n",
    "output ==>>> 1 (2, 3)\n",
    "\n",
    "the func() has 1 argument a and a positional argument pargs\n",
    "for a argument we are passing 1\n",
    "and for pargs positional argument we are passing 2,3"
   ]
  },
  {
   "cell_type": "markdown",
   "id": "0d6d5572",
   "metadata": {},
   "source": [
    "### 4. What does this code print, and why?\n",
    "\n",
    "def func(a, **kargs):\n",
    "    \n",
    "    print(a, kargs)\n",
    "    \n",
    "func(a=1, c=3, b=2)"
   ]
  },
  {
   "cell_type": "code",
   "execution_count": 4,
   "id": "2bb299f1",
   "metadata": {},
   "outputs": [
    {
     "name": "stdout",
     "output_type": "stream",
     "text": [
      "1 {'c': 3, 'b': 2}\n"
     ]
    }
   ],
   "source": [
    "def func(a, **kargs):\n",
    "    \n",
    "    print(a, kargs)\n",
    "    \n",
    "func(a=1, c=3, b=2)\n",
    "\n",
    "output = >>>>   1 {'c': 3, 'b': 2}\n",
    "\n",
    "the func() has 1 argument a and a keyword argument kargs\n",
    "for a argument we are passing 1\n",
    "and for kargs keyword argument we are passing 3,2"
   ]
  },
  {
   "cell_type": "markdown",
   "id": "efef77e3",
   "metadata": {},
   "source": [
    "### 5. What gets printed by this, and explain?\n",
    "\n",
    "def func(a, b, c=8, d=5):\n",
    "    \n",
    "    print(a, b, c, d)\n",
    "    \n",
    "func(1, *(5, 6))"
   ]
  },
  {
   "cell_type": "code",
   "execution_count": 5,
   "id": "48ae1624",
   "metadata": {},
   "outputs": [
    {
     "name": "stdout",
     "output_type": "stream",
     "text": [
      "1 5 6 5\n"
     ]
    }
   ],
   "source": [
    "def func(a, b, c=8, d=5):\n",
    "    \n",
    "    print(a, b, c, d)\n",
    "    \n",
    "func(1, *(5, 6))\n",
    "\n",
    "output = >>>>   1 5 6 5\n",
    "\n",
    "for a argument we are passing 1\n",
    "for b and c we are passing 5 and 6\n",
    "for d we not passing anything so it will take the default value of 5\n"
   ]
  },
  {
   "cell_type": "markdown",
   "id": "cdc91a3a",
   "metadata": {},
   "source": [
    "### 6. what is the result of this, and explain?\n",
    "\n",
    "def func(a, b, c): a = 2; b[0] = 'x'; c['a'] = 'y'\n",
    "    \n",
    "l=1; m=[1]; n={'a':0}\n",
    "\n",
    "func(l, m, n)\n",
    "\n",
    "l, m, n\n"
   ]
  },
  {
   "cell_type": "code",
   "execution_count": 9,
   "id": "a8b52922",
   "metadata": {},
   "outputs": [
    {
     "data": {
      "text/plain": [
       "(1, ['x'], {'a': 'y'})"
      ]
     },
     "execution_count": 9,
     "metadata": {},
     "output_type": "execute_result"
    }
   ],
   "source": [
    "def func(a, b, c): \n",
    "    a = 2\n",
    "    b[0] = 'x'\n",
    "    c['a'] = 'y'\n",
    "\n",
    "l=1; m=[1]; n={'a':0}\n",
    "\n",
    "func(l, m, n)\n",
    "\n",
    "l, m, n\n",
    "\n",
    "output ===>>>   (1, ['x'], {'a': 'y'})"
   ]
  },
  {
   "cell_type": "code",
   "execution_count": null,
   "id": "93785b03",
   "metadata": {},
   "outputs": [],
   "source": []
  }
 ],
 "metadata": {
  "kernelspec": {
   "display_name": "Python 3",
   "language": "python",
   "name": "python3"
  },
  "language_info": {
   "codemirror_mode": {
    "name": "ipython",
    "version": 3
   },
   "file_extension": ".py",
   "mimetype": "text/x-python",
   "name": "python",
   "nbconvert_exporter": "python",
   "pygments_lexer": "ipython3",
   "version": "3.8.8"
  }
 },
 "nbformat": 4,
 "nbformat_minor": 5
}
