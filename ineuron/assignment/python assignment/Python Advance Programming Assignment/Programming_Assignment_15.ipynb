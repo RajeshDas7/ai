{
 "cells": [
  {
   "cell_type": "markdown",
   "id": "e1da3fb3",
   "metadata": {},
   "source": [
    "### 1. Write a function that returns True if a given name can generate an array of\n",
    "words.\n",
    "\n",
    "Examples\n",
    "\n",
    "anagram(&quot;Justin Bieber&quot;, [&quot;injures&quot;, &quot;ebb&quot;, &quot;it&quot;]) ➞ True\n",
    "\n",
    "anagram(&quot;Natalie Portman&quot;, [&quot;ornamental&quot;, &quot;pita&quot;]) ➞ True\n",
    "\n",
    "anagram(&quot;Chris Pratt&quot;, [&quot;chirps&quot;, &quot;rat&quot;]) ➞ False\n",
    "\n",
    "#Not all letters are used\n",
    "\n",
    "anagram(&quot;Jeff Goldblum&quot;, [&quot;jog&quot;, &quot;meld&quot;, &quot;bluffs&quot;]) ➞ False\n",
    "\n",
    "#&quot;s&quot; does not exist in the original name"
   ]
  },
  {
   "cell_type": "code",
   "execution_count": 4,
   "id": "526c3b4a",
   "metadata": {},
   "outputs": [
    {
     "name": "stdout",
     "output_type": "stream",
     "text": [
      "False\n"
     ]
    }
   ],
   "source": [
    "def anagram(a,b):\n",
    "    flag=True\n",
    "    for i in b:\n",
    "        for j in i:\n",
    "            if j not in a:\n",
    "                flag=False\n",
    "                \n",
    "    print(flag)\n",
    "\n",
    "anagram(\"Chris Pratt\", [\"chirps\", \"rat\"]) "
   ]
  },
  {
   "cell_type": "markdown",
   "id": "f40b960f",
   "metadata": {},
   "source": [
    "### 2. Given an array of users, each defined by an object with the following\n",
    "\n",
    "properties: name, score, reputation create a function that sorts the array to\n",
    "    \n",
    "form the correct leaderboard.\n",
    "\n",
    "The leaderboard takes into consideration the score of each user of course,\n",
    "\n",
    "but an emphasis is put on their reputation in the community, so to get the\n",
    "\n",
    "trueScore, you should add the reputation multiplied by 2 to the score.\n",
    "\n",
    "Once you know the trueScore of each user, sort the array according to it in\n",
    "\n",
    "descending order.\n",
    "\n",
    "Examples\n",
    "\n",
    "leaderboards([\n",
    "{ &quot;name&quot;: &quot;a&quot;, &quot;score&quot;: 100, &quot;reputation&quot;: 20 },\n",
    "    \n",
    "{ &quot;name&quot;: &quot;b&quot;, &quot;score&quot;: 90, &quot;reputation&quot;: 40 },\n",
    "    \n",
    "{ &quot;name&quot;: &quot;c&quot;, &quot;score&quot;: 115, &quot;reputation&quot;: 30 },\n",
    "    \n",
    "]) ➞ [\n",
    "{ &quot;name&quot;: &quot;c&quot;, &quot;score&quot;: 115, &quot;reputation&quot;: 30 }, # trueScore = 175\n",
    "    \n",
    "{ &quot;name&quot;: &quot;b&quot;, &quot;score&quot;: 90, &quot;reputation&quot;: 40 }, # trueScore = 170\n",
    "    \n",
    "{ &quot;name&quot;: &quot;a&quot;, &quot;score&quot;: 100, &quot;reputation&quot;: 20 } # trueScore = 140\n",
    "]\n"
   ]
  },
  {
   "cell_type": "code",
   "execution_count": 18,
   "id": "b3ae57f3",
   "metadata": {},
   "outputs": [
    {
     "name": "stdout",
     "output_type": "stream",
     "text": [
      "[{'name': 'a', 'score': 100, 'reputation': 20, 'truescore': 120}, {'name': 'b', 'score': 90, 'reputation': 40, 'truescore': 130}, {'name': 'c', 'score': 115, 'reputation': 30, 'truescore': 145}]\n"
     ]
    }
   ],
   "source": [
    "def leaderboards(a):\n",
    "    \n",
    "    for i in a:\n",
    "        i.__setitem__(\"truescore\", i[\"score\"]+ i[\"reputation\"])\n",
    "        \n",
    "    print(a)\n",
    "    \n",
    "    \n",
    "\n",
    "        \n",
    "leaderboards([ { \"name\": \"a\", \"score\": 100, \"reputation\": 20 },\n",
    "\n",
    "{ \"name\": \"b\", \"score\": 90, \"reputation\": 40 },\n",
    "\n",
    "{ \"name\": \"c\", \"score\": 115, \"reputation\": 30 },\n",
    "\n",
    "]) "
   ]
  },
  {
   "cell_type": "code",
   "execution_count": null,
   "id": "08bcda89",
   "metadata": {},
   "outputs": [],
   "source": []
  },
  {
   "cell_type": "markdown",
   "id": "5f92a2c1",
   "metadata": {},
   "source": [
    "### 3. Create a function that, given a phrase and a number of letters guessed,\n",
    "\n",
    "returns a string with hyphens - for every letter of the phrase not guessed, and\n",
    "\n",
    "each letter guessed in place.\n",
    "\n",
    "Examples\n",
    "\n",
    "hangman(&quot;helicopter&quot;, [&quot;o&quot;, &quot;e&quot;, &quot;s&quot;]) ➞ &quot;-e---o--e-&quot;\n",
    "\n",
    "hangman(&quot;tree&quot;, [&quot;r&quot;, &quot;t&quot;, &quot;e&quot;]) ➞ &quot;tree&quot;\n",
    "\n",
    "hangman(&quot;Python rules&quot;, [&quot;a&quot;, &quot;n&quot;, &quot;p&quot;, &quot;r&quot;, &quot;z&quot;]) ➞ &quot;P----n r----&quot;\n",
    "\n",
    "hangman(&quot;He&quot;s a very naughty boy!&quot;, [&quot;e&quot;, &quot;a&quot;, &quot;y&quot;]) ➞ &quot;-e&quot;- a -e-y -a----y –y!&quot;\n"
   ]
  },
  {
   "cell_type": "code",
   "execution_count": 22,
   "id": "7d23e615",
   "metadata": {},
   "outputs": [
    {
     "name": "stdout",
     "output_type": "stream",
     "text": [
      "-----n-r----\n"
     ]
    }
   ],
   "source": [
    "def hangman(a,b):\n",
    "    \n",
    "    c=\"\"\n",
    "    for i in a:\n",
    "        if i not in b:\n",
    "            c+=\"-\"\n",
    "        else:\n",
    "            c+=i\n",
    "    print(c)\n",
    "    \n",
    "hangman(\"Python rules\", [\"a\", \"n\", \"p\", \"r\", \"z\"]) "
   ]
  },
  {
   "cell_type": "code",
   "execution_count": null,
   "id": "d8aaf701",
   "metadata": {},
   "outputs": [],
   "source": []
  },
  {
   "cell_type": "markdown",
   "id": "375ab821",
   "metadata": {},
   "source": [
    "### 4. The Collatz sequence is as follows:\n",
    "    \n",
    "- Start with some given integer n.\n",
    "\n",
    "- If it is even, the next number will be n divided by 2.\n",
    "\n",
    "- If it is odd, multiply it by 3 and add 1 to make the next number.\n",
    "\n",
    "- The sequence stops when it reaches 1.\n",
    "\n",
    "According to the Collatz conjecture, it will always reach 1. If that&#39;s true, you\n",
    "\n",
    "can construct a finite sequence following the aforementioned method for any\n",
    "\n",
    "given integer.\n",
    "\n",
    "Write a function that takes in an integer n and returns the highest integer in\n",
    "\n",
    "the corresponding Collatz sequence.\n",
    "\n",
    "Examples\n",
    "\n",
    "max_collatz(10) ➞ 16\n",
    "\n",
    "#Collatz sequence: 10, 5, 16, 8, 4, 2, 1\n",
    "\n",
    "max_collatz(32) ➞ 32\n",
    "\n",
    "#Collatz sequence: 32, 16, 8, 4, 2, 1\n",
    "\n",
    "max_collatz(85) ➞ 256\n",
    "\n",
    "#Collatz sequence: 85, 256, 128, 64, 32, 16, 8, 4, 2, 1\n"
   ]
  },
  {
   "cell_type": "code",
   "execution_count": 26,
   "id": "415ce4d4",
   "metadata": {},
   "outputs": [
    {
     "name": "stdout",
     "output_type": "stream",
     "text": [
      "256\n"
     ]
    }
   ],
   "source": [
    "def max_collatz(n):\n",
    "    a=[]\n",
    "    a.append(n)\n",
    "    while a[-1]!=1:\n",
    "        if n%2==0:\n",
    "            b=n//2\n",
    "            a.append(b)\n",
    "            n=b\n",
    "        else:\n",
    "            c= n*3+1\n",
    "            a.append(c)\n",
    "            n=c\n",
    " \n",
    "    print(max(a)) \n",
    "            \n",
    "max_collatz(85)"
   ]
  },
  {
   "cell_type": "markdown",
   "id": "a8f0b89e",
   "metadata": {},
   "source": [
    "### 5. Write a function that sorts a list of integers by their digit length in\n",
    "\n",
    "descending order, then settles ties by sorting numbers with the same digit\n",
    "\n",
    "length in ascending order.\n",
    "\n",
    "Examples\n",
    "\n",
    "digit_sort([77, 23, 5, 7, 101])\n",
    "\n",
    "➞ [101, 23, 77, 5, 7]\n",
    "\n",
    "digit_sort([1, 5, 9, 2, 789, 563, 444])\n",
    "\n",
    "➞ [444, 563, 789, 1, 2, 5, 9]\n",
    "\n",
    "digit_sort([53219, 3772, 564, 32, 1])\n",
    "\n",
    "➞ [53219, 3772, 564, 32, 1]"
   ]
  },
  {
   "cell_type": "code",
   "execution_count": 38,
   "id": "caae351b",
   "metadata": {},
   "outputs": [
    {
     "name": "stdout",
     "output_type": "stream",
     "text": [
      "[53219, 3772, 564, 32, 1]\n"
     ]
    }
   ],
   "source": [
    "def digit_sort(a):\n",
    "    b=max(a)\n",
    "    c=len(str(b))\n",
    "    d=[]\n",
    "    for i in range(1,c+1):\n",
    "        t=[]\n",
    "        for j in a:\n",
    "            if len(str(j))==i:\n",
    "                t.append(j)\n",
    "        d.append(t)\n",
    "    d=sorted(d,reverse=True)\n",
    "    e=[]\n",
    "    for y in d:\n",
    "        e.append(sorted(y))\n",
    "    p=[]\n",
    "    for i in e:\n",
    "        p.extend(i)\n",
    "    print(p)\n",
    "digit_sort([53219, 3772, 564, 32, 1])"
   ]
  },
  {
   "cell_type": "code",
   "execution_count": null,
   "id": "4b4caf06",
   "metadata": {},
   "outputs": [],
   "source": []
  },
  {
   "cell_type": "code",
   "execution_count": null,
   "id": "cd676fc3",
   "metadata": {},
   "outputs": [],
   "source": []
  },
  {
   "cell_type": "code",
   "execution_count": null,
   "id": "72bb70db",
   "metadata": {},
   "outputs": [],
   "source": []
  },
  {
   "cell_type": "code",
   "execution_count": null,
   "id": "76b976bf",
   "metadata": {},
   "outputs": [],
   "source": []
  },
  {
   "cell_type": "code",
   "execution_count": null,
   "id": "60afb2f7",
   "metadata": {},
   "outputs": [],
   "source": []
  }
 ],
 "metadata": {
  "kernelspec": {
   "display_name": "Python 3",
   "language": "python",
   "name": "python3"
  },
  "language_info": {
   "codemirror_mode": {
    "name": "ipython",
    "version": 3
   },
   "file_extension": ".py",
   "mimetype": "text/x-python",
   "name": "python",
   "nbconvert_exporter": "python",
   "pygments_lexer": "ipython3",
   "version": "3.8.8"
  }
 },
 "nbformat": 4,
 "nbformat_minor": 5
}
