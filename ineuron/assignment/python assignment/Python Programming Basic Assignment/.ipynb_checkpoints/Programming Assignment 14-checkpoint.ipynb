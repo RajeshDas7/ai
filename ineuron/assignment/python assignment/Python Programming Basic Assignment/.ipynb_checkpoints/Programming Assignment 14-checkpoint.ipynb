{
 "cells": [
  {
   "cell_type": "markdown",
   "id": "2e2cbe7b",
   "metadata": {},
   "source": [
    "### Question 1:\n",
    "Define a class with a generator which can iterate the numbers, which are divisible by\n",
    "7, between a given range 0 and n."
   ]
  },
  {
   "cell_type": "code",
   "execution_count": null,
   "id": "fbdf5124",
   "metadata": {},
   "outputs": [],
   "source": [
    "def putNumbers(n):\n",
    " \n",
    "    i = 0\n",
    " \n",
    "    while i<n:\n",
    " \n",
    "        j=i\n",
    " \n",
    "        i=i+1\n",
    " \n",
    "        if j%7==0:\n",
    " \n",
    "            yield j\n",
    " \n",
    " \n",
    " \n",
    "for i in putNumbers(100):\n",
    " \n",
    "    print(i)"
   ]
  },
  {
   "cell_type": "markdown",
   "id": "a3538c4c",
   "metadata": {},
   "source": [
    "### Question 2:\n",
    "Write a program to compute the frequency of the words from the input.\n",
    "\n",
    "The output should output after sorting the key alphanumerically.\n",
    "\n",
    "Suppose the following input is supplied to the program:\n",
    "    \n",
    "New to Python or choosing between Python 2 and Python 3? Read Python 2 or\n",
    "\n",
    "Python 3.\n",
    "\n",
    "Then, the output should be:\n",
    "    \n",
    "2:2\n",
    "\n",
    "3.:1\n",
    "\n",
    "3?:1\n",
    "\n",
    "New:1\n",
    "\n",
    "Python:5\n",
    "\n",
    "Read:1\n",
    "\n",
    "and:1\n",
    "\n",
    "between:1\n",
    "\n",
    "choosing:1\n",
    "\n",
    "or:2\n",
    "\n",
    "to:1\n"
   ]
  },
  {
   "cell_type": "code",
   "execution_count": null,
   "id": "94472508",
   "metadata": {},
   "outputs": [],
   "source": [
    "a=\"New to Python or choosing between Python 2 and Python 3? Read Python 2 or Python 3.\"\n",
    "b=a.split(\" \")\n",
    "c=set(b)\n",
    "d=list(c)\n",
    "d.sort()\n",
    "for i in d:\n",
    "    print(i,\" : \",b.count(i) )\n",
    "# print(d)"
   ]
  },
  {
   "cell_type": "markdown",
   "id": "1ae305ad",
   "metadata": {},
   "source": [
    "### Question 3:\n",
    "\n",
    "Define a class Person and its two child classes: Male and Female.\n",
    "\n",
    "All classes have a method &quot;getGender&quot;\n",
    "\n",
    "which can print &quot;Male&quot;\n",
    "\n",
    "for Male class and &quot;Female&quot; for Female class.\n"
   ]
  },
  {
   "cell_type": "code",
   "execution_count": null,
   "id": "bc8ba78f",
   "metadata": {},
   "outputs": [],
   "source": [
    "class person:\n",
    "    def getGender(self):\n",
    "        print(\"person\")\n",
    "\n",
    "class male(person):\n",
    "    def getGender(self):\n",
    "        print(\"male\")\n",
    "\n",
    "class female(person):\n",
    "    def getGender(self):\n",
    "        print(\"female\")    \n"
   ]
  },
  {
   "cell_type": "markdown",
   "id": "ddcf43de",
   "metadata": {},
   "source": [
    "### Question 4:\n",
    "    \n",
    "Please write a program to generate all sentences where subject is in [&quot;I&quot;, &quot;You&quot;] \n",
    "\n",
    "and\n",
    "\n",
    "verb is in [&quot;Play&quot;, &quot;Love&quot;] and the object is in [&quot;Hockey&quot;,&quot;Football&quot;].\n"
   ]
  },
  {
   "cell_type": "code",
   "execution_count": null,
   "id": "3ec04117",
   "metadata": {},
   "outputs": [],
   "source": [
    "a=[\"I\", \"You\"]\n",
    "b=[\"Play\", \"Love\"] \n",
    "c=[\"Hockey\",\"Football\"]\n",
    "\n",
    "for i in a:\n",
    "    for j in b:\n",
    "        for k in c:\n",
    "            print(i,j,k)"
   ]
  },
  {
   "cell_type": "markdown",
   "id": "3c6cf488",
   "metadata": {},
   "source": [
    "### Question 5:\n",
    "    \n",
    "Please write a program to compress \n",
    "\n",
    "and decompress the string &quot;hello world!hello\n",
    "\n",
    "world!hello world!hello world!&quot;.\n"
   ]
  },
  {
   "cell_type": "code",
   "execution_count": null,
   "id": "ffd42183",
   "metadata": {},
   "outputs": [],
   "source": []
  },
  {
   "cell_type": "markdown",
   "id": "5466b687",
   "metadata": {},
   "source": [
    "### Question 6:\n",
    "Please write a binary search function\n",
    "\n",
    "which searches an item in a sorted list. The\n",
    "\n",
    "function should return the index of element to be searched in the list."
   ]
  },
  {
   "cell_type": "code",
   "execution_count": null,
   "id": "cc94e3c6",
   "metadata": {},
   "outputs": [],
   "source": [
    "def binary_search(arr, low, high, x):\n",
    " \n",
    "    # Check base case\n",
    "    if high >= low:\n",
    " \n",
    "        mid = (high + low) // 2\n",
    " \n",
    "        # If element is present at the middle itself\n",
    "        if arr[mid] == x:\n",
    "            return mid\n",
    " \n",
    "        # If element is smaller than mid, then it can only\n",
    "        # be present in left subarray\n",
    "        elif arr[mid] > x:\n",
    "            return binary_search(arr, low, mid - 1, x)\n",
    " \n",
    "        # Else the element can only be present in right subarray\n",
    "        else:\n",
    "            return binary_search(arr, mid + 1, high, x)\n",
    " \n",
    "    else:\n",
    "        # Element is not present in the array\n",
    "        return -1\n",
    " \n",
    "# Test array\n",
    "arr = [ 2, 3, 4, 10, 40 ]\n",
    "x = 10\n",
    " \n",
    "# Function call\n",
    "result = binary_search(arr, 0, len(arr)-1, x)\n",
    " \n",
    "if result != -1:\n",
    "    print(\"Element is present at index\", str(result))\n",
    "else:\n",
    "    print(\"Element is not present in array\")"
   ]
  },
  {
   "cell_type": "code",
   "execution_count": null,
   "id": "6d0c56f9",
   "metadata": {},
   "outputs": [],
   "source": []
  },
  {
   "cell_type": "code",
   "execution_count": null,
   "id": "e133174c",
   "metadata": {},
   "outputs": [],
   "source": []
  },
  {
   "cell_type": "code",
   "execution_count": null,
   "id": "96eb0377",
   "metadata": {},
   "outputs": [],
   "source": []
  },
  {
   "cell_type": "code",
   "execution_count": null,
   "id": "7c005171",
   "metadata": {},
   "outputs": [],
   "source": []
  },
  {
   "cell_type": "code",
   "execution_count": null,
   "id": "81790765",
   "metadata": {},
   "outputs": [],
   "source": []
  },
  {
   "cell_type": "code",
   "execution_count": null,
   "id": "6f93a435",
   "metadata": {},
   "outputs": [],
   "source": []
  },
  {
   "cell_type": "code",
   "execution_count": null,
   "id": "8d7a872b",
   "metadata": {},
   "outputs": [],
   "source": []
  },
  {
   "cell_type": "code",
   "execution_count": null,
   "id": "e73a6e60",
   "metadata": {},
   "outputs": [],
   "source": []
  }
 ],
 "metadata": {
  "kernelspec": {
   "display_name": "Python 3",
   "language": "python",
   "name": "python3"
  },
  "language_info": {
   "codemirror_mode": {
    "name": "ipython",
    "version": 3
   },
   "file_extension": ".py",
   "mimetype": "text/x-python",
   "name": "python",
   "nbconvert_exporter": "python",
   "pygments_lexer": "ipython3",
   "version": "3.8.8"
  }
 },
 "nbformat": 4,
 "nbformat_minor": 5
}
