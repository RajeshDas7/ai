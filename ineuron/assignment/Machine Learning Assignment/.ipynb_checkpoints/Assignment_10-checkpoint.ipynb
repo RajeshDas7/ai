{
 "cells": [
  {
   "cell_type": "markdown",
   "id": "90555f14",
   "metadata": {},
   "source": [
    "### 1. Define the Bayesian interpretation of probability.\n"
   ]
  },
  {
   "cell_type": "code",
   "execution_count": null,
   "id": "f7f116f7",
   "metadata": {},
   "outputs": [],
   "source": [
    "Bayesian probability is an interpretation of the concept of probability,\n",
    "in which, instead of frequency or propensity of some phenomenon, probability is interpreted as reasonable expectation\n",
    "representing a state of knowledge or as quantification of a personal belief"
   ]
  },
  {
   "cell_type": "markdown",
   "id": "ddbf29ce",
   "metadata": {},
   "source": [
    "### 2. Define probability of a union of two events with equation.\n"
   ]
  },
  {
   "cell_type": "code",
   "execution_count": null,
   "id": "f9251ff4",
   "metadata": {},
   "outputs": [],
   "source": [
    "The general probability addition rule for the union of two events states that\n",
    "P(A∪B)=P(A)+P(B)−P(A∩B) P ( A ∪ B ) = P ( A ) + P ( B ) − P ( A ∩ B ) ,\n",
    "where A∩B A ∩ B is the intersection of the two sets."
   ]
  },
  {
   "cell_type": "markdown",
   "id": "a9507c1a",
   "metadata": {},
   "source": [
    "### 3. What is joint probability? What is its formula?\n"
   ]
  },
  {
   "cell_type": "code",
   "execution_count": null,
   "id": "80fa682f",
   "metadata": {},
   "outputs": [],
   "source": [
    "Probabilities are combined using multiplication, therefore the joint probability\n",
    "of independent events is calculated as the probability of event A multiplied by the\n",
    "probability of event B. This can be stated formally as follows:\n",
    "    Joint Probability: P(A and B) = P(A) * P(B)\n"
   ]
  },
  {
   "cell_type": "markdown",
   "id": "0d81c0c9",
   "metadata": {},
   "source": [
    "### 4. What is chain rule of probability?\n"
   ]
  },
  {
   "cell_type": "code",
   "execution_count": null,
   "id": "96e604fc",
   "metadata": {},
   "outputs": [],
   "source": [
    "In probability theory, the chain rule (also called the general product rule\n",
    "permits the calculation of any member of the joint distribution of a set of random\n",
    "variables using only conditional probabilities.The rule is useful in the study of Bayesian networks, \n",
    "which describe a probability distribution in terms of conditional probabilities."
   ]
  },
  {
   "cell_type": "markdown",
   "id": "363a1b2d",
   "metadata": {},
   "source": [
    "### 5. What is conditional probability means? What is the formula of it?\n"
   ]
  },
  {
   "cell_type": "code",
   "execution_count": null,
   "id": "3be87d4f",
   "metadata": {},
   "outputs": [],
   "source": [
    "conditional probability is a measure of the probability of an event occurring,\n",
    "given that another event (by assumption, presumption, assertion or evidence) has already occurred.\n",
    "\n",
    "P(A and B) = P(A)*P(B|A)."
   ]
  },
  {
   "cell_type": "markdown",
   "id": "870b262a",
   "metadata": {},
   "source": [
    "### 6. What are continuous random variables?\n"
   ]
  },
  {
   "cell_type": "code",
   "execution_count": null,
   "id": "db217637",
   "metadata": {},
   "outputs": [],
   "source": [
    "A continuous random variable is a random variable where the data can take infinitely many values.\n",
    "For example, a random variable measuring the time taken for something to be\n",
    "done is continuous since there are an infinite number of possible times that can be taken"
   ]
  },
  {
   "cell_type": "markdown",
   "id": "32b2a3c9",
   "metadata": {},
   "source": [
    "### 7. What are Bernoulli distributions? What is the formula of it?\n"
   ]
  },
  {
   "cell_type": "code",
   "execution_count": null,
   "id": "80e46b0f",
   "metadata": {},
   "outputs": [],
   "source": [
    "A Bernoulli distribution is a discrete probability distribution for\n",
    "a Bernoulli trial — a random experiment that has only two outcomes (usually called a “Success” or a “Failure”).\n",
    "For example, the probability of getting a heads (a “success”) while flipping a coin is 0.5. The probability of \n",
    "“failure” is 1 – P (1 minus the probability of success, which also equals 0.5 for a coin toss). \n",
    "It is a special case of the binomial distribution for \n",
    "n = 1. In other words, it is a binomial distribution with a single trial (e.g. a single coin toss)."
   ]
  },
  {
   "cell_type": "markdown",
   "id": "4b5988cd",
   "metadata": {},
   "source": [
    "### 8. What is binomial distribution? What is the formula?\n"
   ]
  },
  {
   "cell_type": "code",
   "execution_count": null,
   "id": "944b2f9f",
   "metadata": {},
   "outputs": [],
   "source": [
    " the binomial distribution with parameters n and p is the discrete probability distribution of the number of successes \n",
    "    in a sequence of n independent experiments, each asking a yes–no question, and each with its own Boolean-valued outcome: \n",
    "        success (with probability p) or failure (with probability q = 1 − p). A single success/failure experiment is\n",
    "        also called a Bernoulli trial or Bernoulli experiment, and a sequence of outcomes is called a Bernoulli process; \n",
    "        for a single trial, i.e., n = 1, the binomial distribution is a Bernoulli distribution.\n",
    "        The binomial distribution is the basis for the popular binomial test of statistical significance.\n",
    "        \n",
    "    The binomial distribution formula is for any random variable X, given by;  \n",
    "    P(x:n,p) = nCx p^x (1-p)^n-x \n",
    "\n",
    "where,\n",
    "\n",
    "n = the number of experiments\n",
    "x = 0, 1, 2, 3, 4, …\n",
    "p = Probability of success in a single experiment\n",
    "q = Probability of failure in a single experiment (= 1 – p)"
   ]
  },
  {
   "cell_type": "markdown",
   "id": "3eb3a724",
   "metadata": {},
   "source": [
    "### 9. What is Poisson distribution? What is the formula?\n"
   ]
  },
  {
   "cell_type": "code",
   "execution_count": null,
   "id": "dcf5700f",
   "metadata": {},
   "outputs": [],
   "source": [
    "the Poisson distribution  is a discrete probability distribution that expresses the probability\n",
    "of a given number of events occurring in a fixed interval of time or space if these events occur\n",
    "with a known constant mean rate and independently of the time since the last eventThe Poisson\n",
    "distribution can also be used for the number of events in other specified intervals such as distance, area or volume"
   ]
  },
  {
   "cell_type": "markdown",
   "id": "d7242b9d",
   "metadata": {},
   "source": [
    "### 10. Define covariance.\n"
   ]
  },
  {
   "cell_type": "code",
   "execution_count": null,
   "id": "4697dfc0",
   "metadata": {},
   "outputs": [],
   "source": [
    "covariance is a measure of the joint variability of two random variables.\n",
    "If the greater values of one variable mainly correspond with the greater values of the other variable,\n",
    "and the same holds for the lesser values (that is, the variables tend to show similar behavior),\n",
    "the covariance is positive.[2] In the opposite case, when the greater values of one variable mainly\n",
    "correspond to the lesser values of the other, (that is, the variables tend to show opposite behavior), \n",
    "the covariance is negative. The sign of the covariance therefore shows the tendency in the linear relationship \n",
    "between the variables."
   ]
  },
  {
   "cell_type": "markdown",
   "id": "02467043",
   "metadata": {},
   "source": [
    "### 11. Define correlation\n"
   ]
  },
  {
   "cell_type": "code",
   "execution_count": null,
   "id": "2d704999",
   "metadata": {},
   "outputs": [],
   "source": [
    "Correlation is a statistical measure that expresses the extent to which two variables are linearly\n",
    "related (meaning they change together at a constant rate).\n",
    "It’s a common tool for describing simple relationships without making a statement about cause and effect."
   ]
  },
  {
   "cell_type": "markdown",
   "id": "e4835488",
   "metadata": {},
   "source": [
    "### 12. Define sampling with replacement. Give example.\n"
   ]
  },
  {
   "cell_type": "code",
   "execution_count": null,
   "id": "0732d80f",
   "metadata": {},
   "outputs": [],
   "source": [
    "Sampling is called with replacement when a unit selected at random from the population is\n",
    "returned to the population and then a second element is selected at random.\n",
    "Whenever a unit is selected, the population contains all the same units, so a unit may be selected more than once."
   ]
  },
  {
   "cell_type": "markdown",
   "id": "de4e1d56",
   "metadata": {},
   "source": [
    "### 13. What is sampling without replacement? Give example.\n"
   ]
  },
  {
   "cell_type": "code",
   "execution_count": null,
   "id": "13ba04ff",
   "metadata": {},
   "outputs": [],
   "source": [
    "In sampling without replacement, each sample unit of the population has only \n",
    "one chance to be selected in the sample. For example, if one draws a simple random sample \n",
    "such that no unit occurs more than one time in the sample, the sample is drawn without replacement."
   ]
  },
  {
   "cell_type": "markdown",
   "id": "8a3d5f63",
   "metadata": {},
   "source": [
    "### 14. What is hypothesis? Give example."
   ]
  },
  {
   "cell_type": "code",
   "execution_count": null,
   "id": "6380b730",
   "metadata": {},
   "outputs": [],
   "source": [
    "A statistical hypothesis is an assumption about a population parameter . \n",
    "This assumption may or may not be true. For instance, the statement that a \n",
    "population mean is equal to 10 is an example of a statistical hypothesis. \n",
    "A researcher might conduct a statistical experiment to test the validity of this hypothesis."
   ]
  },
  {
   "cell_type": "code",
   "execution_count": null,
   "id": "2c33bf8d",
   "metadata": {},
   "outputs": [],
   "source": []
  }
 ],
 "metadata": {
  "kernelspec": {
   "display_name": "Python 3",
   "language": "python",
   "name": "python3"
  },
  "language_info": {
   "codemirror_mode": {
    "name": "ipython",
    "version": 3
   },
   "file_extension": ".py",
   "mimetype": "text/x-python",
   "name": "python",
   "nbconvert_exporter": "python",
   "pygments_lexer": "ipython3",
   "version": "3.8.8"
  }
 },
 "nbformat": 4,
 "nbformat_minor": 5
}
