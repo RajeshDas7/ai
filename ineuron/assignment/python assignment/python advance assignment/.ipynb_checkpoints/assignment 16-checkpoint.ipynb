{
 "cells": [
  {
   "cell_type": "markdown",
   "id": "7ee3b6a8",
   "metadata": {},
   "source": [
    "### Q1. What is the benefit of regular expressions?"
   ]
  },
  {
   "cell_type": "code",
   "execution_count": null,
   "id": "ac88eaab",
   "metadata": {},
   "outputs": [],
   "source": [
    "Time. Maintainability .Performance. Reliability. Flexibility."
   ]
  },
  {
   "cell_type": "markdown",
   "id": "876cb080",
   "metadata": {},
   "source": [
    "### Q2. Describe the difference between the effects of &quot;(ab)c+&quot; and &quot;a(bc)+.&quot; Which of these, if any, is the\n",
    "unqualified pattern &quot;abc+&quot;?"
   ]
  },
  {
   "cell_type": "code",
   "execution_count": null,
   "id": "97334d83",
   "metadata": {},
   "outputs": [],
   "source": []
  },
  {
   "cell_type": "markdown",
   "id": "b0204ebe",
   "metadata": {},
   "source": [
    "### Q3. How much do you need to use the following sentence while using regular expressions?\n",
    "\n",
    "import re\n"
   ]
  },
  {
   "cell_type": "code",
   "execution_count": null,
   "id": "f18566fc",
   "metadata": {},
   "outputs": [],
   "source": [
    "every time when we need to import the re module from python builtin library"
   ]
  },
  {
   "cell_type": "markdown",
   "id": "b418730b",
   "metadata": {},
   "source": [
    "### Q4. Which characters have special significance in square brackets when expressing a range, and under what circumstances?"
   ]
  },
  {
   "cell_type": "code",
   "execution_count": null,
   "id": "87e2a611",
   "metadata": {},
   "outputs": [],
   "source": [
    "Inside a character class,\n",
    "only the character class metacharacters\n",
    "(backslash, circumflex anchor and hyphen) have special meaning."
   ]
  },
  {
   "cell_type": "markdown",
   "id": "fe06abc5",
   "metadata": {},
   "source": [
    "### Q5. How does compiling a regular-expression object benefit you?\n"
   ]
  },
  {
   "cell_type": "code",
   "execution_count": null,
   "id": "760d8061",
   "metadata": {},
   "outputs": [],
   "source": [
    "The re. compile() method\n",
    "\n",
    "We can combine a regular expression pattern into pattern objects,\n",
    "which can be used for pattern matching. It also helps to search a pattern again without rewriting it"
   ]
  },
  {
   "cell_type": "markdown",
   "id": "3121b835",
   "metadata": {},
   "source": [
    "### Q6. What are some examples of how to use the match object returned by re.match and re.search?\n"
   ]
  },
  {
   "cell_type": "code",
   "execution_count": null,
   "id": "812843a5",
   "metadata": {},
   "outputs": [],
   "source": [
    "The re.search() and re.match() both are functions of re module in python. \n",
    "These functions are very efficient and fast for searching in strings. \n",
    "The function searches for some substring in a string and returns a match object if found, else it returns none.\n",
    "\n",
    "\n",
    "import re\n",
    " \n",
    "Substring ='string'\n",
    " \n",
    " \n",
    "String1 ='''We are learning regex with geeksforgeeks\n",
    "         regex is very useful for string matching.\n",
    "          It is fast too.'''\n",
    "String2 ='''string We are learning regex with geeksforgeeks\n",
    "         regex is very useful for string matching.\n",
    "          It is fast too.'''\n",
    " \n",
    "\n",
    "print(re.search(Substring, String1, re.IGNORECASE))\n",
    "\n",
    "print(re.match(Substring, String1, re.IGNORECASE))\n",
    " \n",
    "\n",
    "print(re.search(Substring, String2, re.IGNORECASE))\n",
    "\n",
    "print(re.match(Substring, String2, re.IGNORECASE))"
   ]
  },
  {
   "cell_type": "markdown",
   "id": "4595475d",
   "metadata": {},
   "source": [
    "### Q7. What is the difference between using a vertical bar (|) as an alteration and using square brackets as a character set?"
   ]
  },
  {
   "cell_type": "code",
   "execution_count": null,
   "id": "2410746e",
   "metadata": {},
   "outputs": [],
   "source": [
    "The vertical bar is a regex \"or\" means \"a or b\"\n",
    "\n",
    "Square brackets are a character class meaning \"any character from a or b."
   ]
  },
  {
   "cell_type": "markdown",
   "id": "c8ad0cd4",
   "metadata": {},
   "source": [
    "### Q8. In regular-expression search patterns, why is it necessary to use the raw-string indicator (r)? In   replacement strings?"
   ]
  },
  {
   "cell_type": "code",
   "execution_count": null,
   "id": "a330340e",
   "metadata": {},
   "outputs": [],
   "source": []
  },
  {
   "cell_type": "code",
   "execution_count": null,
   "id": "a389763a",
   "metadata": {},
   "outputs": [],
   "source": []
  },
  {
   "cell_type": "code",
   "execution_count": null,
   "id": "fc8e774c",
   "metadata": {},
   "outputs": [],
   "source": []
  },
  {
   "cell_type": "code",
   "execution_count": null,
   "id": "cd215f93",
   "metadata": {},
   "outputs": [],
   "source": []
  }
 ],
 "metadata": {
  "kernelspec": {
   "display_name": "Python 3",
   "language": "python",
   "name": "python3"
  },
  "language_info": {
   "codemirror_mode": {
    "name": "ipython",
    "version": 3
   },
   "file_extension": ".py",
   "mimetype": "text/x-python",
   "name": "python",
   "nbconvert_exporter": "python",
   "pygments_lexer": "ipython3",
   "version": "3.8.8"
  }
 },
 "nbformat": 4,
 "nbformat_minor": 5
}
