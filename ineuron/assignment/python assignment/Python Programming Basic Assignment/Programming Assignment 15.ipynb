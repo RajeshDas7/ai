{
 "cells": [
  {
   "cell_type": "markdown",
   "id": "038b1cc6",
   "metadata": {},
   "source": [
    "### Question 1:\n",
    "Please write a program using generator to print the numbers which can be divisible by 5 and\n",
    "\n",
    "7 between 0 and n in comma separated form while n is input by console.\n",
    "\n",
    "Example:\n",
    "    \n",
    "If the following n is given as input to the program:\n",
    "    \n",
    "100\n",
    "\n",
    "Then, the output of the program should be:\n",
    "    \n",
    "0,35,70"
   ]
  },
  {
   "cell_type": "code",
   "execution_count": null,
   "id": "768f5476",
   "metadata": {},
   "outputs": [],
   "source": [
    "def putNumbers(n):\n",
    " \n",
    "    i = 0\n",
    " \n",
    "    while i<n:\n",
    " \n",
    "        j=i\n",
    " \n",
    "        i=i+1\n",
    " \n",
    "        if j%7==0 and j%5==0:\n",
    " \n",
    "            yield j\n",
    " \n",
    " \n",
    " \n",
    "for i in putNumbers(100):\n",
    " \n",
    "    print(i)"
   ]
  },
  {
   "cell_type": "markdown",
   "id": "7fa2ec1e",
   "metadata": {},
   "source": [
    "### Question 2:\n",
    "Please write a program using generator to print the even numbers between 0 and n in comma\n",
    "\n",
    "separated form while n is input by console.\n",
    "\n",
    "Example:\n",
    "    \n",
    "If the following n is given as input to the program:\n",
    "    \n",
    "10\n",
    "\n",
    "Then, the output of the program should be:\n",
    "    \n",
    "0,2,4,6,8,10\n"
   ]
  },
  {
   "cell_type": "code",
   "execution_count": null,
   "id": "7ad4e646",
   "metadata": {},
   "outputs": [],
   "source": [
    "def putNumbers(n):\n",
    " \n",
    "    i = 0\n",
    " \n",
    "    while i<n:\n",
    " \n",
    "        j=i\n",
    " \n",
    "        i=i+1\n",
    " \n",
    "        if j%2==0 :\n",
    " \n",
    "            yield j\n",
    " \n",
    " \n",
    "n=int(input(\"enter range number: \"))\n",
    "for i in putNumbers(n):\n",
    " \n",
    "    print(i)"
   ]
  },
  {
   "cell_type": "markdown",
   "id": "66bb7ab8",
   "metadata": {},
   "source": [
    "### Question 3:\n",
    "The Fibonacci Sequence is computed based on the following formula:\n",
    "    \n",
    "f(n)=0 if n=0\n",
    "\n",
    "f(n)=1 if n=1\n",
    "\n",
    "f(n)=f(n-1)+f(n-2) if n&gt;1\n",
    "\n",
    "Please write a program using list comprehension to print the Fibonacci Sequence in comma\n",
    "\n",
    "separated form with a given n input by console.\n",
    "\n",
    "Example:\n",
    "    \n",
    "If the following n is given as input to the program:\n",
    "    \n",
    "7\n",
    "\n",
    "Then, the output of the program should be:\n",
    "    \n",
    "0,1,1,2,3,5,8,13\n"
   ]
  },
  {
   "cell_type": "code",
   "execution_count": null,
   "id": "f0fc6197",
   "metadata": {},
   "outputs": [],
   "source": [
    "n=7\n",
    "mylist=[0,1] \n",
    "\n",
    "[mylist.append(mylist[-2]+mylist[-1]) for n in range(n)]\n",
    "\n",
    "print(mylist) "
   ]
  },
  {
   "cell_type": "markdown",
   "id": "05042da5",
   "metadata": {},
   "source": [
    "### Question 4:\n",
    "    \n",
    "Assuming that we have some email addresses in the &quot;username@companyname.com&quot; format,\n",
    "\n",
    "please write program to print the user name of a given email address. Both user names and\n",
    "\n",
    "company names are composed of letters only.\n",
    "\n",
    "Example:\n",
    "    \n",
    "If the following email address is given as input to the program:\n",
    "    \n",
    "john@google.com\n",
    "\n",
    "Then, the output of the program should be:\n",
    "    \n",
    "john"
   ]
  },
  {
   "cell_type": "code",
   "execution_count": null,
   "id": "6770cad7",
   "metadata": {},
   "outputs": [],
   "source": [
    "a=\"john@google.com\"\n",
    "b=a.split(\"@\")\n",
    "print(b[0])"
   ]
  },
  {
   "cell_type": "code",
   "execution_count": null,
   "id": "c3ac54bd",
   "metadata": {},
   "outputs": [],
   "source": []
  },
  {
   "cell_type": "markdown",
   "id": "ef76de89",
   "metadata": {},
   "source": [
    "### Question 5:\n",
    "Define a class named Shape and its subclass Square. The Square class has an init function\n",
    "\n",
    "which takes a length as argument. Both classes have a area function which can print the area\n",
    "\n",
    "of the shape where Shape&#39;s area is 0 by default."
   ]
  },
  {
   "cell_type": "code",
   "execution_count": null,
   "id": "15d18ea3",
   "metadata": {},
   "outputs": [],
   "source": [
    "class shape:\n",
    "    area2=0\n",
    "    def area(self):\n",
    "        print(area)\n",
    "\n",
    "class square(shape):\n",
    "    def __init__(self,length):\n",
    "        self.length=length\n",
    "    def area(self):\n",
    "        print(self.area2)\n",
    "obj=square(2)\n",
    "obj.area()"
   ]
  },
  {
   "cell_type": "code",
   "execution_count": null,
   "id": "07b5f1c8",
   "metadata": {},
   "outputs": [],
   "source": []
  },
  {
   "cell_type": "code",
   "execution_count": null,
   "id": "09858070",
   "metadata": {},
   "outputs": [],
   "source": []
  },
  {
   "cell_type": "code",
   "execution_count": null,
   "id": "6358be62",
   "metadata": {},
   "outputs": [],
   "source": []
  },
  {
   "cell_type": "code",
   "execution_count": null,
   "id": "bdaaac5f",
   "metadata": {},
   "outputs": [],
   "source": []
  },
  {
   "cell_type": "code",
   "execution_count": null,
   "id": "3e33f501",
   "metadata": {},
   "outputs": [],
   "source": []
  },
  {
   "cell_type": "code",
   "execution_count": null,
   "id": "9095a785",
   "metadata": {},
   "outputs": [],
   "source": []
  },
  {
   "cell_type": "code",
   "execution_count": null,
   "id": "9cffb7b6",
   "metadata": {},
   "outputs": [],
   "source": []
  },
  {
   "cell_type": "code",
   "execution_count": null,
   "id": "afa3598c",
   "metadata": {},
   "outputs": [],
   "source": []
  }
 ],
 "metadata": {
  "kernelspec": {
   "display_name": "Python 3",
   "language": "python",
   "name": "python3"
  },
  "language_info": {
   "codemirror_mode": {
    "name": "ipython",
    "version": 3
   },
   "file_extension": ".py",
   "mimetype": "text/x-python",
   "name": "python",
   "nbconvert_exporter": "python",
   "pygments_lexer": "ipython3",
   "version": "3.8.8"
  }
 },
 "nbformat": 4,
 "nbformat_minor": 5
}
