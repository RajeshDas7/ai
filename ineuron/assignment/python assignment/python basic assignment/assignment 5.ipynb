{
 "cells": [
  {
   "cell_type": "markdown",
   "id": "f14432b8",
   "metadata": {},
   "source": [
    "### 1. What does an empty dictionary's code look like?"
   ]
  },
  {
   "cell_type": "code",
   "execution_count": null,
   "id": "04600030",
   "metadata": {},
   "outputs": [],
   "source": [
    "the code for empty dictionary looks like below\n",
    "\n",
    "{}"
   ]
  },
  {
   "cell_type": "code",
   "execution_count": null,
   "id": "ef6d1aec",
   "metadata": {},
   "outputs": [],
   "source": []
  },
  {
   "cell_type": "markdown",
   "id": "b5402eec",
   "metadata": {},
   "source": [
    "### 2. What is the value of a dictionary value with the key 'foo' and the value 42?"
   ]
  },
  {
   "cell_type": "code",
   "execution_count": null,
   "id": "374ee47b",
   "metadata": {},
   "outputs": [],
   "source": [
    "{'foo' : 42}"
   ]
  },
  {
   "cell_type": "code",
   "execution_count": null,
   "id": "cfbacbbb",
   "metadata": {},
   "outputs": [],
   "source": []
  },
  {
   "cell_type": "markdown",
   "id": "33cf9e69",
   "metadata": {},
   "source": [
    "### 3. What is the most significant distinction between a dictionary and a list?"
   ]
  },
  {
   "cell_type": "code",
   "execution_count": null,
   "id": "cabd6d18",
   "metadata": {},
   "outputs": [],
   "source": [
    "the object in a dictionary are unordered\n",
    "but in a list the object are ordered"
   ]
  },
  {
   "cell_type": "markdown",
   "id": "2bddeca4",
   "metadata": {},
   "source": [
    "### 4. What happens if you try to access spam['foo'] if spam is {'bar': 100}?"
   ]
  },
  {
   "cell_type": "code",
   "execution_count": null,
   "id": "0f22dca3",
   "metadata": {},
   "outputs": [],
   "source": [
    "we will get a error\n",
    "the error type is \n",
    "KeyError"
   ]
  },
  {
   "cell_type": "markdown",
   "id": "ef18a330",
   "metadata": {},
   "source": [
    "### 5. If a dictionary is stored in spam, what is the difference between the expressions 'cat' in spam and 'cat' in spam.keys()?"
   ]
  },
  {
   "cell_type": "code",
   "execution_count": null,
   "id": "4cf87849",
   "metadata": {},
   "outputs": [],
   "source": [
    "both are same\n",
    "\n",
    "'cat' in spam will check wheather 'cat' is present inside the dictionary as a key\n",
    "\n",
    "'cat' in spam.keys() will also check  wheather 'cat' is present inside the dictionary as a key\n",
    "\n",
    "by default in operator check the keyvalues inside a dictionary"
   ]
  },
  {
   "cell_type": "markdown",
   "id": "d1402383",
   "metadata": {},
   "source": [
    "### 6. If a dictionary is stored in spam, what is the difference between the expressions 'cat' in spam and 'cat' in spam.values()?"
   ]
  },
  {
   "cell_type": "code",
   "execution_count": null,
   "id": "d9b47d25",
   "metadata": {},
   "outputs": [],
   "source": [
    "'cat' in spam will check wheather 'cat' is present inside the dictionary as a key\n",
    "\n",
    "'cat' in spam.values() will check wheather 'cat' is present inside the dictionary as a value"
   ]
  },
  {
   "cell_type": "code",
   "execution_count": null,
   "id": "c33e7ae0",
   "metadata": {},
   "outputs": [],
   "source": []
  },
  {
   "cell_type": "markdown",
   "id": "211df53d",
   "metadata": {},
   "source": [
    "### 7. What is a shortcut for the following code?\n",
    "    \n",
    "    if 'color' not in spam:\n",
    "        spam['color'] = 'black'\n"
   ]
  },
  {
   "cell_type": "code",
   "execution_count": null,
   "id": "280682d0",
   "metadata": {},
   "outputs": [],
   "source": [
    "spam.setdefault('color','black')"
   ]
  },
  {
   "cell_type": "code",
   "execution_count": null,
   "id": "0e6dd04a",
   "metadata": {},
   "outputs": [],
   "source": []
  },
  {
   "cell_type": "markdown",
   "id": "0cc91cf1",
   "metadata": {},
   "source": [
    "### 8. How do you \"pretty print\" dictionary values using which module and function?"
   ]
  },
  {
   "cell_type": "code",
   "execution_count": null,
   "id": "e4e5ee6e",
   "metadata": {},
   "outputs": [],
   "source": [
    "we can use pprint module and inside that module we can use pprint() function"
   ]
  },
  {
   "cell_type": "code",
   "execution_count": null,
   "id": "8a766ab3",
   "metadata": {},
   "outputs": [],
   "source": []
  }
 ],
 "metadata": {
  "kernelspec": {
   "display_name": "Python 3",
   "language": "python",
   "name": "python3"
  },
  "language_info": {
   "codemirror_mode": {
    "name": "ipython",
    "version": 3
   },
   "file_extension": ".py",
   "mimetype": "text/x-python",
   "name": "python",
   "nbconvert_exporter": "python",
   "pygments_lexer": "ipython3",
   "version": "3.8.8"
  }
 },
 "nbformat": 4,
 "nbformat_minor": 5
}
