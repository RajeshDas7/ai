{
 "cells": [
  {
   "cell_type": "markdown",
   "id": "71b5dcc7",
   "metadata": {},
   "source": [
    "### 1. Compare and contrast the float and Decimal classes&#39; benefits and drawbacks."
   ]
  },
  {
   "cell_type": "code",
   "execution_count": null,
   "id": "82766911",
   "metadata": {},
   "outputs": [],
   "source": [
    "Use floats when convenience and speed matter.\n",
    "A float gives you an approximation of the number you declare\n",
    "\n",
    "Use decimals when precision matters, \n",
    "Decimals can suffer from their own precision issues, but generally, decimals are more precise than floats"
   ]
  },
  {
   "cell_type": "markdown",
   "id": "de582108",
   "metadata": {},
   "source": [
    "### 2. Decimal(&#39;1.200&#39;) and Decimal(&#39;1.2&#39;) are two objects to consider. In what sense are these the same object? Are these just two ways of representing the exact same value, or do they correspond to different internal states?"
   ]
  },
  {
   "cell_type": "code",
   "execution_count": null,
   "id": "b009747d",
   "metadata": {},
   "outputs": [],
   "source": [
    "both are same"
   ]
  },
  {
   "cell_type": "markdown",
   "id": "0551e192",
   "metadata": {},
   "source": [
    "### 3. What happens if the equality of Decimal(&#39;1.200&#39;) and Decimal(&#39;1.2&#39;) is checked?\n"
   ]
  },
  {
   "cell_type": "code",
   "execution_count": null,
   "id": "4a7eedc1",
   "metadata": {},
   "outputs": [],
   "source": [
    "output will be True"
   ]
  },
  {
   "cell_type": "markdown",
   "id": "7a7feed5",
   "metadata": {},
   "source": [
    "### 4. Why is it preferable to start a Decimal object with a string rather than a floating-point value?\n"
   ]
  },
  {
   "cell_type": "code",
   "execution_count": null,
   "id": "a69d1693",
   "metadata": {},
   "outputs": [],
   "source": []
  },
  {
   "cell_type": "markdown",
   "id": "133f5d97",
   "metadata": {},
   "source": [
    "### 5. In an arithmetic phrase, how simple is it to combine Decimal objects with integers?\n"
   ]
  },
  {
   "cell_type": "code",
   "execution_count": null,
   "id": "6752cb4f",
   "metadata": {},
   "outputs": [],
   "source": [
    "use + operater and the decimal object and the integer are added"
   ]
  },
  {
   "cell_type": "markdown",
   "id": "3c532a66",
   "metadata": {},
   "source": [
    "### 6. Can Decimal objects and floating-point values be combined easily?\n"
   ]
  },
  {
   "cell_type": "code",
   "execution_count": null,
   "id": "783310de",
   "metadata": {},
   "outputs": [],
   "source": [
    "no it will give error for unsupported type"
   ]
  },
  {
   "cell_type": "markdown",
   "id": "021d7714",
   "metadata": {},
   "source": [
    "### 7. Using the Fraction class but not the Decimal class, give an example of a quantity that can be expressed with absolute precision."
   ]
  },
  {
   "cell_type": "code",
   "execution_count": null,
   "id": "e65febde",
   "metadata": {},
   "outputs": [],
   "source": []
  },
  {
   "cell_type": "markdown",
   "id": "b5daa1df",
   "metadata": {},
   "source": [
    "### 8. Describe a quantity that can be accurately expressed by the Decimal or Fraction classes but not by a floating-point value."
   ]
  },
  {
   "cell_type": "code",
   "execution_count": null,
   "id": "25a79304",
   "metadata": {},
   "outputs": [],
   "source": []
  },
  {
   "cell_type": "markdown",
   "id": "0032b2b5",
   "metadata": {},
   "source": [
    "### Q9.Consider the following two fraction objects: Fraction(1, 2) and Fraction(1, 2). (5, 10). Is the internal state of these two objects the same? Why do you think that is?"
   ]
  },
  {
   "cell_type": "code",
   "execution_count": null,
   "id": "84b8cbab",
   "metadata": {},
   "outputs": [],
   "source": [
    "yes the internal structure is same"
   ]
  },
  {
   "cell_type": "markdown",
   "id": "758536f3",
   "metadata": {},
   "source": [
    "### Q10. How do the Fraction class and the integer type (int) relate to each other? Containment or  inheritance?"
   ]
  },
  {
   "cell_type": "code",
   "execution_count": null,
   "id": "cc49d846",
   "metadata": {},
   "outputs": [],
   "source": [
    "inheritance"
   ]
  },
  {
   "cell_type": "code",
   "execution_count": null,
   "id": "6842029c",
   "metadata": {},
   "outputs": [],
   "source": []
  },
  {
   "cell_type": "code",
   "execution_count": null,
   "id": "040e82c1",
   "metadata": {},
   "outputs": [],
   "source": []
  }
 ],
 "metadata": {
  "kernelspec": {
   "display_name": "Python 3",
   "language": "python",
   "name": "python3"
  },
  "language_info": {
   "codemirror_mode": {
    "name": "ipython",
    "version": 3
   },
   "file_extension": ".py",
   "mimetype": "text/x-python",
   "name": "python",
   "nbconvert_exporter": "python",
   "pygments_lexer": "ipython3",
   "version": "3.8.8"
  }
 },
 "nbformat": 4,
 "nbformat_minor": 5
}
