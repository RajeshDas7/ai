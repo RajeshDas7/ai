{
 "cells": [
  {
   "cell_type": "markdown",
   "id": "ac3356d5",
   "metadata": {},
   "source": [
    "### Q1. What is the purpose of Python&#39;s OOP?"
   ]
  },
  {
   "cell_type": "code",
   "execution_count": null,
   "id": "d05010e0",
   "metadata": {},
   "outputs": [],
   "source": [
    "It allows us to develop applications using an Object-Oriented approach.\n",
    "we can easily create and use classes and objects.\n",
    "The oops concept focuses on writing the reusable code."
   ]
  },
  {
   "cell_type": "markdown",
   "id": "83d1fee9",
   "metadata": {},
   "source": [
    "### Q2. Where does an inheritance search look for an attribute?"
   ]
  },
  {
   "cell_type": "code",
   "execution_count": null,
   "id": "f4a05b9c",
   "metadata": {},
   "outputs": [],
   "source": [
    "an inheritance search looks for an attribute in the current object.\n",
    "if it is not found it searches in the parent object."
   ]
  },
  {
   "cell_type": "markdown",
   "id": "1464a2e3",
   "metadata": {},
   "source": [
    "### Q3. How do you distinguish between a class object and an instance object?"
   ]
  },
  {
   "cell_type": "code",
   "execution_count": null,
   "id": "a909a670",
   "metadata": {},
   "outputs": [],
   "source": [
    "classes are used to create object.\n",
    "objects are instances of the classes with which they were created.\n",
    "when an object is created by a class, they inherit class attribue and methods."
   ]
  },
  {
   "cell_type": "markdown",
   "id": "587f3c2a",
   "metadata": {},
   "source": [
    "### Q4. What makes the first argument in a class’s method function special?"
   ]
  },
  {
   "cell_type": "code",
   "execution_count": null,
   "id": "f681a199",
   "metadata": {},
   "outputs": [],
   "source": [
    "the first argument in a class methos id self.\n",
    "it is a pointer to itself.\n",
    "if we want to access any variable or method from the class we have to use self before the variable or method name."
   ]
  },
  {
   "cell_type": "markdown",
   "id": "5361b9e5",
   "metadata": {},
   "source": [
    "### Q5. What is the purpose of the __init__ method?"
   ]
  },
  {
   "cell_type": "code",
   "execution_count": null,
   "id": "6b85fd0e",
   "metadata": {},
   "outputs": [],
   "source": [
    "it is also called the constructor of a class.\n",
    "it is called when an object is created.\n",
    "it is used to initialize atribute of the class."
   ]
  },
  {
   "cell_type": "markdown",
   "id": "34406c8c",
   "metadata": {},
   "source": [
    "### Q6. What is the process for creating a class instance?"
   ]
  },
  {
   "cell_type": "code",
   "execution_count": null,
   "id": "38ec9dd5",
   "metadata": {},
   "outputs": [],
   "source": [
    "to create object of any class we have to call the class name and assign that to an variable.\n",
    "the variable will act as an reference to access the object variable and methods."
   ]
  },
  {
   "cell_type": "markdown",
   "id": "38103035",
   "metadata": {},
   "source": [
    "### Q7. What is the process for creating a class?"
   ]
  },
  {
   "cell_type": "code",
   "execution_count": null,
   "id": "f3c1db9b",
   "metadata": {},
   "outputs": [],
   "source": [
    "to create a class we have to write class and after that we can write the class name.\n",
    "to initialize attribute to the class we can use __init__() method.\n"
   ]
  },
  {
   "cell_type": "markdown",
   "id": "171561cb",
   "metadata": {},
   "source": [
    "### Q8. How would you define the superclasses of a class?"
   ]
  },
  {
   "cell_type": "code",
   "execution_count": null,
   "id": "6e79c9a2",
   "metadata": {},
   "outputs": [],
   "source": [
    "while creating a class we can give the superclass name in the parenthesis of the class."
   ]
  },
  {
   "cell_type": "code",
   "execution_count": null,
   "id": "2e8e9778",
   "metadata": {},
   "outputs": [],
   "source": []
  },
  {
   "cell_type": "code",
   "execution_count": null,
   "id": "09455d20",
   "metadata": {},
   "outputs": [],
   "source": []
  },
  {
   "cell_type": "code",
   "execution_count": null,
   "id": "73797697",
   "metadata": {},
   "outputs": [],
   "source": []
  },
  {
   "cell_type": "code",
   "execution_count": null,
   "id": "7e92c00d",
   "metadata": {},
   "outputs": [],
   "source": []
  },
  {
   "cell_type": "code",
   "execution_count": null,
   "id": "1ee3e771",
   "metadata": {},
   "outputs": [],
   "source": []
  },
  {
   "cell_type": "code",
   "execution_count": null,
   "id": "f9ef6b5e",
   "metadata": {},
   "outputs": [],
   "source": []
  },
  {
   "cell_type": "code",
   "execution_count": null,
   "id": "486c4247",
   "metadata": {},
   "outputs": [],
   "source": []
  },
  {
   "cell_type": "code",
   "execution_count": null,
   "id": "12a3b2fe",
   "metadata": {},
   "outputs": [],
   "source": []
  }
 ],
 "metadata": {
  "kernelspec": {
   "display_name": "Python 3",
   "language": "python",
   "name": "python3"
  },
  "language_info": {
   "codemirror_mode": {
    "name": "ipython",
    "version": 3
   },
   "file_extension": ".py",
   "mimetype": "text/x-python",
   "name": "python",
   "nbconvert_exporter": "python",
   "pygments_lexer": "ipython3",
   "version": "3.8.8"
  }
 },
 "nbformat": 4,
 "nbformat_minor": 5
}
