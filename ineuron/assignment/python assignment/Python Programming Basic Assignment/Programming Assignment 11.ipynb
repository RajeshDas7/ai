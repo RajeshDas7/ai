{
 "cells": [
  {
   "cell_type": "markdown",
   "id": "a24e80c4",
   "metadata": {},
   "source": [
    "### 1. Write a Python program to find words which are greater than given length k?\n"
   ]
  },
  {
   "cell_type": "code",
   "execution_count": null,
   "id": "b97ea650",
   "metadata": {},
   "outputs": [],
   "source": [
    "a=\"hello world. this is a test sentence for xperiment\"\n",
    "b=a.split(\" \")\n",
    "c=[]\n",
    "k=int(input(\"enter the lenth value k: \"))\n",
    "for i in b:\n",
    "    if len(i)<=k:\n",
    "        c.append(i)\n",
    "print(c)"
   ]
  },
  {
   "cell_type": "markdown",
   "id": "6bae0696",
   "metadata": {},
   "source": [
    "### 2. Write a Python program for removing i-th character from a string?\n"
   ]
  },
  {
   "cell_type": "code",
   "execution_count": null,
   "id": "98d6d947",
   "metadata": {},
   "outputs": [],
   "source": [
    "a=\"hello world. this is a test sentence for xperiment\"\n",
    "b=int(input(\"enter the number: \"))\n",
    "c=list(a)\n",
    "c.pop(b)\n",
    "d=\"\".join(c)\n",
    "\n",
    "print(d)"
   ]
  },
  {
   "cell_type": "markdown",
   "id": "331d1b1e",
   "metadata": {},
   "source": [
    "### 3. Write a Python program to split and join a string?\n"
   ]
  },
  {
   "cell_type": "code",
   "execution_count": null,
   "id": "7339d042",
   "metadata": {},
   "outputs": [],
   "source": [
    "a=\"hello world. this is a test sentence for xperiment\"\n",
    "b=a.split(\" \")\n",
    "c=\"-\".join(b)\n",
    "print(c)"
   ]
  },
  {
   "cell_type": "markdown",
   "id": "7a2c8828",
   "metadata": {},
   "source": [
    "### 4. Write a Python to check if a given string is binary string or not?\n"
   ]
  },
  {
   "cell_type": "code",
   "execution_count": null,
   "id": "ac916829",
   "metadata": {},
   "outputs": [],
   "source": [
    "def check1(string) :\n",
    "    p = set(string)\n",
    " \n",
    "    \n",
    "    s = {'0', '1'}\n",
    " \n",
    "    \n",
    "    if s == p or p == {'0'} or p == {'1'}:\n",
    "        print(\"Yes\")\n",
    "    else :\n",
    "        print(\"No\")\n",
    "        \n",
    "\n",
    "check1(\"hello world. this is a test sentence for xperiment\")\n",
    "check1(\"1010101010100010101010\")"
   ]
  },
  {
   "cell_type": "markdown",
   "id": "0f1fbf57",
   "metadata": {},
   "source": [
    "### 5. Write a Python program to find uncommon words from two Strings?\n"
   ]
  },
  {
   "cell_type": "code",
   "execution_count": null,
   "id": "51b18744",
   "metadata": {},
   "outputs": [],
   "source": [
    "def UncommonWords(A, B):\n",
    "  \n",
    "    # count will contain all the word counts\n",
    "    count = {}\n",
    "      \n",
    "    # insert words of string A to hash\n",
    "    for word in A.split():\n",
    "        count[word] = count.get(word, 0) + 1\n",
    "      \n",
    "    # insert words of string B to hash\n",
    "    for word in B.split():\n",
    "        count[word] = count.get(word, 0) + 1\n",
    "  \n",
    "    # return required list of words\n",
    "    return [word for word in count if count[word] == 1]\n",
    "  \n",
    "# Driver Code\n",
    "A = \"apple banana mango\" \n",
    "B = \"banana fruits mango\"\n",
    "  \n",
    "# Print required answer\n",
    "print(UncommonWords(A, B))"
   ]
  },
  {
   "cell_type": "markdown",
   "id": "a64ca8c3",
   "metadata": {},
   "source": [
    "### 6. Write a Python to find all duplicate characters in string?\n"
   ]
  },
  {
   "cell_type": "code",
   "execution_count": null,
   "id": "0298faa9",
   "metadata": {},
   "outputs": [],
   "source": [
    "a=\"hello world. this is a test sentence for xperiment\"\n",
    "b=list(a)\n",
    "c=set(b)\n",
    "for i in c:\n",
    "    if b.count(i)>1:\n",
    "        print(i,\"--\",b.count(i))"
   ]
  },
  {
   "cell_type": "markdown",
   "id": "4a628275",
   "metadata": {},
   "source": [
    "### 7. Write a Python Program to check if a string contains any special character?"
   ]
  },
  {
   "cell_type": "code",
   "execution_count": null,
   "id": "c2d57b86",
   "metadata": {},
   "outputs": [],
   "source": [
    "import re\n",
    "  \n",
    "# Function checks if the string\n",
    "# contains any special character\n",
    "def run(string):\n",
    "  \n",
    "    # Make own character set and pass \n",
    "    # this as argument in compile method\n",
    "    regex = re.compile('[@_!#$%^&*()<>?/\\|}{~:]')\n",
    "      \n",
    "    # Pass the string in search \n",
    "    # method of regex object.    \n",
    "    if(regex.search(string) == None):\n",
    "        print(\"String is accepted\")\n",
    "          \n",
    "    else:\n",
    "        print(\"String is not accepted.\")\n",
    "      \n",
    "  \n",
    "# Driver Code\n",
    "if __name__ == '__main__' :\n",
    "      \n",
    "    # Enter the string\n",
    "    string = \"test123test123\"\n",
    "      \n",
    "    # calling run function \n",
    "    run(string)"
   ]
  },
  {
   "cell_type": "code",
   "execution_count": null,
   "id": "9b5af636",
   "metadata": {},
   "outputs": [],
   "source": []
  },
  {
   "cell_type": "code",
   "execution_count": null,
   "id": "2fc6def2",
   "metadata": {},
   "outputs": [],
   "source": []
  },
  {
   "cell_type": "code",
   "execution_count": null,
   "id": "17b6c408",
   "metadata": {},
   "outputs": [],
   "source": []
  }
 ],
 "metadata": {
  "kernelspec": {
   "display_name": "Python 3",
   "language": "python",
   "name": "python3"
  },
  "language_info": {
   "codemirror_mode": {
    "name": "ipython",
    "version": 3
   },
   "file_extension": ".py",
   "mimetype": "text/x-python",
   "name": "python",
   "nbconvert_exporter": "python",
   "pygments_lexer": "ipython3",
   "version": "3.8.8"
  }
 },
 "nbformat": 4,
 "nbformat_minor": 5
}
