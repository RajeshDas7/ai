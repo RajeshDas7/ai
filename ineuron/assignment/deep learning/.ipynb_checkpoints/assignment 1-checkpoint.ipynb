{
 "cells": [
  {
   "cell_type": "markdown",
   "id": "208f6cc9",
   "metadata": {},
   "source": [
    "### 1. What is the function of a summation junction of a neuron? What is threshold activation function?"
   ]
  },
  {
   "cell_type": "code",
   "execution_count": null,
   "id": "996ffc28",
   "metadata": {},
   "outputs": [],
   "source": [
    "The linear combiner or the summing junction adds all the products of the synapses and parameters.\n",
    "Binary step function is a threshold-based activation function which means after a certain threshold\n",
    "neuron is activated and below the said threshold neuron is deactivated."
   ]
  },
  {
   "cell_type": "markdown",
   "id": "8907b759",
   "metadata": {},
   "source": [
    "### 2. What is a step function? What is the difference of step function with threshold function?"
   ]
  },
  {
   "cell_type": "code",
   "execution_count": null,
   "id": "929c0fff",
   "metadata": {},
   "outputs": [],
   "source": [
    "In Mathematics, a step function (also called as staircase function) is defined as a piecewise\n",
    "constant function, that has only a finite number of pieces.\n"
   ]
  },
  {
   "cell_type": "markdown",
   "id": "6cd293cd",
   "metadata": {},
   "source": [
    "### 3. Explain the McCulloch–Pitts model of neuron.\n"
   ]
  },
  {
   "cell_type": "code",
   "execution_count": null,
   "id": "2e1b68e0",
   "metadata": {},
   "outputs": [],
   "source": [
    "This is simplified model of real neurons, known as Threshold Logic Unit.\n",
    "A set of synapsesc (i.e connections) brings the activations from the other neurons.\n",
    "A processing unit sums the inputs, the applies the non-linear activation funcation (i.e threshold / transfer function)."
   ]
  },
  {
   "cell_type": "markdown",
   "id": "2e054af0",
   "metadata": {},
   "source": [
    "### 4. Explain the ADALINE network model.\n"
   ]
  },
  {
   "cell_type": "code",
   "execution_count": null,
   "id": "c7240cba",
   "metadata": {},
   "outputs": [],
   "source": [
    "ADALINE (Adaptive Linear Neuron or later Adaptive Linear Element) is an early single-layer artificial\n",
    "neural network and the name of the physical device that implemented this network. The network uses memistors."
   ]
  },
  {
   "cell_type": "markdown",
   "id": "d3fd9c70",
   "metadata": {},
   "source": [
    "### 5. What is the constraint of a simple perceptron? Why it may fail with a real-world data set?\n"
   ]
  },
  {
   "cell_type": "code",
   "execution_count": null,
   "id": "ad98cb7c",
   "metadata": {},
   "outputs": [],
   "source": [
    "The most glaring limitation of the perceptron is the fact that it is only capable of solving\n",
    "classification problems that are linearly separable. This implies \n",
    "separation by a line in two-dimensional space, a plane in three-dimensional space, and a hyperplane in p-dimensional space."
   ]
  },
  {
   "cell_type": "markdown",
   "id": "c5337f21",
   "metadata": {},
   "source": [
    "### 6. What is linearly inseparable problem? What is the role of the hidden layer?\n"
   ]
  },
  {
   "cell_type": "code",
   "execution_count": null,
   "id": "4f5bd46b",
   "metadata": {},
   "outputs": [],
   "source": [
    "Clearly not all decision problems are linearly separable: they cannot be solved using a linear decision boundary.\n",
    "Problems like these are termed linearly inseparable.\n",
    "The role of the Hidden Layers is to identify features from the input\n",
    "data and use these to correlate between a given input and the correct output."
   ]
  },
  {
   "cell_type": "markdown",
   "id": "281d8a13",
   "metadata": {},
   "source": [
    "### 7. Explain XOR problem in case of a simple perceptron.\n"
   ]
  },
  {
   "cell_type": "code",
   "execution_count": null,
   "id": "95fa2200",
   "metadata": {},
   "outputs": [],
   "source": []
  },
  {
   "cell_type": "code",
   "execution_count": null,
   "id": "def6a97a",
   "metadata": {},
   "outputs": [],
   "source": [
    "8. Design a multi-layer perceptron to implement A XOR B.\n"
   ]
  },
  {
   "cell_type": "code",
   "execution_count": null,
   "id": "7f92acb0",
   "metadata": {},
   "outputs": [],
   "source": []
  },
  {
   "cell_type": "markdown",
   "id": "bf353132",
   "metadata": {},
   "source": [
    "### 9. Explain the single-layer feed forward architecture of ANN.\n"
   ]
  },
  {
   "cell_type": "code",
   "execution_count": null,
   "id": "c5822fd6",
   "metadata": {},
   "outputs": [],
   "source": [
    "Single Layer Feed Forward Network\n",
    "Output Layer is formed when different weights are applied on input nodes and the cumulative effect per node is taken.\n",
    "After this, the neurons collectively give the output layer to compute the output signals"
   ]
  },
  {
   "cell_type": "markdown",
   "id": "038fe154",
   "metadata": {},
   "source": [
    "### 10. Explain the competitive network architecture of ANN."
   ]
  },
  {
   "cell_type": "code",
   "execution_count": null,
   "id": "f620dd44",
   "metadata": {},
   "outputs": [],
   "source": [
    "Competitive learning is a form of unsupervised learning in artificial neural networks,\n",
    "in which nodes compete for the right to respond to a subset of the input data.\n",
    "A variant of Hebbian learning, competitive learning works by increasing the specialization of each node in the network."
   ]
  },
  {
   "cell_type": "markdown",
   "id": "7b59e7c4",
   "metadata": {},
   "source": [
    "### 11. Consider a multi-layer feed forward neural network. Enumerate and explain steps in the backpropagation algorithm used to train the network."
   ]
  },
  {
   "cell_type": "code",
   "execution_count": null,
   "id": "955558c5",
   "metadata": {},
   "outputs": [],
   "source": []
  },
  {
   "cell_type": "markdown",
   "id": "c007f09d",
   "metadata": {},
   "source": [
    "### 12. What are the advantages and disadvantages of neural networks?\n"
   ]
  },
  {
   "cell_type": "code",
   "execution_count": null,
   "id": "d8b2d4fd",
   "metadata": {},
   "outputs": [],
   "source": [
    "Advantages of Artificial Neural Networks ( ANN)\n",
    "► Storing information on the entire network : Information such as in traditional programming is stored on the entire network, not on a database. The disappearance of a few pieces of information in one place does not prevent the network from functioning. \n",
    "\n",
    "► Ability to work with incomplete knowledge :  After ANN training, the data may produce output even with incomplete information. The loss of performance here depends on the importance of the missing information. \n",
    "\n",
    "► Having fault tolerance:  Corruption of one or more cells of ANN does not prevent it from generating output. This feature makes the networks fault tolerant. \n",
    "\n",
    "► Having a distributed memory: In order for ANN to be able to learn, it is necessary to determine the examples and to teach the network according to the desired output by showing these examples to the network. The network's success is directly proportional to the selected instances, and if the event can not be shown to the network in all its aspects, the network can produce false output \n",
    "\n",
    "► Gradual corruption:  A network slows over time and undergoes relative degradation. The network problem does not immediately corrode immediately.\n",
    "\n",
    "► Ability to make machine learning: Artificial neural networks learn events and make decisions by commenting on similar events. \n",
    "\n",
    "► Parallel processing capability:  Artificial neural networks have numerical strength that can perform more than one job at the same time. \n",
    "    \n",
    "    \n",
    "Disadvantages of Artificial Neural Networks (ANN)\n",
    "► Hardware dependence:  Artificial neural networks require processors with parallel processing power, in accordance with their structure. For this reason, the realization of the equipment is dependent. \n",
    "\n",
    "► Unexplained behavior of the network: This is the most important problem of ANN. When ANN produces a probing solution, it does not give a clue as to why and how. This reduces trust in the network. \n",
    "\n",
    "► Determination of proper network structure:  There is no specific rule for determining the structure of artificial neural networks. Appropriate network structure is achieved through experience and trial and error. \n",
    "\n",
    "► Difficulty of showing the problem to the network:  ANNs can work with numerical information. Problems have to be translated into numerical values before being introduced to ANN. The display mechanism to be determined here  will directly influence the performance of the network . This depends on the user's ability. \n",
    "\n",
    "► The duration of the network is unknown: The  network is reduced to a certain value of the error on the sample means that the training has been completed. This value does not give us optimum results"
   ]
  },
  {
   "cell_type": "markdown",
   "id": "4951a922",
   "metadata": {},
   "source": [
    "### 13. Write short notes on any two of the following:\n",
    "\n",
    "1. Biological neuron\n",
    "2. ReLU function\n",
    "3. Single-layer feed forward ANN\n",
    "4. Gradient descent\n",
    "5. Recurrent networks"
   ]
  },
  {
   "cell_type": "code",
   "execution_count": null,
   "id": "b51ff996",
   "metadata": {},
   "outputs": [],
   "source": [
    "ReLU function===\n",
    "\n",
    "The rectified linear activation function or ReLU for short is a piecewise\n",
    "linear function that will output the input directly if it is positive, otherwise, it will output zero\n",
    "\n",
    "Single-layer feed forward network\n",
    "\n",
    "In this type of network, we have only two layers input layer and output layer but the input layer does not count because no computation is performed in this layer.\n",
    "The output layer is formed when different weights are applied on input nodes and the cumulative effect per node is taken.\n",
    "\n",
    "\n",
    "Gradient descent\n",
    "\n",
    "Gradient descent is an optimization algorithm which is commonly-used to train machine learning models and neural networks. Training data helps these models learn over time,\n",
    "and the cost function within gradient descent specifically acts as a barometer, gauging its accuracy with each iteration of parameter updates.\n",
    "\n",
    "\n",
    "Recurrent networks\n",
    "Recurrent neural networks (RNN) are a class of neural networks that are helpful in modeling sequence data. Derived from feedforward networks, RNNs exhibit similar behavior to how human brains function.\n",
    "Simply put: recurrent neural networks produce predictive results in sequential data that other algorithms can't."
   ]
  },
  {
   "cell_type": "code",
   "execution_count": null,
   "id": "99d0b8c5",
   "metadata": {},
   "outputs": [],
   "source": []
  },
  {
   "cell_type": "code",
   "execution_count": null,
   "id": "25b3d2ca",
   "metadata": {},
   "outputs": [],
   "source": []
  },
  {
   "cell_type": "code",
   "execution_count": null,
   "id": "e309ed55",
   "metadata": {},
   "outputs": [],
   "source": []
  },
  {
   "cell_type": "code",
   "execution_count": null,
   "id": "998b39b2",
   "metadata": {},
   "outputs": [],
   "source": []
  },
  {
   "cell_type": "code",
   "execution_count": null,
   "id": "df6a7ffa",
   "metadata": {},
   "outputs": [],
   "source": []
  },
  {
   "cell_type": "code",
   "execution_count": null,
   "id": "2e9c8140",
   "metadata": {},
   "outputs": [],
   "source": []
  },
  {
   "cell_type": "code",
   "execution_count": null,
   "id": "7c1efac1",
   "metadata": {},
   "outputs": [],
   "source": []
  },
  {
   "cell_type": "code",
   "execution_count": null,
   "id": "f3574056",
   "metadata": {},
   "outputs": [],
   "source": []
  },
  {
   "cell_type": "code",
   "execution_count": null,
   "id": "9f3226b4",
   "metadata": {},
   "outputs": [],
   "source": []
  },
  {
   "cell_type": "code",
   "execution_count": null,
   "id": "35d74365",
   "metadata": {},
   "outputs": [],
   "source": []
  }
 ],
 "metadata": {
  "kernelspec": {
   "display_name": "Python 3",
   "language": "python",
   "name": "python3"
  },
  "language_info": {
   "codemirror_mode": {
    "name": "ipython",
    "version": 3
   },
   "file_extension": ".py",
   "mimetype": "text/x-python",
   "name": "python",
   "nbconvert_exporter": "python",
   "pygments_lexer": "ipython3",
   "version": "3.8.8"
  }
 },
 "nbformat": 4,
 "nbformat_minor": 5
}
