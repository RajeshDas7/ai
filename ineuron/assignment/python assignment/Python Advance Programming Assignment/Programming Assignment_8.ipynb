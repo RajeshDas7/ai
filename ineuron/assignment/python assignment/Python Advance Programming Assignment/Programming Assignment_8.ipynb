{
 "cells": [
  {
   "cell_type": "markdown",
   "id": "a0d03b4e",
   "metadata": {},
   "source": [
    "### 1. Given a sentence as txt, return True if any two adjacent words have this\n",
    "\n",
    "property: One word ends with a vowel, while the word immediately after\n",
    "    \n",
    "begins with a vowel (a e i o u).\n",
    "\n",
    "Examples\n",
    "\n",
    "vowel_links(&quot;a very large appliance&quot;) ➞ True\n",
    "\n",
    "vowel_links(&quot;go to edabit&quot;) ➞ True\n",
    "\n",
    "vowel_links(&quot;an open fire&quot;) ➞ False\n",
    "\n",
    "vowel_links(&quot;a sudden applause&quot;) ➞ False"
   ]
  },
  {
   "cell_type": "code",
   "execution_count": 8,
   "id": "fc32e6af",
   "metadata": {},
   "outputs": [
    {
     "name": "stdout",
     "output_type": "stream",
     "text": [
      "True\n"
     ]
    }
   ],
   "source": [
    "def vowel_links(a):\n",
    "    b=a.split(\" \")\n",
    "    t=[\"a\",\"e\",\"i\",\"o\",\"u\"]\n",
    "    flag=False\n",
    "    try:\n",
    "        for i in range(len(b)):\n",
    "            c=b[i]\n",
    "            d=b[i+1]\n",
    "            e=c[-1]\n",
    "            f=d[0]\n",
    "            if e in t and f in t:\n",
    "                flag=True\n",
    "            \n",
    "            \n",
    "    except Exception as e:\n",
    "        pass\n",
    "        \n",
    "    \n",
    "    print(flag)\n",
    "    \n",
    "    \n",
    "vowel_links(\"go to edabit\")"
   ]
  },
  {
   "cell_type": "markdown",
   "id": "6eebe01e",
   "metadata": {},
   "source": [
    "### 2. You are given three inputs: a string, one letter, and a second letter.\n",
    "    \n",
    "Write a function that returns True if every instance of the first letter occurs\n",
    "\n",
    "before every instance of the second letter.\n",
    "\n",
    "Examples\n",
    "\n",
    "first_before_second(&quot;a rabbit jumps joyfully&quot;, &quot;a&quot;, &quot;j&quot;) ➞ True\n",
    "\n",
    "Every instance of &quot;a&quot; occurs before every instance of &quot;j&quot;.\n",
    "\n",
    "first_before_second(&quot;knaves knew about waterfalls&quot;, &quot;k&quot;, &quot;w&quot;) ➞ True\n",
    "\n",
    "first_before_second(&quot;happy birthday&quot;, &quot;a&quot;, &quot;y&quot;) ➞ False\n",
    "\n",
    "The &quot;a&quot; in &quot;birthday&quot; occurs after the &quot;y&quot; in &quot;happy&quot;.\n",
    "\n",
    "first_before_second(&quot;precarious kangaroos&quot;, &quot;k&quot;, &quot;a&quot;) ➞ False\n"
   ]
  },
  {
   "cell_type": "code",
   "execution_count": 20,
   "id": "081e5f55",
   "metadata": {},
   "outputs": [
    {
     "name": "stdout",
     "output_type": "stream",
     "text": [
      "False\n"
     ]
    }
   ],
   "source": [
    "def first_before_second(a,b,c):\n",
    "    d=list(a)\n",
    "    b1=[]\n",
    "    c1=[]\n",
    "    for i in range(len(d)):\n",
    "        if d[i]==b:\n",
    "            b1.append(i)\n",
    "        if d[i]==c:\n",
    "            c1.append(i)\n",
    "            \n",
    "        \n",
    "    if max(b1)<min(c1):\n",
    "        print(True)\n",
    "    else:\n",
    "        print(False)\n",
    "        \n",
    "        \n",
    "first_before_second(\"precarious kangaroos\", \"k\", \"a\")"
   ]
  },
  {
   "cell_type": "markdown",
   "id": "e769b899",
   "metadata": {},
   "source": [
    "### 3. Create a function that returns the characters from a list or string r on odd or\n",
    "\n",
    "even positions, depending on the specifier s. The specifier will be &quot;odd&quot; for\n",
    "\n",
    "items on odd positions (1, 3, 5, ...) and &quot;even&quot; for items on even positions (2,4, 6, ...).\n",
    "Examples\n",
    "\n",
    "char_at_pos([2, 4, 6, 8, 10], &quot;even&quot;) ➞ [4, 8]\n",
    "\n",
    "4 &amp; 8 occupy the 2nd &amp; 4th positions\n",
    "\n",
    "char_at_pos(&quot;EDABIT&quot;, &quot;odd&quot;) ➞ &quot;EAI&quot;\n",
    "\n",
    " &quot;E&quot;, &quot;A&quot; and &quot;I&quot; occupy the 1st, 3rd and 5th positions\n",
    "\n",
    "char_at_pos([&quot;A&quot;, &quot;R&quot;, &quot;B&quot;, &quot;I&quot;, &quot;T&quot;, &quot;R&quot;, &quot;A&quot;, &quot;R&quot;, &quot;I&quot;, &quot;L&quot;, &quot;Y&quot;], &quot;odd&quot;) ➞ [&quot;A&quot;,\n",
    "&quot;B&quot;, &quot;T&quot;, &quot;A&quot;, &quot;I&quot;, &quot;Y&quot;]\n"
   ]
  },
  {
   "cell_type": "code",
   "execution_count": 29,
   "id": "cb110777",
   "metadata": {},
   "outputs": [
    {
     "name": "stdout",
     "output_type": "stream",
     "text": [
      "['A', 'B', 'T', 'A', 'I', 'Y']\n"
     ]
    }
   ],
   "source": [
    "def char_at_pos(a,l):\n",
    "    b=list(a)\n",
    "    c=[]\n",
    "    if l==\"even\":\n",
    "        for i in range(len(b)-1):\n",
    "            if i % 2 ==0:\n",
    "                \n",
    "                c.append(b[i+1])\n",
    "    else:\n",
    "        for i in range(len(b)):\n",
    "            if i % 2 ==0:\n",
    "                c.append(b[i])\n",
    "            \n",
    "    print(c)\n",
    "    \n",
    "char_at_pos([\"A\", \"R\", \"B\", \"I\", \"T\", \"R\", \"A\", \"R\", \"I\", \"L\", \"Y\"], \"odd\")"
   ]
  },
  {
   "cell_type": "markdown",
   "id": "7f109e66",
   "metadata": {},
   "source": [
    "### 4. Write a function that returns the greatest common divisor of all list\n",
    "\n",
    "elements. If the greatest common divisor is 1, return 1.\n",
    "\n",
    "Examples\n",
    "\n",
    "GCD([10, 20, 40]) ➞ 10\n",
    "\n",
    "GCD([1, 2, 3, 100]) ➞ 1\n",
    "\n",
    "GCD([1024, 192, 2048, 512]) ➞ 64\n",
    "\n"
   ]
  },
  {
   "cell_type": "code",
   "execution_count": 35,
   "id": "03471925",
   "metadata": {},
   "outputs": [
    {
     "name": "stdout",
     "output_type": "stream",
     "text": [
      "64\n"
     ]
    }
   ],
   "source": [
    "from math import gcd\n",
    "from functools import reduce\n",
    "def GCD(list):\n",
    "    x = reduce(gcd, list)\n",
    "    print(x) \n",
    "\n",
    "GCD([1024, 192, 2048, 512])"
   ]
  },
  {
   "cell_type": "markdown",
   "id": "db229de3",
   "metadata": {},
   "source": [
    "### 5. A number/string is a palindrome if the digits/characters are the same when\n",
    "\n",
    "read both forward and backward. Examples include &quot;racecar&quot; and 12321.\n",
    "\n",
    "Given a positive number n, check if n or the binary representation of n is\n",
    "\n",
    "palindromic. Return the following:\n",
    "    \n",
    "- &quot;Decimal only.&quot; if only n is a palindrome.\n",
    "\n",
    "- &quot;Binary only.&quot; if only the binary representation of n is a palindrome.\n",
    "\n",
    "- &quot;Decimal and binary.&quot; if both are palindromes.\n",
    "\n",
    "- &quot;Neither!&quot; if neither are palindromes.\n",
    "\n",
    "Examples\n",
    "\n",
    "palindrome_type(1306031) ➞ &quot;Decimal only.&quot;\n",
    "\n",
    " decimal = 1306031\n",
    "\n",
    " binary = &quot;100111110110110101111&quot;\n",
    "\n",
    "palindrome_type(427787) ➞ &quot;Binary only.&quot;\n",
    "\n",
    " decimal = 427787\n",
    "\n",
    "binary = &quot;1101000011100001011&quot;\n",
    "\n",
    "palindrome_type(313) ➞ &quot;Decimal and binary.&quot;\n",
    "\n",
    " decimal = 313\n",
    "\n",
    " binary = 100111001\n",
    "\n",
    "palindrome_type(934) ➞ &quot;Neither!&quot;\n",
    " decimal = 934\n",
    "\n",
    " binary = &quot;1110100110&quot;"
   ]
  },
  {
   "cell_type": "code",
   "execution_count": 47,
   "id": "9afabae8",
   "metadata": {},
   "outputs": [
    {
     "name": "stdout",
     "output_type": "stream",
     "text": [
      "Decimal only\n"
     ]
    }
   ],
   "source": [
    "def palindrome_type(a):\n",
    "    b=bin(a).replace(\"0b\", \"\")\n",
    "    c=str(a)\n",
    "    d=str(b)\n",
    "    if d[::-1]==str(d) and c[::-1]==str(c):\n",
    "        print(\"Binary and Decimal\")\n",
    "    \n",
    "    elif c[::-1]==str(c):\n",
    "        print(\"Decimal only\")\n",
    "        \n",
    "    elif d[::-1]==str(d):\n",
    "        print(\"Binary only\")\n",
    "    else:\n",
    "        print(\"Neither\")\n",
    "    \n",
    "palindrome_type(1306031) "
   ]
  },
  {
   "cell_type": "code",
   "execution_count": null,
   "id": "0c4086d9",
   "metadata": {},
   "outputs": [],
   "source": []
  },
  {
   "cell_type": "code",
   "execution_count": null,
   "id": "428576ea",
   "metadata": {},
   "outputs": [],
   "source": []
  },
  {
   "cell_type": "code",
   "execution_count": null,
   "id": "c6353f61",
   "metadata": {},
   "outputs": [],
   "source": []
  },
  {
   "cell_type": "code",
   "execution_count": null,
   "id": "150fe3e1",
   "metadata": {},
   "outputs": [],
   "source": []
  },
  {
   "cell_type": "code",
   "execution_count": null,
   "id": "c2be11a5",
   "metadata": {},
   "outputs": [],
   "source": []
  },
  {
   "cell_type": "code",
   "execution_count": null,
   "id": "6ad5c40b",
   "metadata": {},
   "outputs": [],
   "source": []
  },
  {
   "cell_type": "code",
   "execution_count": null,
   "id": "23cda732",
   "metadata": {},
   "outputs": [],
   "source": []
  },
  {
   "cell_type": "code",
   "execution_count": null,
   "id": "a42d0eab",
   "metadata": {},
   "outputs": [],
   "source": []
  }
 ],
 "metadata": {
  "kernelspec": {
   "display_name": "Python 3",
   "language": "python",
   "name": "python3"
  },
  "language_info": {
   "codemirror_mode": {
    "name": "ipython",
    "version": 3
   },
   "file_extension": ".py",
   "mimetype": "text/x-python",
   "name": "python",
   "nbconvert_exporter": "python",
   "pygments_lexer": "ipython3",
   "version": "3.8.8"
  }
 },
 "nbformat": 4,
 "nbformat_minor": 5
}
