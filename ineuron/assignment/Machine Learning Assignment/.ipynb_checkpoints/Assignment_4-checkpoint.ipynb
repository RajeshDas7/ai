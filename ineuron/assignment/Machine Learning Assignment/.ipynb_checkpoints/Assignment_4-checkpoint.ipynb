{
 "cells": [
  {
   "cell_type": "markdown",
   "id": "a9e70065",
   "metadata": {},
   "source": [
    "### 1. What are the key tasks involved in getting ready to work with machine learning modeling?"
   ]
  },
  {
   "cell_type": "code",
   "execution_count": null,
   "id": "59997297",
   "metadata": {},
   "outputs": [],
   "source": [
    "Step 1: Collect Data.\n",
    "Step 2: Prepare the data.\n",
    "Step 3: Choose the model.\n",
    "Step 4 Train your machine model.\n",
    "Step 5: Evaluation.\n",
    "Step 6: Parameter Tuning.\n",
    "Step 7: Prediction or Inference."
   ]
  },
  {
   "cell_type": "markdown",
   "id": "ab817614",
   "metadata": {},
   "source": [
    "### 2. What are the different forms of data used in machine learning? Give a specific example for each of\n",
    "them."
   ]
  },
  {
   "cell_type": "code",
   "execution_count": null,
   "id": "ee48fd4b",
   "metadata": {},
   "outputs": [],
   "source": [
    "Numerical Data\n",
    "Numerical data is any data where data points are exact numbers.\n",
    "For example, the number of students taking Python class would be a discrete data set.\n",
    "You can only have discrete whole number values like 10, 25, or 33.\n",
    "\n",
    "Categorical Data\n",
    "Categorical data represents characteristics, such as a hockey player’s position,\n",
    "team, hometown. Categorical data can take numerical values.\n",
    "\n",
    "Time Series Data\n",
    "Time series data is a sequence of numbers collected at regular intervals over some period of time. \n",
    "\n",
    "Text\n",
    "Text data is basically just words."
   ]
  },
  {
   "cell_type": "markdown",
   "id": "fe5c025b",
   "metadata": {},
   "source": [
    "### 3. Distinguish:\n",
    "\n",
    "1. Numeric vs. categorical attributes\n",
    "\n",
    "2. Feature selection vs. dimensionality reduction"
   ]
  },
  {
   "cell_type": "code",
   "execution_count": null,
   "id": "9885d3dc",
   "metadata": {},
   "outputs": [],
   "source": [
    "In the machine learning world, data is nearly always split into two groups:\n",
    "    numerical and categorical. Numerical data is used to mean anything represented by numbers\n",
    "    (floating point or integer). Categorical data generally\n",
    "    means everything else and in particular discrete labeled groups are often called out."
   ]
  },
  {
   "cell_type": "markdown",
   "id": "935825ed",
   "metadata": {},
   "source": [
    "### 4. Make quick notes on any two of the following:\n",
    "\n",
    "1. The histogram\n",
    "\n",
    "2. Use a scatter plot\n",
    "\n",
    "3.PCA (Personal Computer Aid)"
   ]
  },
  {
   "cell_type": "code",
   "execution_count": null,
   "id": "72c395a6",
   "metadata": {},
   "outputs": [],
   "source": [
    "The histogram\n",
    "Histograms group the data in bins and is the fastest way to get idea about the distribution of each attribute in dataset. The following are some of the characteristics of histograms −\n",
    "It provides us a count of the number of observations in each bin created for visualization.\n",
    "From the shape of the bin, we can easily observe the distribution i.e. weather it is Gaussian, skewed or exponential.\n",
    "Histograms also help us to see possible outliers.\n",
    "\n",
    "The Matplotlib module has a method for drawing scatter plots, it needs two arrays of the same length,\n",
    "one for the values of the x-axis, and one for the values of the y-axis:"
   ]
  },
  {
   "cell_type": "markdown",
   "id": "1f4312c8",
   "metadata": {},
   "source": [
    "### 5. Why is it necessary to investigate data? Is there a discrepancy in how qualitative and quantitative\n",
    "data are explored?"
   ]
  },
  {
   "cell_type": "code",
   "execution_count": null,
   "id": "6f5f9dea",
   "metadata": {},
   "outputs": [],
   "source": [
    "If your data set is messy, building models will not help you to solve your problem. \n",
    "What will happen is “garbage in, garbage out.” In order to build a powerful machine learning algorithm. \n",
    "We need to explore and understand our data set before we define a predictive task and solve it."
   ]
  },
  {
   "cell_type": "markdown",
   "id": "c541e555",
   "metadata": {},
   "source": [
    "### 6. What are the various histogram shapes? What exactly are ‘bins&#39;?\n"
   ]
  },
  {
   "cell_type": "code",
   "execution_count": null,
   "id": "b2e1f8be",
   "metadata": {},
   "outputs": [],
   "source": [
    "Bell-shaped\n",
    "Bimodal\n",
    "Skewed right\n",
    "Skewed left\n",
    "Uniform\n",
    "Random\n",
    "\n",
    "A histogram displays numerical data by grouping data into \"bins\" of equal width.\n",
    "Each bin is plotted as a bar whose height corresponds\n",
    "to how many data points are in that bin. Bins are also sometimes called \"intervals\", \"classes\", or \"buckets\"."
   ]
  },
  {
   "cell_type": "markdown",
   "id": "6636ecf0",
   "metadata": {},
   "source": [
    "### 7. How do we deal with data outliers?"
   ]
  },
  {
   "cell_type": "code",
   "execution_count": null,
   "id": "7a1963a8",
   "metadata": {},
   "outputs": [],
   "source": [
    "Set up a filter in your testing tool\n",
    "Remove or change outliers during post-test analysis\n",
    "Change the value of outliers\n",
    "Consider the underlying distribution\n",
    "Consider the value of mild outliers"
   ]
  },
  {
   "cell_type": "markdown",
   "id": "fcee2370",
   "metadata": {},
   "source": [
    "### 8. What are the various central inclination measures? Why does mean vary too much from median in\n",
    "certain data sets?"
   ]
  },
  {
   "cell_type": "code",
   "execution_count": null,
   "id": "1dc701d1",
   "metadata": {},
   "outputs": [],
   "source": [
    "Mean\n",
    "Median\n",
    "Mode"
   ]
  },
  {
   "cell_type": "markdown",
   "id": "ae7fef98",
   "metadata": {},
   "source": [
    "### 9. Describe how a scatter plot can be used to investigate bivariate relationships. Is it possible to find\n",
    "outliers using a scatter plot?"
   ]
  },
  {
   "cell_type": "code",
   "execution_count": null,
   "id": "020520ad",
   "metadata": {},
   "outputs": [],
   "source": []
  },
  {
   "cell_type": "markdown",
   "id": "9a8ff94f",
   "metadata": {},
   "source": [
    "### 10. Describe how cross-tabs can be used to figure out how two variables are related."
   ]
  },
  {
   "cell_type": "code",
   "execution_count": null,
   "id": "80056dbf",
   "metadata": {},
   "outputs": [],
   "source": [
    "Cross tabulation is a method to quantitatively analyze the relationship between multiple variables.\n",
    "Also known as contingency tables or cross tabs, cross tabulation groups variables\n",
    "to understand the correlation between different variables.\n",
    "It also shows how correlations change from one variable grouping to another"
   ]
  },
  {
   "cell_type": "code",
   "execution_count": null,
   "id": "8612f84b",
   "metadata": {},
   "outputs": [],
   "source": []
  },
  {
   "cell_type": "code",
   "execution_count": null,
   "id": "0e1e8dca",
   "metadata": {},
   "outputs": [],
   "source": []
  }
 ],
 "metadata": {
  "kernelspec": {
   "display_name": "Python 3",
   "language": "python",
   "name": "python3"
  },
  "language_info": {
   "codemirror_mode": {
    "name": "ipython",
    "version": 3
   },
   "file_extension": ".py",
   "mimetype": "text/x-python",
   "name": "python",
   "nbconvert_exporter": "python",
   "pygments_lexer": "ipython3",
   "version": "3.8.8"
  }
 },
 "nbformat": 4,
 "nbformat_minor": 5
}
