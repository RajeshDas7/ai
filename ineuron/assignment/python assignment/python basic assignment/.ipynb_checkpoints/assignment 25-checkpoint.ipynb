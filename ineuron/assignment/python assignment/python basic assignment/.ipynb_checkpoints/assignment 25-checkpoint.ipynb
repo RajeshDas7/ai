{
 "cells": [
  {
   "cell_type": "markdown",
   "id": "9e4689c1",
   "metadata": {},
   "source": [
    "### 1 . What is the difference between enclosing a list comprehension in square brackets and parentheses?"
   ]
  },
  {
   "cell_type": "code",
   "execution_count": null,
   "id": "578059cd",
   "metadata": {},
   "outputs": [],
   "source": [
    "if we enclose a list comprehension in a parentheses it will return a generator object"
   ]
  },
  {
   "cell_type": "markdown",
   "id": "b87960dc",
   "metadata": {},
   "source": [
    "### 2) What is the relationship between generators and iterators?"
   ]
  },
  {
   "cell_type": "code",
   "execution_count": null,
   "id": "0f43585b",
   "metadata": {},
   "outputs": [],
   "source": [
    "Iterator\n",
    "------------\n",
    "Class is used to implement an iterator\n",
    "\n",
    "\n",
    "\n",
    "Local Variables aren’t used here.                                         \n",
    "\n",
    "\n",
    "Iterators are used mostly to iterate or convert other objects to an iterator using iter() function. \n",
    "\n",
    "Iterator uses iter() and next() functions \n",
    "\n",
    "Every iterator is not a generator\t\n",
    "\n",
    "\tGenerator\n",
    "    ------------\n",
    "Function is used to implement a generator.\n",
    "    \n",
    "All the local variables before the yield function are stored. \n",
    "\n",
    "Generators are mostly used in loops to generate an iterator by returning\n",
    "all the values in the loop without affecting the iteration of the loop\n",
    "\n",
    "Generator uses yield keyword\n",
    "    \n",
    "Every generator is an iterator"
   ]
  },
  {
   "cell_type": "markdown",
   "id": "9a894bff",
   "metadata": {},
   "source": [
    "### 3) What are the signs that a function is a generator function?"
   ]
  },
  {
   "cell_type": "code",
   "execution_count": null,
   "id": "f27b9685",
   "metadata": {},
   "outputs": [],
   "source": [
    "If a function contains at least one yield statement (it may contain other yield or return statements), \n",
    "it becomes a generator function. "
   ]
  },
  {
   "cell_type": "markdown",
   "id": "2514dbfe",
   "metadata": {},
   "source": [
    "### 4) What is the purpose of a yield statement?"
   ]
  },
  {
   "cell_type": "code",
   "execution_count": null,
   "id": "3b65b7af",
   "metadata": {},
   "outputs": [],
   "source": [
    " a yield statement looks much like a return statement,\n",
    "except that instead of stopping execution of the function and returning, \n",
    "yield instead provides a value to the code looping over the generator\n",
    "and pauses execution of the generator function."
   ]
  },
  {
   "cell_type": "markdown",
   "id": "4e0b7d1a",
   "metadata": {},
   "source": [
    "### 5) What is the relationship between map calls and list comprehensions? Make a comparison and contrast between the two."
   ]
  },
  {
   "cell_type": "code",
   "execution_count": null,
   "id": "b6acfa02",
   "metadata": {},
   "outputs": [],
   "source": [
    "List comprehension is more concise and easier to read as compared to map.\n",
    "\n",
    "List comprehension allows filtering.\n",
    "In map, we have no such facility. \n",
    "\n",
    "List comprehension are used when a list of results is required as map only returns a map object and does not return any list.\n",
    "\n",
    "List comprehension is faster than map when we need to evaluate expressions that are too long or complicated to express\n",
    "\n",
    "Map is faster in case of calling an already defined function (as no lambda is required)."
   ]
  }
 ],
 "metadata": {
  "kernelspec": {
   "display_name": "Python 3",
   "language": "python",
   "name": "python3"
  },
  "language_info": {
   "codemirror_mode": {
    "name": "ipython",
    "version": 3
   },
   "file_extension": ".py",
   "mimetype": "text/x-python",
   "name": "python",
   "nbconvert_exporter": "python",
   "pygments_lexer": "ipython3",
   "version": "3.8.8"
  }
 },
 "nbformat": 4,
 "nbformat_minor": 5
}
