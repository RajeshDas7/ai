{
 "cells": [
  {
   "cell_type": "markdown",
   "id": "4522e38d",
   "metadata": {},
   "source": [
    "### Q1. Which two operator overloading methods can you use in your classes to support iteration?"
   ]
  },
  {
   "cell_type": "code",
   "execution_count": null,
   "id": "dc830b15",
   "metadata": {},
   "outputs": [],
   "source": [
    "__iter__ and __next__ "
   ]
  },
  {
   "cell_type": "markdown",
   "id": "dd5c822d",
   "metadata": {},
   "source": [
    "### Q2. In what contexts do the two operator overloading methods manage printing?"
   ]
  },
  {
   "cell_type": "code",
   "execution_count": null,
   "id": "17809e72",
   "metadata": {},
   "outputs": [],
   "source": [
    "the __iter__ function will return a iterator object.\n",
    "the __next__ function is used to manually iterate through all\n",
    "the items of an iterator"
   ]
  },
  {
   "cell_type": "markdown",
   "id": "dd82e9a4",
   "metadata": {},
   "source": [
    "### Q3. In a class, how do you intercept slice operations?"
   ]
  },
  {
   "cell_type": "code",
   "execution_count": null,
   "id": "33b6da0b",
   "metadata": {},
   "outputs": [],
   "source": []
  },
  {
   "cell_type": "markdown",
   "id": "1b4f28ca",
   "metadata": {},
   "source": [
    "### Q4. In a class, how do you capture in-place addition?"
   ]
  },
  {
   "cell_type": "code",
   "execution_count": null,
   "id": "1155b3d0",
   "metadata": {},
   "outputs": [],
   "source": [
    "by using  iadd() method"
   ]
  },
  {
   "cell_type": "markdown",
   "id": "da14a7d3",
   "metadata": {},
   "source": [
    "### Q5. When is it appropriate to use operator overloading?"
   ]
  },
  {
   "cell_type": "code",
   "execution_count": null,
   "id": "4f611b84",
   "metadata": {},
   "outputs": [],
   "source": [
    "when we try to mimic built-in type interface then we can use operator overloading.\n",
    "otherwise it is better to stick with simpler name."
   ]
  },
  {
   "cell_type": "code",
   "execution_count": null,
   "id": "5014ed73",
   "metadata": {},
   "outputs": [],
   "source": []
  },
  {
   "cell_type": "code",
   "execution_count": null,
   "id": "3397c7d2",
   "metadata": {},
   "outputs": [],
   "source": []
  },
  {
   "cell_type": "code",
   "execution_count": null,
   "id": "e432faad",
   "metadata": {},
   "outputs": [],
   "source": []
  },
  {
   "cell_type": "code",
   "execution_count": null,
   "id": "9a666ffd",
   "metadata": {},
   "outputs": [],
   "source": []
  }
 ],
 "metadata": {
  "kernelspec": {
   "display_name": "Python 3",
   "language": "python",
   "name": "python3"
  },
  "language_info": {
   "codemirror_mode": {
    "name": "ipython",
    "version": 3
   },
   "file_extension": ".py",
   "mimetype": "text/x-python",
   "name": "python",
   "nbconvert_exporter": "python",
   "pygments_lexer": "ipython3",
   "version": "3.8.8"
  }
 },
 "nbformat": 4,
 "nbformat_minor": 5
}
