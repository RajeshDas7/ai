{
 "cells": [
  {
   "cell_type": "markdown",
   "id": "80da078d",
   "metadata": {},
   "source": [
    "### Question1\n",
    "\n",
    "Create a function that takes a string and returns a string in which each character is repeated\n",
    "\n",
    "once.\n",
    "\n",
    "Examples\n",
    "\n",
    "double_char(&quot;String&quot;) ➞ &quot;SSttrriinngg&quot;\n",
    "\n",
    "double_char(&quot;Hello World!&quot;) ➞ &quot;HHeelllloo WWoorrlldd!!&quot;\n",
    "\n",
    "double_char(&quot;1234!_ &quot;) ➞ &quot;11223344!!__ &quot;"
   ]
  },
  {
   "cell_type": "code",
   "execution_count": null,
   "id": "004ea738",
   "metadata": {},
   "outputs": [],
   "source": [
    "def double_char(a):\n",
    "    b=\"\"\n",
    "    for i in a:\n",
    "        b+= i*2\n",
    "    print(b)\n",
    "    \n",
    "    \n",
    "double_char(\"String\")"
   ]
  },
  {
   "cell_type": "markdown",
   "id": "f13da448",
   "metadata": {},
   "source": [
    "### Question2\n",
    "\n",
    "Create a function that reverses a boolean value and returns the string &quot;boolean expected&quot;\n",
    "\n",
    "if another variable type is given.\n",
    "\n",
    "Examples\n",
    "\n",
    "reverse(True) ➞ False\n",
    "\n",
    "reverse(False) ➞ True\n",
    "\n",
    "reverse(0) ➞ &quot;boolean expected&quot;\n",
    "\n",
    "reverse(None) ➞ &quot;boolean expected&quot;\n"
   ]
  },
  {
   "cell_type": "code",
   "execution_count": null,
   "id": "a8b52b8c",
   "metadata": {},
   "outputs": [],
   "source": [
    "def reverse(a):\n",
    "    if type(a)==bool:\n",
    "        \n",
    "        print(not a)\n",
    "    else:\n",
    "        print(\"boolean expected\")\n",
    "    \n",
    "reverse(None)"
   ]
  },
  {
   "cell_type": "code",
   "execution_count": null,
   "id": "8cac3098",
   "metadata": {},
   "outputs": [],
   "source": [
    "not True"
   ]
  },
  {
   "cell_type": "markdown",
   "id": "77aa2354",
   "metadata": {},
   "source": [
    "### Question3\n",
    "\n",
    "Create a function that returns the thickness (in meters) of a piece of paper after folding it n\n",
    "\n",
    "number of times. The paper starts off with a thickness of 0.5mm.\n",
    "\n",
    "Examples\n",
    "\n",
    "num_layers(1) ➞ &quot;0.001m&quot;\n",
    "\n",
    "Paper folded once is 1mm (equal to 0.001m)\n",
    "\n",
    "num_layers(4) ➞ &quot;0.008m&quot;\n",
    "\n",
    "Paper folded 4 times is 8mm (equal to 0.008m)\n",
    "\n",
    "num_layers(21) ➞ &quot;1048.576m&quot;\n",
    "\n",
    "Paper folded 21 times is 1048576mm (equal to 1048.576m)"
   ]
  },
  {
   "cell_type": "code",
   "execution_count": 5,
   "id": "ee803312",
   "metadata": {},
   "outputs": [
    {
     "name": "stdout",
     "output_type": "stream",
     "text": [
      "1048.576\n"
     ]
    }
   ],
   "source": [
    "def num_layers(n):\n",
    "    if n==1:\n",
    "        print(0.001)\n",
    "    else:\n",
    "        \n",
    "        t = 0.5*(2**n)\n",
    "        t_m=t/1000\n",
    "        print(t_m)\n",
    "    \n",
    "num_layers(21)"
   ]
  },
  {
   "cell_type": "markdown",
   "id": "682512f7",
   "metadata": {},
   "source": [
    "### Question4\n",
    "\n",
    "Create a function that takes a single string as argument and returns an ordered list containing\n",
    "\n",
    "the indices of all capital letters in the string.\n",
    "\n",
    "Examples\n",
    "\n",
    "index_of_caps(&quot;eDaBiT&quot;) ➞ [1, 3, 5]\n",
    "\n",
    "index_of_caps(&quot;eQuINoX&quot;) ➞ [1, 3, 4, 6]\n",
    "\n",
    "index_of_caps(&quot;determine&quot;) ➞ []\n",
    "\n",
    "index_of_caps(&quot;STRIKE&quot;) ➞ [0, 1, 2, 3, 4, 5]\n",
    "\n",
    "index_of_caps(&quot;sUn&quot;) ➞ [1]\n"
   ]
  },
  {
   "cell_type": "code",
   "execution_count": 8,
   "id": "55332399",
   "metadata": {},
   "outputs": [
    {
     "name": "stdout",
     "output_type": "stream",
     "text": [
      "1\n",
      "3\n",
      "4\n",
      "6\n"
     ]
    }
   ],
   "source": [
    "def index_of_caps(a):\n",
    "    for i in a:\n",
    "        if i.isupper():\n",
    "            print(a.index(i))\n",
    "    \n",
    "index_of_caps(\"eQuINoX\")"
   ]
  },
  {
   "cell_type": "markdown",
   "id": "d2747f31",
   "metadata": {},
   "source": [
    "### Question5\n",
    "\n",
    "Using list comprehensions, create a function that finds all even numbers from 1 to the given\n",
    "\n",
    "number.\n",
    "\n",
    "Examples\n",
    "\n",
    "find_even_nums(8) ➞ [2, 4, 6, 8]\n",
    "\n",
    "find_even_nums(4) ➞ [2, 4]\n",
    "\n",
    "find_even_nums(2) ➞ [2]"
   ]
  },
  {
   "cell_type": "code",
   "execution_count": 10,
   "id": "f566fa83",
   "metadata": {},
   "outputs": [
    {
     "name": "stdout",
     "output_type": "stream",
     "text": [
      "enter value of n: 6\n",
      "[2, 4, 6]\n"
     ]
    }
   ],
   "source": [
    "n=int(input(\"enter value of n: \"))\n",
    "list1=list(range(1,n+1))\n",
    "even_nos = [num for num in list1 if num % 2 == 0]\n",
    "print(even_nos)"
   ]
  },
  {
   "cell_type": "code",
   "execution_count": null,
   "id": "77087e72",
   "metadata": {},
   "outputs": [],
   "source": []
  },
  {
   "cell_type": "code",
   "execution_count": null,
   "id": "6a0a06dc",
   "metadata": {},
   "outputs": [],
   "source": []
  },
  {
   "cell_type": "code",
   "execution_count": null,
   "id": "e9f486fa",
   "metadata": {},
   "outputs": [],
   "source": []
  },
  {
   "cell_type": "code",
   "execution_count": null,
   "id": "5ce30fc1",
   "metadata": {},
   "outputs": [],
   "source": []
  },
  {
   "cell_type": "code",
   "execution_count": null,
   "id": "e042f186",
   "metadata": {},
   "outputs": [],
   "source": []
  },
  {
   "cell_type": "code",
   "execution_count": null,
   "id": "25d2f733",
   "metadata": {},
   "outputs": [],
   "source": []
  },
  {
   "cell_type": "code",
   "execution_count": null,
   "id": "b0e294c1",
   "metadata": {},
   "outputs": [],
   "source": []
  },
  {
   "cell_type": "code",
   "execution_count": null,
   "id": "b94a11f6",
   "metadata": {},
   "outputs": [],
   "source": []
  },
  {
   "cell_type": "code",
   "execution_count": null,
   "id": "abccdc45",
   "metadata": {},
   "outputs": [],
   "source": []
  }
 ],
 "metadata": {
  "kernelspec": {
   "display_name": "Python 3",
   "language": "python",
   "name": "python3"
  },
  "language_info": {
   "codemirror_mode": {
    "name": "ipython",
    "version": 3
   },
   "file_extension": ".py",
   "mimetype": "text/x-python",
   "name": "python",
   "nbconvert_exporter": "python",
   "pygments_lexer": "ipython3",
   "version": "3.8.8"
  }
 },
 "nbformat": 4,
 "nbformat_minor": 5
}
