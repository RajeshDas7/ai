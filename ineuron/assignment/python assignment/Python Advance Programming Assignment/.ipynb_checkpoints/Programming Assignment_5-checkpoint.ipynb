{
 "cells": [
  {
   "cell_type": "markdown",
   "id": "78297718",
   "metadata": {},
   "source": [
    "### 1. Create a function that takes a number n (integer greater than zero) as an\n",
    "\n",
    "argument, and returns 2 if n is odd and 8 if n is even.\n",
    "\n",
    "You can only use the following arithmetic operators: addition of numbers +,\n",
    "    \n",
    "subtraction of numbers -, multiplication of number *, division of number /, and\n",
    "\n",
    "exponentiation **.\n",
    "\n",
    "You are not allowed to use any other methods in this challenge (i.e. no if\n",
    "                                                                \n",
    "statements, comparison operators, etc).\n",
    "\n",
    "Examples\n",
    "\n",
    "f(1) ➞ 2\n",
    "\n",
    "f(2) ➞ 8\n",
    "\n",
    "f(3) ➞ 2"
   ]
  },
  {
   "cell_type": "code",
   "execution_count": null,
   "id": "fb963915",
   "metadata": {},
   "outputs": [],
   "source": []
  },
  {
   "cell_type": "markdown",
   "id": "ef4f5257",
   "metadata": {},
   "source": [
    "### 2. Create a function that returns the majority vote in a list. A majority vote is\n",
    "\n",
    "an element that occurs &gt; N/2 times in a list (where N is the length of the list).\n",
    "\n",
    "Examples\n",
    "\n",
    "majority_vote([&quot;A&quot;, &quot;A&quot;, &quot;B&quot;]) ➞ &quot;A&quot;\n",
    "\n",
    "majority_vote([&quot;A&quot;, &quot;A&quot;, &quot;A&quot;, &quot;B&quot;, &quot;C&quot;, &quot;A&quot;]) ➞ &quot;A&quot;\n",
    "\n",
    "majority_vote([&quot;A&quot;, &quot;B&quot;, &quot;B&quot;, &quot;A&quot;, &quot;C&quot;, &quot;C&quot;]) ➞ None\n"
   ]
  },
  {
   "cell_type": "code",
   "execution_count": null,
   "id": "ae3bbe9c",
   "metadata": {},
   "outputs": [],
   "source": [
    "def majority_vote(a):\n",
    "    b=len(a)//2\n",
    "    c=set(a)\n",
    "    flag=False\n",
    "    for i in c:\n",
    "        if a.count(i)>b:\n",
    "            return i\n",
    "    return \"None\"\n",
    "    \n",
    "majority_vote([\"A\", \"A\", \"A\", \"B\", \"C\", \"A\"])"
   ]
  },
  {
   "cell_type": "markdown",
   "id": "746cc89b",
   "metadata": {},
   "source": [
    "### 3. Create a function that takes a string txt and censors any word from a given\n",
    "\n",
    "list lst. The text removed must be replaced by the given character char.\n",
    "\n",
    "Examples\n",
    "\n",
    "censor_string(&quot;Today is a Wednesday!&quot;, [&quot;Today&quot;, &quot;a&quot;], &quot;-&quot;) ➞ &quot;----- is -\n",
    "\n",
    "Wednesday!&quot;\n",
    "\n",
    "censor_string(&quot;The cow jumped over the moon.&quot;, [&quot;cow&quot;, &quot;over&quot;], &quot; * &quot;), &quot;The ***\n",
    "\n",
    "jumped **** the moon.&quot;)\n",
    "\n",
    "censor_string(&quot;Why did the chicken cross the road?&quot;, [&quot;Did&quot;, &quot;chicken&quot;,\n",
    "                                                                \n",
    "&quot;road&quot;], &quot;*&quot;) ➞ &quot;Why *** the ******* cross the ****?&quot;\n"
   ]
  },
  {
   "cell_type": "code",
   "execution_count": null,
   "id": "2db92ccd",
   "metadata": {},
   "outputs": [],
   "source": [
    "def censor_string(a,b,c):\n",
    "    e=a.split(\" \")\n",
    "    w=''\n",
    "    for i in e:\n",
    "        print(i)\n",
    "        if i in b:\n",
    "            w += c*len(i) + \" \"\n",
    "        else:\n",
    "            w+=i + \" \"\n",
    "    print(w)\n",
    "    \n",
    "censor_string(\"The cow jumped over the moon.\", [\"cow\", \"over\"], \"*\")"
   ]
  },
  {
   "cell_type": "markdown",
   "id": "ea02d069",
   "metadata": {},
   "source": [
    "### 4. In mathematics a Polydivisible Number (or magic number) is a number in a\n",
    "\n",
    "given number base with digits abcde... that has the following properties:\n",
    "    \n",
    "- Its first digit a is not 0.\n",
    "\n",
    "- The number formed by its first two digits ab is a multiple of 2.\n",
    "\n",
    "- The number formed by its first three digits abc is a multiple of 3.\n",
    "\n",
    "- The number formed by its first four digits abcd is a multiple of 4.\n",
    "\n",
    "Create a function which takes an integer n and returns True if the given\n",
    "\n",
    "number is a Polydivisible Number and False otherwise.\n",
    "\n",
    "Examples\n",
    "\n",
    "is_polydivisible(1232) ➞ True\n",
    " 1 / 1 = 1\n",
    " \n",
    " 12 / 2 = 6\n",
    " \n",
    "123 / 3 = 41\n",
    "\n",
    " 1232 / 4 = 308\n",
    "\n",
    "is_polydivisible(123220 ) ➞ False\n",
    "\n",
    "1 / 1 = 1\n",
    "\n",
    " 12 / 2 = 6\n",
    " \n",
    " 123 / 3 = 41\n",
    " \n",
    " 1232 / 4 = 308\n",
    " \n",
    " 12322 / 5 = 2464.4 # Not a Whole Number\n",
    " 123220 /6 = 220536.333... # Not a Whole Number\n"
   ]
  },
  {
   "cell_type": "code",
   "execution_count": null,
   "id": "28e3f197",
   "metadata": {},
   "outputs": [],
   "source": [
    "def is_polydivisible(n):\n",
    "    a=str(n)\n",
    "    flag = True\n",
    "    if a[0]==\"0\":\n",
    "        flag=False\n",
    "    for i in range(1,len(a)+1):\n",
    "        if int(a[0:i])%i!=0:\n",
    "            flag=False\n",
    "            \n",
    "    print(flag)\n",
    "        \n",
    "is_polydivisible(123220)"
   ]
  },
  {
   "cell_type": "code",
   "execution_count": null,
   "id": "14be41b4",
   "metadata": {},
   "outputs": [],
   "source": []
  },
  {
   "cell_type": "markdown",
   "id": "5d664179",
   "metadata": {},
   "source": [
    "### 5. Create a function that takes a list of numbers and returns the sum of all\n",
    "\n",
    "prime numbers in the list.\n",
    "\n",
    "Examples\n",
    "\n",
    "sum_primes([1, 2, 3, 4, 5, 6, 7, 8, 9, 10]) ➞ 17\n",
    "\n",
    "sum_primes([2, 3, 4, 11, 20, 50, 71]) ➞ 87\n",
    "\n",
    "sum_primes([]) ➞ None"
   ]
  },
  {
   "cell_type": "code",
   "execution_count": null,
   "id": "8d332ca0",
   "metadata": {},
   "outputs": [],
   "source": [
    "def prime1(num):\n",
    "    for i in range(2, int(num/2)+1):\n",
    "        if (num % i) == 0:\n",
    "            return False\n",
    "    return True\n",
    "\n",
    "def sum_primes(a):\n",
    "    e=0\n",
    "    for i in a:\n",
    "        if prime1(i):\n",
    "            print(i)\n",
    "            e+=i\n",
    "    print(e)\n",
    "    \n",
    "sum_primes([])"
   ]
  },
  {
   "cell_type": "code",
   "execution_count": null,
   "id": "22d88cb9",
   "metadata": {},
   "outputs": [],
   "source": []
  },
  {
   "cell_type": "code",
   "execution_count": null,
   "id": "ad8474fc",
   "metadata": {},
   "outputs": [],
   "source": []
  },
  {
   "cell_type": "code",
   "execution_count": null,
   "id": "a982914e",
   "metadata": {},
   "outputs": [],
   "source": []
  },
  {
   "cell_type": "code",
   "execution_count": null,
   "id": "471945d8",
   "metadata": {},
   "outputs": [],
   "source": []
  },
  {
   "cell_type": "code",
   "execution_count": null,
   "id": "0e6f0c9f",
   "metadata": {},
   "outputs": [],
   "source": []
  },
  {
   "cell_type": "code",
   "execution_count": null,
   "id": "d83736ac",
   "metadata": {},
   "outputs": [],
   "source": []
  },
  {
   "cell_type": "code",
   "execution_count": null,
   "id": "e7aa3d77",
   "metadata": {},
   "outputs": [],
   "source": []
  },
  {
   "cell_type": "code",
   "execution_count": null,
   "id": "c30b4752",
   "metadata": {},
   "outputs": [],
   "source": []
  },
  {
   "cell_type": "code",
   "execution_count": null,
   "id": "ee9e7dd8",
   "metadata": {},
   "outputs": [],
   "source": []
  },
  {
   "cell_type": "code",
   "execution_count": null,
   "id": "af5916d3",
   "metadata": {},
   "outputs": [],
   "source": []
  }
 ],
 "metadata": {
  "kernelspec": {
   "display_name": "Python 3",
   "language": "python",
   "name": "python3"
  },
  "language_info": {
   "codemirror_mode": {
    "name": "ipython",
    "version": 3
   },
   "file_extension": ".py",
   "mimetype": "text/x-python",
   "name": "python",
   "nbconvert_exporter": "python",
   "pygments_lexer": "ipython3",
   "version": "3.8.8"
  }
 },
 "nbformat": 4,
 "nbformat_minor": 5
}
