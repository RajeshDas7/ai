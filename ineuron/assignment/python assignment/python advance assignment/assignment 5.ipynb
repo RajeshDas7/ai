{
 "cells": [
  {
   "cell_type": "markdown",
   "id": "7224c10f",
   "metadata": {},
   "source": [
    "### Q1. What is the meaning of multiple inheritance?"
   ]
  },
  {
   "cell_type": "code",
   "execution_count": null,
   "id": "47f877b0",
   "metadata": {},
   "outputs": [],
   "source": [
    "when a class inherit property of multiple classes it\n",
    "it is called multiple inheritance."
   ]
  },
  {
   "cell_type": "markdown",
   "id": "89e9cd7a",
   "metadata": {},
   "source": [
    "### Q2. What is the concept of delegation?\n"
   ]
  },
  {
   "cell_type": "code",
   "execution_count": null,
   "id": "75ca925e",
   "metadata": {},
   "outputs": [],
   "source": [
    "In object-oriented programming, \n",
    "delegation refers to evaluating a member (property or method) of one object (the receiver) \n",
    "in the context of another original object (the sender). \n",
    "Delegation can be done explicitly, \n",
    "by passing the sending object to the receiving object,"
   ]
  },
  {
   "cell_type": "markdown",
   "id": "bbf1ebb4",
   "metadata": {},
   "source": [
    "### Q3. What is the concept of composition?\n"
   ]
  },
  {
   "cell_type": "code",
   "execution_count": null,
   "id": "103df44d",
   "metadata": {},
   "outputs": [],
   "source": [
    "Composition is a concept that models a has a relationship.\n",
    "It enables creating complex types by combining objects of other types.\n",
    "This means that a class Composite can contain an object of another class Component. \n",
    "This relationship means that a Composite has a Component."
   ]
  },
  {
   "cell_type": "markdown",
   "id": "8751389b",
   "metadata": {},
   "source": [
    "### Q4. What are bound methods and how do we use them?\n"
   ]
  },
  {
   "cell_type": "code",
   "execution_count": null,
   "id": "c23231e7",
   "metadata": {},
   "outputs": [],
   "source": [
    "A bound method is the one which is dependent on the instance of the class as the first argument.\n",
    "It passes the instance as the first argument which is used to access the variables and functions."
   ]
  },
  {
   "cell_type": "markdown",
   "id": "147966ea",
   "metadata": {},
   "source": [
    "### Q5. What is the purpose of pseudoprivate attributes?"
   ]
  },
  {
   "cell_type": "code",
   "execution_count": null,
   "id": "2d070b8c",
   "metadata": {},
   "outputs": [],
   "source": [
    " to avoid namespace collisions in instances,"
   ]
  },
  {
   "cell_type": "code",
   "execution_count": null,
   "id": "ae6cded6",
   "metadata": {},
   "outputs": [],
   "source": []
  },
  {
   "cell_type": "code",
   "execution_count": null,
   "id": "9fdbd9ee",
   "metadata": {},
   "outputs": [],
   "source": []
  }
 ],
 "metadata": {
  "kernelspec": {
   "display_name": "Python 3",
   "language": "python",
   "name": "python3"
  },
  "language_info": {
   "codemirror_mode": {
    "name": "ipython",
    "version": 3
   },
   "file_extension": ".py",
   "mimetype": "text/x-python",
   "name": "python",
   "nbconvert_exporter": "python",
   "pygments_lexer": "ipython3",
   "version": "3.8.8"
  }
 },
 "nbformat": 4,
 "nbformat_minor": 5
}
