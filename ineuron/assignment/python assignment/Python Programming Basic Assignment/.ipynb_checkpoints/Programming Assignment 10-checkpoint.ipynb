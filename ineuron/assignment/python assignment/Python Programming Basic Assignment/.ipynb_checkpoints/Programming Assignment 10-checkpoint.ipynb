{
 "cells": [
  {
   "cell_type": "markdown",
   "id": "b22728cf",
   "metadata": {},
   "source": [
    "### 1. Write a Python program to find sum of elements in list?\n"
   ]
  },
  {
   "cell_type": "code",
   "execution_count": null,
   "id": "939dbc9b",
   "metadata": {},
   "outputs": [],
   "source": [
    "list1 = [11, 5, 17, 18, 23]\n",
    "sum =0\n",
    "\n",
    "for i in list1:\n",
    "    sum+=i\n",
    "print(sum)"
   ]
  },
  {
   "cell_type": "markdown",
   "id": "5cdc4c10",
   "metadata": {},
   "source": [
    "### 2. Write a Python program to Multiply all numbers in the list?\n"
   ]
  },
  {
   "cell_type": "code",
   "execution_count": null,
   "id": "f8c8e6be",
   "metadata": {},
   "outputs": [],
   "source": [
    "list1 = [11, 5, 17, 18, 23]\n",
    "sum =1\n",
    "\n",
    "for i in list1:\n",
    "    sum *= i\n",
    "print(sum)"
   ]
  },
  {
   "cell_type": "markdown",
   "id": "7c06a030",
   "metadata": {},
   "source": [
    "### 3. Write a Python program to find smallest number in a list?\n"
   ]
  },
  {
   "cell_type": "code",
   "execution_count": null,
   "id": "4cae60e0",
   "metadata": {},
   "outputs": [],
   "source": [
    "list1 = [10, 20, 4, 45, 99,1]\n",
    "  \n",
    "\n",
    "list1.sort()\n",
    "  \n",
    "\n",
    "print(\"smallest element is:\", list1[0])"
   ]
  },
  {
   "cell_type": "markdown",
   "id": "a98957fe",
   "metadata": {},
   "source": [
    "### 4. Write a Python program to find largest number in a list?\n"
   ]
  },
  {
   "cell_type": "code",
   "execution_count": null,
   "id": "13f0ee07",
   "metadata": {},
   "outputs": [],
   "source": [
    "list1 = [10, 20, 4, 45, 99,1]\n",
    "  \n",
    "\n",
    "list1.sort()\n",
    "  \n",
    "\n",
    "print(\"Largest element is:\", list1[-1])"
   ]
  },
  {
   "cell_type": "markdown",
   "id": "3ff90fba",
   "metadata": {},
   "source": [
    "### 5. Write a Python program to find second largest number in a list?\n"
   ]
  },
  {
   "cell_type": "code",
   "execution_count": null,
   "id": "423826f0",
   "metadata": {},
   "outputs": [],
   "source": [
    "list1 = [10, 20, 4, 45, 99,1]\n",
    "  \n",
    "\n",
    "list1.sort()\n",
    "  \n",
    "\n",
    "print(\" second Largest element is:\", list1[-2])"
   ]
  },
  {
   "cell_type": "markdown",
   "id": "b3bfc1fe",
   "metadata": {},
   "source": [
    "### 6. Write a Python program to find N largest elements from a list?\n"
   ]
  },
  {
   "cell_type": "code",
   "execution_count": null,
   "id": "1814e4bf",
   "metadata": {},
   "outputs": [],
   "source": [
    "list1 = [10, 20, 4, 45, 99,1]\n",
    "  \n",
    "\n",
    "list1.sort()\n",
    "  \n",
    "n=int(input(\"enter value of n: \" ))\n",
    "print(\" nth Largest element is:\", list1[-n])"
   ]
  },
  {
   "cell_type": "markdown",
   "id": "f1f3dc15",
   "metadata": {},
   "source": [
    "### 7. Write a Python program to print even numbers in a list?\n"
   ]
  },
  {
   "cell_type": "code",
   "execution_count": null,
   "id": "d32340a0",
   "metadata": {},
   "outputs": [],
   "source": [
    "list1 = [10, 20, 4, 45, 99,1]\n",
    "list2=[]\n",
    "for i in list1:\n",
    "    if i%2==0:\n",
    "        list2.append(i)\n",
    "        \n",
    "print(list2)"
   ]
  },
  {
   "cell_type": "markdown",
   "id": "b8cc99e1",
   "metadata": {},
   "source": [
    "### 8. Write a Python program to print odd numbers in a List?\n"
   ]
  },
  {
   "cell_type": "code",
   "execution_count": null,
   "id": "f473d018",
   "metadata": {},
   "outputs": [],
   "source": [
    "list1 = [10, 20, 4, 45, 99,1]\n",
    "list2=[]\n",
    "for i in list1:\n",
    "    if i%2 !=0:\n",
    "        list2.append(i)\n",
    "        \n",
    "print(list2)"
   ]
  },
  {
   "cell_type": "markdown",
   "id": "6e52c38c",
   "metadata": {},
   "source": [
    "### 9. Write a Python program to Remove empty List from List?\n"
   ]
  },
  {
   "cell_type": "code",
   "execution_count": null,
   "id": "f2766c0b",
   "metadata": {},
   "outputs": [],
   "source": [
    "test_list = [5, 6, [], 3, [], [], 9]\n",
    "test_list1=[]\n",
    "for i in test_list:\n",
    "    if i != []:\n",
    "        test_list1.append(i)\n",
    "print(test_list1)"
   ]
  },
  {
   "cell_type": "markdown",
   "id": "3782644b",
   "metadata": {},
   "source": [
    "### 10. Write a Python program to Cloning or Copying a list?\n"
   ]
  },
  {
   "cell_type": "code",
   "execution_count": null,
   "id": "552668cc",
   "metadata": {},
   "outputs": [],
   "source": [
    "def Cloning(li1):\n",
    "    li_copy = li1[:]\n",
    "    return li_copy\n",
    "  \n",
    "# Driver Code\n",
    "li1 = [4, 8, 2, 10, 15, 18]\n",
    "li2 = Cloning(li1)\n",
    "print(\"Original List:\", li1)\n",
    "print(\"After Cloning:\", li2)"
   ]
  },
  {
   "cell_type": "markdown",
   "id": "913de6ec",
   "metadata": {},
   "source": [
    "### 11. Write a Python program to Count occurrences of an element in a list?"
   ]
  },
  {
   "cell_type": "code",
   "execution_count": null,
   "id": "b6682f5b",
   "metadata": {},
   "outputs": [],
   "source": [
    "lst = [8, 6, 8, 10, 8, 20, 10, 8, 8]\n",
    "\n",
    "list1 = set(lst)\n",
    "print(list1)\n",
    "\n",
    "for i in list1:\n",
    "    j=lst.count(i)\n",
    "    print(\"number of occurence of \" , i, \"is\" , j)"
   ]
  },
  {
   "cell_type": "code",
   "execution_count": null,
   "id": "a6ca2d1d",
   "metadata": {},
   "outputs": [],
   "source": []
  },
  {
   "cell_type": "code",
   "execution_count": null,
   "id": "f3fac5de",
   "metadata": {},
   "outputs": [],
   "source": []
  },
  {
   "cell_type": "code",
   "execution_count": null,
   "id": "3ca20edb",
   "metadata": {},
   "outputs": [],
   "source": []
  },
  {
   "cell_type": "code",
   "execution_count": null,
   "id": "7c83731e",
   "metadata": {},
   "outputs": [],
   "source": []
  }
 ],
 "metadata": {
  "kernelspec": {
   "display_name": "Python 3",
   "language": "python",
   "name": "python3"
  },
  "language_info": {
   "codemirror_mode": {
    "name": "ipython",
    "version": 3
   },
   "file_extension": ".py",
   "mimetype": "text/x-python",
   "name": "python",
   "nbconvert_exporter": "python",
   "pygments_lexer": "ipython3",
   "version": "3.8.8"
  }
 },
 "nbformat": 4,
 "nbformat_minor": 5
}
