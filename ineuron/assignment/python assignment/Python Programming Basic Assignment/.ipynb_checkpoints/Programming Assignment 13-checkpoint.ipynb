{
 "cells": [
  {
   "cell_type": "markdown",
   "id": "dca45ca8",
   "metadata": {},
   "source": [
    "### Question 1:\n",
    "Write a program that calculates and prints the value according to the given formula:\n",
    "\n",
    "Q = Square root of [(2 * C * D)/H]\n",
    "\n",
    "Following are the fixed values of C and H:\n",
    "\n",
    "C is 50. H is 30.\n",
    "\n",
    "D is the variable whose values should be input to your program in a comma-separated\n",
    "sequence.\n",
    "\n",
    "Example\n",
    "\n",
    "Let us assume the following comma separated input sequence is given to the program:\n",
    "\n",
    "100,150,180\n",
    "\n",
    "The output of the program should be:\n",
    "\n",
    "18,22,24"
   ]
  },
  {
   "cell_type": "code",
   "execution_count": null,
   "id": "28ce6aa9",
   "metadata": {},
   "outputs": [],
   "source": [
    "c =50\n",
    "h=30\n",
    "d=[100,150,180]\n",
    "\n",
    "for i in d:\n",
    "    a=(2*c*i)/h\n",
    "    q=a**0.5\n",
    "    print(q)"
   ]
  },
  {
   "cell_type": "markdown",
   "id": "704ceed3",
   "metadata": {},
   "source": [
    "### Question 2:\n",
    "    \n",
    "Write a program which takes 2 digits, X,Y as input and generates a 2-dimensional array.\n",
    "\n",
    "The element value in the i-th row and j-th column of the array should be i*j.\n",
    "\n",
    "Note: i=0,1.., X-1; j=0,1,¡Y-1.\n",
    "    \n",
    "Example\n",
    "\n",
    "Suppose the following inputs are given to the program:\n",
    "    \n",
    "3,5\n",
    "\n",
    "Then, the output of the program should be:\n",
    "    \n",
    "[[0, 0, 0, 0, 0], [0, 1, 2, 3, 4], [0, 2, 4, 6, 8]]"
   ]
  },
  {
   "cell_type": "code",
   "execution_count": null,
   "id": "73fec765",
   "metadata": {},
   "outputs": [],
   "source": [
    "p=int(input(\"enter the value of i: \"))\n",
    "q=int(input(\"enter the value of j: \"))\n",
    "a=[]\n",
    "for i in range(0,p):\n",
    "    b=[]\n",
    "    for j in range(0,q):\n",
    "        b.append(i*j)\n",
    "    a.append(b)\n",
    "\n",
    "print(a)"
   ]
  },
  {
   "cell_type": "markdown",
   "id": "f62f1a79",
   "metadata": {},
   "source": [
    "### Question 3:\n",
    "    \n",
    "Write a program that accepts a comma separated sequence of words as input and prints the\n",
    "\n",
    "words in a comma-separated sequence after sorting them alphabetically.\n",
    "\n",
    "Suppose the following input is supplied to the program:\n",
    "    \n",
    "without,hello,bag,world\n",
    "\n",
    "Then, the output should be:\n",
    "    \n",
    "bag,hello,without,world"
   ]
  },
  {
   "cell_type": "code",
   "execution_count": null,
   "id": "133f5f55",
   "metadata": {},
   "outputs": [],
   "source": [
    "a=[\"without\",\"hello\",\"bag\",\"world\"]\n",
    "a.sort()\n",
    "print(a)"
   ]
  },
  {
   "cell_type": "markdown",
   "id": "21b9a754",
   "metadata": {},
   "source": [
    "### Question 4:\n",
    "\n",
    "Write a program that accepts a sequence of whitespace separated words as input and prints\n",
    "\n",
    "the words after removing all duplicate words and sorting them alphanumerically.\n",
    "\n",
    "Suppose the following input is supplied to the program:\n",
    "\n",
    "hello world and practice makes perfect and hello world again\n",
    "\n",
    "Then, the output should be:\n",
    "\n",
    "again and hello makes perfect practice world"
   ]
  },
  {
   "cell_type": "code",
   "execution_count": null,
   "id": "10dd6895",
   "metadata": {},
   "outputs": [],
   "source": [
    "a=\"hello world and practice makes perfect and hello world again\"\n",
    "\n",
    "b=a.split(\" \")\n",
    "c=set(b)\n",
    "d=list(c)\n",
    "d.sort()\n",
    "print(d)"
   ]
  },
  {
   "cell_type": "code",
   "execution_count": null,
   "id": "e69a887b",
   "metadata": {},
   "outputs": [],
   "source": []
  },
  {
   "cell_type": "code",
   "execution_count": null,
   "id": "76e3d6f3",
   "metadata": {},
   "outputs": [],
   "source": []
  },
  {
   "cell_type": "markdown",
   "id": "cd8cd4f3",
   "metadata": {},
   "source": [
    "### Question 5:\n",
    "\n",
    "Write a program that accepts a sentence and calculate the number of letters and digits.\n",
    "\n",
    "Suppose the following input is supplied to the program:\n",
    "\n",
    "hello world! 123\n",
    "\n",
    "Then, the output should be:\n",
    "\n",
    "LETTERS 10\n",
    "\n",
    "DIGITS 3\n"
   ]
  },
  {
   "cell_type": "code",
   "execution_count": null,
   "id": "ca21cbd7",
   "metadata": {},
   "outputs": [],
   "source": [
    "a=\"12355 hello world! 123\"\n",
    "l=0\n",
    "d=0\n",
    "for i in a:\n",
    "    if type(i)==str:\n",
    "        if i>\"a\" and i<\"z\":\n",
    "            l+=1\n",
    "        elif i>=\"0\" and i<=\"9\":\n",
    "            \n",
    "    \n",
    "            d+=1\n",
    "        \n",
    "   \n",
    "print(l,d)"
   ]
  },
  {
   "cell_type": "code",
   "execution_count": null,
   "id": "f8d6c274",
   "metadata": {},
   "outputs": [],
   "source": []
  },
  {
   "cell_type": "markdown",
   "id": "c487926a",
   "metadata": {},
   "source": [
    "### Question 6:\n",
    "A website requires the users to input username and password to register. Write a program to\n",
    "check the validity of password input by users.\n",
    "Following are the criteria for checking the password:\n",
    "1. At least 1 letter between [a-z]\n",
    "2. At least 1 number between [0-9]\n",
    "1. At least 1 letter between [A-Z]\n",
    "3. At least 1 character from [$#@]\n",
    "4. Minimum length of transaction password: 6\n",
    "5. Maximum length of transaction password: 12\n",
    "\n",
    "Your program should accept a sequence of comma separated passwords and will check them\n",
    "according to the above criteria. Passwords that match the criteria are to be printed, each\n",
    "separated by a comma.\n",
    "\n",
    "Example\n",
    "\n",
    "If the following passwords are given as input to the program:\n",
    "ABd1234@1,a F1#,2w3E*,2We3345\n",
    "Then, the output of the program should be:\n",
    "ABd1234@1"
   ]
  },
  {
   "cell_type": "code",
   "execution_count": null,
   "id": "aa281d49",
   "metadata": {},
   "outputs": [],
   "source": [
    "\n",
    "\n",
    "import re\n",
    "password=input(\"enter your password: \")\n",
    "flag = 0\n",
    "while True:  \n",
    "    if (len(password)<6):\n",
    "        flag = -1\n",
    "        break\n",
    "    elif (len(password)>12):\n",
    "        flag = -1\n",
    "        break\n",
    "    elif not re.search(\"[a-z]\", password):\n",
    "        flag = -1\n",
    "        break\n",
    "    elif not re.search(\"[A-Z]\", password):\n",
    "        flag = -1\n",
    "        break\n",
    "    elif not re.search(\"[0-9]\", password):\n",
    "        flag = -1\n",
    "        break\n",
    "    elif not re.search(\"[#@$]\", password):\n",
    "        flag = -1\n",
    "        break\n",
    "    elif re.search(\"\\s\", password):\n",
    "        flag = -1\n",
    "        break\n",
    "    else:\n",
    "        flag = 0\n",
    "        print(\"Valid Password\")\n",
    "        break\n",
    "  \n",
    "if flag ==-1:\n",
    "    print(\"Not a Valid Password\")\n"
   ]
  },
  {
   "cell_type": "code",
   "execution_count": null,
   "id": "a35c3e12",
   "metadata": {},
   "outputs": [],
   "source": []
  },
  {
   "cell_type": "code",
   "execution_count": null,
   "id": "956082d6",
   "metadata": {},
   "outputs": [],
   "source": []
  },
  {
   "cell_type": "code",
   "execution_count": null,
   "id": "41d8d5e7",
   "metadata": {},
   "outputs": [],
   "source": []
  },
  {
   "cell_type": "code",
   "execution_count": null,
   "id": "3c61eec7",
   "metadata": {},
   "outputs": [],
   "source": []
  },
  {
   "cell_type": "code",
   "execution_count": null,
   "id": "3ee88e12",
   "metadata": {},
   "outputs": [],
   "source": []
  },
  {
   "cell_type": "code",
   "execution_count": null,
   "id": "6629a0a9",
   "metadata": {},
   "outputs": [],
   "source": []
  },
  {
   "cell_type": "code",
   "execution_count": null,
   "id": "ba3e3e36",
   "metadata": {},
   "outputs": [],
   "source": []
  }
 ],
 "metadata": {
  "kernelspec": {
   "display_name": "Python 3",
   "language": "python",
   "name": "python3"
  },
  "language_info": {
   "codemirror_mode": {
    "name": "ipython",
    "version": 3
   },
   "file_extension": ".py",
   "mimetype": "text/x-python",
   "name": "python",
   "nbconvert_exporter": "python",
   "pygments_lexer": "ipython3",
   "version": "3.8.8"
  }
 },
 "nbformat": 4,
 "nbformat_minor": 5
}
