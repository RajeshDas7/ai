{
 "cells": [
  {
   "cell_type": "markdown",
   "id": "eadef613",
   "metadata": {},
   "source": [
    "### 1. Create a function that transposes a 2D matrix.\n",
    "\n",
    "Examples\n",
    "\n",
    "transpose_matrix([\n",
    "    \n",
    "[1, 1, 1],\n",
    "    \n",
    "[2, 2, 2],\n",
    "    \n",
    "[3, 3, 3]\n",
    "    \n",
    "]) ➞ [\n",
    "[1, 2, 3],\n",
    "    \n",
    "[1, 2, 3],\n",
    "    \n",
    "[1, 2, 3]\n",
    "]\n",
    "transpose_matrix([\n",
    "[5, 5],\n",
    "    \n",
    "[6, 7],\n",
    "    \n",
    "[9, 1]\n",
    "    \n",
    "]) ➞ [\n",
    "    \n",
    "[5, 6, 9],\n",
    "    \n",
    "[5, 7, 1]\n",
    "]"
   ]
  },
  {
   "cell_type": "code",
   "execution_count": 2,
   "id": "efd8ede3",
   "metadata": {},
   "outputs": [
    {
     "name": "stdout",
     "output_type": "stream",
     "text": [
      "[5, 6, 9]\n",
      "[5, 7, 1]\n"
     ]
    }
   ],
   "source": [
    "def transpose_matrix(m):\n",
    "    rez = [[m[j][i] for j in range(len(m))] for i in range(len(m[0]))]\n",
    "    for i in rez:\n",
    "        print(i)\n",
    "        \n",
    "transpose_matrix([ [5, 5],\n",
    "\n",
    "[6, 7],\n",
    "\n",
    "[9, 1]\n",
    "\n",
    "]) "
   ]
  },
  {
   "cell_type": "markdown",
   "id": "baa4d86a",
   "metadata": {},
   "source": [
    "### 2. Create a function that determines whether a string is a valid hex code.\n",
    "\n",
    "A hex code must begin with a pound key # and is exactly 6 characters in\n",
    "\n",
    "length. Each character must be a digit from 0-9 or an alphabetic character\n",
    "\n",
    "from A-F. All alphabetic characters may be uppercase or lowercase.\n",
    "\n",
    "Examples\n",
    "\n",
    "is_valid_hex_code(&quot;#CD5C5C&quot;) ➞ True\n",
    "                  \n",
    "is_valid_hex_code(&quot;#EAECEE&quot;) ➞ True\n",
    "                  \n",
    "is_valid_hex_code(&quot;#eaecee&quot;) ➞ True\n",
    "                  \n",
    "is_valid_hex_code(&quot;#CD5C58C&quot;) ➞ False\n",
    "                  \n",
    "#Length exceeds 6\n",
    "                  \n",
    "is_valid_hex_code(&quot;#CD5C5Z&quot;) ➞ False\n",
    "                  \n",
    "#Not all alphabetic characters in A-F\n",
    "                  \n",
    "is_valid_hex_code(&quot;#CD5C&amp;C&quot;) ➞ False\n",
    "                  \n",
    "#Contains unacceptable character\n",
    "\n",
    "is_valid_hex_code(&quot;CD5C5C&quot;) ➞ False\n",
    "#Missing #\n",
    "                  \n",
    "   "
   ]
  },
  {
   "cell_type": "code",
   "execution_count": 13,
   "id": "348ec4ba",
   "metadata": {},
   "outputs": [
    {
     "name": "stdout",
     "output_type": "stream",
     "text": [
      "False\n"
     ]
    }
   ],
   "source": [
    "def is_valid_hex_code(a):\n",
    "    hex_val=[\"0\",\"1\",\"2\",\"3\",\"4\",\"5\",\"6\",\"7\",\"8\",\"9\",\"a\",\"b\",\"c\",\"d\",\"e\",\"f\",\"A\",\"B\",\"C\",\"D\",\"E\",\"F\"]\n",
    "    flag=True\n",
    "    if a[0] ==\"#\":\n",
    "        \n",
    "        for i in range(1,len(a)):\n",
    "            \n",
    "            if a[i] not in hex_val:\n",
    "                flag=False\n",
    "            \n",
    "#             print(a[i],flag)\n",
    "    print(flag)\n",
    "            \n",
    "is_valid_hex_code(\"#CD5C5Z\") "
   ]
  },
  {
   "cell_type": "markdown",
   "id": "47f10e2b",
   "metadata": {},
   "source": [
    "### 3. Given a list of math equations (given as strings), return the percentage of\n",
    "\n",
    "correct answers as a string. Round to the nearest whole number.\n",
    "\n",
    "Examples\n",
    "\n",
    "mark_maths([&quot;2+2=4&quot;, &quot;3+2=5&quot;, &quot;10-3=3&quot;, &quot;5+5=10&quot;]) ➞ &quot;75%&quot;\n",
    "\n",
    "mark_maths([&quot;1-2=-2&quot;]), &quot;0%&quot;\n",
    "\n",
    "mark_maths([&quot;2+3=5&quot;, &quot;4+4=9&quot;, &quot;3-1=2&quot;]) ➞ &quot;67%&quot;\n",
    "\n",
    "   "
   ]
  },
  {
   "cell_type": "code",
   "execution_count": null,
   "id": "e98b57b7",
   "metadata": {},
   "outputs": [],
   "source": []
  },
  {
   "cell_type": "markdown",
   "id": "1fbd2abe",
   "metadata": {},
   "source": [
    "### 4. There are two players, Alice and Bob, each with a 3-by-3 grid. A referee\n",
    "\n",
    "tells Alice to fill out one particular row in the grid (say the second row) by\n",
    "\n",
    "putting either a 1 or a 0 in each box, such that the sum of the numbers in that\n",
    "\n",
    "row is odd. The referee tells Bob to fill out one column in the grid (say the first\n",
    "                                                                      \n",
    "column) by putting either a 1 or a 0 in each box, such that the sum of the\n",
    "\n",
    "numbers in that column is even.\n",
    "\n",
    "Alice and Bob win the game if Alice’s numbers give an odd sum, Bob’s give\n",
    "\n",
    "an even sum, and (most important) they’ve each written down the same\n",
    "\n",
    "number in the one square where their row and column intersect.\n",
    "\n",
    "Examples\n",
    "\n",
    "magic_square_game([2, &quot;100&quot;], [1, &quot;101&quot;]) ➞ False\n",
    "\n",
    "magic_square_game([2, &quot;001&quot;], [1, &quot;101&quot;]) ➞ True\n",
    "\n",
    "magic_square_game([3, &quot;111&quot;], [2, &quot;011&quot;]) ➞ True\n",
    "\n",
    "magic_square_game([1, &quot;010&quot;], [3, &quot;101&quot;]) ➞ False\n",
    "\n",
    "#Two lists, Alice [row, &quot;her choice&quot;], Bob [column, &quot;his choice&quot;]\n"
   ]
  },
  {
   "cell_type": "code",
   "execution_count": null,
   "id": "ca45daae",
   "metadata": {},
   "outputs": [],
   "source": []
  },
  {
   "cell_type": "markdown",
   "id": "59c8d44e",
   "metadata": {},
   "source": [
    "### 5. From point A, an object is moving towards point B at constant velocity va\n",
    "\n",
    "(in km/hr). From point B, another object is moving towards point A at constant\n",
    "\n",
    "velocity vb (in km/hr). Knowing this and the distance between point A and B\n",
    "\n",
    "(in km), write a function that returns how much time passes until both objects\n",
    "\n",
    "meet.\n",
    "\n",
    "Format the output like this:\n",
    "    \n",
    "\n",
    "&quot;2h 23min 34s&quot;\n",
    "\n",
    "Examples\n",
    "\n",
    "lets_meet(100, 10, 30) ➞ &quot;2h 30min 0s&quot;\n",
    "\n",
    "lets_meet(280, 70, 80) ➞ &quot;1h 52min 0s&quot;\n",
    "\n",
    "lets_meet(90, 75, 65) ➞ &quot;0h 38min 34s&quot;"
   ]
  },
  {
   "cell_type": "code",
   "execution_count": 24,
   "id": "c7494519",
   "metadata": {},
   "outputs": [
    {
     "name": "stdout",
     "output_type": "stream",
     "text": [
      "0hr 38min 34s \n"
     ]
    }
   ],
   "source": [
    "def convert1(seconds):\n",
    "    seconds = seconds % (24 * 3600)\n",
    "    hour = seconds // 3600\n",
    "    seconds %= 3600\n",
    "    minutes = seconds // 60\n",
    "    seconds %= 60\n",
    "    return \"%d:%02d:%02d\" % (hour, minutes, seconds)\n",
    "\n",
    "def lets_meet(km, va, vb):\n",
    "    rv=va+vb\n",
    "    t=(km/rv)*3600\n",
    "    q=(convert1(t))\n",
    "    x=q.split(\":\")\n",
    "    print(x[0]+\"hr \"+x[1]+\"min \"+x[2]+\"s \")\n",
    "       \n",
    "       \n",
    "       \n",
    "lets_meet(90, 75, 65)"
   ]
  },
  {
   "cell_type": "code",
   "execution_count": null,
   "id": "e415bebd",
   "metadata": {},
   "outputs": [],
   "source": []
  },
  {
   "cell_type": "code",
   "execution_count": null,
   "id": "282e88aa",
   "metadata": {},
   "outputs": [],
   "source": []
  },
  {
   "cell_type": "code",
   "execution_count": null,
   "id": "1eee74ce",
   "metadata": {},
   "outputs": [],
   "source": []
  },
  {
   "cell_type": "code",
   "execution_count": null,
   "id": "3b6a282a",
   "metadata": {},
   "outputs": [],
   "source": []
  },
  {
   "cell_type": "code",
   "execution_count": null,
   "id": "85a14e7a",
   "metadata": {},
   "outputs": [],
   "source": []
  },
  {
   "cell_type": "code",
   "execution_count": null,
   "id": "852f2092",
   "metadata": {},
   "outputs": [],
   "source": []
  },
  {
   "cell_type": "code",
   "execution_count": null,
   "id": "905d78a8",
   "metadata": {},
   "outputs": [],
   "source": []
  },
  {
   "cell_type": "code",
   "execution_count": null,
   "id": "39ff16f8",
   "metadata": {},
   "outputs": [],
   "source": []
  }
 ],
 "metadata": {
  "kernelspec": {
   "display_name": "Python 3",
   "language": "python",
   "name": "python3"
  },
  "language_info": {
   "codemirror_mode": {
    "name": "ipython",
    "version": 3
   },
   "file_extension": ".py",
   "mimetype": "text/x-python",
   "name": "python",
   "nbconvert_exporter": "python",
   "pygments_lexer": "ipython3",
   "version": "3.8.8"
  }
 },
 "nbformat": 4,
 "nbformat_minor": 5
}
