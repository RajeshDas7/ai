{
 "cells": [
  {
   "cell_type": "markdown",
   "id": "115e567e",
   "metadata": {},
   "source": [
    "### 1. Create a function that takes the width, height and character and returns a\n",
    "\n",
    "picture frame as a 2D list.\n",
    "\n",
    "Examples\n",
    "\n",
    "get_frame(4, 5, &quot;#&quot;) ➞ [\n",
    "          \n",
    "[&quot;####&quot;],\n",
    " \n",
    "[&quot;# #&quot;],\n",
    " \n",
    "[&quot;# #&quot;],\n",
    " \n",
    "[&quot;# #&quot;],\n",
    " \n",
    "[&quot;####&quot;]\n",
    " \n",
    "]\n",
    " Frame is 4 characters wide and 5 characters tall.\n",
    "\n",
    "get_frame(10, 3, &quot;*&quot;) ➞ [\n",
    "    \n",
    "[&quot;**********&quot;],\n",
    "    \n",
    "[&quot;* *&quot;],\n",
    "    \n",
    "[&quot;**********&quot;]\n",
    "    \n",
    "]\n",
    " Frame is 10 characters and wide and 3 characters tall.\n",
    "\n",
    "get_frame(2, 5, &quot;0&quot;) ➞ &quot;invalid&quot;\n",
    " \n",
    " Frame&#39;s width is not more than 2.\n",
    " \n",
    " \n",
    "\n",
    "\n",
    "\n"
   ]
  },
  {
   "cell_type": "code",
   "execution_count": 12,
   "id": "ffc185dc",
   "metadata": {},
   "outputs": [
    {
     "data": {
      "text/plain": [
       "'Invalid'"
      ]
     },
     "execution_count": 12,
     "metadata": {},
     "output_type": "execute_result"
    }
   ],
   "source": [
    "def get_frame(a,b,c):\n",
    "    if a<3:\n",
    "        return \"Invalid\"\n",
    "    \n",
    "    d=[str(c*a)]\n",
    "    \n",
    "    \n",
    "    for i in range(b):\n",
    "        print(d)\n",
    "    \n",
    "get_frame(2, 5, \"0\") "
   ]
  },
  {
   "cell_type": "markdown",
   "id": "50172aae",
   "metadata": {},
   "source": [
    "### 2. Write three functions:\n",
    "    \n",
    "1. boolean_and\n",
    "\n",
    "2. boolean_or\n",
    "\n",
    "3. boolean_xor\n",
    "\n",
    "These functions should evaluate a list of True and False values, starting from\n",
    "\n",
    "the leftmost element and evaluating pairwise.\n",
    "\n",
    "Examples\n",
    "\n",
    "boolean_and([True, True, False, True]) ➞ False\n",
    "\n",
    " [True, True, False, True] =&gt; [True, False, True] =&gt; [False, True] =&gt; False\n",
    "\n",
    "boolean_or([True, True, False, False]) ➞ True\n",
    "\n",
    " [True, True, False, True] =&gt; [True, False, False] =&gt; [True, False] =&gt; True\n",
    "\n",
    "boolean_xor([True, True, False, False]) ➞ False\n",
    "\n",
    " [True, True, False, False] =&gt; [False, False, False] =&gt; [False, False] =&gt;\n",
    "False\n"
   ]
  },
  {
   "cell_type": "code",
   "execution_count": 20,
   "id": "68560029",
   "metadata": {},
   "outputs": [
    {
     "name": "stdout",
     "output_type": "stream",
     "text": [
      "True\n"
     ]
    }
   ],
   "source": [
    "import functools\n",
    "\n",
    "def boolean_and(a):\n",
    "    res = functools.reduce(lambda x, y: x & y, a)\n",
    "    print(res)\n",
    "    \n",
    "    \n",
    "def boolean_or(a):\n",
    "    res = functools.reduce(lambda x, y: x | y, a)\n",
    "    print(res)\n",
    "    \n",
    "    \n",
    "def boolean_xor(a):\n",
    "    res = functools.reduce(lambda x, y: x ^ y, a)\n",
    "    print(res)\n",
    "    \n",
    "boolean_or([True, True, False, False]) "
   ]
  },
  {
   "cell_type": "markdown",
   "id": "4999e4de",
   "metadata": {},
   "source": [
    "### 3. Create a function that creates a box based on dimension n.\n",
    "Examples\n",
    "\n",
    "make_box(5) ➞ [\n",
    "&quot;#####&quot;,\n",
    "&quot;# #&quot;,\n",
    "&quot;# #&quot;,\n",
    "&quot;# #&quot;,\n",
    "&quot;#####&quot;\n",
    "]\n",
    "\n",
    "make_box(3) ➞ [\n",
    "&quot;###&quot;,\n",
    "&quot;# #&quot;,\n",
    "&quot;###&quot;\n",
    "]\n",
    "\n",
    "make_box(2) ➞ [\n",
    "&quot;##&quot;,\n",
    "&quot;##&quot;\n",
    "]\n",
    "\n",
    "make_box(1) ➞ [\n",
    "&quot;#&quot;\n",
    "]"
   ]
  },
  {
   "cell_type": "code",
   "execution_count": 24,
   "id": "1b6c9653",
   "metadata": {},
   "outputs": [
    {
     "name": "stdout",
     "output_type": "stream",
     "text": [
      "##\n",
      "##\n"
     ]
    }
   ],
   "source": [
    "def make_box(a):\n",
    "    b=a-2\n",
    "    for i in range(a):\n",
    "        if i == 0 or i == a-1:\n",
    "            print(\"#\" * a)\n",
    "        else:\n",
    "            print(\"#\",\" \"*b,\"#\")\n",
    "            \n",
    "make_box(2)"
   ]
  },
  {
   "cell_type": "markdown",
   "id": "f71cd132",
   "metadata": {},
   "source": [
    "### 4. Given a common phrase, return False if any individual word in the phrase\n",
    "\n",
    "contains duplicate letters. Return True otherwise.\n",
    "\n",
    "Examples\n",
    "\n",
    "no_duplicate_letters(&quot;Fortune favours the bold.&quot;) ➞ True\n",
    "\n",
    "no_duplicate_letters(&quot;You can lead a horse to water, but you can&#39;t make him\n",
    "                     \n",
    "drink.&quot;) ➞ True\n",
    "\n",
    "no_duplicate_letters(&quot;Look before you leap.&quot;) ➞ False\n",
    "\n",
    "Duplicate letters in &quot;Look&quot; and &quot;before&quot;.\n",
    "\n",
    "no_duplicate_letters(&quot;An apple a day keeps the doctor away.&quot;) ➞ False\n",
    "\n",
    "Duplicate letters in &quot;apple&quot;, &quot;keeps&quot;, &quot;doctor&quot;, and &quot;away&quot;.\n"
   ]
  },
  {
   "cell_type": "code",
   "execution_count": 30,
   "id": "d149215e",
   "metadata": {},
   "outputs": [
    {
     "name": "stdout",
     "output_type": "stream",
     "text": [
      "True\n"
     ]
    }
   ],
   "source": [
    "def no_duplicate_letters(a):\n",
    "    b=a.split(\" \")\n",
    "    flag=True\n",
    "    for i in b:\n",
    "        for j in i:\n",
    "            if i.count(j) >1:\n",
    "                flag=False\n",
    "        \n",
    "    print(flag)\n",
    "    \n",
    "no_duplicate_letters(\"Fortune favours the bold.\")"
   ]
  },
  {
   "cell_type": "markdown",
   "id": "1d610ec5",
   "metadata": {},
   "source": [
    "### 5. Write a regular expression that will match the states that voted yes to\n",
    "\n",
    "President Trump&#39;s impeachment. You must use RegEx positive lookahead.\n",
    "\n",
    "Example\n",
    "\n",
    "txt = &quot;Texas = no, California = yes, Florida = yes, Michigan = no&quot;\n",
    "\n",
    "pattern = &quot;yourregularexpressionhere&quot;\n",
    "\n",
    "re.findall(pattern, txt) ➞ [&quot;California&quot;, &quot;Florida&quot;]"
   ]
  },
  {
   "cell_type": "code",
   "execution_count": null,
   "id": "2ad7491e",
   "metadata": {},
   "outputs": [],
   "source": []
  },
  {
   "cell_type": "code",
   "execution_count": null,
   "id": "d2d67759",
   "metadata": {},
   "outputs": [],
   "source": []
  }
 ],
 "metadata": {
  "kernelspec": {
   "display_name": "Python 3",
   "language": "python",
   "name": "python3"
  },
  "language_info": {
   "codemirror_mode": {
    "name": "ipython",
    "version": 3
   },
   "file_extension": ".py",
   "mimetype": "text/x-python",
   "name": "python",
   "nbconvert_exporter": "python",
   "pygments_lexer": "ipython3",
   "version": "3.8.8"
  }
 },
 "nbformat": 4,
 "nbformat_minor": 5
}
