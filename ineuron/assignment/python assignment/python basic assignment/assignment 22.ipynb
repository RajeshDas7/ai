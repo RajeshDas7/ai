{
 "cells": [
  {
   "cell_type": "markdown",
   "id": "80dda964",
   "metadata": {},
   "source": [
    "### 1. What is the result of the code, and explain?\n",
    "\n",
    "X = &#39;iNeuron&#39;\n",
    "\n",
    "def func():\n",
    "\n",
    "    print(X)\n",
    "\n",
    "func()"
   ]
  },
  {
   "cell_type": "code",
   "execution_count": null,
   "id": "604ba4c4",
   "metadata": {},
   "outputs": [],
   "source": [
    "X = 'iNeuron'\n",
    "def func():\n",
    "    print(X)\n",
    "func()\n",
    "\n",
    "\n",
    "outout =>>> iNeuron\n",
    "\n",
    "x is global variable.\n",
    "from the function we are accesing the global variable.\n",
    "so it is able to print it."
   ]
  },
  {
   "cell_type": "markdown",
   "id": "0ef0a202",
   "metadata": {},
   "source": [
    "### 2. What is the result of the code, and explain?\n",
    "\n",
    "X = 'iNeuron'\n",
    "\n",
    "def func():\n",
    "\n",
    "    X='NI!'\n",
    "    \n",
    "func()\n",
    "\n",
    "print(X)"
   ]
  },
  {
   "cell_type": "code",
   "execution_count": null,
   "id": "613208ec",
   "metadata": {},
   "outputs": [],
   "source": [
    "X = 'iNeuron'\n",
    "\n",
    "def func():\n",
    "    X='NI!'\n",
    "func()\n",
    "\n",
    "print(X)\n",
    "\n",
    "output =>>> iNeuron\n",
    "at the end we are printing the global variable.\n",
    "but inside the function we are assigning the value 'NI!' to\n",
    "the local variable called X."
   ]
  },
  {
   "cell_type": "markdown",
   "id": "60c7f50b",
   "metadata": {},
   "source": [
    "### 3. What does this code print, and why?\n",
    "\n",
    "X = 'iNeuron'\n",
    "\n",
    "def func():\n",
    "\n",
    "    X='NI!'\n",
    "    \n",
    "    print(X)\n",
    "\n",
    "func()\n",
    "\n",
    "print(X)"
   ]
  },
  {
   "cell_type": "code",
   "execution_count": null,
   "id": "c6152888",
   "metadata": {},
   "outputs": [],
   "source": [
    "X = 'iNeuron'\n",
    "\n",
    "def func():\n",
    "    X='NI!'\n",
    "    print(X)\n",
    "func()\n",
    "\n",
    "print(X)\n",
    "\n",
    "output = >>>>  NI!    iNeuron\n",
    "\n",
    "when we are printing inside the function it is acessing the local variable.\n",
    "but when we are printing at the end it is acessing the global variable"
   ]
  },
  {
   "cell_type": "code",
   "execution_count": null,
   "id": "340d9834",
   "metadata": {},
   "outputs": [],
   "source": [
    "4. What output does this code produce? Why?\n",
    "\n",
    "X = 'iNeuron'\n",
    "\n",
    "def func():\n",
    "    \n",
    "    global X\n",
    "    X='NI!'\n",
    "    \n",
    "func()\n",
    "\n",
    "print(X)"
   ]
  },
  {
   "cell_type": "code",
   "execution_count": null,
   "id": "823ac343",
   "metadata": {},
   "outputs": [],
   "source": [
    "X = 'iNeuron'\n",
    "\n",
    "def func():\n",
    "    \n",
    "    global X\n",
    "    X='NI!'\n",
    "    \n",
    "func()\n",
    "\n",
    "print(X)\n",
    "\n",
    "\n",
    "output = >>>>>  NI!\n",
    "\n",
    "here from inside the function we are acessing the global variable and changing the \n",
    "its value.\n",
    "so at the end when we print X the value is changed and new value is printed."
   ]
  },
  {
   "cell_type": "markdown",
   "id": "692e7524",
   "metadata": {},
   "source": [
    "### 5. What about this code—what’s the output, and why?\n",
    "\n",
    "X = 'iNeuron'\n",
    "\n",
    "def func():\n",
    "    \n",
    "    X='NI!'\n",
    "    \n",
    "def nested():\n",
    "    \n",
    "    print(X)\n",
    "\n",
    "nested()\n",
    "\n",
    "func()\n",
    "\n",
    "X\n"
   ]
  },
  {
   "cell_type": "code",
   "execution_count": null,
   "id": "2baa33cd",
   "metadata": {},
   "outputs": [],
   "source": [
    "X = 'iNeuron'\n",
    "\n",
    "def func():\n",
    "    X='NI!'\n",
    "def nested():\n",
    "    print(X)\n",
    "    \n",
    "nested()\n",
    "\n",
    "func()\n",
    "\n",
    "X\n",
    "\n",
    "output =>>>>  iNeuron  iNeuron\n",
    "\n",
    "when we call nested() method global variable is printed.\n",
    "when we call func() method local variable is initialised.\n",
    "when we call variable X then value of X is the output."
   ]
  },
  {
   "cell_type": "code",
   "execution_count": null,
   "id": "d219e131",
   "metadata": {},
   "outputs": [],
   "source": []
  },
  {
   "cell_type": "markdown",
   "id": "8bbdfdf9",
   "metadata": {},
   "source": [
    "### 6. How about this code: what is its output in Python 3, and explain?\n",
    "    \n",
    "\n",
    "def func():\n",
    "    \n",
    "    X='NI!'\n",
    "    \n",
    "def nested():\n",
    "    \n",
    "    nonlocal X\n",
    "    \n",
    "    X='spam'\n",
    "    \n",
    "nested()\n",
    "\n",
    "print(X)\n",
    "\n",
    "func()"
   ]
  },
  {
   "cell_type": "code",
   "execution_count": null,
   "id": "44552859",
   "metadata": {},
   "outputs": [],
   "source": [
    "\n",
    "def func():\n",
    "    X='NI!'\n",
    "def nested():\n",
    "    nonlocal X\n",
    "    X='spam'\n",
    "nested()\n",
    "\n",
    "print(X)\n",
    "\n",
    "func()\n",
    "\n",
    "\n",
    "output ==>>> no binding for nonlocal 'X' found\n",
    "\n"
   ]
  },
  {
   "cell_type": "code",
   "execution_count": null,
   "id": "af5331f2",
   "metadata": {},
   "outputs": [],
   "source": []
  },
  {
   "cell_type": "code",
   "execution_count": null,
   "id": "81fecac9",
   "metadata": {},
   "outputs": [],
   "source": []
  },
  {
   "cell_type": "code",
   "execution_count": null,
   "id": "9aec0a3c",
   "metadata": {},
   "outputs": [],
   "source": []
  },
  {
   "cell_type": "code",
   "execution_count": null,
   "id": "f75edccf",
   "metadata": {},
   "outputs": [],
   "source": []
  }
 ],
 "metadata": {
  "kernelspec": {
   "display_name": "Python 3",
   "language": "python",
   "name": "python3"
  },
  "language_info": {
   "codemirror_mode": {
    "name": "ipython",
    "version": 3
   },
   "file_extension": ".py",
   "mimetype": "text/x-python",
   "name": "python",
   "nbconvert_exporter": "python",
   "pygments_lexer": "ipython3",
   "version": "3.8.8"
  }
 },
 "nbformat": 4,
 "nbformat_minor": 5
}
