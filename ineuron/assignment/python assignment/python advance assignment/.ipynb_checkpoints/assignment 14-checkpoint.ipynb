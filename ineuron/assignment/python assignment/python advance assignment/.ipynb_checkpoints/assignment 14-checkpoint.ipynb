{
 "cells": [
  {
   "cell_type": "markdown",
   "id": "8d836050",
   "metadata": {},
   "source": [
    "### Q1. Is an assignment operator like += only for show? Is it possible that it would lead to faster results at the runtime?"
   ]
  },
  {
   "cell_type": "code",
   "execution_count": null,
   "id": "b948d7f3",
   "metadata": {},
   "outputs": [],
   "source": [
    "the execution time difference is not big.\n",
    "but it can save writing time"
   ]
  },
  {
   "cell_type": "markdown",
   "id": "aae2ea5e",
   "metadata": {},
   "source": [
    "### Q2. What is the smallest number of statements you&#39;d have to write in most programming languages to replace the Python expression a, b = a + b, a?"
   ]
  },
  {
   "cell_type": "code",
   "execution_count": null,
   "id": "52e1007b",
   "metadata": {},
   "outputs": [],
   "source": [
    "a=5\n",
    "b=6\n",
    "\n",
    "c=a\n",
    "d=b\n",
    "\n",
    "a=c+d\n",
    "b=c\n",
    "\n",
    "print(a,b)"
   ]
  },
  {
   "cell_type": "markdown",
   "id": "9aa6409c",
   "metadata": {},
   "source": [
    "### Q3. In Python, what is the most effective way to set a list of 100 integers to 0?\n"
   ]
  },
  {
   "cell_type": "code",
   "execution_count": null,
   "id": "96266d1f",
   "metadata": {},
   "outputs": [],
   "source": [
    "list1=[1,2,.....]\n",
    "for i in range(len(list1)):\n",
    "    list1[i]=0"
   ]
  },
  {
   "cell_type": "markdown",
   "id": "4163ca83",
   "metadata": {},
   "source": [
    "### Q4. What is the most effective way to initialise a list of 99 integers that repeats the sequence 1, 2, 3? S If necessary, show step-by-step instructions on how to accomplish this."
   ]
  },
  {
   "cell_type": "code",
   "execution_count": null,
   "id": "9a579455",
   "metadata": {},
   "outputs": [],
   "source": [
    "a=[]\n",
    "while True:\n",
    "    a.append(1)\n",
    "    a.append(2)\n",
    "    a.append(3)\n",
    "    if len(a)>98:\n",
    "        break\n",
    "\n",
    "print(a)\n",
    "print(len(a))"
   ]
  },
  {
   "cell_type": "markdown",
   "id": "e2347b1b",
   "metadata": {},
   "source": [
    "### Q5. If you&#39;re using IDLE to run a Python application, explain how to print a multidimensional list as efficiently?"
   ]
  },
  {
   "cell_type": "code",
   "execution_count": null,
   "id": "f35c4d62",
   "metadata": {},
   "outputs": [],
   "source": [
    "using for loop we can access each element and the print it"
   ]
  },
  {
   "cell_type": "markdown",
   "id": "f5551a10",
   "metadata": {},
   "source": [
    "### Q6. Is it possible to use list comprehension with a string? If so, how can you go about doing it?\n"
   ]
  },
  {
   "cell_type": "code",
   "execution_count": null,
   "id": "53a85135",
   "metadata": {},
   "outputs": [],
   "source": [
    "List = [character for character in 'Geeks 4 Geeks!']\n",
    " \n",
    "\n",
    "print(List)"
   ]
  },
  {
   "cell_type": "markdown",
   "id": "c9a232f0",
   "metadata": {},
   "source": [
    "### Q7. From the command line, how do you get support with a user-written Python programme? Is this possible from inside IDLE?"
   ]
  },
  {
   "cell_type": "code",
   "execution_count": null,
   "id": "fc4bd132",
   "metadata": {},
   "outputs": [],
   "source": []
  },
  {
   "cell_type": "markdown",
   "id": "5093be6f",
   "metadata": {},
   "source": [
    "### Q8. Functions are said to be “first-class objects” in Python but not in most other languages, such as C++ or Java. What can you do in Python with a function (callable object) that you can&#39;t do in C or C++?"
   ]
  },
  {
   "cell_type": "code",
   "execution_count": null,
   "id": "9c2ba492",
   "metadata": {},
   "outputs": [],
   "source": [
    "In Python, a function may accept an argument of any type,\n",
    "and return a value of any type, \n",
    "without any kind of declaration beforehand."
   ]
  },
  {
   "cell_type": "markdown",
   "id": "9df6f95c",
   "metadata": {},
   "source": [
    "### Q9. How do you distinguish between a wrapper, a wrapped feature, and a decorator?\n"
   ]
  },
  {
   "cell_type": "code",
   "execution_count": null,
   "id": "aecdebc1",
   "metadata": {},
   "outputs": [],
   "source": [
    "all are same"
   ]
  },
  {
   "cell_type": "markdown",
   "id": "dd93bd8a",
   "metadata": {},
   "source": [
    "### Q10. If a function is a generator function, what does it return?\n"
   ]
  },
  {
   "cell_type": "code",
   "execution_count": null,
   "id": "c54bb5e9",
   "metadata": {},
   "outputs": [],
   "source": [
    "A generator is a special type of function which does not return a single value,\n",
    "instead, it returns an iterator object with a sequence of values.\n",
    "In a generator function, a yield statement is used rather than a return statement."
   ]
  },
  {
   "cell_type": "markdown",
   "id": "f837b022",
   "metadata": {},
   "source": [
    "### Q11. What is the one improvement that must be made to a function in order for it to become a generator function in the Python language?"
   ]
  },
  {
   "cell_type": "code",
   "execution_count": null,
   "id": "095a673b",
   "metadata": {},
   "outputs": [],
   "source": [
    "yield statement"
   ]
  },
  {
   "cell_type": "markdown",
   "id": "5c15f861",
   "metadata": {},
   "source": [
    "### Q12. Identify at least one benefit of generators."
   ]
  },
  {
   "cell_type": "code",
   "execution_count": null,
   "id": "dbe7d9b7",
   "metadata": {},
   "outputs": [],
   "source": [
    "it eliminate memory not sufficient problem"
   ]
  },
  {
   "cell_type": "code",
   "execution_count": null,
   "id": "b0f9656e",
   "metadata": {},
   "outputs": [],
   "source": []
  },
  {
   "cell_type": "code",
   "execution_count": null,
   "id": "5713b361",
   "metadata": {},
   "outputs": [],
   "source": []
  },
  {
   "cell_type": "code",
   "execution_count": null,
   "id": "06d296b8",
   "metadata": {},
   "outputs": [],
   "source": []
  }
 ],
 "metadata": {
  "kernelspec": {
   "display_name": "Python 3",
   "language": "python",
   "name": "python3"
  },
  "language_info": {
   "codemirror_mode": {
    "name": "ipython",
    "version": 3
   },
   "file_extension": ".py",
   "mimetype": "text/x-python",
   "name": "python",
   "nbconvert_exporter": "python",
   "pygments_lexer": "ipython3",
   "version": "3.8.8"
  }
 },
 "nbformat": 4,
 "nbformat_minor": 5
}
