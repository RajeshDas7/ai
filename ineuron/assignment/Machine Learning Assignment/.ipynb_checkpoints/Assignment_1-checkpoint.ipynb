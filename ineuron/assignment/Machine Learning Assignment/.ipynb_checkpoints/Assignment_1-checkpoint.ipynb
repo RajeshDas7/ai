{
 "cells": [
  {
   "cell_type": "markdown",
   "id": "78d796df",
   "metadata": {},
   "source": [
    "### 1. What does one mean by the term &quot;machine learning&quot;?"
   ]
  },
  {
   "cell_type": "code",
   "execution_count": null,
   "id": "e8e1a74a",
   "metadata": {},
   "outputs": [],
   "source": [
    "Machine Learning is about building systems that can learn from\n",
    "data. Learning means getting better at some task, given some\n",
    "performance measure.\n"
   ]
  },
  {
   "cell_type": "markdown",
   "id": "fcb350ea",
   "metadata": {},
   "source": [
    "### 2.Can you think of 4 distinct types of issues where it shines?\n"
   ]
  },
  {
   "cell_type": "code",
   "execution_count": null,
   "id": "8cecb56f",
   "metadata": {},
   "outputs": [],
   "source": [
    "Machine Learning is great for complex problems for which we\n",
    "have no algorithmic solution, to replace long lists of hand-tuned\n",
    "rules, to build systems that adapt to fluctuating environments, and\n",
    "finally to help humans learn (e.g., data mining).\n"
   ]
  },
  {
   "cell_type": "markdown",
   "id": "04f9680b",
   "metadata": {},
   "source": [
    "### 3.What is a labeled training set, and how does it work?\n"
   ]
  },
  {
   "cell_type": "code",
   "execution_count": null,
   "id": "6c8dad02",
   "metadata": {},
   "outputs": [],
   "source": [
    "A labeled training set is a training set that contains the desired\n",
    "solution (a.k.a. a label) for each instance.\n"
   ]
  },
  {
   "cell_type": "markdown",
   "id": "b61b9f6f",
   "metadata": {},
   "source": [
    "### 4.What are the two most important tasks that are supervised?\n"
   ]
  },
  {
   "cell_type": "code",
   "execution_count": null,
   "id": "08deeced",
   "metadata": {},
   "outputs": [],
   "source": [
    " The two most common supervised tasks are regression and\n",
    "classification.\n"
   ]
  },
  {
   "cell_type": "markdown",
   "id": "ec43b461",
   "metadata": {},
   "source": [
    "### 5.Can you think of four examples of unsupervised tasks?\n"
   ]
  },
  {
   "cell_type": "code",
   "execution_count": null,
   "id": "a8788434",
   "metadata": {},
   "outputs": [],
   "source": [
    " Common unsupervised tasks include clustering, visualization,\n",
    "dimensionality reduction, and association rule learning.\n"
   ]
  },
  {
   "cell_type": "markdown",
   "id": "e5b239ef",
   "metadata": {},
   "source": [
    "### 6.State the machine learning model that would be best to make a robot walk through various\n",
    "unfamiliar terrains?"
   ]
  },
  {
   "cell_type": "code",
   "execution_count": null,
   "id": "35bde504",
   "metadata": {},
   "outputs": [],
   "source": [
    ". Reinforcement Learning is likely to perform best if we want a\n",
    "robot to learn to walk in various unknown terrains, since this is\n",
    "typically the type of problem that Reinforcement Learning\n",
    "tackles. It might be possible to express the problem as a\n",
    "supervised or semisupervised learning problem, but it would be\n",
    "less natural."
   ]
  },
  {
   "cell_type": "markdown",
   "id": "e7cee732",
   "metadata": {},
   "source": [
    "### 7.Which algorithm will you use to divide your customers into different groups?\n"
   ]
  },
  {
   "cell_type": "code",
   "execution_count": null,
   "id": "d7fbb1f1",
   "metadata": {},
   "outputs": [],
   "source": [
    ". If you don’t know how to define the groups, then you can use a\n",
    "clustering algorithm (unsupervised learning) to segment your\n",
    "customers into clusters of similar customers. However, if you\n",
    "know what groups you would like to have, then you can feed\n",
    "many examples of each group to a classification algorithm\n",
    "(supervised learning), and it will classify all your customers into\n",
    "these groups.\n"
   ]
  },
  {
   "cell_type": "markdown",
   "id": "3dc08ea9",
   "metadata": {},
   "source": [
    "### 8.Will you consider the problem of spam detection to be a supervised or unsupervised learning\n",
    "problem?"
   ]
  },
  {
   "cell_type": "code",
   "execution_count": null,
   "id": "1e42f044",
   "metadata": {},
   "outputs": [],
   "source": [
    ". Spam detection is a typical supervised learning problem: the\n",
    "algorithm is fed many emails along with their labels (spam or not\n",
    "spam)."
   ]
  },
  {
   "cell_type": "markdown",
   "id": "f9529460",
   "metadata": {},
   "source": [
    "### 9.What is the concept of an online learning system?\n"
   ]
  },
  {
   "cell_type": "code",
   "execution_count": null,
   "id": "52086bd9",
   "metadata": {},
   "outputs": [],
   "source": [
    "An online learning system can learn incrementally, as opposed to\n",
    "a batch learning system. This makes it capable of adapting rapidly\n",
    "to both changing data and autonomous systems, and of training on\n",
    "very large quantities of data.\n"
   ]
  },
  {
   "cell_type": "markdown",
   "id": "bc4227e7",
   "metadata": {},
   "source": [
    "### 10.What is out-of-core learning, and how does it differ from core learning?\n"
   ]
  },
  {
   "cell_type": "code",
   "execution_count": null,
   "id": "b637d4fa",
   "metadata": {},
   "outputs": [],
   "source": [
    "Out-of-core algorithms can handle vast quantities of data that\n",
    "cannot fit in a computer’s main memory. An out-of-core learning\n",
    "algorithm chops the data into mini-batches and uses online\n",
    "learning techniques to learn from these mini-batches.\n"
   ]
  },
  {
   "cell_type": "markdown",
   "id": "14387c1f",
   "metadata": {},
   "source": [
    "### 11.What kind of learning algorithm makes predictions using a similarity measure?\n"
   ]
  },
  {
   "cell_type": "code",
   "execution_count": null,
   "id": "0fa3b615",
   "metadata": {},
   "outputs": [],
   "source": [
    " An instance-based learning system learns the training data by\n",
    "heart; then, when given a new instance, it uses a similarity\n",
    "measure to find the most similar learned instances and uses them\n",
    "to make predictions.\n"
   ]
  },
  {
   "cell_type": "markdown",
   "id": "7cc56e20",
   "metadata": {},
   "source": [
    "### 12.What&#39;s the difference between a model parameter and a hyperparameter in a learning\n",
    "algorithm?"
   ]
  },
  {
   "cell_type": "code",
   "execution_count": null,
   "id": "e6c4419f",
   "metadata": {},
   "outputs": [],
   "source": [
    ". A model has one or more model parameters that determine what it\n",
    "will predict given a new instance (e.g., the slope of a linear\n",
    "model). A learning algorithm tries to find optimal values for these\n",
    "parameters such that the model generalizes well to new instances.\n",
    "A hyperparameter is a parameter of the learning algorithm itself,\n",
    "not of the model (e.g., the amount of regularization to apply).\n"
   ]
  },
  {
   "cell_type": "markdown",
   "id": "a8f64283",
   "metadata": {},
   "source": [
    "### 13.What are the criteria that model-based learning algorithms look for? What is the most popular\n",
    "method they use to achieve success? What method do they use to make predictions?"
   ]
  },
  {
   "cell_type": "code",
   "execution_count": null,
   "id": "cb992e41",
   "metadata": {},
   "outputs": [],
   "source": [
    "Model-based learning algorithms search for an optimal value for\n",
    "the model parameters such that the model will generalize well to\n",
    "new instances. We usually train such systems by minimizing a\n",
    "cost function that measures how bad the system is at making\n",
    "predictions on the training data, plus a penalty for model\n",
    "complexity if the model is regularized. To make predictions, we\n",
    "feed the new instance’s features into the model’s prediction\n",
    "function, using the parameter values found by the learning\n",
    "algorithm.\n"
   ]
  },
  {
   "cell_type": "markdown",
   "id": "8a596a4c",
   "metadata": {},
   "source": [
    "### 14.Can you name four of the most important Machine Learning challenges?\n"
   ]
  },
  {
   "cell_type": "code",
   "execution_count": null,
   "id": "db76760d",
   "metadata": {},
   "outputs": [],
   "source": [
    "Some of the main challenges in Machine Learning are the lack of\n",
    "data, poor data quality, nonrepresentative data, uninformative\n",
    "features, excessively simple models that underfit the training\n",
    "data, and excessively complex models that overfit the data."
   ]
  },
  {
   "cell_type": "markdown",
   "id": "5745bda1",
   "metadata": {},
   "source": [
    "### 15.What happens if the model performs well on the training data but fails to generalize the results\n",
    "to new situations? Can you think of three different options?"
   ]
  },
  {
   "cell_type": "code",
   "execution_count": null,
   "id": "893cd4aa",
   "metadata": {},
   "outputs": [],
   "source": [
    " If a model performs great on the training data but generalizes\n",
    "poorly to new instances, the model is likely overfitting the\n",
    "training data (or we got extremely lucky on the training data).\n",
    "Possible solutions to overfitting are getting more data,\n",
    "simplifying the model (selecting a simpler algorithm, reducing\n",
    "the number of parameters or features used, or regularizing the\n",
    "model), or reducing the noise in the training data.\n"
   ]
  },
  {
   "cell_type": "markdown",
   "id": "3e295324",
   "metadata": {},
   "source": [
    "### 16.What exactly is a test set, and why would you need one?\n"
   ]
  },
  {
   "cell_type": "code",
   "execution_count": null,
   "id": "c5e449be",
   "metadata": {},
   "outputs": [],
   "source": [
    "A test set is used to estimate the generalization error that a model\n",
    "will make on new instances, before the model is launched in\n",
    "production.\n"
   ]
  },
  {
   "cell_type": "markdown",
   "id": "278c7062",
   "metadata": {},
   "source": [
    "### 17.What is a validation set&#39;s purpose?\n"
   ]
  },
  {
   "cell_type": "code",
   "execution_count": null,
   "id": "85d6ad5d",
   "metadata": {},
   "outputs": [],
   "source": [
    "A validation set is used to compare models. It makes it possible to\n",
    "select the best model and tune the hyperparameters.\n"
   ]
  },
  {
   "cell_type": "markdown",
   "id": "6c6c2230",
   "metadata": {},
   "source": [
    "### 18.What precisely is the train-dev kit, when will you need it, how do you put it to use?\n"
   ]
  },
  {
   "cell_type": "code",
   "execution_count": null,
   "id": "5d5e9b00",
   "metadata": {},
   "outputs": [],
   "source": [
    " The train-dev set is used when there is a risk of mismatch\n",
    "between the training data and the data used in the validation and\n",
    "test datasets (which should always be as close as possible to the\n",
    "data used once the model is in production). The train-dev set is a\n",
    "part of the training set that’s held out (the model is not trained on\n",
    "it). The model is trained on the rest of the training set, and\n",
    "evaluated on both the train-dev set and the validation set. If the\n",
    "model performs well on the training set but not on the train-dev\n",
    "set, then the model is likely overfitting the training set. If it\n",
    "performs well on both the training set and the train-dev set, but\n",
    "not on the validation set, then there is probably a significant data\n",
    "mismatch between the training data and the validation + test data,\n",
    "and you should try to improve the training data to make it look\n",
    "more like the validation + test data.\n"
   ]
  },
  {
   "cell_type": "markdown",
   "id": "0e72dd5b",
   "metadata": {},
   "source": [
    "### 19.What could go wrong if you use the test set to tune hyperparameters?"
   ]
  },
  {
   "cell_type": "code",
   "execution_count": null,
   "id": "58a15438",
   "metadata": {},
   "outputs": [],
   "source": [
    "If you tune hyperparameters using the test set, you risk overfitting\n",
    "the test set, and the generalization error you measure will be\n",
    "optimistic (you may launch a model that performs worse than you\n",
    "expect)."
   ]
  },
  {
   "cell_type": "code",
   "execution_count": null,
   "id": "9c3d9e5f",
   "metadata": {},
   "outputs": [],
   "source": []
  }
 ],
 "metadata": {
  "kernelspec": {
   "display_name": "Python 3",
   "language": "python",
   "name": "python3"
  },
  "language_info": {
   "codemirror_mode": {
    "name": "ipython",
    "version": 3
   },
   "file_extension": ".py",
   "mimetype": "text/x-python",
   "name": "python",
   "nbconvert_exporter": "python",
   "pygments_lexer": "ipython3",
   "version": "3.8.8"
  }
 },
 "nbformat": 4,
 "nbformat_minor": 5
}
