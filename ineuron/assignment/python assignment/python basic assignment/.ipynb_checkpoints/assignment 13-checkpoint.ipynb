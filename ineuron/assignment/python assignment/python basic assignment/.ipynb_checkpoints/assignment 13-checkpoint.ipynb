{
 "cells": [
  {
   "cell_type": "markdown",
   "id": "7962dbca",
   "metadata": {},
   "source": [
    "### 1. What advantages do Excel spreadsheets have over CSV spreadsheets?"
   ]
  },
  {
   "cell_type": "code",
   "execution_count": null,
   "id": "2b58f3ca",
   "metadata": {},
   "outputs": [],
   "source": [
    "In Excel, \n",
    "spreadsheets can have values of data types other than strings\n",
    "cells can have different fonts, sizes, or color settings\n",
    "cells can have varying widths and heights\n",
    "adjacent cells can be merged\n",
    "and you can embed images and charts"
   ]
  },
  {
   "cell_type": "markdown",
   "id": "7c4015ee",
   "metadata": {},
   "source": [
    "### 2.What do you pass to csv.reader() and csv.writer() to create reader and writer objects?"
   ]
  },
  {
   "cell_type": "code",
   "execution_count": null,
   "id": "a35a8ff1",
   "metadata": {},
   "outputs": [],
   "source": [
    "we pass a File object,\n",
    "obtained from a call to open()."
   ]
  },
  {
   "cell_type": "markdown",
   "id": "d1b701ed",
   "metadata": {},
   "source": [
    "### 3. What modes do File objects for reader and writer objects need to be opened in?"
   ]
  },
  {
   "cell_type": "code",
   "execution_count": null,
   "id": "7473610f",
   "metadata": {},
   "outputs": [],
   "source": [
    "File objects need to be opened in read-binary ('rb') for Reader objects \n",
    "and write-binary ('wb') for Writer objects."
   ]
  },
  {
   "cell_type": "markdown",
   "id": "62ff4d06",
   "metadata": {},
   "source": [
    "### 4. What method takes a list argument and writes it to a CSV file?"
   ]
  },
  {
   "cell_type": "code",
   "execution_count": null,
   "id": "06593120",
   "metadata": {},
   "outputs": [],
   "source": [
    "writerow() "
   ]
  },
  {
   "cell_type": "markdown",
   "id": "866bf727",
   "metadata": {},
   "source": [
    "### 5. What do the keyword arguments delimiter and line terminator do?"
   ]
  },
  {
   "cell_type": "code",
   "execution_count": null,
   "id": "5942d84b",
   "metadata": {},
   "outputs": [],
   "source": [
    "The delimiter argument changes the string used to separate cells in a row.\n",
    "The lineterminator argument changes the string used to separate rows."
   ]
  },
  {
   "cell_type": "markdown",
   "id": "ec1c8d4a",
   "metadata": {},
   "source": [
    "### 6. What function takes a string of JSON data and returns a Python data structure?"
   ]
  },
  {
   "cell_type": "code",
   "execution_count": null,
   "id": "532b13ab",
   "metadata": {},
   "outputs": [],
   "source": [
    "json.loads()"
   ]
  },
  {
   "cell_type": "markdown",
   "id": "515b2266",
   "metadata": {},
   "source": [
    "### 7. What function takes a Python data structure and returns a string of JSON data?"
   ]
  },
  {
   "cell_type": "code",
   "execution_count": null,
   "id": "c1a1e0cc",
   "metadata": {},
   "outputs": [],
   "source": [
    "json.dumps()"
   ]
  },
  {
   "cell_type": "code",
   "execution_count": null,
   "id": "08706f93",
   "metadata": {},
   "outputs": [],
   "source": []
  }
 ],
 "metadata": {
  "kernelspec": {
   "display_name": "Python 3",
   "language": "python",
   "name": "python3"
  },
  "language_info": {
   "codemirror_mode": {
    "name": "ipython",
    "version": 3
   },
   "file_extension": ".py",
   "mimetype": "text/x-python",
   "name": "python",
   "nbconvert_exporter": "python",
   "pygments_lexer": "ipython3",
   "version": "3.8.8"
  }
 },
 "nbformat": 4,
 "nbformat_minor": 5
}
