{
 "cells": [
  {
   "cell_type": "markdown",
   "id": "1f966742",
   "metadata": {},
   "source": [
    "### 1. Is the Python Standard Library included with PyInputPlus?"
   ]
  },
  {
   "cell_type": "code",
   "execution_count": null,
   "id": "2558d4f3",
   "metadata": {},
   "outputs": [],
   "source": [
    "no \n",
    "Python Standard Library is not included with PyInputPlus.\n",
    "but we can include it with pip install"
   ]
  },
  {
   "cell_type": "markdown",
   "id": "16ff54c9",
   "metadata": {},
   "source": [
    "### 2. Why is PyInputPlus commonly imported with import pyinputplus as pypi?"
   ]
  },
  {
   "cell_type": "code",
   "execution_count": null,
   "id": "0a1a27ea",
   "metadata": {},
   "outputs": [],
   "source": [
    "PyInputPlus commonly imported with import pyinputplus as pypi\n",
    "so that we can enter a shorter name when calling the module's functions."
   ]
  },
  {
   "cell_type": "markdown",
   "id": "abe3f62e",
   "metadata": {},
   "source": [
    "### 3. How do you distinguish between inputInt() and inputFloat()?"
   ]
  },
  {
   "cell_type": "code",
   "execution_count": null,
   "id": "f0da12f7",
   "metadata": {},
   "outputs": [],
   "source": [
    "inputInt() : Accepts an integer value.\n",
    "inputFloat() : Accepts a floating-point numeric value"
   ]
  },
  {
   "cell_type": "markdown",
   "id": "10979e94",
   "metadata": {},
   "source": [
    "### 4. Using PyInputPlus, how do you ensure that the user enters a whole number between 0 and 99?"
   ]
  },
  {
   "cell_type": "code",
   "execution_count": null,
   "id": "de3c88f2",
   "metadata": {},
   "outputs": [],
   "source": [
    "The min and max parameters can be used to set lower and upper bounds for the input.\n",
    "\n",
    "import pyinputplus as pyip\n",
    "inp = pyip.inputInt(prompt = \"Enter an Integer... \",min = 0, max = 99 )\n",
    "print(inp)"
   ]
  },
  {
   "cell_type": "markdown",
   "id": "3e2002da",
   "metadata": {},
   "source": [
    "### 5. What is transferred to the keyword arguments allowRegexes and blockRegexes?"
   ]
  },
  {
   "cell_type": "code",
   "execution_count": null,
   "id": "03b45b7a",
   "metadata": {},
   "outputs": [],
   "source": [
    " The allowRegexes and blockRegexes keyword arguments take a list of regular expression strings\n",
    "to determine what the PyInputPlus function will accept or reject as valid input."
   ]
  },
  {
   "cell_type": "markdown",
   "id": "653b8f5f",
   "metadata": {},
   "source": [
    "### 6. If a blank input is entered three times, what does inputStr(limit=3) do?"
   ]
  },
  {
   "cell_type": "code",
   "execution_count": null,
   "id": "f9088174",
   "metadata": {},
   "outputs": [],
   "source": [
    "RetryLimitException exception is raised"
   ]
  },
  {
   "cell_type": "markdown",
   "id": "f22b1dad",
   "metadata": {},
   "source": [
    "### 7. If blank input is entered three times, what does inputStr(limit=3, default='hello') do?"
   ]
  },
  {
   "cell_type": "code",
   "execution_count": null,
   "id": "4785e10d",
   "metadata": {},
   "outputs": [],
   "source": [
    "the function will return the default value instead of raising an exception."
   ]
  },
  {
   "cell_type": "code",
   "execution_count": null,
   "id": "4693b47a",
   "metadata": {},
   "outputs": [],
   "source": []
  },
  {
   "cell_type": "code",
   "execution_count": null,
   "id": "9bdf53ff",
   "metadata": {},
   "outputs": [],
   "source": []
  }
 ],
 "metadata": {
  "kernelspec": {
   "display_name": "Python 3",
   "language": "python",
   "name": "python3"
  },
  "language_info": {
   "codemirror_mode": {
    "name": "ipython",
    "version": 3
   },
   "file_extension": ".py",
   "mimetype": "text/x-python",
   "name": "python",
   "nbconvert_exporter": "python",
   "pygments_lexer": "ipython3",
   "version": "3.8.8"
  }
 },
 "nbformat": 4,
 "nbformat_minor": 5
}
