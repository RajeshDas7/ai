{
 "cells": [
  {
   "cell_type": "markdown",
   "id": "bb6438cd",
   "metadata": {},
   "source": [
    "### 1. Provide an example of the concepts of Prior, Posterior, and Likelihood."
   ]
  },
  {
   "cell_type": "code",
   "execution_count": null,
   "id": "4b7f8f76",
   "metadata": {},
   "outputs": [],
   "source": [
    "Bayes theorem states the following:\n",
    "\n",
    "Posterior = Prior * Likelihood\n",
    "\n",
    "This can also be stated as P (A | B) = (P (B | A) * P(A)) / P(B) , where P(A|B) is the probability of A given B, also called posterior.\n",
    "\n",
    "Prior: Probability distribution representing knowledge or uncertainty of a data object prior or before observing it\n",
    "\n",
    "Posterior: Conditional probability distribution representing what parameters are likely after observing the data object\n",
    "\n",
    "Likelihood: The probability of falling under a specific category or class."
   ]
  },
  {
   "cell_type": "markdown",
   "id": "52111685",
   "metadata": {},
   "source": [
    "### 2. What role does Bayes&#39; theorem play in the concept learning principle?\n"
   ]
  },
  {
   "cell_type": "code",
   "execution_count": null,
   "id": "8282b122",
   "metadata": {},
   "outputs": [],
   "source": [
    "Bayes Theorem provides a principled way for calculating a conditional probability.It is a deceptively simple calculation,\n",
    "although it can be used to easily calculate the conditional probability of events where intuition often fails."
   ]
  },
  {
   "cell_type": "markdown",
   "id": "8bd63005",
   "metadata": {},
   "source": [
    "### 3. Offer an example of how the Nave Bayes classifier is used in real life.\n"
   ]
  },
  {
   "cell_type": "code",
   "execution_count": null,
   "id": "cd558652",
   "metadata": {},
   "outputs": [],
   "source": [
    "As this algorithm is fast and efficient, you can use it to make real-time predictions.\n",
    "\n",
    "This algorithm is popular for multi-class predictions. You can find the probability of\n",
    "multiple target classes easily by using this algorithm.\n",
    "\n",
    "Email services (like Gmail) use this algorithm to figure out whether an email is a spam or not.\n",
    "This algorithm is excellent for spam filtering.\n",
    "\n",
    "Its assumption of feature independence, and its effectiveness in solving multi-class problems,\n",
    "makes it perfect for performing Sentiment Analysis. Sentiment Analysis refers to \n",
    "the identification of positive or negative sentiments of a target group (customers, audience, etc.)\n",
    "\n",
    "Collaborative Filtering and the Naive Bayes algorithm work together to build recommendation systems.\n",
    "These systems use data mining and machine learning to predict if the user would like a particular resource or not. "
   ]
  },
  {
   "cell_type": "markdown",
   "id": "41339924",
   "metadata": {},
   "source": [
    "### 4. Can the Nave Bayes classifier be used on continuous numeric data? If so, how can you go about\n",
    "doing it?"
   ]
  },
  {
   "cell_type": "code",
   "execution_count": null,
   "id": "699fa6c6",
   "metadata": {},
   "outputs": [],
   "source": []
  },
  {
   "cell_type": "markdown",
   "id": "63ea96b7",
   "metadata": {},
   "source": [
    "### 5. What are Bayesian Belief Networks, and how do they work? What are their applications? Are they\n",
    "capable of resolving a wide range of issues?"
   ]
  },
  {
   "cell_type": "code",
   "execution_count": null,
   "id": "975d1273",
   "metadata": {},
   "outputs": [],
   "source": [
    "Bayesian Belief Network is a graphical representation of different probabilistic relationships among \n",
    "random variables in a particular set. It is a classifier with no dependency on attributes i.e it is condition independent.\n",
    "Due to its feature of joint probability, the probability in Bayesian Belief Network is derived,\n",
    "based on a condition — P(attribute/parent) i.e probability of an attribute, true over parent attribute.\n",
    "\n"
   ]
  },
  {
   "cell_type": "markdown",
   "id": "d26698c6",
   "metadata": {},
   "source": [
    "### 6. Passengers are checked in an airport screening system to see if there is an intruder. Let I be the\n",
    "random variable that indicates whether someone is an intruder I = 1) or not I = 0), and A be the\n",
    "variable that indicates alarm I = 0). If an intruder is detected with probability P(A = 1|I = 1) = 0.98\n",
    "and a non-intruder is detected with probability P(A = 1|I = 0) = 0.001, an alarm will be triggered,\n",
    "implying the error factor. The likelihood of an intruder in the passenger population is P(I = 1) =\n",
    "0.00001. What are the chances that an alarm would be triggered when an individual is actually an\n",
    "intruder?"
   ]
  },
  {
   "cell_type": "code",
   "execution_count": null,
   "id": "315d58d7",
   "metadata": {},
   "outputs": [],
   "source": []
  },
  {
   "cell_type": "markdown",
   "id": "d8016262",
   "metadata": {},
   "source": [
    "### 7. An antibiotic resistance test (random variable T) has 1% false positives (i.e., 1% of those who are\n",
    "not immune to an antibiotic display a positive result in the test) and 5% false negatives (i.e., 1% of\n",
    "those who are not resistant to an antibiotic show a positive result in the test) (i.e. 5 percent of those\n",
    "actually resistant to an antibiotic test negative). Assume that 2% of those who were screened were\n",
    "antibiotic-resistant. Calculate the likelihood that a person who tests positive is actually immune\n",
    "(random variable D)."
   ]
  },
  {
   "cell_type": "code",
   "execution_count": null,
   "id": "dee967c0",
   "metadata": {},
   "outputs": [],
   "source": []
  },
  {
   "cell_type": "markdown",
   "id": "68294201",
   "metadata": {},
   "source": [
    "### 8. In order to prepare for the test, a student knows that there will be one question in the exam that\n",
    "is either form A, B, or C. The chances of getting an A, B, or C on the exam are 30 percent, 20%, and\n",
    "50 percent, respectively. During the planning, the student solved 9 of 10 type A problems, 2 of 10\n",
    "type B problems, and 6 of 10 type C problems.\n",
    "\n",
    "1. What is the likelihood that the student can solve the exam problem?\n",
    "\n",
    "2. Given the student&#39;s solution, what is the likelihood that the problem was of form A?"
   ]
  },
  {
   "cell_type": "code",
   "execution_count": null,
   "id": "63c21739",
   "metadata": {},
   "outputs": [],
   "source": []
  },
  {
   "cell_type": "markdown",
   "id": "31757b11",
   "metadata": {},
   "source": [
    "### 9. A bank installs a CCTV system to track and photograph incoming customers. Despite the constant\n",
    "influx of customers, we divide the timeline into 5 minute bins. There may be a customer coming into\n",
    "the bank with a 5% chance in each 5-minute time period, or there may be no customer (again, for\n",
    "simplicity, we assume that either there is 1 customer or none, not the case of multiple customers). If\n",
    "\n",
    "there is a client, the CCTV will detect them with a 99 percent probability. If there is no customer, the\n",
    "camera can take a false photograph with a 10% chance of detecting movement from other objects.\n",
    "\n",
    "1. How many customers come into the bank on a daily basis (10 hours)?\n",
    "\n",
    "2. On a daily basis, how many fake photographs (photographs taken when there is no\n",
    "customer) and how many missed photographs (photographs taken when there is a customer) are\n",
    "there?\n",
    "\n",
    "3. Explain likelihood that there is a customer if there is a photograph?"
   ]
  },
  {
   "cell_type": "code",
   "execution_count": null,
   "id": "e1e428d8",
   "metadata": {},
   "outputs": [],
   "source": []
  },
  {
   "cell_type": "markdown",
   "id": "0e948c0c",
   "metadata": {},
   "source": [
    "### 10. Create the conditional probability table associated with the node Won Toss in the Bayesian Belief\n",
    "network to represent the conditional independence assumptions of the Nave Bayes classifier for the\n",
    "match winning prediction problem in Section 6.4.4."
   ]
  },
  {
   "cell_type": "code",
   "execution_count": null,
   "id": "bc671d68",
   "metadata": {},
   "outputs": [],
   "source": []
  },
  {
   "cell_type": "code",
   "execution_count": null,
   "id": "e011a4f8",
   "metadata": {},
   "outputs": [],
   "source": []
  },
  {
   "cell_type": "code",
   "execution_count": null,
   "id": "76b974e1",
   "metadata": {},
   "outputs": [],
   "source": []
  },
  {
   "cell_type": "code",
   "execution_count": null,
   "id": "c37ed0f5",
   "metadata": {},
   "outputs": [],
   "source": []
  },
  {
   "cell_type": "code",
   "execution_count": null,
   "id": "13580ab1",
   "metadata": {},
   "outputs": [],
   "source": []
  },
  {
   "cell_type": "code",
   "execution_count": null,
   "id": "00d25229",
   "metadata": {},
   "outputs": [],
   "source": []
  },
  {
   "cell_type": "code",
   "execution_count": null,
   "id": "e909697a",
   "metadata": {},
   "outputs": [],
   "source": []
  },
  {
   "cell_type": "code",
   "execution_count": null,
   "id": "e4bf739c",
   "metadata": {},
   "outputs": [],
   "source": []
  }
 ],
 "metadata": {
  "kernelspec": {
   "display_name": "Python 3",
   "language": "python",
   "name": "python3"
  },
  "language_info": {
   "codemirror_mode": {
    "name": "ipython",
    "version": 3
   },
   "file_extension": ".py",
   "mimetype": "text/x-python",
   "name": "python",
   "nbconvert_exporter": "python",
   "pygments_lexer": "ipython3",
   "version": "3.8.8"
  }
 },
 "nbformat": 4,
 "nbformat_minor": 5
}
