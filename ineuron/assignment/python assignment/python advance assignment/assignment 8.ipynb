{
 "cells": [
  {
   "cell_type": "markdown",
   "id": "645faaf0",
   "metadata": {},
   "source": [
    "### Q1. What are the two latest user-defined exception constraints in Python 3.X?"
   ]
  },
  {
   "cell_type": "code",
   "execution_count": null,
   "id": "e23b96fa",
   "metadata": {},
   "outputs": [],
   "source": [
    "To create a custom Exception we must create a new class.\n",
    "This exception class has to be derived, \n",
    "directly or indirectly, from the built-in Exception class."
   ]
  },
  {
   "cell_type": "markdown",
   "id": "e5a2d1ea",
   "metadata": {},
   "source": [
    "### Q2. How are class-based exceptions that have been raised matched to handlers?"
   ]
  },
  {
   "cell_type": "code",
   "execution_count": null,
   "id": "d7c8512f",
   "metadata": {},
   "outputs": [],
   "source": [
    "The exceptions that can be handled are class-based \n",
    "and can be handled between TRY and Except."
   ]
  },
  {
   "cell_type": "markdown",
   "id": "2d702857",
   "metadata": {},
   "source": [
    "### Q3. Describe two methods for attaching context information to exception artefacts."
   ]
  },
  {
   "cell_type": "code",
   "execution_count": null,
   "id": "4ef09361",
   "metadata": {},
   "outputs": [],
   "source": [
    "to print information when an exception is found\n",
    "we have to print the information in the except block"
   ]
  },
  {
   "cell_type": "markdown",
   "id": "f7421b63",
   "metadata": {},
   "source": [
    "### Q4. Describe two methods for specifying the text of an exception object&#39;s error message."
   ]
  },
  {
   "cell_type": "code",
   "execution_count": null,
   "id": "68223ab2",
   "metadata": {},
   "outputs": [],
   "source": [
    "in the except block we can print the custom error message"
   ]
  },
  {
   "cell_type": "markdown",
   "id": "607db4f6",
   "metadata": {},
   "source": [
    "### Q5. Why do you no longer use string-based exceptions?"
   ]
  },
  {
   "cell_type": "code",
   "execution_count": null,
   "id": "2a3ee3cd",
   "metadata": {},
   "outputs": [],
   "source": []
  }
 ],
 "metadata": {
  "kernelspec": {
   "display_name": "Python 3",
   "language": "python",
   "name": "python3"
  },
  "language_info": {
   "codemirror_mode": {
    "name": "ipython",
    "version": 3
   },
   "file_extension": ".py",
   "mimetype": "text/x-python",
   "name": "python",
   "nbconvert_exporter": "python",
   "pygments_lexer": "ipython3",
   "version": "3.8.8"
  }
 },
 "nbformat": 4,
 "nbformat_minor": 5
}
