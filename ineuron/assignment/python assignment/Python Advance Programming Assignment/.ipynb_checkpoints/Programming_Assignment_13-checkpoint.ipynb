{
 "cells": [
  {
   "cell_type": "markdown",
   "id": "1aac4848",
   "metadata": {},
   "source": [
    "### 1. Create a function that takes a list and string. The function should remove\n",
    "\n",
    "the letters in the string from the list, and return the list.\n",
    "\n",
    "Examples\n",
    "\n",
    "remove_letters([&quot;s&quot;, &quot;t&quot;, &quot;r&quot;, &quot;i&quot;, &quot;n&quot;, &quot;g&quot;, &quot;w&quot;], &quot;string&quot;) ➞ [&quot;w&quot;]\n",
    "\n",
    "remove_letters([&quot;b&quot;, &quot;b&quot;, &quot;l&quot;, &quot;l&quot;, &quot;g&quot;, &quot;n&quot;, &quot;o&quot;, &quot;a&quot;, &quot;w&quot;], &quot;balloon&quot;) ➞ [&quot;b&quot;, &quot;g&quot;,\n",
    "&quot;w&quot;]\n",
    "\n",
    "remove_letters([&quot;d&quot;, &quot;b&quot;, &quot;t&quot;, &quot;e&quot;, &quot;a&quot;, &quot;i&quot;], &quot;edabit&quot;) ➞ []"
   ]
  },
  {
   "cell_type": "code",
   "execution_count": null,
   "id": "5f3c19c4",
   "metadata": {},
   "outputs": [],
   "source": [
    "def remove_letters(a,b):\n",
    "    c=[]\n",
    "    for i in a:\n",
    "        if i not in b:\n",
    "            c.append(i)\n",
    "    print(c)\n",
    "    \n",
    "remove_letters([\"b\", \"b\", \"l\", \"l\", \"g\", \"n\", \"o\", \"a\", \"w\"], \"balloon\")"
   ]
  },
  {
   "cell_type": "code",
   "execution_count": null,
   "id": "2efb7161",
   "metadata": {},
   "outputs": [],
   "source": [
    "2. A block sequence in three dimensions. We can write a formula for this one:\n",
    "\n",
    "Create a function that takes a number (step) as an argument and returns the\n",
    "amount of blocks in that step.\n",
    "Examples\n",
    "blocks(1) ➞ 5\n",
    "blocks(5) ➞ 39\n",
    "blocks(2) ➞ 12\n"
   ]
  },
  {
   "cell_type": "code",
   "execution_count": null,
   "id": "e03b1d15",
   "metadata": {},
   "outputs": [],
   "source": [
    "def booboo(n):\n",
    "    if n == 1:\n",
    "        return 1 \n",
    "    else:\n",
    "        return n + booboo(n - 1)\n",
    "\n",
    "\n",
    "def blocks(step) :\n",
    "    if step == 0:\n",
    "        return 0 \n",
    "    else: \n",
    "        return booboo(step) + step * 3 + step * 2 - 1\n",
    "\n",
    "\n",
    "blocks(2)"
   ]
  },
  {
   "cell_type": "markdown",
   "id": "673fd27c",
   "metadata": {},
   "source": [
    "### 3. Create a function that subtracts one positive integer from another, without\n",
    "\n",
    "using any arithmetic operators such as -, %, /, +, etc.\n",
    "\n",
    "Examples\n",
    "\n",
    "my_sub(5, 9) ➞ 4\n",
    "\n",
    "my_sub(10, 30) ➞ 20\n",
    "\n",
    "my_sub(0, 0) ➞ 0\n"
   ]
  },
  {
   "cell_type": "code",
   "execution_count": 8,
   "id": "78e5f229",
   "metadata": {},
   "outputs": [
    {
     "name": "stdout",
     "output_type": "stream",
     "text": [
      "20\n"
     ]
    }
   ],
   "source": [
    "\n",
    "def my_sub(a, b):\n",
    "    x=max(a,b)\n",
    "    y=min(a,b)\n",
    "    if (y == 0):\n",
    "        return x\n",
    "    return my_sub(x ^ y, (~x & y) << 1)\n",
    "print(my_sub(10,30) )"
   ]
  },
  {
   "cell_type": "markdown",
   "id": "51c9555d",
   "metadata": {},
   "source": [
    "### 4. Create a function that takes a string containing money in dollars and\n",
    "\n",
    "pounds sterling (seperated by comma) and returns the sum of dollar bills only,\n",
    "\n",
    "as an integer.\n",
    "\n",
    "For the input string:\n",
    "    \n",
    "- Each amount is prefixed by the currency symbol: $ for dollars and £ for\n",
    "    \n",
    "pounds.\n",
    "\n",
    "- Thousands are represented by the suffix k.\n",
    "\n",
    "i.e. $4k = $4,000 and £40k = £40,000\n",
    "\n",
    "Examples\n",
    "\n",
    "add_bill(&quot;d20,p40,p60,d50&quot;) ➞ 20 + 50 = 70\n",
    "\n",
    "add_bill(&quot;p30,d20,p60,d150,p360&quot;) ➞ 20 + 150 = 170\n",
    "\n",
    "add_bill(&quot;p30,d2k,p60,d200,p360&quot;) ➞ 2 * 1000 + 200 = 2200\n",
    "\n"
   ]
  },
  {
   "cell_type": "code",
   "execution_count": 16,
   "id": "d6453290",
   "metadata": {},
   "outputs": [
    {
     "name": "stdout",
     "output_type": "stream",
     "text": [
      "['20', '50'] ['20', '50'] 70\n"
     ]
    }
   ],
   "source": [
    "def add_bill(a):\n",
    "    b=a.split(\",\")\n",
    "    c=[]\n",
    "    d=[]\n",
    "    e=0\n",
    "    for i in b:\n",
    "        if \"d\" in i:\n",
    "            c.append(i.replace(\"d\",\"\"))\n",
    "    for i in c:\n",
    "        d.append(i.replace(\"k\",\"000\"))\n",
    "        \n",
    "    for i in d:\n",
    "        e+=int(i)\n",
    "    print(c,d,e)\n",
    "    \n",
    "add_bill(\"d20,p40,p60,d50\")"
   ]
  },
  {
   "cell_type": "markdown",
   "id": "bd62c96b",
   "metadata": {},
   "source": [
    "### 5. Create a function that flips a horizontal list into a vertical list, and a vertical\n",
    "\n",
    "list into a horizontal list.\n",
    "\n",
    "In other words, take an 1 x n list (1 row + n columns) and flip it into a n x 1 list\n",
    "\n",
    "(n rows and 1 column), and vice versa.\n",
    "\n",
    "Examples\n",
    "\n",
    "flip_list([1, 2, 3, 4]) ➞ [[1], [2], [3], [4]]\n",
    "\n",
    "#Take a horizontal list and flip it vertical.\n",
    "\n",
    "flip_list([[5], [6], [9]]) ➞ [5, 6, 9]\n",
    "\n",
    "#Take a vertical list and flip it horizontal.\n",
    "\n",
    "flip_list([]) ➞ []"
   ]
  },
  {
   "cell_type": "code",
   "execution_count": 18,
   "id": "5e64a4fb",
   "metadata": {},
   "outputs": [
    {
     "name": "stdout",
     "output_type": "stream",
     "text": [
      "[5, 6, 9]\n"
     ]
    }
   ],
   "source": [
    "def flip_list(lst):\n",
    "    if not lst:\n",
    "        return lst\n",
    "\n",
    "    is_vertical = isinstance(lst[0], list)\n",
    "    \n",
    "    if is_vertical:\n",
    "        return [el[0] for el in lst]\n",
    "    \n",
    "    return [[el] for el in lst]\n",
    "\n",
    "print(flip_list([[5], [6], [9]]))"
   ]
  },
  {
   "cell_type": "code",
   "execution_count": null,
   "id": "c9454570",
   "metadata": {},
   "outputs": [],
   "source": []
  },
  {
   "cell_type": "code",
   "execution_count": null,
   "id": "734247eb",
   "metadata": {},
   "outputs": [],
   "source": []
  },
  {
   "cell_type": "code",
   "execution_count": null,
   "id": "e2303350",
   "metadata": {},
   "outputs": [],
   "source": []
  },
  {
   "cell_type": "code",
   "execution_count": null,
   "id": "ee6d98ad",
   "metadata": {},
   "outputs": [],
   "source": []
  },
  {
   "cell_type": "code",
   "execution_count": null,
   "id": "8902b403",
   "metadata": {},
   "outputs": [],
   "source": []
  }
 ],
 "metadata": {
  "kernelspec": {
   "display_name": "Python 3",
   "language": "python",
   "name": "python3"
  },
  "language_info": {
   "codemirror_mode": {
    "name": "ipython",
    "version": 3
   },
   "file_extension": ".py",
   "mimetype": "text/x-python",
   "name": "python",
   "nbconvert_exporter": "python",
   "pygments_lexer": "ipython3",
   "version": "3.8.8"
  }
 },
 "nbformat": 4,
 "nbformat_minor": 5
}
