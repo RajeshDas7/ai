{
 "cells": [
  {
   "cell_type": "markdown",
   "id": "78214b89",
   "metadata": {},
   "source": [
    "### Q1. What is the difference between __getattr__ and __getattribute__?"
   ]
  },
  {
   "cell_type": "code",
   "execution_count": null,
   "id": "6237f3fc",
   "metadata": {},
   "outputs": [],
   "source": [
    "A key difference between __getattr__ and __getattribute__ is that __getattr__ is only invoked if the attribute wasn not found the usual ways.\n",
    "It is good for implementing a fallback for missing attributes\n",
    "\n",
    "__getattribute__ is invoked before looking at the actual attributes on the object, "
   ]
  },
  {
   "cell_type": "markdown",
   "id": "628ece67",
   "metadata": {},
   "source": [
    "### Q2. What is the difference between properties and descriptors?"
   ]
  },
  {
   "cell_type": "code",
   "execution_count": null,
   "id": "bdea1f5d",
   "metadata": {},
   "outputs": [],
   "source": [
    "Python descriptors are created to manage the attributes of different classes which use the object as reference.\n",
    "In descriptors we used three different methods that are __getters__(), __setters__(), and __delete__(). \n",
    "If any of those methods are defined for an object, it can be termed as a descriptor.\n",
    "\n",
    "Python programming provides us with a built-in @property decorator which makes usage\n",
    "of getter and setters much easier in Object-Oriented Programming."
   ]
  },
  {
   "cell_type": "markdown",
   "id": "0b95d174",
   "metadata": {},
   "source": [
    "### Q3. What are the key differences in functionality between __getattr__ and __getattribute__, as well as properties and descriptors?"
   ]
  },
  {
   "cell_type": "code",
   "execution_count": null,
   "id": "8114498c",
   "metadata": {},
   "outputs": [],
   "source": []
  },
  {
   "cell_type": "code",
   "execution_count": null,
   "id": "547668ed",
   "metadata": {},
   "outputs": [],
   "source": []
  },
  {
   "cell_type": "code",
   "execution_count": null,
   "id": "71468f74",
   "metadata": {},
   "outputs": [],
   "source": []
  }
 ],
 "metadata": {
  "kernelspec": {
   "display_name": "Python 3",
   "language": "python",
   "name": "python3"
  },
  "language_info": {
   "codemirror_mode": {
    "name": "ipython",
    "version": 3
   },
   "file_extension": ".py",
   "mimetype": "text/x-python",
   "name": "python",
   "nbconvert_exporter": "python",
   "pygments_lexer": "ipython3",
   "version": "3.8.8"
  }
 },
 "nbformat": 4,
 "nbformat_minor": 5
}
