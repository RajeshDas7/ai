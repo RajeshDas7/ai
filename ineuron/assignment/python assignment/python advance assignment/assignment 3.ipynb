{
 "cells": [
  {
   "cell_type": "markdown",
   "id": "7244ae4f",
   "metadata": {},
   "source": [
    "### 1. What is the concept of an abstract superclass?"
   ]
  },
  {
   "cell_type": "code",
   "execution_count": null,
   "id": "98386ee1",
   "metadata": {},
   "outputs": [],
   "source": [
    "An abstract class can be considered as a blueprint for other classes\n",
    "It allows you to create a set of methods that must be created within any child classes built from the abstract class\n",
    "A class which contains one or more abstract methods is called an abstract class\n",
    " An abstract method is a method that has a declaration but does not have an implementation."
   ]
  },
  {
   "cell_type": "markdown",
   "id": "c63cf9be",
   "metadata": {},
   "source": [
    "### 2. What happens when a class statement&#39;s top level contains a basic assignment statement?\n"
   ]
  },
  {
   "cell_type": "code",
   "execution_count": null,
   "id": "2856054d",
   "metadata": {},
   "outputs": [],
   "source": [
    "the variable will stay in the local scope of the class."
   ]
  },
  {
   "cell_type": "markdown",
   "id": "37ba1606",
   "metadata": {},
   "source": [
    "### 3. Why does a class need to manually call a superclass&#39;s __init__ method?\n"
   ]
  },
  {
   "cell_type": "code",
   "execution_count": null,
   "id": "2113e3f5",
   "metadata": {},
   "outputs": [],
   "source": [
    "class need to manually call a superclass's init method\n",
    "because if it is automatic it can cause performance issue."
   ]
  },
  {
   "cell_type": "markdown",
   "id": "463ee7bf",
   "metadata": {},
   "source": [
    "### 4. How can you augment, instead of completely replacing, an inherited method?\n"
   ]
  },
  {
   "cell_type": "code",
   "execution_count": null,
   "id": "60f39b6b",
   "metadata": {},
   "outputs": [],
   "source": [
    "name the method same as super class method and add\n",
    "additional functionality to the method to override it."
   ]
  },
  {
   "cell_type": "markdown",
   "id": "c6da39fe",
   "metadata": {},
   "source": [
    "### 5. How is the local scope of a class different from that of a function?"
   ]
  },
  {
   "cell_type": "code",
   "execution_count": null,
   "id": "1e55fe5b",
   "metadata": {},
   "outputs": [],
   "source": [
    "the class local scope is created at execution time \n",
    "but the function scope is created at the call time"
   ]
  }
 ],
 "metadata": {
  "kernelspec": {
   "display_name": "Python 3",
   "language": "python",
   "name": "python3"
  },
  "language_info": {
   "codemirror_mode": {
    "name": "ipython",
    "version": 3
   },
   "file_extension": ".py",
   "mimetype": "text/x-python",
   "name": "python",
   "nbconvert_exporter": "python",
   "pygments_lexer": "ipython3",
   "version": "3.8.8"
  }
 },
 "nbformat": 4,
 "nbformat_minor": 5
}
