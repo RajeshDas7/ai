{
 "cells": [
  {
   "cell_type": "markdown",
   "id": "1e9c2749",
   "metadata": {},
   "source": [
    "### 1. Using a graph to illustrate slope and intercept, define basic linear regression."
   ]
  },
  {
   "cell_type": "code",
   "execution_count": null,
   "id": "481ef01f",
   "metadata": {},
   "outputs": [],
   "source": [
    "The slope indicates the steepness of a line and the intercept indicates the location where it intersects an axis.\n",
    "The slope and the intercept define the linear relationship between two variables, and can be used to estimate an average rate of change.\n",
    "The greater the magnitude of the slope, the steeper the line and the greater the rate of change."
   ]
  },
  {
   "cell_type": "markdown",
   "id": "bb064b6e",
   "metadata": {},
   "source": [
    "### 2. In a graph, explain the terms rise, run, and slope.\n"
   ]
  },
  {
   "cell_type": "code",
   "execution_count": null,
   "id": "3edcb97c",
   "metadata": {},
   "outputs": [],
   "source": [
    "The difference between the y-coordinates of the two points is called the rise. The difference between the\n",
    "x-coordinates of the same two points is called the run. The slope can be calculated by dividing the rise by run."
   ]
  },
  {
   "cell_type": "markdown",
   "id": "2585a552",
   "metadata": {},
   "source": [
    "### 3. Use a graph to demonstrate slope, linear positive slope, and linear negative slope, as well as the\n",
    "different conditions that contribute to the slope."
   ]
  },
  {
   "cell_type": "code",
   "execution_count": null,
   "id": "22bbac5c",
   "metadata": {},
   "outputs": [],
   "source": [
    "Slope shows both steepness and direction. With positive slope the line moves upward when going from left to right.With negative \n",
    "slope the line moves down when going from left to right. If two linear functions have the same slope they are parallel."
   ]
  },
  {
   "cell_type": "markdown",
   "id": "473c4db1",
   "metadata": {},
   "source": [
    "### 4. Use a graph to demonstrate curve linear negative slope and curve linear positive slope.\n"
   ]
  },
  {
   "cell_type": "code",
   "execution_count": null,
   "id": "a5426f48",
   "metadata": {},
   "outputs": [],
   "source": [
    "A negative slope means that two variables are negatively related; that is, when x increases, y decreases,and when x decreases, y increases.\n",
    "Graphically, a negative slope means that as the line on the line graph moves from left to right, the line falls."
   ]
  },
  {
   "cell_type": "markdown",
   "id": "fec1c5d8",
   "metadata": {},
   "source": [
    "### 5. Use a graph to show the maximum and low points of curves.\n"
   ]
  },
  {
   "cell_type": "code",
   "execution_count": null,
   "id": "f3738111",
   "metadata": {},
   "outputs": [],
   "source": [
    "Maximum and minimum points on a graph are found at points where the slope of the curve is zero.\n",
    "A maximum point is the point on the curve with the highest y-coordinate and a slope of zero.\n",
    "A minimum point is the point on the curve with the lowest y-coordinate and a slope of zero."
   ]
  },
  {
   "cell_type": "markdown",
   "id": "e7099837",
   "metadata": {},
   "source": [
    "### 6. Use the formulas for a and b to explain ordinary least squares.\n"
   ]
  },
  {
   "cell_type": "code",
   "execution_count": null,
   "id": "8c165b0d",
   "metadata": {},
   "outputs": [],
   "source": []
  },
  {
   "cell_type": "markdown",
   "id": "b427b896",
   "metadata": {},
   "source": [
    "### 7. Provide a step-by-step explanation of the OLS algorithm.\n"
   ]
  },
  {
   "cell_type": "code",
   "execution_count": null,
   "id": "3e41acdd",
   "metadata": {},
   "outputs": [],
   "source": []
  },
  {
   "cell_type": "markdown",
   "id": "71c741d0",
   "metadata": {},
   "source": [
    "### 8. What is the regression&#39;s standard error? To represent the same, make a graph.\n"
   ]
  },
  {
   "cell_type": "code",
   "execution_count": null,
   "id": "2f99a054",
   "metadata": {},
   "outputs": [],
   "source": [
    "The standard error of the regression (S), also known as the standard error of the estimate,\n",
    "represents the average distance that the observed values fall from the regression line.\n",
    "Conveniently, it tells you how wrong the regression model is on average using the units of the response variable."
   ]
  },
  {
   "cell_type": "markdown",
   "id": "b5799076",
   "metadata": {},
   "source": [
    "### 9. Provide an example of multiple linear regression.\n"
   ]
  },
  {
   "cell_type": "code",
   "execution_count": null,
   "id": "cfcff633",
   "metadata": {},
   "outputs": [],
   "source": [
    "As an example, an analyst may want to know how the movement of the market affects the price of ExxonMobil (XOM). \n",
    "In this case, their linear equation will have the\n",
    "value of the S&P 500 index as the independent variable, or predictor, and the price of XOM as the dependent variable."
   ]
  },
  {
   "cell_type": "markdown",
   "id": "1de379c1",
   "metadata": {},
   "source": [
    "### 10. Describe the regression analysis assumptions and the BLUE principle.\n"
   ]
  },
  {
   "cell_type": "code",
   "execution_count": null,
   "id": "f96e0921",
   "metadata": {},
   "outputs": [],
   "source": []
  },
  {
   "cell_type": "markdown",
   "id": "e966cc86",
   "metadata": {},
   "source": [
    "### 11. Describe two major issues with regression analysis.\n"
   ]
  },
  {
   "cell_type": "code",
   "execution_count": null,
   "id": "6d96730f",
   "metadata": {},
   "outputs": [],
   "source": [
    "The Problem of High Multicollinearity.\n",
    "Nonconstant Error Variance.\n",
    "Autocorrelated Errors.\n",
    "Omitted Variable Bias: Excluding Relevant Variables.\n",
    "Summing Up."
   ]
  },
  {
   "cell_type": "markdown",
   "id": "971dc228",
   "metadata": {},
   "source": [
    "### 12. How can the linear regression model&#39;s accuracy be improved?\n"
   ]
  },
  {
   "cell_type": "code",
   "execution_count": null,
   "id": "89cc1b78",
   "metadata": {},
   "outputs": [],
   "source": [
    "Train each model in the different folds, and predict on the splitted training data.\n",
    "Setup a simple machine learning algorithm, such as linear regression. Use the trained weights from each\n",
    "model as a feature for the linear regression. \n",
    "Use the original train data set target as the target for the linear regression."
   ]
  },
  {
   "cell_type": "markdown",
   "id": "a796527c",
   "metadata": {},
   "source": [
    "### 13. Using an example, describe the polynomial regression model in detail.\n"
   ]
  },
  {
   "cell_type": "code",
   "execution_count": null,
   "id": "2998c70e",
   "metadata": {},
   "outputs": [],
   "source": [
    "polynomial regression is a form of regression analysis in which the relationship between the independent variable x \n",
    "and the dependent variable y is modelled as an nth degree polynomial in x. Polynomial regression fits a nonlinear\n",
    "relationship between the value of x and the corresponding conditional mean of y, denoted E(y |x). Although polynomial\n",
    "regression fits a nonlinear model to the data, as a statistical estimation problem it is linear, \n",
    "in the sense that the regression function E(y | x) is linear in the unknown parameters that are estimated from the data. "
   ]
  },
  {
   "cell_type": "markdown",
   "id": "8a4b5f88",
   "metadata": {},
   "source": [
    "### 14. Provide a detailed explanation of logistic regression.\n"
   ]
  },
  {
   "cell_type": "code",
   "execution_count": null,
   "id": "62f8f406",
   "metadata": {},
   "outputs": [],
   "source": [
    "Logistic regression is a statistical model that in its basic form uses a logistic function to model a binary\n",
    "dependent variable, although many more complex extensions exist. In regression analysis, logistic \n",
    "regression (or logit regression) is estimating the parameters of a logistic model (a form of binary regression)."
   ]
  },
  {
   "cell_type": "markdown",
   "id": "28f08b64",
   "metadata": {},
   "source": [
    "### 15. What are the logistic regression assumptions?\n"
   ]
  },
  {
   "cell_type": "code",
   "execution_count": null,
   "id": "c9eee476",
   "metadata": {},
   "outputs": [],
   "source": [
    "Basic assumptions that must be met for logistic regression include independence of errors,\n",
    "linearity in the logit for continuous variables, absence of multicollinearity, and lack of strongly influential outliers."
   ]
  },
  {
   "cell_type": "markdown",
   "id": "1bda997c",
   "metadata": {},
   "source": [
    "### 16. Go through the details of maximum likelihood estimation."
   ]
  },
  {
   "cell_type": "code",
   "execution_count": null,
   "id": "639da44f",
   "metadata": {},
   "outputs": [],
   "source": [
    "maximum likelihood estimation (MLE) is a method of estimating the parameters of an assumed probability distribution,\n",
    "given some observed data. This is achieved by maximizing a likelihood function so that, under the assumed statistical model, the observed data is most probable.\n",
    "The point in the parameter space that maximizes the likelihood function is called the maximum likelihood estimate"
   ]
  }
 ],
 "metadata": {
  "kernelspec": {
   "display_name": "Python 3",
   "language": "python",
   "name": "python3"
  },
  "language_info": {
   "codemirror_mode": {
    "name": "ipython",
    "version": 3
   },
   "file_extension": ".py",
   "mimetype": "text/x-python",
   "name": "python",
   "nbconvert_exporter": "python",
   "pygments_lexer": "ipython3",
   "version": "3.8.8"
  }
 },
 "nbformat": 4,
 "nbformat_minor": 5
}
