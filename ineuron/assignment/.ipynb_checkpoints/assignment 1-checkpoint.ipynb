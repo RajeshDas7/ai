{
 "cells": [
  {
   "cell_type": "markdown",
   "id": "1f2bfb5a",
   "metadata": {},
   "source": [
    "# 1"
   ]
  },
  {
   "cell_type": "code",
   "execution_count": null,
   "id": "5f84723f",
   "metadata": {},
   "outputs": [],
   "source": [
    "*        =====  expression \n",
    "\n",
    "'hello'  ===== value\n",
    "\n",
    "-87.8    ===== value\n",
    "\n",
    "-        =====  expression \n",
    "\n",
    "/        =====  expression \n",
    "\n",
    "+        =====  expression \n",
    "\n",
    "6        ===== value"
   ]
  },
  {
   "cell_type": "markdown",
   "id": "5d9b5587",
   "metadata": {},
   "source": [
    "# 2"
   ]
  },
  {
   "cell_type": "code",
   "execution_count": null,
   "id": "cd377a31",
   "metadata": {},
   "outputs": [],
   "source": [
    "the difference between string and variable is that :\n",
    "    \n",
    "    variable is to store a  value but string itself is a  value.\n",
    "    we can store a string inside a variable"
   ]
  },
  {
   "cell_type": "markdown",
   "id": "e5cfd16f",
   "metadata": {},
   "source": [
    "# 3"
   ]
  },
  {
   "cell_type": "code",
   "execution_count": null,
   "id": "49736dd9",
   "metadata": {},
   "outputs": [],
   "source": [
    "three different data types are  \n",
    "\n",
    "-   [integer,boolean,string]\n",
    "\n",
    "integer = any number without decimal\n",
    "\n",
    "boolean = true or false value\n",
    "\n",
    "string  = sequence of character which is enclosed in ' ' or \" \" or ''' '''"
   ]
  },
  {
   "cell_type": "markdown",
   "id": "f36f69e1",
   "metadata": {},
   "source": [
    "# 4"
   ]
  },
  {
   "cell_type": "code",
   "execution_count": null,
   "id": "d89ff6d3",
   "metadata": {},
   "outputs": [],
   "source": [
    "An expression is a combination of values, variables, operators.\n",
    "\n",
    "Expressions need to be evaluated.\n",
    "\n",
    "expression usually holds the data."
   ]
  },
  {
   "cell_type": "markdown",
   "id": "63cf397e",
   "metadata": {},
   "source": [
    "# 5"
   ]
  },
  {
   "cell_type": "code",
   "execution_count": null,
   "id": "fb2634ab",
   "metadata": {},
   "outputs": [],
   "source": [
    "spam = 10\n",
    "\n",
    "it is a statement that assigns spam to the value of the expression 10.\n",
    "\n",
    "An expression evaluates to a value.\n",
    "\n",
    "A statement does something. whichis a action .which is executed by python."
   ]
  },
  {
   "cell_type": "markdown",
   "id": "5e4a5671",
   "metadata": {},
   "source": [
    "# 6"
   ]
  },
  {
   "cell_type": "code",
   "execution_count": 6,
   "id": "d58b390d",
   "metadata": {},
   "outputs": [
    {
     "name": "stdout",
     "output_type": "stream",
     "text": [
      "22\n"
     ]
    }
   ],
   "source": [
    "bacon = 22\n",
    "bacon + 1\n",
    "\n",
    "\n",
    "----bacon will contain 22"
   ]
  },
  {
   "cell_type": "markdown",
   "id": "f5546e7b",
   "metadata": {},
   "source": [
    "# 7"
   ]
  },
  {
   "cell_type": "code",
   "execution_count": null,
   "id": "bcea2523",
   "metadata": {},
   "outputs": [],
   "source": [
    "'spam' + 'spamspam'\n",
    "\n",
    "the value will be===\n",
    "\n",
    "'spamspamspam'"
   ]
  },
  {
   "cell_type": "code",
   "execution_count": null,
   "id": "d1b50db3",
   "metadata": {},
   "outputs": [],
   "source": [
    "'spam' * 3\n",
    "\n",
    "the value will be===\n",
    "\n",
    "\n",
    "'spamspamspam'"
   ]
  },
  {
   "cell_type": "markdown",
   "id": "8cbe39f2",
   "metadata": {},
   "source": [
    "# 8"
   ]
  },
  {
   "cell_type": "code",
   "execution_count": null,
   "id": "9c547399",
   "metadata": {},
   "outputs": [],
   "source": [
    "variable name cannot start with a digit.\n",
    "\n",
    "it should start with an alphabet"
   ]
  },
  {
   "cell_type": "markdown",
   "id": "9d3e5f68",
   "metadata": {},
   "source": [
    "# 9"
   ]
  },
  {
   "cell_type": "code",
   "execution_count": null,
   "id": "bb2a18f8",
   "metadata": {},
   "outputs": [],
   "source": [
    "the three functions that can be used to get the integer, floating-point number, or string version of a value are:\n",
    "    \n",
    "    int()\n",
    "    float()\n",
    "    str()"
   ]
  },
  {
   "cell_type": "markdown",
   "id": "f9a5711c",
   "metadata": {},
   "source": [
    "# 10\n",
    "'\n"
   ]
  },
  {
   "cell_type": "code",
   "execution_count": null,
   "id": "4f512f91",
   "metadata": {},
   "outputs": [],
   "source": [
    "'I have eaten ' + 99 + ' burritos.'\n",
    "\n",
    "here we are trying to concatinate a string with a number so it is showing error.\n",
    "\n",
    "we can fix it by type casting the number into a string\n",
    "\n",
    "'I have eaten ' + str(99) + ' burritos.'"
   ]
  },
  {
   "cell_type": "code",
   "execution_count": null,
   "id": "d66b5470",
   "metadata": {},
   "outputs": [],
   "source": []
  }
 ],
 "metadata": {
  "kernelspec": {
   "display_name": "Python 3",
   "language": "python",
   "name": "python3"
  },
  "language_info": {
   "codemirror_mode": {
    "name": "ipython",
    "version": 3
   },
   "file_extension": ".py",
   "mimetype": "text/x-python",
   "name": "python",
   "nbconvert_exporter": "python",
   "pygments_lexer": "ipython3",
   "version": "3.8.8"
  }
 },
 "nbformat": 4,
 "nbformat_minor": 5
}
