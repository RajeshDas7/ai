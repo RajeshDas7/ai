{
 "cells": [
  {
   "cell_type": "markdown",
   "id": "affd4ff8",
   "metadata": {},
   "source": [
    "### 1. YouTube offers different playback speed options for users. This allows\n",
    "\n",
    "users to increase or decrease the speed of the video content. Given the\n",
    "\n",
    "actual duration and playback speed of the video, calculate the playback\n",
    "\n",
    "duration of the video.\n",
    "\n",
    "Examples\n",
    "\n",
    "playback_duration(&quot;00:30:00&quot;, 2) ➞ &quot;00:15:00&quot;\n",
    "        \n",
    "playback_duration(&quot;01:20:00&quot;, 1.5) ➞ &quot;00:53:20&quot;\n",
    "        \n",
    "playback_duration(&quot;51:20:09&quot;, 0.5) ➞ &quot;102:40:18&quot;"
   ]
  },
  {
   "cell_type": "code",
   "execution_count": 32,
   "id": "6380a6e6",
   "metadata": {},
   "outputs": [
    {
     "name": "stdout",
     "output_type": "stream",
     "text": [
      "0 : 15 : 0\n"
     ]
    }
   ],
   "source": [
    "def convert1(seconds):\n",
    "    min1, sec = divmod(seconds, 60)\n",
    "    hour, min1 = divmod(min1, 60)\n",
    "    print(hour,\":\", min1,\":\", sec)\n",
    "\n",
    "def playback_duration(a,b):\n",
    "    c=a.replace('\"',\"\")\n",
    "    d=c.split(\":\")\n",
    "    e = int(d[0]) * 3600 + int(d[1]) * 60 + int(d[2])\n",
    "    e1=int(e*(1/b))\n",
    "    convert1(e1)\n",
    "    \n",
    "    \n",
    "playback_duration(\"00:30:00\", 2)"
   ]
  },
  {
   "cell_type": "markdown",
   "id": "2b0ca886",
   "metadata": {},
   "source": [
    "### 2. We needs your help to construct a building which will be a pile of n cubes.\n",
    "\n",
    "The cube at the bottom will have a volume of n^3, the cube above will have\n",
    "\n",
    "volume of (n-1)^3 and so on until the top which will have a volume of 1^3.\n",
    "\n",
    "Given the total volume m of the building, can you find the number of cubes n\n",
    "\n",
    "required for the building?\n",
    "\n",
    "In other words, you have to return an integer n such that:\n",
    "\n",
    "n^3 + (n-1)^3 + ... + 1^3 == m\n",
    "\n",
    "Return None if there is no such number.\n",
    "\n",
    "Examples\n",
    "\n",
    "pile_of_cubes(1071225) ➞ 45\n",
    "\n",
    "pile_of_cubes(4183059834009) ➞ 2022\n",
    "\n",
    "pile_of_cubes(16) ➞ None"
   ]
  },
  {
   "cell_type": "code",
   "execution_count": 47,
   "id": "8be6dc74",
   "metadata": {},
   "outputs": [
    {
     "name": "stdout",
     "output_type": "stream",
     "text": [
      "1\n"
     ]
    }
   ],
   "source": [
    "def pile_of_cubes(a):\n",
    "    b=int(a**(1/3))\n",
    "    c=0\n",
    "    d=0\n",
    "    for i in range(b):\n",
    "        if c == a:\n",
    "            break\n",
    "        else:\n",
    "            \n",
    "            c+= i**3\n",
    "            d=i\n",
    "            \n",
    "      \n",
    "    print(d)\n",
    "\n",
    "    \n",
    "pile_of_cubes(16)"
   ]
  },
  {
   "cell_type": "markdown",
   "id": "572bd71f",
   "metadata": {},
   "source": [
    "### 3. A fulcrum of a list is an integer such that all elements to the left of it and all\n",
    "\n",
    "elements to the right of it sum to the same value. Write a function that finds\n",
    "\n",
    "the fulcrum of a list.\n",
    "\n",
    "To illustrate:\n",
    "    \n",
    "find_fulcrum([3, 1, 5, 2, 4, 6, -1]) ➞ 2\n",
    "\n",
    "// Since [3, 1, 5] and [4, 6, -1] both sum to 9\n",
    "\n",
    "Examples\n",
    "\n",
    "find_fulcrum([1, 2, 4, 9, 10, -10, -9, 3]) ➞ 4\n",
    "\n",
    "find_fulcrum([9, 1, 9]) ➞ 1\n",
    "\n",
    "find_fulcrum([7, -1, 0, -1, 1, 1, 2, 3]) ➞ 0\n",
    "\n",
    "find_fulcrum([8, 8, 8, 8]) ➞ -1\n"
   ]
  },
  {
   "cell_type": "code",
   "execution_count": 50,
   "id": "734bf5eb",
   "metadata": {},
   "outputs": [
    {
     "data": {
      "text/plain": [
       "4"
      ]
     },
     "execution_count": 50,
     "metadata": {},
     "output_type": "execute_result"
    }
   ],
   "source": [
    "def find_fulcrum(arr) :\n",
    "    n= len(arr)\n",
    "     \n",
    "    # Forming prefix sum array from 0\n",
    "    prefixSum = [0] * n\n",
    "    prefixSum[0] = arr[0]\n",
    "    for i in range(1, n) :\n",
    "        prefixSum[i] = prefixSum[i - 1] + arr[i]\n",
    " \n",
    "    # Forming suffix sum array from n-1\n",
    "    suffixSum = [0] * n\n",
    "    suffixSum[n - 1] = arr[n - 1]\n",
    "    for i in range(n - 2, -1, -1) :\n",
    "        suffixSum[i] = suffixSum[i + 1] + arr[i]\n",
    " \n",
    "    # Find the point where prefix\n",
    "    # and suffix sums are same.\n",
    "    for i in range(1, n - 1, 1) :\n",
    "        if prefixSum[i] == suffixSum[i] :\n",
    "            return arr[i]\n",
    "         \n",
    "    return -1\n",
    "\n",
    "find_fulcrum([1, 2, 4, 9, 10, -10, -9, 3]) "
   ]
  },
  {
   "cell_type": "markdown",
   "id": "1af7ba3e",
   "metadata": {},
   "source": [
    "### 4. Given a list of integers representing the color of each sock, determine how\n",
    "\n",
    "many pairs of socks with matching colors there are. For example, there are 7\n",
    "\n",
    "socks with colors [1, 2, 1, 2, 1, 3, 2]. There is one pair of color 1 and one of\n",
    "\n",
    "color 2. There are three odd socks left, one of each color. The number of\n",
    "\n",
    "pairs is 2.\n",
    "\n",
    "Create a function that returns an integer representing the number of matching\n",
    "\n",
    "pairs of socks that are available.\n",
    "\n",
    "Examples\n",
    "\n",
    "sock_merchant([10, 20, 20, 10, 10, 30, 50, 10, 20]) ➞ 3\n",
    "\n",
    "sock_merchant([50, 20, 30, 90, 30, 20, 50, 20, 90]) ➞ 4\n",
    "\n",
    "sock_merchant([]) ➞ 0\n"
   ]
  },
  {
   "cell_type": "code",
   "execution_count": 59,
   "id": "2b9387cb",
   "metadata": {},
   "outputs": [
    {
     "name": "stdout",
     "output_type": "stream",
     "text": [
      "2\n"
     ]
    }
   ],
   "source": [
    "def sock_merchant(a):\n",
    "    b=set(a)\n",
    "    w=0\n",
    "    for i in b:\n",
    "        d=a.count(i)\n",
    "        w+=d//2\n",
    "    print(w)\n",
    "    \n",
    "sock_merchant( [1, 2, 1, 2, 1, 3, 2])"
   ]
  },
  {
   "cell_type": "markdown",
   "id": "1181c6ea",
   "metadata": {},
   "source": [
    "### 5. Create a function that takes a string containing integers as well as other\n",
    "\n",
    "characters and return the sum of the negative integers only.\n",
    "\n",
    "Examples\n",
    "\n",
    "negative_sum(&quot;-12 13%14&amp;-11&quot;) ➞ -23\n",
    "\n",
    " -12 + -11 = -23\n",
    "\n",
    "negative_sum(&quot;22 13%14&amp;-11-22 13 12&quot;) ➞ -33\n",
    "\n",
    " -11 + -22 = -33"
   ]
  },
  {
   "cell_type": "code",
   "execution_count": null,
   "id": "9e247644",
   "metadata": {},
   "outputs": [],
   "source": []
  },
  {
   "cell_type": "code",
   "execution_count": null,
   "id": "3c62a230",
   "metadata": {},
   "outputs": [],
   "source": []
  },
  {
   "cell_type": "code",
   "execution_count": null,
   "id": "8c7db1f5",
   "metadata": {},
   "outputs": [],
   "source": []
  },
  {
   "cell_type": "code",
   "execution_count": null,
   "id": "6c2b243d",
   "metadata": {},
   "outputs": [],
   "source": []
  },
  {
   "cell_type": "code",
   "execution_count": null,
   "id": "f7a035b3",
   "metadata": {},
   "outputs": [],
   "source": []
  },
  {
   "cell_type": "code",
   "execution_count": null,
   "id": "8232aafc",
   "metadata": {},
   "outputs": [],
   "source": []
  }
 ],
 "metadata": {
  "kernelspec": {
   "display_name": "Python 3",
   "language": "python",
   "name": "python3"
  },
  "language_info": {
   "codemirror_mode": {
    "name": "ipython",
    "version": 3
   },
   "file_extension": ".py",
   "mimetype": "text/x-python",
   "name": "python",
   "nbconvert_exporter": "python",
   "pygments_lexer": "ipython3",
   "version": "3.8.8"
  }
 },
 "nbformat": 4,
 "nbformat_minor": 5
}
