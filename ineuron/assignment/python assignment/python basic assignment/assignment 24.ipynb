{
 "cells": [
  {
   "cell_type": "markdown",
   "id": "36520d35",
   "metadata": {},
   "source": [
    "### 1. What is the relationship between def statements and lambda expressions ?"
   ]
  },
  {
   "cell_type": "code",
   "execution_count": null,
   "id": "d34a2ddb",
   "metadata": {},
   "outputs": [],
   "source": [
    "def statement is used to define a function which can contain multiple lines of code\n",
    "\n",
    "a lambda expression is similar to function but it is expressed as a single statement"
   ]
  },
  {
   "cell_type": "markdown",
   "id": "cdfc5db1",
   "metadata": {},
   "source": [
    "### 2. What is the benefit of lambda?"
   ]
  },
  {
   "cell_type": "code",
   "execution_count": null,
   "id": "f434fe31",
   "metadata": {},
   "outputs": [],
   "source": [
    "it is generally used when a function is needed temporarily for a short period of time"
   ]
  },
  {
   "cell_type": "markdown",
   "id": "4112195e",
   "metadata": {},
   "source": [
    "### 3. Compare and contrast map, filter, and reduce."
   ]
  },
  {
   "cell_type": "code",
   "execution_count": null,
   "id": "7ab0ca08",
   "metadata": {},
   "outputs": [],
   "source": [
    "The map() function iterates through all items in the given iterable \n",
    "and executes the function we passed as an argument on each of them.\n",
    "\n",
    "Similar to map(), filter() takes a function object and an iterable and creates a new list.\n",
    "\n",
    "reduce() works differently than map() and filter(). \n",
    "It does not return a new list based on the function and iterable \n",
    "we have passed. Instead, it returns a single value."
   ]
  },
  {
   "cell_type": "markdown",
   "id": "b1ae522d",
   "metadata": {},
   "source": [
    "### 4. What are function annotations, and how are they used?"
   ]
  },
  {
   "cell_type": "code",
   "execution_count": null,
   "id": "26817ac4",
   "metadata": {},
   "outputs": [],
   "source": [
    "Function annotations are arbitrary python expressions that are associated with various part of functions. \n",
    "These expressions are evaluated at compile time and have no life in python’s runtime environment. \n",
    "Python does not attach any meaning to these annotations. "
   ]
  },
  {
   "cell_type": "markdown",
   "id": "cc4d33c6",
   "metadata": {},
   "source": [
    "### 5. What are recursive functions, and how are they used?"
   ]
  },
  {
   "cell_type": "code",
   "execution_count": null,
   "id": "33808e36",
   "metadata": {},
   "outputs": [],
   "source": [
    "in python It is even possible for the function to call itself.\n",
    "These types of construct are termed as recursive functions."
   ]
  },
  {
   "cell_type": "markdown",
   "id": "f250a576",
   "metadata": {},
   "source": [
    "### 6. What are some general design guidelines for coding functions?"
   ]
  },
  {
   "cell_type": "code",
   "execution_count": null,
   "id": "0e5ee043",
   "metadata": {},
   "outputs": [],
   "source": []
  },
  {
   "cell_type": "markdown",
   "id": "455b0fad",
   "metadata": {},
   "source": [
    "### 7. Name three or more ways that functions can communicate results to a caller."
   ]
  },
  {
   "cell_type": "code",
   "execution_count": null,
   "id": "fed388d7",
   "metadata": {},
   "outputs": [],
   "source": []
  }
 ],
 "metadata": {
  "kernelspec": {
   "display_name": "Python 3",
   "language": "python",
   "name": "python3"
  },
  "language_info": {
   "codemirror_mode": {
    "name": "ipython",
    "version": 3
   },
   "file_extension": ".py",
   "mimetype": "text/x-python",
   "name": "python",
   "nbconvert_exporter": "python",
   "pygments_lexer": "ipython3",
   "version": "3.8.8"
  }
 },
 "nbformat": 4,
 "nbformat_minor": 5
}
