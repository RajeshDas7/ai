{
 "cells": [
  {
   "cell_type": "markdown",
   "id": "52193c5e",
   "metadata": {},
   "source": [
    "### 1. Why would you want to use the Data API?"
   ]
  },
  {
   "cell_type": "markdown",
   "id": "e3f846ba",
   "metadata": {},
   "source": [
    "Because the APIs simply provide data, there are no limits on how a company can then go on \n",
    "to use that data. Furthermore, these programs can be automated to run on a schedule reducing \n",
    "the need for someone to navigate the complex steps of exporting data manually via the Salesforce web interface."
   ]
  },
  {
   "cell_type": "markdown",
   "id": "a8a66a83",
   "metadata": {},
   "source": [
    "### 2. What are the benefits of splitting a large dataset into multiple files?"
   ]
  },
  {
   "cell_type": "code",
   "execution_count": null,
   "id": "93cf2d7e",
   "metadata": {},
   "outputs": [],
   "source": [
    "1. Multiple Users can Access Data Simultaneously\n",
    "2. Provides Better Protection\n",
    "3.Allows for Future Planning\n",
    "4. Easy to Modify User Interface"
   ]
  },
  {
   "cell_type": "markdown",
   "id": "74d07598",
   "metadata": {},
   "source": [
    "### 3. During training, how can you tell that your input pipeline is the bottleneck? What can you do to fix it?"
   ]
  },
  {
   "cell_type": "code",
   "execution_count": null,
   "id": "a9a199b8",
   "metadata": {},
   "outputs": [],
   "source": []
  },
  {
   "cell_type": "markdown",
   "id": "1f9e8a87",
   "metadata": {},
   "source": [
    "### 4. Can you save any binary data to a TFRecord file, or only serialized protocol buffers?\n"
   ]
  },
  {
   "cell_type": "code",
   "execution_count": null,
   "id": "f9dc1405",
   "metadata": {},
   "outputs": [],
   "source": [
    "yes"
   ]
  },
  {
   "cell_type": "markdown",
   "id": "ca3db678",
   "metadata": {},
   "source": [
    "### 5. Why would you go through the hassle of converting all your data to the Example protobuf format? Why not use your own protobuf definition?"
   ]
  },
  {
   "cell_type": "code",
   "execution_count": null,
   "id": "95986d69",
   "metadata": {},
   "outputs": [],
   "source": []
  },
  {
   "cell_type": "markdown",
   "id": "0b814e02",
   "metadata": {},
   "source": [
    "### 6. When using TFRecords, when would you want to activate compression? Why not do it systematically?"
   ]
  },
  {
   "cell_type": "code",
   "execution_count": null,
   "id": "99019430",
   "metadata": {},
   "outputs": [],
   "source": []
  },
  {
   "cell_type": "code",
   "execution_count": null,
   "id": "b7205f27",
   "metadata": {},
   "outputs": [],
   "source": [
    "7. Data can be preprocessed directly when writing the data files, or within the tf.data pipeline,\n",
    "or in preprocessing layers within your model, or using TF Transform. Can you list a few pros\n",
    "and cons of each option?"
   ]
  },
  {
   "cell_type": "code",
   "execution_count": null,
   "id": "04992190",
   "metadata": {},
   "outputs": [],
   "source": []
  },
  {
   "cell_type": "code",
   "execution_count": null,
   "id": "7f0c4689",
   "metadata": {},
   "outputs": [],
   "source": []
  },
  {
   "cell_type": "code",
   "execution_count": null,
   "id": "ce041251",
   "metadata": {},
   "outputs": [],
   "source": []
  },
  {
   "cell_type": "code",
   "execution_count": null,
   "id": "e03fcf39",
   "metadata": {},
   "outputs": [],
   "source": []
  },
  {
   "cell_type": "code",
   "execution_count": null,
   "id": "34e8dd20",
   "metadata": {},
   "outputs": [],
   "source": []
  },
  {
   "cell_type": "code",
   "execution_count": null,
   "id": "77217e33",
   "metadata": {},
   "outputs": [],
   "source": []
  }
 ],
 "metadata": {
  "kernelspec": {
   "display_name": "Python 3",
   "language": "python",
   "name": "python3"
  },
  "language_info": {
   "codemirror_mode": {
    "name": "ipython",
    "version": 3
   },
   "file_extension": ".py",
   "mimetype": "text/x-python",
   "name": "python",
   "nbconvert_exporter": "python",
   "pygments_lexer": "ipython3",
   "version": "3.8.8"
  }
 },
 "nbformat": 4,
 "nbformat_minor": 5
}
