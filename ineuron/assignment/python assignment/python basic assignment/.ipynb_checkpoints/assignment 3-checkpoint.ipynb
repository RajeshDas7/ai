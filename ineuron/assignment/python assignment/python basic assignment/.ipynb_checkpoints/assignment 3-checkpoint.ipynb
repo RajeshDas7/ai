{
 "cells": [
  {
   "cell_type": "markdown",
   "id": "0658fd62",
   "metadata": {},
   "source": [
    "### 1. Why are functions advantageous to have in your programs?"
   ]
  },
  {
   "cell_type": "code",
   "execution_count": null,
   "id": "58049637",
   "metadata": {},
   "outputs": [],
   "source": [
    "functions are  advantageous in programs because\n",
    "\n",
    "--- they reduce code duplication in a program\n",
    "--- to help split a complex task into smaller blocks\n",
    "--- to hide the implementation details from their users\n",
    "--- improves traceability and readability"
   ]
  },
  {
   "cell_type": "markdown",
   "id": "69b175c2",
   "metadata": {},
   "source": [
    "### 2. When does the code in a function run: when it&#39;s specified or when it&#39;s called?"
   ]
  },
  {
   "cell_type": "code",
   "execution_count": null,
   "id": "459ebf6d",
   "metadata": {},
   "outputs": [],
   "source": [
    "the code in a function runs\n",
    "when it is called"
   ]
  },
  {
   "cell_type": "markdown",
   "id": "b8031914",
   "metadata": {},
   "source": [
    "### 3. What statement creates a function?"
   ]
  },
  {
   "cell_type": "code",
   "execution_count": null,
   "id": "ad6e62cc",
   "metadata": {},
   "outputs": [],
   "source": [
    "by using 'def' keyword we can create a function"
   ]
  },
  {
   "cell_type": "markdown",
   "id": "24c1696d",
   "metadata": {},
   "source": [
    "### 4. What is the difference between a function and a function call?"
   ]
  },
  {
   "cell_type": "code",
   "execution_count": null,
   "id": "1ca98ede",
   "metadata": {},
   "outputs": [],
   "source": [
    "a function is a sequence of instruction that performs a specific task.\n",
    "\n",
    "after defining the function , when we try to use a fuction then we have to call it.\n",
    "by calling the function we can utilize its functionality."
   ]
  },
  {
   "cell_type": "markdown",
   "id": "f88b2d18",
   "metadata": {},
   "source": [
    "### 5. How many global scopes are there in a Python program? How many local scopes?"
   ]
  },
  {
   "cell_type": "code",
   "execution_count": null,
   "id": "67ea51fc",
   "metadata": {},
   "outputs": [],
   "source": [
    "there is only one global scope per program execution.\n",
    "\n",
    "the local scope is there inside the fuction.\n",
    "so the number of local scope depend on the number of functions.\n",
    "each function has its own local scope so the variables inside a function \n",
    "can not interfere with the variable of another function"
   ]
  },
  {
   "cell_type": "markdown",
   "id": "98993669",
   "metadata": {},
   "source": [
    "### 6. What happens to variables in a local scope when the function call returns?"
   ]
  },
  {
   "cell_type": "code",
   "execution_count": null,
   "id": "309e93fb",
   "metadata": {},
   "outputs": [],
   "source": [
    "the local scope comes into existence when we call a perticular function.\n",
    "when the function returns the local scope is destroyed ."
   ]
  },
  {
   "cell_type": "markdown",
   "id": "e164806f",
   "metadata": {},
   "source": [
    "### 7. What is the concept of a return value? Is it possible to have a return value in an expression?"
   ]
  },
  {
   "cell_type": "code",
   "execution_count": null,
   "id": "ebea2414",
   "metadata": {},
   "outputs": [],
   "source": [
    "according to the concept of return value\n",
    "by using return statement inside a function \n",
    "we can send back python object back to the function caller.\n",
    "\n",
    "yes we can have a return value in an expression"
   ]
  },
  {
   "cell_type": "markdown",
   "id": "87337a30",
   "metadata": {},
   "source": [
    "### 8. If a function does not have a return statement, what is the return value of a call to that function?"
   ]
  },
  {
   "cell_type": "code",
   "execution_count": null,
   "id": "7adaa5cd",
   "metadata": {},
   "outputs": [],
   "source": [
    "if we do not provide a return value then python will return a default value.\n",
    "that default value is None.\n",
    "\n",
    "the return value of a call to that function is None."
   ]
  },
  {
   "cell_type": "code",
   "execution_count": null,
   "id": "9f413e71",
   "metadata": {},
   "outputs": [],
   "source": []
  },
  {
   "cell_type": "markdown",
   "id": "1c0cfeeb",
   "metadata": {},
   "source": [
    "### 9. How do you make a function variable refer to the global variable?"
   ]
  },
  {
   "cell_type": "code",
   "execution_count": null,
   "id": "f743d8d2",
   "metadata": {},
   "outputs": [],
   "source": [
    "by using global keyword we can refer to global variables from a function."
   ]
  },
  {
   "cell_type": "markdown",
   "id": "e6df73f9",
   "metadata": {},
   "source": [
    "### 10. What is the data type of None?"
   ]
  },
  {
   "cell_type": "code",
   "execution_count": null,
   "id": "9e5cb171",
   "metadata": {},
   "outputs": [],
   "source": [
    "the datatype of None is NoneType"
   ]
  },
  {
   "cell_type": "code",
   "execution_count": null,
   "id": "f663f582",
   "metadata": {},
   "outputs": [],
   "source": []
  },
  {
   "cell_type": "markdown",
   "id": "0fc15ca2",
   "metadata": {},
   "source": [
    "### 11. What does the sentence import areallyourpetsnamederic do?"
   ]
  },
  {
   "cell_type": "code",
   "execution_count": null,
   "id": "75162656",
   "metadata": {},
   "outputs": [],
   "source": [
    "it will import the areallyourpetsnamederic module to the current module"
   ]
  },
  {
   "cell_type": "code",
   "execution_count": null,
   "id": "4eb91ded",
   "metadata": {},
   "outputs": [],
   "source": []
  },
  {
   "cell_type": "markdown",
   "id": "ee303f88",
   "metadata": {},
   "source": [
    "### 12. If you had a bacon() feature in a spam module, what would you call it after importing spam?"
   ]
  },
  {
   "cell_type": "code",
   "execution_count": null,
   "id": "8efb54ca",
   "metadata": {},
   "outputs": [],
   "source": [
    "we can access bacon() function from spam module by importing it to the current module and\n",
    "calling\n",
    "\n",
    "import spam\n",
    "spam.bacon()"
   ]
  },
  {
   "cell_type": "markdown",
   "id": "fb337b01",
   "metadata": {},
   "source": [
    "### 13. What can you do to save a programme from crashing if it encounters an error?"
   ]
  },
  {
   "cell_type": "code",
   "execution_count": null,
   "id": "66a78603",
   "metadata": {},
   "outputs": [],
   "source": [
    "we can use exception handling to prevent the program from crashing if it encounter an error\n",
    "\n",
    "we will put the suspecious code inside a try block and \n",
    "to handle any error from the try block\n",
    "we can place an except block "
   ]
  },
  {
   "cell_type": "code",
   "execution_count": null,
   "id": "a5c94a24",
   "metadata": {},
   "outputs": [],
   "source": []
  },
  {
   "cell_type": "markdown",
   "id": "2ad503dd",
   "metadata": {},
   "source": [
    "### 14. What is the purpose of the try clause? What is the purpose of the except clause?"
   ]
  },
  {
   "cell_type": "code",
   "execution_count": null,
   "id": "1afd446f",
   "metadata": {},
   "outputs": [],
   "source": [
    "the purpose of the try block is to contain the suspecious code and \n",
    "prevent the entire program from crashing if any error occures in the try block\n",
    "\n",
    "the purpose of the except block is to handle the error which is caused by the try block and \n",
    "continue the flow of the program without any disruption."
   ]
  }
 ],
 "metadata": {
  "kernelspec": {
   "display_name": "Python 3",
   "language": "python",
   "name": "python3"
  },
  "language_info": {
   "codemirror_mode": {
    "name": "ipython",
    "version": 3
   },
   "file_extension": ".py",
   "mimetype": "text/x-python",
   "name": "python",
   "nbconvert_exporter": "python",
   "pygments_lexer": "ipython3",
   "version": "3.8.8"
  }
 },
 "nbformat": 4,
 "nbformat_minor": 5
}
