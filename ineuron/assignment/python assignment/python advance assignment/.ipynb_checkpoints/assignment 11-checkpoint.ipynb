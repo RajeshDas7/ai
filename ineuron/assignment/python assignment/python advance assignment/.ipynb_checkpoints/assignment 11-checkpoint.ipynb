{
 "cells": [
  {
   "cell_type": "markdown",
   "id": "b29efbb7",
   "metadata": {},
   "source": [
    "### Q1. What is the concept of a metaclass?"
   ]
  },
  {
   "cell_type": "code",
   "execution_count": null,
   "id": "f8e5229d",
   "metadata": {},
   "outputs": [],
   "source": [
    "A metaclass in Python is a class of a class that defines how a class behaves.\n",
    "A class is itself an instance of a metaclass.\n",
    "A class in Python defines how the instance of the class will behave."
   ]
  },
  {
   "cell_type": "markdown",
   "id": "e0ca689f",
   "metadata": {},
   "source": [
    "### Q2. What is the best way to declare a class&#39;s metaclass?"
   ]
  },
  {
   "cell_type": "code",
   "execution_count": null,
   "id": "f231c616",
   "metadata": {},
   "outputs": [],
   "source": [
    "In Python, we can customize the class creation process by passing the metaclass keyword in the class definition.\n",
    "This can also be done by inheriting a class that has already passed in this keyword\n",
    "\n",
    "class MyMeta(type):\n",
    "    pass\n",
    "\n",
    "class MyClass(metaclass=MyMeta):\n",
    "    pass\n",
    "\n",
    "class MySubclass(MyClass):\n",
    "    pass"
   ]
  },
  {
   "cell_type": "markdown",
   "id": "d50430b3",
   "metadata": {},
   "source": [
    "### Q3. How do class decorators overlap with metaclasses for handling classes?"
   ]
  },
  {
   "cell_type": "code",
   "execution_count": null,
   "id": "29c6c660",
   "metadata": {},
   "outputs": [],
   "source": [
    "Anything you can do with a class decorator, you can of course do with a custom metaclass\n",
    "(just apply the functionality of the \"decorator function\", i.e., the one that takes a class object and modifies it,\n",
    "in the course of the metaclass s __new__ or __init__ that make the class object!-)."
   ]
  },
  {
   "cell_type": "markdown",
   "id": "e39b590c",
   "metadata": {},
   "source": [
    "### Q4. How do class decorators overlap with metaclasses for handling instances?"
   ]
  },
  {
   "cell_type": "code",
   "execution_count": null,
   "id": "a043567f",
   "metadata": {},
   "outputs": [],
   "source": []
  },
  {
   "cell_type": "code",
   "execution_count": null,
   "id": "72d944da",
   "metadata": {},
   "outputs": [],
   "source": []
  },
  {
   "cell_type": "code",
   "execution_count": null,
   "id": "589dde57",
   "metadata": {},
   "outputs": [],
   "source": []
  },
  {
   "cell_type": "code",
   "execution_count": null,
   "id": "ea553071",
   "metadata": {},
   "outputs": [],
   "source": []
  }
 ],
 "metadata": {
  "kernelspec": {
   "display_name": "Python 3",
   "language": "python",
   "name": "python3"
  },
  "language_info": {
   "codemirror_mode": {
    "name": "ipython",
    "version": 3
   },
   "file_extension": ".py",
   "mimetype": "text/x-python",
   "name": "python",
   "nbconvert_exporter": "python",
   "pygments_lexer": "ipython3",
   "version": "3.8.8"
  }
 },
 "nbformat": 4,
 "nbformat_minor": 5
}
