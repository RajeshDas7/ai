{
 "cells": [
  {
   "cell_type": "markdown",
   "id": "4b84429c",
   "metadata": {},
   "source": [
    "### 1. In a linear equation, what is the difference between a dependent variable and an independent\n",
    "variable?"
   ]
  },
  {
   "cell_type": "code",
   "execution_count": null,
   "id": "bc21c876",
   "metadata": {},
   "outputs": [],
   "source": [
    "The independent variable is the cause. Its value is independent of other variables in your study. \n",
    "The dependent variable is the effect. Its value depends on changes in the independent variable."
   ]
  },
  {
   "cell_type": "markdown",
   "id": "174be936",
   "metadata": {},
   "source": [
    "### 2. What is the concept of simple linear regression? Give a specific example.\n"
   ]
  },
  {
   "cell_type": "code",
   "execution_count": null,
   "id": "04ccb822",
   "metadata": {},
   "outputs": [],
   "source": [
    "simple linear regression is a linear regression model with a single explanatory variable.\n",
    "That is, it concerns two-dimensional sample points with one independent variable and one dependent variable\n",
    "(conventionally, the x and y coordinates in a Cartesian coordinate system) and finds a linear function\n",
    "(a non-vertical straight line) that, as accurately as possible, predicts the dependent variable values as a function of the independent variable.\n",
    "The adjective simple refers to the fact that the outcome variable is related to a single predictor."
   ]
  },
  {
   "cell_type": "markdown",
   "id": "e4cdf8d7",
   "metadata": {},
   "source": [
    "### 3. In a linear regression, define the slope.\n"
   ]
  },
  {
   "cell_type": "code",
   "execution_count": null,
   "id": "01b932e2",
   "metadata": {},
   "outputs": [],
   "source": [
    "The slope of a regression line (b) represents the rate of change in y as x changes. \n",
    "Because y is dependent on x, the slope describes the predicted values of y given x. "
   ]
  },
  {
   "cell_type": "markdown",
   "id": "acfbb614",
   "metadata": {},
   "source": [
    "### 4. Determine the graph&#39;s slope, where the lower point on the line is represented as (3, 2) and the\n",
    "higher point is represented as (2, 2)."
   ]
  },
  {
   "cell_type": "code",
   "execution_count": null,
   "id": "a231e567",
   "metadata": {},
   "outputs": [],
   "source": [
    "0"
   ]
  },
  {
   "cell_type": "markdown",
   "id": "63148309",
   "metadata": {},
   "source": [
    "### 5. In linear regression, what are the conditions for a positive slope?\n"
   ]
  },
  {
   "cell_type": "code",
   "execution_count": null,
   "id": "f53d85f7",
   "metadata": {},
   "outputs": [],
   "source": [
    "if the slope is positive, y increases as x increases, and the function runs \"uphill\" (going left to right)."
   ]
  },
  {
   "cell_type": "markdown",
   "id": "6a6e36b7",
   "metadata": {},
   "source": [
    "### 6. In linear regression, what are the conditions for a negative slope?\n"
   ]
  },
  {
   "cell_type": "code",
   "execution_count": null,
   "id": "3c9df499",
   "metadata": {},
   "outputs": [],
   "source": [
    "If the slope is negative, y decreases as x increases and the function runs downhill."
   ]
  },
  {
   "cell_type": "markdown",
   "id": "b7939bcc",
   "metadata": {},
   "source": [
    "### 7. What is multiple linear regression and how does it work?\n"
   ]
  },
  {
   "cell_type": "code",
   "execution_count": null,
   "id": "657b75dc",
   "metadata": {},
   "outputs": [],
   "source": [
    "Multiple linear regression (MLR), also known simply as multiple regression,\n",
    "is a statistical technique that uses several explanatory variables to predict the outcome of a response variable. \n",
    "Multiple regression is an extension of linear (OLS) regression that uses just one explanatory variable."
   ]
  },
  {
   "cell_type": "markdown",
   "id": "5ded8f5e",
   "metadata": {},
   "source": [
    "### 8. In multiple linear regression, define the number of squares due to error.\n"
   ]
  },
  {
   "cell_type": "code",
   "execution_count": null,
   "id": "da5c27fc",
   "metadata": {},
   "outputs": [],
   "source": []
  },
  {
   "cell_type": "markdown",
   "id": "365b1e53",
   "metadata": {},
   "source": [
    "### 9. In multiple linear regression, define the number of squares due to regression.\n",
    "\n",
    "In a regression equation, what is multicollinearity?"
   ]
  },
  {
   "cell_type": "code",
   "execution_count": null,
   "id": "547daa1c",
   "metadata": {},
   "outputs": [],
   "source": [
    "Multicollinearity happens when independent variables in the regression model are highly correlated to each other.\n",
    "It makes it hard to interpret of model and also creates an overfitting problem. \n",
    "It is a common assumption that people test before selecting the variables into the regression model."
   ]
  },
  {
   "cell_type": "markdown",
   "id": "9fb916c5",
   "metadata": {},
   "source": [
    "### 11. What is heteroskedasticity, and what does it mean?\n"
   ]
  },
  {
   "cell_type": "code",
   "execution_count": null,
   "id": "7361cb4c",
   "metadata": {},
   "outputs": [],
   "source": [
    "heteroskedasticity (or heteroscedasticity) happens when the standard deviations of a predicted variable, \n",
    "monitored over different values of an independent variable or as related to prior time periods, are non-constant"
   ]
  },
  {
   "cell_type": "markdown",
   "id": "f48c12ea",
   "metadata": {},
   "source": [
    "### 12. Describe the concept of ridge regression.\n"
   ]
  },
  {
   "cell_type": "code",
   "execution_count": null,
   "id": "e7ebf3a5",
   "metadata": {},
   "outputs": [],
   "source": [
    "Ridge Regression is a technique for analyzing multiple regression data that suffer from multicollinearity. When\n",
    "multicollinearity occurs, least squares estimates are unbiased, but their variances are large so they may be far from\n",
    "the true value. By adding a degree of bias to the regression estimates, ridge regression reduces the standard errors.\n",
    "It is hoped that the net effect will be to give estimates that are more reliable."
   ]
  },
  {
   "cell_type": "markdown",
   "id": "d6dfa8e0",
   "metadata": {},
   "source": [
    "### 13. Describe the concept of lasso regression.\n"
   ]
  },
  {
   "cell_type": "code",
   "execution_count": null,
   "id": "2bc1d7f0",
   "metadata": {},
   "outputs": [],
   "source": [
    "Lasso regression is a type of linear regression that uses shrinkage. Shrinkage is where data values are shrunk\n",
    "towards a central point, like the mean. The lasso procedure encourages simple, sparse models\n",
    "(i.e. models with fewer parameters). This particular type of regression is well-suited for models showing high levels of muticollinearity\n",
    "or when you want to automate certain parts of model selection, like variable selection/parameter elimination."
   ]
  },
  {
   "cell_type": "markdown",
   "id": "4d21f15a",
   "metadata": {},
   "source": [
    "### 14. What is polynomial regression and how does it work?\n"
   ]
  },
  {
   "cell_type": "code",
   "execution_count": null,
   "id": "ea0f6277",
   "metadata": {},
   "outputs": [],
   "source": [
    "Polynomial regression is a form of Linear regression where only due to the Non-linear relationship between dependent and\n",
    "independent variables we add some polynomial terms to linear regression to convert it into Polynomial regression."
   ]
  },
  {
   "cell_type": "markdown",
   "id": "f163f5d4",
   "metadata": {},
   "source": [
    "### 15. Describe the basis function.\n"
   ]
  },
  {
   "cell_type": "code",
   "execution_count": null,
   "id": "732aba2c",
   "metadata": {},
   "outputs": [],
   "source": [
    "a basis function is an element of a particular basis for a function space. \n",
    "Every function in the function space can be represented as a linear combination of basis functions, \n",
    "just as every vector in a vector space can be represented as a linear combination of basis vectors."
   ]
  },
  {
   "cell_type": "markdown",
   "id": "ae5923ec",
   "metadata": {},
   "source": [
    "### 16. Describe how logistic regression works."
   ]
  },
  {
   "cell_type": "code",
   "execution_count": null,
   "id": "b7b8edd1",
   "metadata": {},
   "outputs": [],
   "source": []
  },
  {
   "cell_type": "code",
   "execution_count": null,
   "id": "578240f7",
   "metadata": {},
   "outputs": [],
   "source": []
  },
  {
   "cell_type": "code",
   "execution_count": null,
   "id": "8d8b210b",
   "metadata": {},
   "outputs": [],
   "source": []
  },
  {
   "cell_type": "code",
   "execution_count": null,
   "id": "5856616d",
   "metadata": {},
   "outputs": [],
   "source": []
  },
  {
   "cell_type": "code",
   "execution_count": null,
   "id": "9dd3d95d",
   "metadata": {},
   "outputs": [],
   "source": []
  },
  {
   "cell_type": "code",
   "execution_count": null,
   "id": "3ddd6284",
   "metadata": {},
   "outputs": [],
   "source": []
  },
  {
   "cell_type": "code",
   "execution_count": null,
   "id": "c6fb2ced",
   "metadata": {},
   "outputs": [],
   "source": []
  },
  {
   "cell_type": "code",
   "execution_count": null,
   "id": "5342bd5b",
   "metadata": {},
   "outputs": [],
   "source": []
  },
  {
   "cell_type": "code",
   "execution_count": null,
   "id": "0bf55a10",
   "metadata": {},
   "outputs": [],
   "source": []
  },
  {
   "cell_type": "code",
   "execution_count": null,
   "id": "036e5e55",
   "metadata": {},
   "outputs": [],
   "source": []
  },
  {
   "cell_type": "code",
   "execution_count": null,
   "id": "515a88be",
   "metadata": {},
   "outputs": [],
   "source": []
  },
  {
   "cell_type": "code",
   "execution_count": null,
   "id": "5607cea1",
   "metadata": {},
   "outputs": [],
   "source": []
  },
  {
   "cell_type": "code",
   "execution_count": null,
   "id": "b73869a7",
   "metadata": {},
   "outputs": [],
   "source": []
  },
  {
   "cell_type": "code",
   "execution_count": null,
   "id": "83640707",
   "metadata": {},
   "outputs": [],
   "source": []
  },
  {
   "cell_type": "code",
   "execution_count": null,
   "id": "054b7ebc",
   "metadata": {},
   "outputs": [],
   "source": []
  }
 ],
 "metadata": {
  "kernelspec": {
   "display_name": "Python 3",
   "language": "python",
   "name": "python3"
  },
  "language_info": {
   "codemirror_mode": {
    "name": "ipython",
    "version": 3
   },
   "file_extension": ".py",
   "mimetype": "text/x-python",
   "name": "python",
   "nbconvert_exporter": "python",
   "pygments_lexer": "ipython3",
   "version": "3.8.8"
  }
 },
 "nbformat": 4,
 "nbformat_minor": 5
}
