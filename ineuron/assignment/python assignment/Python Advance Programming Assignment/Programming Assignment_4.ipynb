{
 "cells": [
  {
   "cell_type": "markdown",
   "id": "bdd14e41",
   "metadata": {},
   "source": [
    "### 1. In mathematics, the Fibonacci numbers, commonly denoted Fn, form a\n",
    "\n",
    "sequence, called the Fibonacci sequence, such that each number is the sum\n",
    "\n",
    "of the two preceding ones, starting from 0 and 1:\n",
    "\n",
    "The beginning of the sequence is this:\n",
    "\n",
    "0, 1, 1, 2, 3, 5, 8, 13, 21, 34, 55, 89, 144, ...\n",
    "\n",
    "The function fastFib(num) returns the fibonacci number Fn, of the given num as an argument.\n",
    "\n",
    "Examples\n",
    "\n",
    "fib_fast(5) ➞ 5\n",
    "\n",
    "fib_fast(10) ➞ 55\n",
    "\n",
    "fib_fast(20) ➞ 6765\n",
    "\n",
    "fib_fast(50) ➞ 12586269025"
   ]
  },
  {
   "cell_type": "code",
   "execution_count": 4,
   "id": "91316568",
   "metadata": {},
   "outputs": [
    {
     "data": {
      "text/plain": [
       "12586269025"
      ]
     },
     "execution_count": 4,
     "metadata": {},
     "output_type": "execute_result"
    }
   ],
   "source": [
    "def  fastFib(n):\n",
    "    a = 0\n",
    "    b = 1\n",
    "     \n",
    "    # Check is n is less\n",
    "    # than 0\n",
    "    if n < 0:\n",
    "        print(\"Incorrect input\")\n",
    "         \n",
    "    # Check is n is equal\n",
    "    # to 0\n",
    "    elif n == 0:\n",
    "        return 0\n",
    "       \n",
    "    # Check if n is equal to 1\n",
    "    elif n == 1:\n",
    "        return b\n",
    "    else:\n",
    "        for i in range(1, n):\n",
    "            c = a + b\n",
    "            a = b\n",
    "            b = c\n",
    "        return b\n",
    "    \n",
    "fastFib(50)"
   ]
  },
  {
   "cell_type": "markdown",
   "id": "0f27fbbc",
   "metadata": {},
   "source": [
    "### 2. Create a function that takes a strings characters as ASCII and returns each\n",
    "\n",
    "characters hexadecimal value as a string.\n",
    "\n",
    "Examples\n",
    "\n",
    "convert_to_hex(&quot;hello world&quot;) ➞ &quot;68 65 6c 6c 6f 20 77 6f 72 6c 64&quot;\n",
    "\n",
    "convert_to_hex(&quot;Big Boi&quot;) ➞ &quot;42 69 67 20 42 6f 69&quot;\n",
    "\n",
    "convert_to_hex(&quot;Marty Poppinson&quot;) ➞ &quot;4d 61 72 74 79 20 50 6f 70 70 69 6e\n",
    "73 6f 6e&quot;"
   ]
  },
  {
   "cell_type": "code",
   "execution_count": 13,
   "id": "bf1ab6e2",
   "metadata": {},
   "outputs": [
    {
     "name": "stdout",
     "output_type": "stream",
     "text": [
      "4d 61 72 74 79 20 50 6f 70 70 69 6e 73 6f 6e \n"
     ]
    }
   ],
   "source": [
    "hex(ord(\"c\"))\n",
    "\n",
    "def convert_to_hex(a):\n",
    "    b=\"\"\n",
    "    for i in a:\n",
    "        b += format(ord(str(i)), \"x\") + \" \"\n",
    "    \n",
    "    print(b)\n",
    "convert_to_hex(\"Marty Poppinson\")         "
   ]
  },
  {
   "cell_type": "markdown",
   "id": "950da76a",
   "metadata": {},
   "source": [
    "### 3. Someone has attempted to censor my strings by replacing every vowel\n",
    "\n",
    "with a * , l*k* th*s. Luckily, I&#39;ve been able to find the vowels that were\n",
    "\n",
    "removed.\n",
    "\n",
    "Given a censored string and a string of the censored vowels, return the\n",
    "\n",
    "original uncensored string.\n",
    "\n",
    "Example\n",
    "\n",
    "uncensor(&quot;Wh * r * d * d my v * w * ls g *?&quot;, &quot;eeioeo&quot;) ➞ &quot;Where did my vowels go?&quot;\n",
    "\n",
    "uncensor(&quot;abcd&quot;, &quot;&quot;) ➞ &quot;abcd&quot;\n",
    "\n",
    "uncensor(&quot;* PP * RC * S * &quot;, &quot;UEAE&quot;) ➞ &quot;UPPERCASE&quot;"
   ]
  },
  {
   "cell_type": "code",
   "execution_count": 15,
   "id": "83b07790",
   "metadata": {},
   "outputs": [
    {
     "name": "stdout",
     "output_type": "stream",
     "text": [
      "UPPERCASE\n"
     ]
    }
   ],
   "source": [
    "def uncensor(a,b):\n",
    "    d=''\n",
    "    c=0\n",
    "    for i in a:\n",
    "        if i == \"*\":\n",
    "            d += b[c]\n",
    "            c+=1\n",
    "        else:\n",
    "            d+=i\n",
    "    print(d)\n",
    "uncensor('*PP*RC*S*', \"UEAE\")       "
   ]
  },
  {
   "cell_type": "markdown",
   "id": "af1d83c3",
   "metadata": {},
   "source": [
    "### 4. Write a function that takes an IP address and returns the domain name\n",
    "\n",
    "using PTR DNS records.\n",
    "\n",
    "Example\n",
    "\n",
    "get_domain(&quot;8.8.8.8&quot;) ➞ &quot;dns.google&quot;\n",
    "\n",
    "get_domain(&quot;8.8.4.4&quot;) ➞ &quot;dns.google&quot;"
   ]
  },
  {
   "cell_type": "code",
   "execution_count": null,
   "id": "48100b45",
   "metadata": {},
   "outputs": [],
   "source": []
  },
  {
   "cell_type": "markdown",
   "id": "b6e9075d",
   "metadata": {},
   "source": [
    "### 5. Create a function that takes an integer n and returns the factorial of\n",
    "\n",
    "factorials. See below examples for a better understanding:\n",
    "    \n",
    "Examples\n",
    "\n",
    "fact_of_fact(4) ➞ 288\n",
    "\n",
    " 4! * 3! * 2! * 1! = 288\n",
    "\n",
    "fact_of_fact(5) ➞ 34560\n",
    "\n",
    "fact_of_fact(6) ➞ 24883200"
   ]
  },
  {
   "cell_type": "code",
   "execution_count": 29,
   "id": "76757011",
   "metadata": {},
   "outputs": [
    {
     "name": "stdout",
     "output_type": "stream",
     "text": [
      "1\n",
      "2\n",
      "3\n",
      "4\n",
      "5\n",
      "6\n",
      "24883200\n"
     ]
    }
   ],
   "source": [
    "def fact(c):\n",
    "    fact1=1\n",
    "    for i in range(1,c+1):\n",
    "        fact1 = fact1 * i\n",
    "    return fact1\n",
    "def fact_of_fact(n):\n",
    "    a=str(n)\n",
    "    b=1\n",
    "    \n",
    "    for i in range(1,n+1):\n",
    "        b *= fact(int(i))\n",
    "    print(b)\n",
    "\n",
    "fact_of_fact(6)"
   ]
  },
  {
   "cell_type": "code",
   "execution_count": null,
   "id": "cc4a8b7b",
   "metadata": {},
   "outputs": [],
   "source": []
  },
  {
   "cell_type": "code",
   "execution_count": null,
   "id": "240f058a",
   "metadata": {},
   "outputs": [],
   "source": []
  },
  {
   "cell_type": "code",
   "execution_count": null,
   "id": "b25f2602",
   "metadata": {},
   "outputs": [],
   "source": []
  },
  {
   "cell_type": "code",
   "execution_count": null,
   "id": "fa764985",
   "metadata": {},
   "outputs": [],
   "source": []
  }
 ],
 "metadata": {
  "kernelspec": {
   "display_name": "Python 3",
   "language": "python",
   "name": "python3"
  },
  "language_info": {
   "codemirror_mode": {
    "name": "ipython",
    "version": 3
   },
   "file_extension": ".py",
   "mimetype": "text/x-python",
   "name": "python",
   "nbconvert_exporter": "python",
   "pygments_lexer": "ipython3",
   "version": "3.8.8"
  }
 },
 "nbformat": 4,
 "nbformat_minor": 5
}
