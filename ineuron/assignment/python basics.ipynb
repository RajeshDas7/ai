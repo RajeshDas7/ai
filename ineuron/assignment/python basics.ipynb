{
 "cells": [
  {
   "cell_type": "code",
   "execution_count": 1,
   "id": "73c0581d",
   "metadata": {},
   "outputs": [
    {
     "name": "stdout",
     "output_type": "stream",
     "text": [
      "rajesh\n"
     ]
    }
   ],
   "source": [
    "print(\"rajesh\")"
   ]
  },
  {
   "cell_type": "code",
   "execution_count": 4,
   "id": "cb1c310c",
   "metadata": {},
   "outputs": [],
   "source": [
    "import this"
   ]
  },
  {
   "cell_type": "code",
   "execution_count": 5,
   "id": "76fbafcb",
   "metadata": {},
   "outputs": [
    {
     "name": "stderr",
     "output_type": "stream",
     "text": [
      "'nvidia-smi' is not recognized as an internal or external command,\n",
      "operable program or batch file.\n"
     ]
    }
   ],
   "source": [
    "!nvidia-smi"
   ]
  },
  {
   "cell_type": "code",
   "execution_count": 6,
   "id": "57eacc2a",
   "metadata": {},
   "outputs": [
    {
     "name": "stdout",
     "output_type": "stream",
     "text": [
      "this is my first python programe\n"
     ]
    }
   ],
   "source": [
    "print(\"this is my first python programe\")"
   ]
  },
  {
   "cell_type": "code",
   "execution_count": 8,
   "id": "e19e083b",
   "metadata": {},
   "outputs": [],
   "source": [
    "# print \"abcd\""
   ]
  },
  {
   "cell_type": "code",
   "execution_count": 11,
   "id": "a0099cb7",
   "metadata": {},
   "outputs": [
    {
     "data": {
      "text/plain": [
       "'jshnvf\\ndferg\\ngtghytjh\\nntghbgf\\nfgnjjuku\\nnynyhn'"
      ]
     },
     "execution_count": 11,
     "metadata": {},
     "output_type": "execute_result"
    }
   ],
   "source": [
    "\"\"\"jshnvf\n",
    "dferg\n",
    "gtghytjh\n",
    "ntghbgf\n",
    "fgnjjuku\n",
    "nynyhn\"\"\""
   ]
  },
  {
   "cell_type": "code",
   "execution_count": 1,
   "id": "f2913303",
   "metadata": {},
   "outputs": [],
   "source": [
    "# jshnvf\n",
    "# dferg\n",
    "# gtghytjh\n",
    "# ntghbgf\n",
    "# fgnjjuku\n",
    "# nynyhn"
   ]
  },
  {
   "cell_type": "code",
   "execution_count": null,
   "id": "24a041c1",
   "metadata": {},
   "outputs": [],
   "source": []
  },
  {
   "cell_type": "code",
   "execution_count": 2,
   "id": "95b53c8b",
   "metadata": {},
   "outputs": [],
   "source": [
    "a = 10"
   ]
  },
  {
   "cell_type": "code",
   "execution_count": 3,
   "id": "e590b21f",
   "metadata": {},
   "outputs": [
    {
     "data": {
      "text/plain": [
       "10"
      ]
     },
     "execution_count": 3,
     "metadata": {},
     "output_type": "execute_result"
    }
   ],
   "source": [
    "a"
   ]
  },
  {
   "cell_type": "code",
   "execution_count": 4,
   "id": "6b977b78",
   "metadata": {},
   "outputs": [
    {
     "data": {
      "text/plain": [
       "int"
      ]
     },
     "execution_count": 4,
     "metadata": {},
     "output_type": "execute_result"
    }
   ],
   "source": [
    "type(a)"
   ]
  },
  {
   "cell_type": "code",
   "execution_count": 13,
   "id": "9062becf",
   "metadata": {},
   "outputs": [
    {
     "name": "stdout",
     "output_type": "stream",
     "text": [
      "entered\n",
      "correct\n"
     ]
    }
   ],
   "source": [
    "print(\"entered\")\n",
    "c=\"adasdasfasfda\"\n",
    "b= type(a)\n",
    "if type(c)==str:\n",
    "    \n",
    "    print(\"correct\")\n",
    "else:\n",
    "    print(\"not\")\n",
    "    print(b)    "
   ]
  },
  {
   "cell_type": "code",
   "execution_count": 14,
   "id": "090661f6",
   "metadata": {},
   "outputs": [
    {
     "name": "stdout",
     "output_type": "stream",
     "text": [
      "10 <class 'int'> adasdasfasfda\n"
     ]
    }
   ],
   "source": [
    "print(a,b,c)"
   ]
  },
  {
   "cell_type": "code",
   "execution_count": 15,
   "id": "e7fc1be4",
   "metadata": {},
   "outputs": [],
   "source": [
    "w , e = 23 , 44"
   ]
  },
  {
   "cell_type": "code",
   "execution_count": 16,
   "id": "34306252",
   "metadata": {},
   "outputs": [
    {
     "data": {
      "text/plain": [
       "23"
      ]
     },
     "execution_count": 16,
     "metadata": {},
     "output_type": "execute_result"
    }
   ],
   "source": [
    "w"
   ]
  },
  {
   "cell_type": "code",
   "execution_count": 17,
   "id": "bff37bb6",
   "metadata": {},
   "outputs": [
    {
     "data": {
      "text/plain": [
       "(23, 44)"
      ]
     },
     "execution_count": 17,
     "metadata": {},
     "output_type": "execute_result"
    }
   ],
   "source": [
    "w,e"
   ]
  },
  {
   "cell_type": "code",
   "execution_count": 18,
   "id": "07d066ad",
   "metadata": {},
   "outputs": [],
   "source": [
    "_b = 123"
   ]
  },
  {
   "cell_type": "code",
   "execution_count": 19,
   "id": "11ea471f",
   "metadata": {},
   "outputs": [
    {
     "data": {
      "text/plain": [
       "123"
      ]
     },
     "execution_count": 19,
     "metadata": {},
     "output_type": "execute_result"
    }
   ],
   "source": [
    "_b"
   ]
  },
  {
   "cell_type": "code",
   "execution_count": 20,
   "id": "8f8fe2d6",
   "metadata": {},
   "outputs": [
    {
     "ename": "SyntaxError",
     "evalue": "invalid syntax (<ipython-input-20-9db86e9bab04>, line 1)",
     "output_type": "error",
     "traceback": [
      "\u001b[1;36m  File \u001b[1;32m\"<ipython-input-20-9db86e9bab04>\"\u001b[1;36m, line \u001b[1;32m1\u001b[0m\n\u001b[1;33m    @g = 123\u001b[0m\n\u001b[1;37m       ^\u001b[0m\n\u001b[1;31mSyntaxError\u001b[0m\u001b[1;31m:\u001b[0m invalid syntax\n"
     ]
    }
   ],
   "source": [
    "@g = 123"
   ]
  },
  {
   "cell_type": "code",
   "execution_count": 21,
   "id": "b89e66e1",
   "metadata": {},
   "outputs": [],
   "source": [
    "a = 1.6"
   ]
  },
  {
   "cell_type": "code",
   "execution_count": 22,
   "id": "1b1e1c1c",
   "metadata": {},
   "outputs": [
    {
     "data": {
      "text/plain": [
       "float"
      ]
     },
     "execution_count": 22,
     "metadata": {},
     "output_type": "execute_result"
    }
   ],
   "source": [
    "type(a)"
   ]
  },
  {
   "cell_type": "code",
   "execution_count": 23,
   "id": "9a6e1c14",
   "metadata": {},
   "outputs": [],
   "source": [
    "a = True\n",
    "b = False\n",
    "c = \"dddd\""
   ]
  },
  {
   "cell_type": "code",
   "execution_count": 31,
   "id": "d95be285",
   "metadata": {},
   "outputs": [],
   "source": [
    "q=type(a)\n",
    "w=type(b)\n",
    "e=type(c)"
   ]
  },
  {
   "cell_type": "code",
   "execution_count": 32,
   "id": "89bb236c",
   "metadata": {},
   "outputs": [
    {
     "name": "stdout",
     "output_type": "stream",
     "text": [
      "<class 'bool'> <class 'bool'> <class 'str'>\n"
     ]
    }
   ],
   "source": [
    "print(q,w,e)"
   ]
  },
  {
   "cell_type": "code",
   "execution_count": 34,
   "id": "9617530a",
   "metadata": {},
   "outputs": [
    {
     "name": "stdout",
     "output_type": "stream",
     "text": [
      "5\n"
     ]
    }
   ],
   "source": [
    "print(True +True+False+False + True+False +True +True+ False)"
   ]
  },
  {
   "cell_type": "code",
   "execution_count": 35,
   "id": "7350422c",
   "metadata": {},
   "outputs": [
    {
     "ename": "ZeroDivisionError",
     "evalue": "division by zero",
     "output_type": "error",
     "traceback": [
      "\u001b[1;31m---------------------------------------------------------------------------\u001b[0m",
      "\u001b[1;31mZeroDivisionError\u001b[0m                         Traceback (most recent call last)",
      "\u001b[1;32m<ipython-input-35-9e1622b385b6>\u001b[0m in \u001b[0;36m<module>\u001b[1;34m\u001b[0m\n\u001b[1;32m----> 1\u001b[1;33m \u001b[1;36m1\u001b[0m\u001b[1;33m/\u001b[0m\u001b[1;36m0\u001b[0m\u001b[1;33m\u001b[0m\u001b[1;33m\u001b[0m\u001b[0m\n\u001b[0m",
      "\u001b[1;31mZeroDivisionError\u001b[0m: division by zero"
     ]
    }
   ],
   "source": [
    "1/0"
   ]
  },
  {
   "cell_type": "code",
   "execution_count": 36,
   "id": "d7b0bf6e",
   "metadata": {},
   "outputs": [
    {
     "data": {
      "text/plain": [
       "complex"
      ]
     },
     "execution_count": 36,
     "metadata": {},
     "output_type": "execute_result"
    }
   ],
   "source": [
    "n = 45 +6j\n",
    "type(n)"
   ]
  },
  {
   "cell_type": "code",
   "execution_count": 37,
   "id": "0495d1e1",
   "metadata": {},
   "outputs": [
    {
     "name": "stdout",
     "output_type": "stream",
     "text": [
      "(45+6j)\n"
     ]
    }
   ],
   "source": [
    "n = 45 +6j\n",
    "print(n)\n"
   ]
  },
  {
   "cell_type": "code",
   "execution_count": 38,
   "id": "5c4a5178",
   "metadata": {},
   "outputs": [
    {
     "data": {
      "text/plain": [
       "45.0"
      ]
     },
     "execution_count": 38,
     "metadata": {},
     "output_type": "execute_result"
    }
   ],
   "source": [
    "n.real"
   ]
  },
  {
   "cell_type": "markdown",
   "id": "455fe67e",
   "metadata": {},
   "source": [
    "n.img"
   ]
  },
  {
   "cell_type": "code",
   "execution_count": 40,
   "id": "f9ecaec1",
   "metadata": {},
   "outputs": [
    {
     "data": {
      "text/plain": [
       "6.0"
      ]
     },
     "execution_count": 40,
     "metadata": {},
     "output_type": "execute_result"
    }
   ],
   "source": [
    "n.imag"
   ]
  },
  {
   "cell_type": "markdown",
   "id": "4184a9d3",
   "metadata": {},
   "source": [
    "1 \n"
   ]
  },
  {
   "cell_type": "code",
   "execution_count": 41,
   "id": "f5c16f46",
   "metadata": {},
   "outputs": [
    {
     "ename": "TypeError",
     "evalue": "unsupported operand type(s) for +: 'int' and 'str'",
     "output_type": "error",
     "traceback": [
      "\u001b[1;31m---------------------------------------------------------------------------\u001b[0m",
      "\u001b[1;31mTypeError\u001b[0m                                 Traceback (most recent call last)",
      "\u001b[1;32m<ipython-input-41-8773b506bb2b>\u001b[0m in \u001b[0;36m<module>\u001b[1;34m\u001b[0m\n\u001b[1;32m----> 1\u001b[1;33m \u001b[1;36m1\u001b[0m \u001b[1;33m+\u001b[0m \u001b[1;34m\"sudh\"\u001b[0m\u001b[1;33m\u001b[0m\u001b[1;33m\u001b[0m\u001b[0m\n\u001b[0m",
      "\u001b[1;31mTypeError\u001b[0m: unsupported operand type(s) for +: 'int' and 'str'"
     ]
    }
   ],
   "source": [
    "1 + \"sudh\""
   ]
  },
  {
   "cell_type": "markdown",
   "id": "6dfdc66f",
   "metadata": {},
   "source": [
    "# "
   ]
  },
  {
   "cell_type": "code",
   "execution_count": 42,
   "id": "24ed862f",
   "metadata": {},
   "outputs": [
    {
     "data": {
      "text/plain": [
       "'1subh'"
      ]
     },
     "execution_count": 42,
     "metadata": {},
     "output_type": "execute_result"
    }
   ],
   "source": [
    "\"1\" + \"subh\""
   ]
  },
  {
   "cell_type": "markdown",
   "id": "287f87c2",
   "metadata": {},
   "source": [
    "# "
   ]
  },
  {
   "cell_type": "markdown",
   "id": "b0045935",
   "metadata": {},
   "source": [
    "# "
   ]
  },
  {
   "cell_type": "markdown",
   "id": "362eae13",
   "metadata": {},
   "source": [
    "## "
   ]
  },
  {
   "cell_type": "code",
   "execution_count": 43,
   "id": "0afaf703",
   "metadata": {},
   "outputs": [],
   "source": [
    "n = 45+6j"
   ]
  },
  {
   "cell_type": "code",
   "execution_count": 44,
   "id": "e614daaa",
   "metadata": {},
   "outputs": [
    {
     "data": {
      "text/plain": [
       "<function complex.conjugate>"
      ]
     },
     "execution_count": 44,
     "metadata": {},
     "output_type": "execute_result"
    }
   ],
   "source": [
    "n.conjugate"
   ]
  },
  {
   "cell_type": "markdown",
   "id": "aa22a51d",
   "metadata": {},
   "source": [
    "### "
   ]
  },
  {
   "cell_type": "code",
   "execution_count": 45,
   "id": "ac574477",
   "metadata": {},
   "outputs": [
    {
     "data": {
      "text/plain": [
       "'sudhsudj'"
      ]
     },
     "execution_count": 45,
     "metadata": {},
     "output_type": "execute_result"
    }
   ],
   "source": [
    "\"sudh\" + \"sudj\""
   ]
  },
  {
   "cell_type": "code",
   "execution_count": 46,
   "id": "b9a4eb7d",
   "metadata": {},
   "outputs": [
    {
     "data": {
      "text/plain": [
       "'sudhsudhsudh'"
      ]
     },
     "execution_count": 46,
     "metadata": {},
     "output_type": "execute_result"
    }
   ],
   "source": [
    "\"sudh\" *3"
   ]
  },
  {
   "cell_type": "code",
   "execution_count": 47,
   "id": "685753c1",
   "metadata": {},
   "outputs": [
    {
     "data": {
      "text/plain": [
       "4"
      ]
     },
     "execution_count": 47,
     "metadata": {},
     "output_type": "execute_result"
    }
   ],
   "source": [
    "int(\"1\") + 3"
   ]
  },
  {
   "cell_type": "code",
   "execution_count": 49,
   "id": "4fbfa140",
   "metadata": {},
   "outputs": [
    {
     "name": "stdout",
     "output_type": "stream",
     "text": [
      "enter333\n",
      "333\n"
     ]
    }
   ],
   "source": [
    "a = input(\"enter\")\n",
    "print(a)"
   ]
  },
  {
   "cell_type": "code",
   "execution_count": 56,
   "id": "3aa84d43",
   "metadata": {},
   "outputs": [
    {
     "name": "stdout",
     "output_type": "stream",
     "text": [
      "i15\n",
      "i26\n",
      "i37\n"
     ]
    }
   ],
   "source": [
    "a= int(input(\"i1\"))\n",
    "b= int(input(\"i2\"))\n",
    "c= int(input(\"i3\"))"
   ]
  },
  {
   "cell_type": "code",
   "execution_count": 57,
   "id": "c715e255",
   "metadata": {},
   "outputs": [
    {
     "name": "stdout",
     "output_type": "stream",
     "text": [
      "1.5714285714285714\n"
     ]
    }
   ],
   "source": [
    "o=(a+b)/c\n",
    "print(o)"
   ]
  },
  {
   "cell_type": "code",
   "execution_count": 58,
   "id": "3bee2fdf",
   "metadata": {},
   "outputs": [],
   "source": [
    "com = 45 + 6j\n",
    "o1 = o + com"
   ]
  },
  {
   "cell_type": "code",
   "execution_count": 63,
   "id": "16c77e77",
   "metadata": {},
   "outputs": [
    {
     "name": "stdout",
     "output_type": "stream",
     "text": [
      "(46.57142857142857+6j)\n",
      "<class 'complex'>\n"
     ]
    }
   ],
   "source": [
    "print(o1)\n",
    "print(type(o1))\n",
    "\n"
   ]
  },
  {
   "cell_type": "code",
   "execution_count": 61,
   "id": "ab1d2b56",
   "metadata": {},
   "outputs": [
    {
     "data": {
      "text/plain": [
       "'(46.57142857142857+6j)rajesh'"
      ]
     },
     "execution_count": 61,
     "metadata": {},
     "output_type": "execute_result"
    }
   ],
   "source": [
    "str(o1) + \"rajesh\""
   ]
  },
  {
   "cell_type": "code",
   "execution_count": 1,
   "id": "69bbd8e8",
   "metadata": {},
   "outputs": [
    {
     "name": "stdout",
     "output_type": "stream",
     "text": [
      "enter a number lesser than 34: 23\n"
     ]
    }
   ],
   "source": []
  },
  {
   "cell_type": "code",
   "execution_count": 8,
   "id": "512f6706",
   "metadata": {},
   "outputs": [
    {
     "name": "stdout",
     "output_type": "stream",
     "text": [
      "enter a number lesser than 34: 111\n",
      "data greater than 34\n"
     ]
    }
   ],
   "source": [
    "a = int(input(\"enter a number lesser than 34: \"))\n",
    "if a < 34:\n",
    "    print(\"data input is lesser than 34 and i am fine with it\")\n",
    "#     pass\n",
    "elif a<100:\n",
    "    print(\"data less than 100\")\n",
    "else:\n",
    "    print(\"data greater than 34\")\n",
    "    "
   ]
  },
  {
   "cell_type": "code",
   "execution_count": 10,
   "id": "0a4f4581",
   "metadata": {},
   "outputs": [
    {
     "name": "stdout",
     "output_type": "stream",
     "text": [
      "enter your salary1\n",
      "buy a car\n"
     ]
    }
   ],
   "source": [
    "salary = int(input(\"enter your salary\"))\n",
    "if salary < 1000:\n",
    "    print(\"buy a car\")\n",
    "    \n",
    "elif salary < 500:\n",
    "    print(\"buy a bike\")\n",
    "    \n",
    "\n",
    "elif salary < 100:\n",
    "    print(\"i will not do anything\")\n",
    "    \n",
    "else:\n",
    "    print(\"i will go for saving\")\n"
   ]
  },
  {
   "cell_type": "code",
   "execution_count": 14,
   "id": "89973fef",
   "metadata": {},
   "outputs": [
    {
     "name": "stdout",
     "output_type": "stream",
     "text": [
      "valid statement\n"
     ]
    }
   ],
   "source": [
    "a=10\n",
    "b=20\n",
    "\n",
    "if a==10 or b >20:\n",
    "    print(\"valid statement\")\n",
    "elif a==10 and b < 20:\n",
    "    print(\"this statement is valid inside elif\")\n",
    "else:\n",
    "    print(\"condition is not valid\")"
   ]
  },
  {
   "cell_type": "code",
   "execution_count": 15,
   "id": "73fcb688",
   "metadata": {},
   "outputs": [
    {
     "name": "stdout",
     "output_type": "stream",
     "text": [
      "first name: rajesh\n",
      "last namedas\n",
      "hello rajesh\n"
     ]
    }
   ],
   "source": [
    "a = input(\"first name: \")\n",
    "b = input(\"last name\")\n",
    "\n",
    "if a==\"rajesh\" and b ==\"das\":\n",
    "    print(\"hello rajesh\")\n",
    "elif a ==\"rajesh\" or b ==\"anything else\":\n",
    "    print(\"your first name is rajesh\")\n",
    "else:\n",
    "    print(\"you are not rajesh\")"
   ]
  },
  {
   "cell_type": "code",
   "execution_count": null,
   "id": "aa2cd30c",
   "metadata": {},
   "outputs": [],
   "source": []
  }
 ],
 "metadata": {
  "kernelspec": {
   "display_name": "Python 3",
   "language": "python",
   "name": "python3"
  },
  "language_info": {
   "codemirror_mode": {
    "name": "ipython",
    "version": 3
   },
   "file_extension": ".py",
   "mimetype": "text/x-python",
   "name": "python",
   "nbconvert_exporter": "python",
   "pygments_lexer": "ipython3",
   "version": "3.8.8"
  }
 },
 "nbformat": 4,
 "nbformat_minor": 5
}
