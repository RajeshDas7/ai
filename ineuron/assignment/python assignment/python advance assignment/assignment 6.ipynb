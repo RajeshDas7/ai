{
 "cells": [
  {
   "cell_type": "markdown",
   "id": "f721bd11",
   "metadata": {},
   "source": [
    "### Q1. Describe three applications for exception processing."
   ]
  },
  {
   "cell_type": "code",
   "execution_count": null,
   "id": "7e8ce040",
   "metadata": {},
   "outputs": [],
   "source": [
    "1=== to make the programme less breakable\n",
    "2=== to handle error\n",
    "3=== to track down the bug in a programme"
   ]
  },
  {
   "cell_type": "markdown",
   "id": "dc1c05f9",
   "metadata": {},
   "source": [
    "### Q2. What happens if you don&#39;t do something extra to treat an exception?\n"
   ]
  },
  {
   "cell_type": "code",
   "execution_count": null,
   "id": "eadb86be",
   "metadata": {},
   "outputs": [],
   "source": [
    "the flow of execution of the programme is disturbed"
   ]
  },
  {
   "cell_type": "markdown",
   "id": "d188e5cc",
   "metadata": {},
   "source": [
    "### Q3. What are your options for recovering from an exception in your script?\n"
   ]
  },
  {
   "cell_type": "code",
   "execution_count": null,
   "id": "7155ecdd",
   "metadata": {},
   "outputs": [],
   "source": [
    "to put the suspicious code inside a try block.\n",
    "and if it raises any error handle it with except block"
   ]
  },
  {
   "cell_type": "markdown",
   "id": "46009a47",
   "metadata": {},
   "source": [
    "### Q4. Describe two methods for triggering exceptions in your script.\n"
   ]
  },
  {
   "cell_type": "code",
   "execution_count": null,
   "id": "ae94f277",
   "metadata": {},
   "outputs": [],
   "source": [
    "try method where the suspicious code is writen\n",
    "except method where the responce for the error is written"
   ]
  },
  {
   "cell_type": "markdown",
   "id": "2ff1eff3",
   "metadata": {},
   "source": [
    "### Q5. Identify two methods for specifying actions to be executed at termination time, regardless of whether or not an exception exists."
   ]
  },
  {
   "cell_type": "code",
   "execution_count": null,
   "id": "97708a9d",
   "metadata": {},
   "outputs": [],
   "source": [
    "else and finally "
   ]
  },
  {
   "cell_type": "code",
   "execution_count": null,
   "id": "98b3fcfd",
   "metadata": {},
   "outputs": [],
   "source": []
  },
  {
   "cell_type": "code",
   "execution_count": null,
   "id": "1b68590f",
   "metadata": {},
   "outputs": [],
   "source": []
  },
  {
   "cell_type": "code",
   "execution_count": null,
   "id": "c4c6deb9",
   "metadata": {},
   "outputs": [],
   "source": []
  }
 ],
 "metadata": {
  "kernelspec": {
   "display_name": "Python 3",
   "language": "python",
   "name": "python3"
  },
  "language_info": {
   "codemirror_mode": {
    "name": "ipython",
    "version": 3
   },
   "file_extension": ".py",
   "mimetype": "text/x-python",
   "name": "python",
   "nbconvert_exporter": "python",
   "pygments_lexer": "ipython3",
   "version": "3.8.8"
  }
 },
 "nbformat": 4,
 "nbformat_minor": 5
}
