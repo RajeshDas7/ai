{
 "cells": [
  {
   "cell_type": "markdown",
   "id": "c917b238",
   "metadata": {},
   "source": [
    "### 1. For this challenge, forget how to add two numbers together. The best\n",
    "\n",
    "explanation on what to do for this function is this meme:\n",
    "\n",
    "Examples\n",
    "\n",
    "meme_sum(26, 39) ➞ 515\n",
    "\n",
    "#2+3 = 5, 6+9 = 15\n",
    "#26 + 39 = 515\n",
    "\n",
    "meme_sum(122, 81) ➞ 1103\n",
    "\n",
    "#1+0 = 1, 2+8 = 10, 2+1 = 3\n",
    "#122 + 81 = 1103\n",
    "\n",
    "meme_sum(1222, 30277) ➞ 31499"
   ]
  },
  {
   "cell_type": "code",
   "execution_count": 14,
   "id": "765efd4f",
   "metadata": {},
   "outputs": [
    {
     "name": "stdout",
     "output_type": "stream",
     "text": [
      "1\n",
      "110\n",
      "1103\n"
     ]
    }
   ],
   "source": [
    "def meme_sum(a,b):\n",
    "    c=str(a)\n",
    "    d=str(b)\n",
    "    e=len(c)\n",
    "    f=len(d)\n",
    "    y=\"\"\n",
    "    if e>f:\n",
    "        q=e-f\n",
    "        d=\"0\"*q +d\n",
    "    else:\n",
    "        q=f-e\n",
    "        c=\"0\"*q+c\n",
    "        \n",
    "    for i in range(len(c)):\n",
    "        p=int(c[i])\n",
    "        l=int(d[i])\n",
    "        m=str(p+l)\n",
    "        \n",
    "        y= y+m\n",
    "        print(y)\n",
    "    \n",
    "meme_sum(122, 81)"
   ]
  },
  {
   "cell_type": "markdown",
   "id": "c80deeae",
   "metadata": {},
   "source": [
    "### 2. Given an integer, create a function that returns the next prime. If the\n",
    "\n",
    "number is prime, return the number itself.\n",
    "\n",
    "Examples\n",
    "\n",
    "next_prime(12) ➞ 13\n",
    "\n",
    "next_prime(24) ➞ 29\n",
    "\n",
    "next_prime(11) ➞ 11\n",
    "\n",
    "#11 is a prime, so we return the number itself.\n"
   ]
  },
  {
   "cell_type": "code",
   "execution_count": 18,
   "id": "ded6fc85",
   "metadata": {},
   "outputs": [
    {
     "name": "stdout",
     "output_type": "stream",
     "text": [
      "11\n"
     ]
    }
   ],
   "source": [
    "from math import sqrt\n",
    "\n",
    "def prime(n):\n",
    "\n",
    "    prime_flag = 0\n",
    "\n",
    "    if(n > 1):\n",
    "        for i in range(2, int(sqrt(n)) + 1):\n",
    "            if (n % i == 0):\n",
    "                prime_flag = 1\n",
    "                break\n",
    "        if (prime_flag == 0):\n",
    "            return True\n",
    "        else:\n",
    "            return False\n",
    "    else:\n",
    "        return False\n",
    "\n",
    "\n",
    "\n",
    "def next_prime(q):\n",
    "    a=q\n",
    "    flag=True\n",
    "    while flag:\n",
    "        \n",
    "        if prime(a):\n",
    "            flag=False\n",
    "        else:\n",
    "            a+=1\n",
    "    print(a)\n",
    "    \n",
    "next_prime(11)"
   ]
  },
  {
   "cell_type": "markdown",
   "id": "8d6da0a4",
   "metadata": {},
   "source": [
    "### 3. If a person traveled up a hill for 18mins at 20mph and then traveled back\n",
    "\n",
    "down the same path at 60mph then their average speed traveled was 30mph.\n",
    "\n",
    "Write a function that returns the average speed traveled given an uphill time,\n",
    "\n",
    "uphill rate and a downhill rate. Uphill time is given in minutes. Return the rate\n",
    "\n",
    "as an integer (mph). No rounding is necessary.\n",
    "\n",
    "Examples\n",
    "\n",
    "ave_spd(18, 20, 60) ➞ 30\n",
    "\n",
    "ave_spd(30, 10, 30) ➞ 15\n",
    "\n",
    "ave_spd(30, 8, 24) ➞ 12\n"
   ]
  },
  {
   "cell_type": "code",
   "execution_count": null,
   "id": "44168d2b",
   "metadata": {},
   "outputs": [],
   "source": []
  },
  {
   "cell_type": "markdown",
   "id": "e063289e",
   "metadata": {},
   "source": [
    "### 4. The Kempner Function, applied to a composite number, permits to find the\n",
    "\n",
    "smallest integer greater than zero whose factorial is exactly divided by the\n",
    "\n",
    "number.\n",
    "\n",
    "kempner(6) ➞ 3\n",
    "\n",
    "1! = 1 % 6 &gt; 0\n",
    "\n",
    "2! = 2 % 6 &gt; 0\n",
    "\n",
    "3! = 6 % 6 === 0\n",
    "\n",
    "kempner(10) ➞ 5\n",
    "\n",
    "1! = 1 % 10 &gt; 0\n",
    "\n",
    "2! = 2 % 10 &gt; 0\n",
    "\n",
    "3! = 6 % 10 &gt; 0\n",
    "\n",
    "4! = 24 % 10 &gt; 0\n",
    "\n",
    "5! = 120 % 10 === 0\n",
    "\n",
    "A Kempner Function applied to a prime will always return the prime itself.\n",
    "\n",
    "kempner(2) ➞ 2\n",
    "\n",
    "kempner(5) ➞ 5\n",
    "\n",
    "Given an integer n, implement a Kempner Function.\n",
    "\n",
    "Examples\n",
    "\n",
    "kempner(6) ➞ 3\n",
    "\n",
    "kempner(10) ➞ 5\n",
    "\n",
    "kempner(2) ➞ 2\n"
   ]
  },
  {
   "cell_type": "code",
   "execution_count": null,
   "id": "faf9cd51",
   "metadata": {},
   "outputs": [],
   "source": []
  },
  {
   "cell_type": "markdown",
   "id": "1f10964f",
   "metadata": {},
   "source": [
    "### 5. You work in a factory, and your job is to take items from a conveyor belt\n",
    "\n",
    "and pack them into boxes. Each box can hold a maximum of 10 kgs. Given a\n",
    "\n",
    "list containing the weight (in kg) of each item, how many boxes would you\n",
    "\n",
    "need to pack all of the items?\n",
    "\n",
    "Example\n",
    "\n",
    "boxes([2, 1, 2, 5, 4, 3, 6, 1, 1, 9, 3, 2]) ➞ 5\n",
    "\n",
    "#Box 1 = [2, 1, 2, 5] (10kg)\n",
    "\n",
    "#Box 2 = [4, 3] (7kg)\n",
    "\n",
    "#Box 3 = [6, 1, 1] (8kg)\n",
    "\n",
    "#Box 4 = [9] (9kg)\n",
    "\n",
    "#Box 5 = [3, 2] (5kg)"
   ]
  },
  {
   "cell_type": "code",
   "execution_count": 20,
   "id": "e4dbe840",
   "metadata": {},
   "outputs": [
    {
     "name": "stdout",
     "output_type": "stream",
     "text": [
      "[[2, 1, 2, 5, 4], [6, 1, 1, 9]]\n"
     ]
    }
   ],
   "source": [
    "def boxes(a):\n",
    "    b=0\n",
    "    c=[]\n",
    "    d=[]\n",
    "    for i in a:\n",
    "        if b>10:\n",
    "            d.append(c)\n",
    "            c=[]\n",
    "            b=0\n",
    "        else:\n",
    "            \n",
    "            \n",
    "            c.append(i)\n",
    "            b+=i\n",
    "    print(d)\n",
    "\n",
    "boxes([2, 1, 2, 5, 4, 3, 6, 1, 1, 9, 3, 2])"
   ]
  },
  {
   "cell_type": "code",
   "execution_count": null,
   "id": "8f088317",
   "metadata": {},
   "outputs": [],
   "source": []
  },
  {
   "cell_type": "code",
   "execution_count": null,
   "id": "dbb9f587",
   "metadata": {},
   "outputs": [],
   "source": []
  },
  {
   "cell_type": "code",
   "execution_count": null,
   "id": "a798f877",
   "metadata": {},
   "outputs": [],
   "source": []
  },
  {
   "cell_type": "code",
   "execution_count": null,
   "id": "c1eb7483",
   "metadata": {},
   "outputs": [],
   "source": []
  },
  {
   "cell_type": "code",
   "execution_count": null,
   "id": "36845bfc",
   "metadata": {},
   "outputs": [],
   "source": []
  }
 ],
 "metadata": {
  "kernelspec": {
   "display_name": "Python 3",
   "language": "python",
   "name": "python3"
  },
  "language_info": {
   "codemirror_mode": {
    "name": "ipython",
    "version": 3
   },
   "file_extension": ".py",
   "mimetype": "text/x-python",
   "name": "python",
   "nbconvert_exporter": "python",
   "pygments_lexer": "ipython3",
   "version": "3.8.8"
  }
 },
 "nbformat": 4,
 "nbformat_minor": 5
}
