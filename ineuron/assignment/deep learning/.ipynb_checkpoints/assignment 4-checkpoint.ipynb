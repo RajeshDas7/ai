{
 "cells": [
  {
   "cell_type": "markdown",
   "id": "8f484b76",
   "metadata": {},
   "source": [
    "### 1. How would you describe TensorFlow in a short sentence? What are its main features? Can you name other popular Deep Learning libraries?"
   ]
  },
  {
   "cell_type": "code",
   "execution_count": null,
   "id": "0270d4e3",
   "metadata": {},
   "outputs": [],
   "source": [
    "TensorFlow is an end-to-end open source platform for machine learning.\n",
    "It has a comprehensive, flexible ecosystem of tools, libraries and community.\n",
    "\n",
    "Some of the key features of TensorFlow are: Efficiently works with mathematical expressions \n",
    "involving multi-dimensional arrays. Good support of deep neural networks and machine learning concepts.\n",
    "GPU/CPU computing where the same code can be executed on both architectures.\n",
    "\n",
    "Torch:\n",
    "Neural Designer:\n",
    "TensorFlow:\n",
    "Microsoft Cognitive Toolkit:\n",
    "Pytorch:\n",
    "H20.ai:\n",
    "Keras:"
   ]
  },
  {
   "cell_type": "markdown",
   "id": "28c89b31",
   "metadata": {},
   "source": [
    "### 2. Is TensorFlow a drop-in replacement for NumPy? What are the main differences between the two?"
   ]
  },
  {
   "cell_type": "code",
   "execution_count": null,
   "id": "c484b1de",
   "metadata": {},
   "outputs": [],
   "source": [
    "no.\n",
    "Tensorflow is a library for artificial intelligence, \n",
    "especially machine learning. Numpy is a library for doing numerical calculations."
   ]
  },
  {
   "cell_type": "markdown",
   "id": "a65b9623",
   "metadata": {},
   "source": [
    "### 3. Do you get the same result with tf.range(10) and tf.constant(np.arange(10))?\n"
   ]
  },
  {
   "cell_type": "code",
   "execution_count": null,
   "id": "316e5428",
   "metadata": {},
   "outputs": [],
   "source": [
    "yes"
   ]
  },
  {
   "cell_type": "markdown",
   "id": "170b0716",
   "metadata": {},
   "source": [
    "### 4. Can you name six other data structures available in TensorFlow, beyond regular tensors?\n"
   ]
  },
  {
   "cell_type": "code",
   "execution_count": null,
   "id": "851bc2f3",
   "metadata": {},
   "outputs": [],
   "source": [
    "Linked Lists\n",
    "Binary Trees and Balanced Binary Trees\n",
    "Heap Data Structure\n",
    "Dynamic Arrays\n",
    "Stack Data Structure\n",
    "Queue Data Structure"
   ]
  },
  {
   "cell_type": "markdown",
   "id": "3f364023",
   "metadata": {},
   "source": [
    "### 5. A custom loss function can be defined by writing a function or by subclassing the keras.losses.Loss class. When would you use each option?"
   ]
  },
  {
   "cell_type": "code",
   "execution_count": null,
   "id": "d3c9a467",
   "metadata": {},
   "outputs": [],
   "source": []
  },
  {
   "cell_type": "code",
   "execution_count": null,
   "id": "797e5b5a",
   "metadata": {},
   "outputs": [],
   "source": [
    "6. Similarly, a custom metric can be defined in a function or a subclass of keras.metrics.Metric.\n",
    "When would you use each option?"
   ]
  },
  {
   "cell_type": "code",
   "execution_count": null,
   "id": "04685468",
   "metadata": {},
   "outputs": [],
   "source": []
  },
  {
   "cell_type": "markdown",
   "id": "9f5e145d",
   "metadata": {},
   "source": [
    "### 7. When should you create a custom layer versus a custom model?"
   ]
  },
  {
   "cell_type": "code",
   "execution_count": null,
   "id": "8be6c217",
   "metadata": {},
   "outputs": [],
   "source": [
    "If you are building a new model architecture using existing keras/tf layers then build a custom model.\n",
    "If you are implementing your own custom tensor operations with in a layer, then build a custom layer."
   ]
  },
  {
   "cell_type": "markdown",
   "id": "2fa20984",
   "metadata": {},
   "source": [
    "### 8. What are some use cases that require writing your own custom training loop?"
   ]
  },
  {
   "cell_type": "code",
   "execution_count": null,
   "id": "92683d49",
   "metadata": {},
   "outputs": [],
   "source": []
  },
  {
   "cell_type": "markdown",
   "id": "9b6b06e5",
   "metadata": {},
   "source": [
    "### 9. Can custom Keras components contain arbitrary Python code, or must they be convertible to TF Functions?"
   ]
  },
  {
   "cell_type": "code",
   "execution_count": null,
   "id": "4c269102",
   "metadata": {},
   "outputs": [],
   "source": [
    "yes"
   ]
  },
  {
   "cell_type": "markdown",
   "id": "e459f799",
   "metadata": {},
   "source": [
    "### 10. What are the main rules to respect if you want a function to be convertible to a TF Function?"
   ]
  },
  {
   "cell_type": "code",
   "execution_count": null,
   "id": "ed54a098",
   "metadata": {},
   "outputs": [],
   "source": [
    "You can use tf. function to make graphs out of your programs. It is a\n",
    "transformation tool that creates Python-independent dataflow graphs out of your Python code.\n",
    "This will help you create performant and portable models, and it is required to use SavedModel "
   ]
  },
  {
   "cell_type": "markdown",
   "id": "2b84f8f1",
   "metadata": {},
   "source": [
    "### 11. When would you need to create a dynamic Keras model? How do you do that? Why not make all your models dynamic?"
   ]
  },
  {
   "cell_type": "code",
   "execution_count": null,
   "id": "1da4aa3b",
   "metadata": {},
   "outputs": [],
   "source": []
  },
  {
   "cell_type": "code",
   "execution_count": null,
   "id": "66f2b092",
   "metadata": {},
   "outputs": [],
   "source": []
  },
  {
   "cell_type": "code",
   "execution_count": null,
   "id": "db7779d3",
   "metadata": {},
   "outputs": [],
   "source": []
  },
  {
   "cell_type": "code",
   "execution_count": null,
   "id": "e5b4330a",
   "metadata": {},
   "outputs": [],
   "source": []
  }
 ],
 "metadata": {
  "kernelspec": {
   "display_name": "Python 3",
   "language": "python",
   "name": "python3"
  },
  "language_info": {
   "codemirror_mode": {
    "name": "ipython",
    "version": 3
   },
   "file_extension": ".py",
   "mimetype": "text/x-python",
   "name": "python",
   "nbconvert_exporter": "python",
   "pygments_lexer": "ipython3",
   "version": "3.8.8"
  }
 },
 "nbformat": 4,
 "nbformat_minor": 5
}
