{
 "cells": [
  {
   "cell_type": "markdown",
   "id": "ac32c292",
   "metadata": {},
   "source": [
    "### 1. What is the concept of supervised learning? What is the significance of the name?"
   ]
  },
  {
   "cell_type": "code",
   "execution_count": null,
   "id": "c2746aa4",
   "metadata": {},
   "outputs": [],
   "source": [
    "It is defined by its use of labeled datasets to train algorithms that to classify data or predict \n",
    "outcomes accurately. As input data is fed into the model, it adjusts its weights until the model has\n",
    "been fitted appropriately, which occurs as part of the cross validation process. Supervised learning helps organizations\n",
    "solve for a variety of real-world problems at scale, such as classifying spam in a separate folder from your inbox."
   ]
  },
  {
   "cell_type": "markdown",
   "id": "4498a607",
   "metadata": {},
   "source": [
    "### 2. In the hospital sector, offer an example of supervised learning.\n"
   ]
  },
  {
   "cell_type": "code",
   "execution_count": null,
   "id": "801d1e0a",
   "metadata": {},
   "outputs": [],
   "source": [
    "Predicts illnesses and treatments\n",
    "Forecasts health risks to various populations of people\n",
    "Assists with healthcare records and workflow\n",
    "Differentiates between tumors and healthy anatomy\n",
    "Aids in drug development, lowering costs\n",
    "Identifies opportunities for clinical trials\n",
    "Detects gaps in healthcare\n",
    "Assists pathologists to make faster and more accurate diagnosis"
   ]
  },
  {
   "cell_type": "markdown",
   "id": "42e56778",
   "metadata": {},
   "source": [
    "### 3. Give three supervised learning examples.\n"
   ]
  },
  {
   "cell_type": "code",
   "execution_count": null,
   "id": "b7d4986b",
   "metadata": {},
   "outputs": [],
   "source": [
    " House prices\n",
    "\n",
    "One practical example of supervised learning problems is predicting house prices. How is this achieved?\n",
    "\n",
    "First, we need data about the houses: square footage, number of rooms, features,\n",
    "whether a house has a garden or not, and so on. We then need to know the prices of these houses,\n",
    "i.e. the corresponding labels. By leveraging data coming from thousands of houses, their features and prices,\n",
    "we can now train a supervised machine learning model to predict a new house’s price based on the examples observed by\n",
    "the model. \n",
    "\n",
    "Is it a cat or a dog?\n",
    "\n",
    "Image classification is a popular problem in the computer vision field. Here, the goal is to predict what\n",
    "class an image belongs to. In this set of problems, we are interested in finding the class label of an image.\n",
    "More precisely: is the image of a car or a plane? A cat or a dog?\n",
    "    \n",
    "Who are the unhappy customers?\n",
    "\n",
    "Another great example of supervised learning is text classification problems. In this set of problems, the goal is to predict the class label of a given piece of text.\n",
    "\n",
    "One particularly popular topic in text classification is to predict the sentiment of a piece of text,\n",
    "like a tweet or a product review. This is widely used in the e-commerce industry to help companies to determine \n",
    "negative comments made by customers."
   ]
  },
  {
   "cell_type": "markdown",
   "id": "74de3f71",
   "metadata": {},
   "source": [
    "### 4. In supervised learning, what are classification and regression?\n"
   ]
  },
  {
   "cell_type": "code",
   "execution_count": null,
   "id": "1e06fd15",
   "metadata": {},
   "outputs": [],
   "source": [
    "Regression and Classification algorithms are Supervised Learning algorithms.\n",
    "Both the algorithms are used for prediction in Machine learning and work with the labeled datasets.\n",
    "But the difference between both is how they are used for different machine learning problems.\n",
    "\n",
    "The main difference between Regression and Classification algorithms that Regression algorithms are used\n",
    "to predict the continuous values such as price, salary, age, etc. and Classification algorithms are used\n",
    "to predict/Classify the discrete values such as Male or Female, True or False, Spam or Not Spam, etc."
   ]
  },
  {
   "cell_type": "markdown",
   "id": "aa814b00",
   "metadata": {},
   "source": [
    "### 5. Give some popular classification algorithms as examples.\n"
   ]
  },
  {
   "cell_type": "code",
   "execution_count": null,
   "id": "7159665f",
   "metadata": {},
   "outputs": [],
   "source": [
    "Email Spam Detection\n",
    "Speech Recognition\n",
    "Identifications of Cancer tumor cells.\n",
    "Drugs Classification\n",
    "Biometric Identification, etc."
   ]
  },
  {
   "cell_type": "markdown",
   "id": "2dda5419",
   "metadata": {},
   "source": [
    "### 6. Briefly describe the SVM model.\n"
   ]
  },
  {
   "cell_type": "code",
   "execution_count": null,
   "id": "919f2b08",
   "metadata": {},
   "outputs": [],
   "source": [
    "A support vector machine (SVM) is a supervised machine learning model that uses classification algorithms\n",
    "for two-group classification problems. \n",
    "After giving an SVM model sets of labeled training data for each category, they are able to categorize new text"
   ]
  },
  {
   "cell_type": "markdown",
   "id": "52061c3c",
   "metadata": {},
   "source": [
    "### 7. In SVM, what is the cost of misclassification?\n"
   ]
  },
  {
   "cell_type": "code",
   "execution_count": null,
   "id": "b72cd94c",
   "metadata": {},
   "outputs": [],
   "source": []
  },
  {
   "cell_type": "markdown",
   "id": "3e61e445",
   "metadata": {},
   "source": [
    "### 8. In the SVM model, define Support Vectors.\n"
   ]
  },
  {
   "cell_type": "code",
   "execution_count": null,
   "id": "eea255f8",
   "metadata": {},
   "outputs": [],
   "source": [
    "Support vectors are data points that are closer to the hyperplane and influence the position and \n",
    "orientation of the hyperplane. Using these support vectors, we maximize the margin of the classifier.\n",
    "Deleting the support vectors will change the position of the hyperplane. These are the points that help us build our SVM."
   ]
  },
  {
   "cell_type": "markdown",
   "id": "9bd4ce87",
   "metadata": {},
   "source": [
    "### 9. In the SVM model, define the kernel.\n"
   ]
  },
  {
   "cell_type": "code",
   "execution_count": null,
   "id": "40588f57",
   "metadata": {},
   "outputs": [],
   "source": [
    "“Kernel” is used due to set of mathematical functions used in Support Vector Machine provides \n",
    "the window to manipulate the data. So, Kernel Function generally transforms the training set of data so \n",
    "that a non-linear decision surface is able to transformed to a linear equation in a higher number of dimension spaces"
   ]
  },
  {
   "cell_type": "markdown",
   "id": "c9c5104f",
   "metadata": {},
   "source": [
    "### 10. What are the factors that influence SVM&#39;s effectiveness?\n"
   ]
  },
  {
   "cell_type": "code",
   "execution_count": null,
   "id": "c8f4c9b5",
   "metadata": {},
   "outputs": [],
   "source": [
    "Selection of Kernel\n",
    "Kernel Parameters\n",
    "Soft Margin Parameter C"
   ]
  },
  {
   "cell_type": "markdown",
   "id": "52f3aaab",
   "metadata": {},
   "source": [
    "### 11. What are the benefits of using the SVM model?\n"
   ]
  },
  {
   "cell_type": "code",
   "execution_count": null,
   "id": "f7c4dd19",
   "metadata": {},
   "outputs": [],
   "source": [
    "SVM is very helpful method if we don’t have much idea about the data. It can be used for the data such as image,\n",
    "text, audio etc.It can be used for the data that is not regularly distributed and have unknown distribution.\n",
    "\n",
    "The SVM provides a very useful technique within it known as kernel and by the application of associated\n",
    "kernel function we can solve any complex problem.\n",
    "Kernel provides choosing a function which is not necessarily linear and can have different forms in\n",
    "terms of different data it operates on and thus is a non-parametric function."
   ]
  },
  {
   "cell_type": "markdown",
   "id": "5f924f84",
   "metadata": {},
   "source": [
    "### 12. What are the drawbacks of using the SVM model?\n"
   ]
  },
  {
   "cell_type": "code",
   "execution_count": null,
   "id": "c9b06495",
   "metadata": {},
   "outputs": [],
   "source": [
    "Choosing a “good” kernel function is not easy. \n",
    "Long training time for large datasets.\n",
    "Difficult to understand and interpret the final model, \n",
    "variable weights and individual impact."
   ]
  },
  {
   "cell_type": "markdown",
   "id": "5992e3d2",
   "metadata": {},
   "source": [
    "### 13. Notes should be written on\n",
    "\n",
    "1. The kNN algorithm has a validation flaw.\n",
    "\n",
    "2. In the kNN algorithm, the k value is chosen.\n",
    "\n",
    "3. A decision tree with inductive bias"
   ]
  },
  {
   "cell_type": "code",
   "execution_count": null,
   "id": "8064ce16",
   "metadata": {},
   "outputs": [],
   "source": []
  },
  {
   "cell_type": "markdown",
   "id": "e1214ae7",
   "metadata": {},
   "source": [
    "### 14. What are some of the benefits of the kNN algorithm?\n"
   ]
  },
  {
   "cell_type": "code",
   "execution_count": null,
   "id": "ad4dca79",
   "metadata": {},
   "outputs": [],
   "source": [
    "Quick calculation time.\n",
    "Simple algorithm – to interpret.\n",
    "Versatile – useful for regression and classification.\n",
    "High accuracy – you do not need to compare with better-supervised learning models."
   ]
  },
  {
   "cell_type": "markdown",
   "id": "2f24d8c2",
   "metadata": {},
   "source": [
    "### 15. What are some of the kNN algorithm&#39;s drawbacks?\n"
   ]
  },
  {
   "cell_type": "code",
   "execution_count": null,
   "id": "4f01b280",
   "metadata": {},
   "outputs": [],
   "source": [
    "Accuracy depends on the quality of the data.\n",
    "With large data, the prediction stage might be slow.\n",
    "Sensitive to the scale of the data and irrelevant features.\n",
    "Require high memory – need to store all of the training data.\n",
    "Given that it stores all of the training, it can be computationally expensive."
   ]
  },
  {
   "cell_type": "markdown",
   "id": "1ba4f314",
   "metadata": {},
   "source": [
    "### 16. Explain the decision tree algorithm in a few words.\n"
   ]
  },
  {
   "cell_type": "code",
   "execution_count": null,
   "id": "ed3f1e8d",
   "metadata": {},
   "outputs": [],
   "source": [
    "Decision Tree algorithm belongs to the family of supervised learning algorithms. \n",
    "Unlike other supervised learning algorithms, the decision tree algorithm can be used for solving regression\n",
    "and classification problems too.\n",
    "\n",
    "The goal of using a Decision Tree is to create a training model that can use to predict the class or \n",
    "value of the target variable by learning simple decision rules inferred from prior data(training data).\n",
    "\n",
    "In Decision Trees, for predicting a class label for a record we start from the root of the tree.\n",
    "We compare the values of the root attribute with the record’s attribute. On the basis of comparison,\n",
    "we follow the branch corresponding to that value and jump to the next node."
   ]
  },
  {
   "cell_type": "markdown",
   "id": "f8cd3df2",
   "metadata": {},
   "source": [
    "### 17. What is the difference between a node and a leaf in a decision tree?\n"
   ]
  },
  {
   "cell_type": "code",
   "execution_count": null,
   "id": "62a61fd4",
   "metadata": {},
   "outputs": [],
   "source": [
    "The root node is just the topmost decision node. In other words, \n",
    "it is where you start traversing the classification tree. The leaf nodes (green), also called terminal nodes,\n",
    "are nodes that don't split into more nodes. Leaf nodes are where classes are assigned by majority vote."
   ]
  },
  {
   "cell_type": "markdown",
   "id": "d9e9647f",
   "metadata": {},
   "source": [
    "### 18. What is a decision tree&#39;s entropy?\n"
   ]
  },
  {
   "cell_type": "code",
   "execution_count": null,
   "id": "df09fdb3",
   "metadata": {},
   "outputs": [],
   "source": [
    "Entropy can be defined as a measure of the purity of the sub split.\n",
    "Entropy always lies between 0 to 1"
   ]
  },
  {
   "cell_type": "markdown",
   "id": "47a6dcdb",
   "metadata": {},
   "source": [
    "### 19. In a decision tree, define knowledge gain.\n"
   ]
  },
  {
   "cell_type": "code",
   "execution_count": null,
   "id": "370aa28d",
   "metadata": {},
   "outputs": [],
   "source": [
    "Information gain is the reduction in entropy or surprise by transforming a dataset and is often used in training decision trees.\n",
    "Information gain is calculated by comparing the entropy of the dataset before and after a transformation."
   ]
  },
  {
   "cell_type": "markdown",
   "id": "3e2e772e",
   "metadata": {},
   "source": [
    "### 20. Choose three advantages of the decision tree approach and write them down.\n"
   ]
  },
  {
   "cell_type": "code",
   "execution_count": null,
   "id": "00aa73f7",
   "metadata": {},
   "outputs": [],
   "source": [
    "1. Ease of use  \n",
    "The Decision Tree is very easy to use.\n",
    "This is because it provides a graphical representation of the problem and different types of alternatives in an\n",
    "easy and simple format which require no illustration.\n",
    "Normally, it is based on rules which can be used easily be human as well as the SQL programs.\n",
    "It can also allow classification of data without the need of computation.\n",
    "\n",
    "2. It is flexible  \n",
    "Other decision making tools requires quantitative and comprehensive tools. \n",
    "However, the decision trees are flexible as it will handle items with a mixture \n",
    "of categories and features of real value. When they have been constructed, \n",
    "they classify new items very fast. \n",
    "\n",
    "3. Validation \n",
    "\n",
    "With the decision tree,it can enable validation since it is the best predictive model.\n",
    "In fact, it finds use of making quantitative analysis of the business platform. \n",
    "In addition, it can validate results of the statistical tests. Nevertheless, \n",
    "it can support naturally the classification of problems with several classes by modification process."
   ]
  },
  {
   "cell_type": "markdown",
   "id": "9e812100",
   "metadata": {},
   "source": [
    "### 21. Make a list of three flaws in the decision tree process.\n"
   ]
  },
  {
   "cell_type": "code",
   "execution_count": null,
   "id": "bf505a38",
   "metadata": {},
   "outputs": [],
   "source": [
    "They are unstable, meaning that a small change in the data can lead to a large change \n",
    "in the structure of the optimal decision tree.\n",
    "They are often relatively inaccurate. Many other predictors perform better with similar data."
   ]
  },
  {
   "cell_type": "markdown",
   "id": "9cab9625",
   "metadata": {},
   "source": [
    "### 22. Briefly describe the random forest model."
   ]
  },
  {
   "cell_type": "code",
   "execution_count": null,
   "id": "d411cf45",
   "metadata": {},
   "outputs": [],
   "source": [
    "The random forest is a classification algorithm consisting of many decisions trees.\n",
    "It uses bagging and feature randomness when building each individual tree to try to\n",
    "create an uncorrelated forest of trees whose prediction by committee is more accurate than that of any individual tree"
   ]
  },
  {
   "cell_type": "code",
   "execution_count": null,
   "id": "be0265ea",
   "metadata": {},
   "outputs": [],
   "source": []
  },
  {
   "cell_type": "code",
   "execution_count": null,
   "id": "8e77c420",
   "metadata": {},
   "outputs": [],
   "source": []
  },
  {
   "cell_type": "code",
   "execution_count": null,
   "id": "832b8e56",
   "metadata": {},
   "outputs": [],
   "source": []
  },
  {
   "cell_type": "code",
   "execution_count": null,
   "id": "1b186d4a",
   "metadata": {},
   "outputs": [],
   "source": []
  }
 ],
 "metadata": {
  "kernelspec": {
   "display_name": "Python 3",
   "language": "python",
   "name": "python3"
  },
  "language_info": {
   "codemirror_mode": {
    "name": "ipython",
    "version": 3
   },
   "file_extension": ".py",
   "mimetype": "text/x-python",
   "name": "python",
   "nbconvert_exporter": "python",
   "pygments_lexer": "ipython3",
   "version": "3.8.8"
  }
 },
 "nbformat": 4,
 "nbformat_minor": 5
}
