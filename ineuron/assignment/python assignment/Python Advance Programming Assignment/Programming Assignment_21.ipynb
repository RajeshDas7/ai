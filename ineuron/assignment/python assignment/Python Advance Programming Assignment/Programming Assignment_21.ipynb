{
 "cells": [
  {
   "cell_type": "markdown",
   "id": "0f2bfece",
   "metadata": {},
   "source": [
    "### 1. Given a sentence, return the number of words which have the same first\n",
    "\n",
    "and last letter.\n",
    "\n",
    "Examples\n",
    "\n",
    "count_same_ends(&quot;Pop! goes the balloon&quot;) ➞ 1\n",
    "\n",
    "count_same_ends(&quot;And the crowd goes wild!&quot;) ➞ 0\n",
    "\n",
    "count_same_ends(&quot;No I am not in a gang.&quot;) ➞ 1\n",
    "\n",
    "\n",
    "\n"
   ]
  },
  {
   "cell_type": "code",
   "execution_count": 24,
   "id": "11fc19af",
   "metadata": {},
   "outputs": [
    {
     "name": "stdout",
     "output_type": "stream",
     "text": [
      "1\n"
     ]
    }
   ],
   "source": [
    "def count_same_ends(a):\n",
    "    b=\"\"\n",
    "    c=a.split(\" \")\n",
    "    f=0\n",
    "    for i in c:\n",
    "        for j in i:\n",
    "            if j.isalpha():\n",
    "                b+=j\n",
    "        b+=\" \"\n",
    "    d=b.split(\" \")\n",
    "    for k in d:\n",
    "        if len(k)!=1:\n",
    "            \n",
    "            l=k.lower()\n",
    "            try:\n",
    "                if l[0]==l[-1]:\n",
    "                    f+=1\n",
    "            except Exception as e:\n",
    "                pass\n",
    "    print(f)\n",
    "    \n",
    "    \n",
    "    \n",
    "count_same_ends(\"No I am not in a gang.\")"
   ]
  },
  {
   "cell_type": "markdown",
   "id": "18982ac5",
   "metadata": {},
   "source": [
    "### 2. The Atbash cipher is an encryption method in which each letter of a word is\n",
    "\n",
    "replaced with its &quot;mirror&quot; letter in the alphabet: A &lt;=&gt; Z; B &lt;=&gt; Y; C &lt;=&gt; X;\n",
    "    \n",
    "etc.\n",
    "\n",
    "Create a function that takes a string and applies the Atbash cipher to it.\n",
    "\n",
    "Examples\n",
    "\n",
    "atbash(&quot;apple&quot;) ➞ &quot;zkkov&quot;\n",
    "\n",
    "atbash(&quot;Hello world!&quot;) ➞ &quot;Svool dliow!&quot;\n",
    "\n",
    "atbash(&quot;Christmas is the 25th of December&quot;) ➞ &quot;Xsirhgnzh rh gsv 25gs lu\n",
    "\n",
    "Wvxvnyvi&quot;"
   ]
  },
  {
   "cell_type": "code",
   "execution_count": 27,
   "id": "5384fb81",
   "metadata": {},
   "outputs": [
    {
     "name": "stdout",
     "output_type": "stream",
     "text": [
      "sirhgnzh»rh»gsv»©¦gs»lu»vxvnyvi\n"
     ]
    }
   ],
   "source": [
    "def atbash(text):\n",
    "      N = ord('z') + ord('a')\n",
    "      ans=''\n",
    "      print( ans.join([chr(N - ord(s)) for s in text]))\n",
    "\n",
    "        \n",
    "atbash(\"Christmas is the 25th of December\") "
   ]
  },
  {
   "cell_type": "markdown",
   "id": "af534e7b",
   "metadata": {},
   "source": [
    "### 3. Create a class Employee that will take a full name as argument, as well as\n",
    "\n",
    "a set of none, one or more keywords. Each instance should have a name and\n",
    "\n",
    "a lastname attributes plus one more attribute for each of the keywords, if any.\n",
    "\n",
    "Examples\n",
    "\n",
    "john = Employee(&quot;John Doe&quot;)\n",
    "\n",
    "mary = Employee(&quot;Mary Major&quot;, salary=120000)\n",
    "\n",
    "richard = Employee(&quot;Richard Roe&quot;, salary=110000, height=178)\n",
    "\n",
    "giancarlo = Employee(&quot;Giancarlo Rossi&quot;, salary=115000, height=182,\n",
    "                     \n",
    "nationality=&quot;Italian&quot;)\n",
    "\n",
    "john.name ➞ &quot;John&quot;\n",
    "\n",
    "mary.lastname ➞ &quot;Major&quot;\n",
    "\n",
    "richard.height ➞ 178\n",
    "\n",
    "giancarlo.nationality ➞ &quot;Italian&quot;\n"
   ]
  },
  {
   "cell_type": "code",
   "execution_count": 33,
   "id": "f50ff255",
   "metadata": {},
   "outputs": [
    {
     "ename": "TypeError",
     "evalue": "__init__() takes 1 positional argument but 2 were given",
     "output_type": "error",
     "traceback": [
      "\u001b[1;31m---------------------------------------------------------------------------\u001b[0m",
      "\u001b[1;31mTypeError\u001b[0m                                 Traceback (most recent call last)",
      "\u001b[1;32m<ipython-input-33-b5479ca3d4a4>\u001b[0m in \u001b[0;36m<module>\u001b[1;34m\u001b[0m\n\u001b[0;32m      6\u001b[0m             \u001b[0mprint\u001b[0m\u001b[1;33m(\u001b[0m\u001b[0mi\u001b[0m\u001b[1;33m)\u001b[0m\u001b[1;33m\u001b[0m\u001b[1;33m\u001b[0m\u001b[0m\n\u001b[0;32m      7\u001b[0m \u001b[1;33m\u001b[0m\u001b[0m\n\u001b[1;32m----> 8\u001b[1;33m giancarlo = Employee(\"Giancarlo Rossi\", salary=115000, height=182,\n\u001b[0m\u001b[0;32m      9\u001b[0m \u001b[1;33m\u001b[0m\u001b[0m\n\u001b[0;32m     10\u001b[0m nationality=\"Italian\")\n",
      "\u001b[1;31mTypeError\u001b[0m: __init__() takes 1 positional argument but 2 were given"
     ]
    }
   ],
   "source": []
  },
  {
   "cell_type": "markdown",
   "id": "f5662a93",
   "metadata": {},
   "source": [
    "### 4. Create a function that determines whether each seat can &quot;see&quot; the front-\n",
    "\n",
    "stage. A number can &quot;see&quot; the front-stage if it is strictly greater than the\n",
    "\n",
    "number before it.\n",
    "\n",
    "Everyone can see the front-stage in the example below:\n",
    "    \n",
    "#FRONT STAGE\n",
    "\n",
    "[[1, 2, 3, 2, 1, 1],\n",
    " \n",
    "[2, 4, 4, 3, 2, 2],\n",
    " \n",
    "[5, 5, 5, 5, 4, 4],\n",
    " \n",
    "[6, 6, 7, 6, 5, 5]]\n",
    "\n",
    "#Starting from the left, the 6 &gt; 5 &gt; 2 &gt; 1, so all numbers can see.\n",
    "\n",
    "#6 &gt; 5 &gt; 4 &gt; 2 - so all numbers can see, etc.\n",
    "\n",
    "Not everyone can see the front-stage in the example below:\n",
    "    \n",
    "#FRONT STAGE\n",
    "\n",
    "[[1, 2, 3, 2, 1, 1],\n",
    " \n",
    "[2, 4, 4, 3, 2, 2],\n",
    " \n",
    "[5, 5, 5, 10, 4, 4],\n",
    " \n",
    "[6, 6, 7, 6, 5, 5]]\n",
    "\n",
    "#The 10 is directly in front of the 6 and blocking its view.\n",
    "\n",
    "The function should return True if every number can see the front-stage, and\n",
    "\n",
    "False if even a single number cannot.\n",
    "\n",
    "Examples\n",
    "\n",
    "can_see_stage([\n",
    "    \n",
    "[1, 2, 3],\n",
    "    \n",
    "[4, 5, 6],\n",
    "    \n",
    "[7, 8, 9]\n",
    "    \n",
    "]) ➞ True\n",
    "\n",
    "can_see_stage([\n",
    "    \n",
    "[0, 0, 0],\n",
    "    \n",
    "[1, 1, 1],\n",
    "    \n",
    "[2, 2, 2]\n",
    "    \n",
    "]) ➞ True\n",
    "\n",
    "can_see_stage([\n",
    "    \n",
    "[2, 0, 0],\n",
    "    \n",
    "[1, 1, 1],\n",
    "\n",
    "[2, 2, 2]\n",
    "    \n",
    "]) ➞ False\n",
    "\n",
    "can_see_stage([\n",
    "    \n",
    "[1, 0, 0],\n",
    "    \n",
    "[1, 1, 1],\n",
    "    \n",
    "[2, 2, 2]\n",
    "    \n",
    "]) ➞ False\n",
    "\n",
    "#Number must be strictly smaller than\n",
    "#the number directly behind it."
   ]
  },
  {
   "cell_type": "code",
   "execution_count": 47,
   "id": "5625b18b",
   "metadata": {},
   "outputs": [
    {
     "name": "stdout",
     "output_type": "stream",
     "text": [
      "False\n"
     ]
    }
   ],
   "source": [
    "import numpy as np\n",
    "\n",
    "\n",
    "def can_see_stage(a):\n",
    "    \n",
    "    flag=True\n",
    "    \n",
    "    matrix = np.array(a)\n",
    "    q=matrix.T\n",
    "    for i in q:\n",
    "        for j in range(len(i)-1):\n",
    "            if i[j]>=i[j+1]:\n",
    "                flag=False\n",
    "    print(flag)\n",
    "            \n",
    "    \n",
    "can_see_stage([\n",
    "\n",
    "[2, 0, 0],\n",
    "\n",
    "[1, 1, 1],\n",
    "\n",
    "[2, 2, 2]\n",
    "\n",
    "])"
   ]
  },
  {
   "cell_type": "markdown",
   "id": "8cf3ab14",
   "metadata": {},
   "source": [
    "### 5. Create a Pizza class with the attributes order_number and ingredients\n",
    "\n",
    "(which is given as a list). Only the ingredients will be given as input.\n",
    "\n",
    "You should also make it so that its possible to choose a ready made pizza\n",
    "\n",
    "flavour rather than typing out the ingredients manually! As well as creating\n",
    "\n",
    "this Pizza class, hard-code the following pizza flavours.\n",
    "\n",
    "Name Ingredients\n",
    "\n",
    "hawaiian ham, pineapple\n",
    "\n",
    "meat_festival beef, meatball, bacon\n",
    "\n",
    "garden_feast spinach, olives, mushroom\n",
    "\n",
    "Examples\n",
    "\n",
    "p1 = Pizza([&quot;bacon&quot;, &quot;parmesan&quot;, &quot;ham&quot;]) # order 1\n",
    "\n",
    "p2 = Pizza.garden_feast() # order 2\n",
    "\n",
    "p1.ingredients ➞ [&quot;bacon&quot;, &quot;parmesan&quot;, &quot;ham&quot;]\n",
    "\n",
    "p2.ingredients ➞ [&quot;spinach&quot;, &quot;olives&quot;, &quot;mushroom&quot;]\n",
    "\n",
    "p1.order_number ➞ 1\n",
    "\n",
    "p2.order_number ➞ 2"
   ]
  },
  {
   "cell_type": "code",
   "execution_count": null,
   "id": "0a25690a",
   "metadata": {},
   "outputs": [],
   "source": [
    "class Pizza:\n",
    "    ingredients=[]\n",
    "    od=0\n",
    "    def __init__(slef ,a):\n",
    "            self.ingredients=a\n",
    "            od+=1\n",
    "    def garden_feast():\n",
    "        "
   ]
  },
  {
   "cell_type": "code",
   "execution_count": null,
   "id": "13ff0a2c",
   "metadata": {},
   "outputs": [],
   "source": []
  },
  {
   "cell_type": "code",
   "execution_count": null,
   "id": "e2ce0781",
   "metadata": {},
   "outputs": [],
   "source": []
  },
  {
   "cell_type": "code",
   "execution_count": null,
   "id": "d6c7d2d2",
   "metadata": {},
   "outputs": [],
   "source": []
  }
 ],
 "metadata": {
  "kernelspec": {
   "display_name": "Python 3",
   "language": "python",
   "name": "python3"
  },
  "language_info": {
   "codemirror_mode": {
    "name": "ipython",
    "version": 3
   },
   "file_extension": ".py",
   "mimetype": "text/x-python",
   "name": "python",
   "nbconvert_exporter": "python",
   "pygments_lexer": "ipython3",
   "version": "3.8.8"
  }
 },
 "nbformat": 4,
 "nbformat_minor": 5
}
