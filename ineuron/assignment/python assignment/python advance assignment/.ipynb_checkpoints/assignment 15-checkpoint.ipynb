{
 "cells": [
  {
   "cell_type": "markdown",
   "id": "b9106a3e",
   "metadata": {},
   "source": [
    "### 1. What are the new features added in Python 3.8 version?"
   ]
  },
  {
   "cell_type": "code",
   "execution_count": null,
   "id": "3f41a2e7",
   "metadata": {},
   "outputs": [],
   "source": [
    "The walrus operator.\n",
    "Positional-only arguments.\n",
    "f-strings now support “=” \n",
    "reversed() now works with dict.\n",
    "Simplified iterable unpacking for return and yield. \n",
    "New syntax warnings. \n",
    "Performance improvements."
   ]
  },
  {
   "cell_type": "markdown",
   "id": "c2988c93",
   "metadata": {},
   "source": [
    "### 2. What is monkey patching in Python?"
   ]
  },
  {
   "cell_type": "code",
   "execution_count": null,
   "id": "e4870d86",
   "metadata": {},
   "outputs": [],
   "source": [
    "In Python, the term monkey patch refers to dynamic (or run-time) modifications of a class or module.\n",
    "In Python, we can actually change the behavior of code at run-time."
   ]
  },
  {
   "cell_type": "markdown",
   "id": "3b6c47fb",
   "metadata": {},
   "source": [
    "### 3. What is the difference between a shallow copy and deep copy?"
   ]
  },
  {
   "cell_type": "code",
   "execution_count": null,
   "id": "299e0d29",
   "metadata": {},
   "outputs": [],
   "source": [
    "A shallow copy constructs a new compound object and \n",
    "then (to the extent possible) inserts references into it to the objects found in the original.\n",
    "\n",
    "A deep copy constructs a new compound object and then,\n",
    "recursively, inserts copies into it of the objects found in the original."
   ]
  },
  {
   "cell_type": "markdown",
   "id": "73336a9f",
   "metadata": {},
   "source": [
    "### 4. What is the maximum possible length of an identifier?"
   ]
  },
  {
   "cell_type": "code",
   "execution_count": null,
   "id": "aa81f0e1",
   "metadata": {},
   "outputs": [],
   "source": [
    " the highest possible length of an identifier is 79 characters"
   ]
  },
  {
   "cell_type": "markdown",
   "id": "e351be63",
   "metadata": {},
   "source": [
    "### 5. What is generator comprehension?"
   ]
  },
  {
   "cell_type": "code",
   "execution_count": null,
   "id": "1dd17ae3",
   "metadata": {},
   "outputs": [],
   "source": [
    "a generator expression is like a list comprehension, \n",
    "but instead of finding all the items you're interested and packing them into list,\n",
    "it waits, and yields each item out of the expression, one by one."
   ]
  }
 ],
 "metadata": {
  "kernelspec": {
   "display_name": "Python 3",
   "language": "python",
   "name": "python3"
  },
  "language_info": {
   "codemirror_mode": {
    "name": "ipython",
    "version": 3
   },
   "file_extension": ".py",
   "mimetype": "text/x-python",
   "name": "python",
   "nbconvert_exporter": "python",
   "pygments_lexer": "ipython3",
   "version": "3.8.8"
  }
 },
 "nbformat": 4,
 "nbformat_minor": 5
}
