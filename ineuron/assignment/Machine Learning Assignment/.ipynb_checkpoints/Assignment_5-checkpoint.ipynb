{
 "cells": [
  {
   "cell_type": "markdown",
   "id": "8f079fc7",
   "metadata": {},
   "source": [
    "### 1. What are the key tasks that machine learning entails? What does data pre-processing imply?"
   ]
  },
  {
   "cell_type": "code",
   "execution_count": null,
   "id": "1dbaec87",
   "metadata": {},
   "outputs": [],
   "source": [
    "Machine learning algorithms use historical data as input to predict new output values. \n",
    "Recommendation engines are a common use case for machine learning. Other popular uses \n",
    "include fraud detection, spam filtering, malware threat detection,\n",
    "business process automation (BPA) and predictive maintenance."
   ]
  },
  {
   "cell_type": "markdown",
   "id": "7e3e0413",
   "metadata": {},
   "source": [
    "### 2. Describe quantitative and qualitative data in depth. Make a distinction between the two."
   ]
  },
  {
   "cell_type": "code",
   "execution_count": null,
   "id": "54212b6e",
   "metadata": {},
   "outputs": [],
   "source": [
    "Quantitative data are data about numeric variables (e.g. how many; how much; or how often).\n",
    "Qualitative data are measures of 'types' and may be represented by a name, symbol, or a number code.\n",
    "Qualitative data are data about categorical variables (e.g. what type)."
   ]
  },
  {
   "cell_type": "markdown",
   "id": "dec8158b",
   "metadata": {},
   "source": [
    "### 3. Create a basic data collection that includes some sample records. Have at least one attribute from\n",
    "each of the machine learning data types."
   ]
  },
  {
   "cell_type": "code",
   "execution_count": null,
   "id": "b70532b2",
   "metadata": {},
   "outputs": [],
   "source": []
  },
  {
   "cell_type": "markdown",
   "id": "444acbe0",
   "metadata": {},
   "source": [
    "### 4. What are the various causes of machine learning data issues? What are the ramifications?"
   ]
  },
  {
   "cell_type": "code",
   "execution_count": null,
   "id": "a42cd533",
   "metadata": {},
   "outputs": [],
   "source": [
    "Data quality\n",
    "The complexity and quality trade-off\n",
    "Sampling bias in data\n",
    "Changing expectations and concept drift\n",
    "Monitoring and maintenance"
   ]
  },
  {
   "cell_type": "markdown",
   "id": "e8b52a39",
   "metadata": {},
   "source": [
    "### 5. Demonstrate various approaches to categorical data exploration with appropriate examples."
   ]
  },
  {
   "cell_type": "code",
   "execution_count": null,
   "id": "50dfa92a",
   "metadata": {},
   "outputs": [],
   "source": [
    "1. Unique value count\n",
    "2. Frequency Count\n",
    "3. Variance\n",
    "4. Pareto Analysis\n",
    "5. Histogram"
   ]
  },
  {
   "cell_type": "markdown",
   "id": "235ea10b",
   "metadata": {},
   "source": [
    "### 6. How would the learning activity be affected if certain variables have missing values? Having said\n",
    "that, what can be done about it?"
   ]
  },
  {
   "cell_type": "code",
   "execution_count": null,
   "id": "a85a9979",
   "metadata": {},
   "outputs": [],
   "source": [
    "Missing data can reduce the statistical power of a study \n",
    "and can produce biased estimates, leading to invalid conclusions\n",
    "\n",
    "by using imputation"
   ]
  },
  {
   "cell_type": "markdown",
   "id": "3126bb6b",
   "metadata": {},
   "source": [
    "### 7. Describe the various methods for dealing with missing data values in depth."
   ]
  },
  {
   "cell_type": "code",
   "execution_count": null,
   "id": "18da62f8",
   "metadata": {},
   "outputs": [],
   "source": [
    "Delete Rows with Missing Values:\n",
    "Missing values can be handled by deleting the rows or columns having null values. \n",
    "If columns have more than half of the rows as null then the entire column can be dropped.\n",
    "The rows which are having one or more columns values as null can also be dropped.\n",
    "\n",
    "Impute missing values with Mean/Median:\n",
    "Columns in the dataset which are having numeric continuous values can be\n",
    "replaced with the mean, median, or mode of remaining values in the column.\n",
    "This method can prevent the loss of data compared to the earlier method. \n",
    "Replacing the above two approximations (mean, median) is a statistical approach to handle the missing values.\n",
    "\n",
    "Imputation method for categorical columns:\n",
    "When missing values is from categorical columns (string or numerical)\n",
    "then the missing values can be replaced with the most frequent category.\n",
    "If the number of missing values is very large then it can be replaced with a new category.\n",
    "\n",
    "Prediction of missing values:\n",
    "In the earlier methods to handle missing values, we do not use the correlation advantage of\n",
    "the variable containing the missing value and other variables. \n",
    "Using the other features which don’t have nulls can be used to predict missing values.\n",
    "The regression or classification model can be used for the prediction of missing values\n",
    "depending on the nature (categorical or continuous) of the feature having missing value.\n",
    "\n",
    "Imputation using Deep Learning Library — Datawig\n",
    "This method works very well with categorical, continuous, and non-numerical features. \n",
    "Datawig is a library that learns ML models using Deep Neural Networks to impute missing values in the datagram."
   ]
  },
  {
   "cell_type": "markdown",
   "id": "905acca8",
   "metadata": {},
   "source": [
    "### 8. What are the various data pre-processing techniques? Explain dimensionality reduction and\n",
    "function selection in a few words."
   ]
  },
  {
   "cell_type": "code",
   "execution_count": null,
   "id": "cbc8b769",
   "metadata": {},
   "outputs": [],
   "source": [
    "Data Cleaning\n",
    "1. Missing values\n",
    "2. Noisy Data\n",
    "    Binning\n",
    "    Regression\n",
    "    Clustering\n",
    "    \n",
    "3. Removing outliers\n",
    "Data Integration\n",
    "\n",
    "Data Transformation\n",
    "\n",
    "Generalization\n",
    "Normalization\n",
    "Attribute Selection\n",
    "Aggregation\n",
    "\n",
    "Data Reduction\n",
    "Data cube aggregation\n",
    "Dimensionality reduction\n",
    "Data compression\n",
    "Discretization\n",
    "Numerosity reduction\n",
    "Attribute subset selection\n",
    "\n",
    "Dimensionality reduction\n",
    "Dimensionality reduction techniques are used to perform feature extraction. \n",
    "The dimensionality of a dataset refers to the attributes or individual features of the data.\n",
    "This technique aims to reduce the number of redundant features we consider in machine learning algorithms.\n",
    "Dimensionality reduction can be done using techniques like Principal Component Analysis etc."
   ]
  },
  {
   "cell_type": "markdown",
   "id": "4ece61ff",
   "metadata": {},
   "source": [
    "### 9.\n",
    "\n",
    "i. What is the IQR? What criteria are used to assess it?\n",
    "\n",
    "ii. Describe the various components of a box plot in detail? When will the lower whisker\n",
    "surpass the upper whisker in length? How can box plots be used to identify outliers?\n"
   ]
  },
  {
   "cell_type": "code",
   "execution_count": null,
   "id": "4c17de78",
   "metadata": {},
   "outputs": [],
   "source": [
    "IQR is used to measure variability by dividing a data set into quartiles. \n",
    "The data is sorted in ascending order and split into 4 equal parts.\n",
    "Q1, Q2, Q3 called first, second and third quartiles are the values which separate the 4 equal parts.\n",
    "\n",
    "Q1 represents the 25th percentile of the data.\n",
    "Q2 represents the 50th percentile of the data.\n",
    "Q3 represents the 75th percentile of the data.\n",
    "\n",
    "     various components of a box plot\n",
    "Minimum – It is the minimum value in the dataset excluding the outliers\n",
    "First Quartile (Q1) – 25% of the data lies below the First (lower) Quartile.\n",
    "Median (Q2) – It is the mid-point of the dataset. Half of the values lie below it and half above.\n",
    "Third Quartile (Q3) – 75% of the data lies below the Third (Upper) Quartile.\n",
    "Maximum – It is the maximum value in the dataset excluding the outliers."
   ]
  },
  {
   "cell_type": "markdown",
   "id": "0f409824",
   "metadata": {},
   "source": [
    "### 10. Make brief notes on any two of the following:\n",
    "\n",
    "1. Data collected at regular intervals\n",
    "\n",
    "2. The gap between the quartiles\n",
    "\n",
    "3. Use a cross-tab\n",
    "\n"
   ]
  },
  {
   "cell_type": "code",
   "execution_count": null,
   "id": "8a417f83",
   "metadata": {},
   "outputs": [],
   "source": [
    "Interval data is one of the two types of discrete data.\n",
    "An example of interval data is the data collected on a thermometer—its gradation or markings are equidistant.\n",
    "\n"
   ]
  },
  {
   "cell_type": "code",
   "execution_count": null,
   "id": "30edb67f",
   "metadata": {},
   "outputs": [],
   "source": [
    "1. Make a comparison between:\n",
    "\n",
    "1. Data with nominal and ordinal values\n",
    "\n",
    "2. Histogram and box plot\n",
    "\n",
    "3. The average and median"
   ]
  },
  {
   "cell_type": "code",
   "execution_count": null,
   "id": "f46395a5",
   "metadata": {},
   "outputs": [],
   "source": [
    "Nominal data is classified without a natural order or rank,\n",
    "whereas ordinal data has a predetermined or natural order. \n",
    "\n",
    "\n",
    "A box and whisker plot is defined as a graphical method of\n",
    "displaying variation in a set of data. In most cases, a histogram \n",
    "analysis provides a sufficient display, but a box and whisker\n",
    "plot can provide additional detail while allowing multiple sets of data to be displayed in the same graph."
   ]
  },
  {
   "cell_type": "code",
   "execution_count": null,
   "id": "4d6dbca1",
   "metadata": {},
   "outputs": [],
   "source": []
  },
  {
   "cell_type": "code",
   "execution_count": null,
   "id": "655a17a0",
   "metadata": {},
   "outputs": [],
   "source": []
  },
  {
   "cell_type": "code",
   "execution_count": null,
   "id": "9a443463",
   "metadata": {},
   "outputs": [],
   "source": []
  },
  {
   "cell_type": "code",
   "execution_count": null,
   "id": "f135faec",
   "metadata": {},
   "outputs": [],
   "source": []
  },
  {
   "cell_type": "code",
   "execution_count": null,
   "id": "367e7973",
   "metadata": {},
   "outputs": [],
   "source": []
  },
  {
   "cell_type": "code",
   "execution_count": null,
   "id": "c377ed43",
   "metadata": {},
   "outputs": [],
   "source": []
  },
  {
   "cell_type": "code",
   "execution_count": null,
   "id": "671c9576",
   "metadata": {},
   "outputs": [],
   "source": []
  },
  {
   "cell_type": "code",
   "execution_count": null,
   "id": "f0f17d73",
   "metadata": {},
   "outputs": [],
   "source": []
  },
  {
   "cell_type": "code",
   "execution_count": null,
   "id": "06757a39",
   "metadata": {},
   "outputs": [],
   "source": []
  },
  {
   "cell_type": "code",
   "execution_count": null,
   "id": "26763db2",
   "metadata": {},
   "outputs": [],
   "source": []
  }
 ],
 "metadata": {
  "kernelspec": {
   "display_name": "Python 3",
   "language": "python",
   "name": "python3"
  },
  "language_info": {
   "codemirror_mode": {
    "name": "ipython",
    "version": 3
   },
   "file_extension": ".py",
   "mimetype": "text/x-python",
   "name": "python",
   "nbconvert_exporter": "python",
   "pygments_lexer": "ipython3",
   "version": "3.8.8"
  }
 },
 "nbformat": 4,
 "nbformat_minor": 5
}
