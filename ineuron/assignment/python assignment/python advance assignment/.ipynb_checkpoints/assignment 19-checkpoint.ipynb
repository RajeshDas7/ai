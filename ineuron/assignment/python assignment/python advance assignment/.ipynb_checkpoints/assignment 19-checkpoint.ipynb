{
 "cells": [
  {
   "cell_type": "markdown",
   "id": "9f75c1a5",
   "metadata": {},
   "source": [
    "### Q1. Define the relationship between a class and its instances. Is it a one-to-one or a one-to-many partnership, for example?"
   ]
  },
  {
   "cell_type": "code",
   "execution_count": null,
   "id": "18e7ec9d",
   "metadata": {},
   "outputs": [],
   "source": [
    "instances are a copy of the class which inherit all the property and methods of class.\n",
    "classes are instance factory.\n",
    "it is a one to many relationship"
   ]
  },
  {
   "cell_type": "markdown",
   "id": "1f6d5759",
   "metadata": {},
   "source": [
    "### Q2. What kind of data is held only in an instance?\n"
   ]
  },
  {
   "cell_type": "code",
   "execution_count": null,
   "id": "66501de9",
   "metadata": {},
   "outputs": [],
   "source": [
    "the data which is inherited from the class are stored in the instance"
   ]
  },
  {
   "cell_type": "markdown",
   "id": "54669061",
   "metadata": {},
   "source": [
    "### Q3. What kind of knowledge is stored in a class?\n"
   ]
  },
  {
   "cell_type": "code",
   "execution_count": null,
   "id": "8df9198e",
   "metadata": {},
   "outputs": [],
   "source": [
    "the data in the form of variable and method is stored in the class"
   ]
  },
  {
   "cell_type": "markdown",
   "id": "ec05325d",
   "metadata": {},
   "source": [
    "### Q4. What exactly is a method, and how is it different from a regular function?\n"
   ]
  },
  {
   "cell_type": "code",
   "execution_count": null,
   "id": "e7073207",
   "metadata": {},
   "outputs": [],
   "source": [
    "Methods are associated with the objects of the class they belong to.\n",
    "Functions are not associated with any object.\n",
    "We can invoke a function just by its name.\n",
    "Functions operate on the data you pass to them as arguments."
   ]
  },
  {
   "cell_type": "markdown",
   "id": "1d68fc1b",
   "metadata": {},
   "source": [
    "### Q5. Is inheritance supported in Python, and if so, what is the syntax?\n"
   ]
  },
  {
   "cell_type": "code",
   "execution_count": null,
   "id": "2434136c",
   "metadata": {},
   "outputs": [],
   "source": [
    "yes it is supported.\n",
    "a = className()"
   ]
  },
  {
   "cell_type": "markdown",
   "id": "bf34d212",
   "metadata": {},
   "source": [
    "### Q6. How much encapsulation (making instance or class variables private) does Python support?\n"
   ]
  },
  {
   "cell_type": "code",
   "execution_count": null,
   "id": "da98287b",
   "metadata": {},
   "outputs": [],
   "source": [
    "we have private and protected variable in python"
   ]
  },
  {
   "cell_type": "markdown",
   "id": "def59adc",
   "metadata": {},
   "source": [
    "### Q7. How do you distinguish between a class variable and an instance variable?\n"
   ]
  },
  {
   "cell_type": "code",
   "execution_count": null,
   "id": "4df00485",
   "metadata": {},
   "outputs": [],
   "source": [
    "Instance Variable\n",
    "-----------------\n",
    "It is a variable whose value is instance-specific and now shared among instances. \n",
    "\n",
    "These variables cannot be shared between classes. Instead, they only belong to one specific class. \n",
    "\n",
    "It usually reserves memory for data that the class needs.\n",
    "\n",
    "It is generally created when an instance of the class is created. \n",
    "\n",
    "It normally retains values as long as the object exists. \n",
    "\n",
    "It has many copies so every object has its own personal copy of the instance variable.\n",
    "\n",
    "It can be accessed directly by calling variable names inside the class. \n",
    "\n",
    "These variables are declared without using the static keyword. \n",
    "\n",
    "Changes that are made to these variables through one object will not reflect in another object. \n",
    "\n",
    "Class Variable\n",
    "--------------\n",
    "It is a variable that defines a specific attribute or property for a class.  \n",
    "\n",
    "These variables can be shared between class and its subclasses. \n",
    "\n",
    "It usually maintains a single shared value for all instances of class even if no instance object of the class exists.\n",
    "\n",
    "It is generally created when the program begins to execute.  \n",
    "\n",
    "It normally retains values until the program terminates.\n",
    "\n",
    "It has only one copy of the class variable so it is shared among different objects of the class.  \n",
    "\n",
    "It can be accessed by calling with the class name.  \n",
    "\n",
    "These variables are declared using the keyword static.  \n",
    "\n",
    "\n",
    "Changes that are made to these variables through one object will reflect in another object. "
   ]
  },
  {
   "cell_type": "markdown",
   "id": "022a7781",
   "metadata": {},
   "source": [
    "### Q8. When, if ever, can self be included in a class&#39;s method definitions?\n"
   ]
  },
  {
   "cell_type": "code",
   "execution_count": null,
   "id": "9c4a7b02",
   "metadata": {},
   "outputs": [],
   "source": []
  },
  {
   "cell_type": "markdown",
   "id": "39a5465e",
   "metadata": {},
   "source": [
    "### Q9. What is the difference between the _ _add_ _ and the _ _radd_ _ methods?\n"
   ]
  },
  {
   "cell_type": "code",
   "execution_count": null,
   "id": "5e2d1982",
   "metadata": {},
   "outputs": [],
   "source": [
    "radd() function performs the addition of the dataframe and other object element-wise.\n",
    "Other object could be a constant, series or a dataframe.\n",
    "The function essentially performs other + dataframe but with an additional \n",
    "support of fill_value, which fills all the missing value in one of the inputs\n",
    "\n",
    "\n",
    "\n",
    "add(elem) The add() method doesn't add an element to the set if it's already present in it\n",
    "otherwise it will get added to the set.\n",
    "Parameters: add() takes single parameter(elem) which needs to be added in the set.\n",
    "Returns: The add() method doesn't return any value."
   ]
  },
  {
   "cell_type": "markdown",
   "id": "79982d3b",
   "metadata": {},
   "source": [
    "### Q10. When is it necessary to use a reflection method? When do you not need it, even though you support the operation in question?"
   ]
  },
  {
   "cell_type": "code",
   "execution_count": null,
   "id": "82c3a12d",
   "metadata": {},
   "outputs": [],
   "source": []
  },
  {
   "cell_type": "markdown",
   "id": "016c86a9",
   "metadata": {},
   "source": [
    "### Q11. What is the _ _iadd_ _ method called?\n"
   ]
  },
  {
   "cell_type": "code",
   "execution_count": null,
   "id": "1eb875e9",
   "metadata": {},
   "outputs": [],
   "source": [
    "add() :- \n",
    "    This function is used to assign and add the current value. \n",
    "    This operation does “a+=b” operation.\n",
    "Assigning is not performed in case of immutable containers,\n",
    "such as strings, numbers and tuples"
   ]
  },
  {
   "cell_type": "markdown",
   "id": "ef35e526",
   "metadata": {},
   "source": [
    "### Q12. Is the _ _init_ _ method inherited by subclasses? What do you do if you need to customize its behavior within a subclass?"
   ]
  },
  {
   "cell_type": "code",
   "execution_count": null,
   "id": "4caf6fff",
   "metadata": {},
   "outputs": [],
   "source": [
    "no its not inherited.\n",
    "if we want a custom __init__ in the class then we have to write it separately \n",
    "in the current class"
   ]
  }
 ],
 "metadata": {
  "kernelspec": {
   "display_name": "Python 3",
   "language": "python",
   "name": "python3"
  },
  "language_info": {
   "codemirror_mode": {
    "name": "ipython",
    "version": 3
   },
   "file_extension": ".py",
   "mimetype": "text/x-python",
   "name": "python",
   "nbconvert_exporter": "python",
   "pygments_lexer": "ipython3",
   "version": "3.8.8"
  }
 },
 "nbformat": 4,
 "nbformat_minor": 5
}
