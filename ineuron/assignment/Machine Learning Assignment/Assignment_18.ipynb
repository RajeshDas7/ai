{
 "cells": [
  {
   "cell_type": "markdown",
   "id": "459e467d",
   "metadata": {},
   "source": [
    "### 1. What is the difference between supervised and unsupervised learning? Give some examples to\n",
    "illustrate your point."
   ]
  },
  {
   "cell_type": "code",
   "execution_count": null,
   "id": "5ebd4a1d",
   "metadata": {},
   "outputs": [],
   "source": [
    "Supervised Learning\n",
    "\n",
    "Supervised learning algorithms are trained using labeled data.\n",
    "Supervised learning model takes direct feedback to check if it is predicting correct output or not.\n",
    "Supervised learning model predicts the output.\n",
    "In supervised learning, input data is provided to the model along with the output.\n",
    "The goal of supervised learning is to train the model so that it can predict the output when it is given new data.\n",
    "Supervised learning needs supervision to train the model.\n",
    "Supervised learning can be categorized in Classification and Regression problems.\n",
    "Supervised learning can be used for those cases where we know the input as well as corresponding outputs.\n",
    "Supervised learning model produces an accurate result.\n",
    "Supervised learning is not close to true Artificial intelligence as in this, we first train the model for each data, and then only it can predict the correct output.\t\n",
    "It includes various algorithms such as Linear Regression, Logistic Regression, Support Vector Machine, Multi-class Classification, Decision tree, Bayesian Logic, etc.\t\n",
    "\n",
    "\n",
    "\n",
    "\n",
    "Unsupervised Learning\n",
    "\n",
    "Unsupervised learning algorithms are trained using unlabeled data.\n",
    "Unsupervised learning model does not take any feedback.\n",
    "Unsupervised learning model finds the hidden patterns in data.\n",
    "In unsupervised learning, only input data is provided to the model.\n",
    "Unsupervised learning does not need any supervision to train the model.\n",
    "The goal of unsupervised learning is to find the hidden patterns and useful insights from the unknown dataset.\n",
    "            \n",
    "Unsupervised Learning can be classified in Clustering and Associations problems.\n",
    "Unsupervised learning can be used for those cases where we have only input data and no corresponding output data.\n",
    "Unsupervised learning model may give less accurate result as compared to supervised learning.\n",
    "Unsupervised learning is more close to the true Artificial Intelligence as it learns similarly as a child learns daily routine things by his experiences.\n",
    "It includes various algorithms such as Clustering, KNN, and Apriori algorithm."
   ]
  },
  {
   "cell_type": "markdown",
   "id": "2935b356",
   "metadata": {},
   "source": [
    "### 2. Mention a few unsupervised learning applications.\n"
   ]
  },
  {
   "cell_type": "code",
   "execution_count": null,
   "id": "583e8811",
   "metadata": {},
   "outputs": [],
   "source": [
    "The main applications of unsupervised learning include clustering,\n",
    "visualization, dimensionality reduction, finding association rules, and anomaly detection."
   ]
  },
  {
   "cell_type": "markdown",
   "id": "6ba38fbe",
   "metadata": {},
   "source": [
    "### 3. What are the three main types of clustering methods? Briefly describe the characteristics of each.\n"
   ]
  },
  {
   "cell_type": "code",
   "execution_count": null,
   "id": "6eb7cff4",
   "metadata": {},
   "outputs": [],
   "source": [
    "Centroid-based Clustering\n",
    "Centroid-based clustering organizes the data into non-hierarchical clusters, in contrast to hierarchical \n",
    "clustering . k-means is the most widely-used centroid-based clustering algorithm. Centroid-based\n",
    "algorithms are efficient but sensitive to initial conditions and outliers.\n",
    "This course focuses on k-means because it is an efficient, effective, and simple clustering algorithm.\n",
    "\n",
    "Density-based Clustering\n",
    "Density-based clustering connects areas of high example density into clusters. This allows for arbitrary-shaped \n",
    "distributions as long as dense areas can be connected. These algorithms have difficulty with data of \n",
    "varying densities and high dimensions. Further, by design, these algorithms do not assign outliers to clusters.\n",
    "\n",
    "Distribution-based Clustering\n",
    "This clustering approach assumes data is composed of distributions, such as Gaussian distributions. \n",
    "the distribution-based algorithm clusters data into three Gaussian distributions. As distance from \n",
    "the distribution\"s\" center increases, the probability that a point belongs to the distribution decreases.\n",
    "The bands show that decrease in probability. \n"
   ]
  },
  {
   "cell_type": "markdown",
   "id": "45a627e9",
   "metadata": {},
   "source": [
    "### 4. Explain how the k-means algorithm determines the consistency of clustering.\n"
   ]
  },
  {
   "cell_type": "code",
   "execution_count": null,
   "id": "6d20b1bd",
   "metadata": {},
   "outputs": [],
   "source": [
    "K-means clustering algorithm can be significantly improved by using a better initialization technique,\n",
    "and by repeating (re-starting) the algorithm.\n",
    "When the data has overlapping clusters, k-means can improve the results of the initialization technique."
   ]
  },
  {
   "cell_type": "markdown",
   "id": "0a1d0359",
   "metadata": {},
   "source": [
    "### 5. With a simple illustration, explain the key difference between the k-means and k-medoids\n",
    "algorithms."
   ]
  },
  {
   "cell_type": "code",
   "execution_count": null,
   "id": "020f60f4",
   "metadata": {},
   "outputs": [],
   "source": [
    "K-means attempts to minimize the total squared error, while k-medoids minimizes the sum of dissimilarities \n",
    "between points labeled to be in a cluster and a point designated as the center of that cluster.\n",
    "In contrast to the k -means algorithm, k -medoids chooses datapoints as centers ( medoids or exemplars)."
   ]
  },
  {
   "cell_type": "markdown",
   "id": "f1ed0734",
   "metadata": {},
   "source": [
    "### 6. What is a dendrogram, and how does it work? Explain how to do it.\n"
   ]
  },
  {
   "cell_type": "code",
   "execution_count": null,
   "id": "b722fd0d",
   "metadata": {},
   "outputs": [],
   "source": [
    "A dendrogram is a diagram that shows the hierarchical relationship between objects. \n",
    "It is most commonly created as an output from hierarchical clustering. The main use of a dendrogram \n",
    "is to work out the best way to allocate objects to clusters.\n",
    "The dendrogram below shows the hierarchical clustering of six observations shown on the scatterplot to the left."
   ]
  },
  {
   "cell_type": "markdown",
   "id": "10cd54b4",
   "metadata": {},
   "source": [
    "### 7. What exactly is SSE? What role does it play in the k-means algorithm?\n"
   ]
  },
  {
   "cell_type": "code",
   "execution_count": null,
   "id": "b2895417",
   "metadata": {},
   "outputs": [],
   "source": [
    "Cluster analysis is a statistical technique designed to find the “best fit” of consumers (or respondents)\n",
    "to a particular market segment (cluster). It does this by performing repeated calculations (iterations)\n",
    "designed to bring the groups (segments) in tighter/closer. \n",
    "If the consumers matched the segment scores exactly, the the sum of squared error (SSE) would be zero"
   ]
  },
  {
   "cell_type": "markdown",
   "id": "c9a30d03",
   "metadata": {},
   "source": [
    "### 8. With a step-by-step algorithm, explain the k-means procedure.\n"
   ]
  },
  {
   "cell_type": "code",
   "execution_count": null,
   "id": "352b7c25",
   "metadata": {},
   "outputs": [],
   "source": []
  },
  {
   "cell_type": "markdown",
   "id": "af6cfe35",
   "metadata": {},
   "source": [
    "### 9. In the sense of hierarchical clustering, define the terms single link and complete link.\n"
   ]
  },
  {
   "cell_type": "code",
   "execution_count": null,
   "id": "e22308fa",
   "metadata": {},
   "outputs": [],
   "source": [
    "Hierarchical clustering treats each data point as a singleton cluster, and then successively merges clusters until all points have been merged into a single remaining cluster. A hierarchical clustering is often represented as a dendrogram .\n",
    "\n",
    "In complete-link (or complete linkage) hierarchical clustering, we merge in each step the two clusters whose merger has the smallest diameter (or: the two clusters with the smallest maximum pairwise distance).\n",
    "\n",
    "In single-link (or single linkage) hierarchical clustering, we merge in each step the two clusters whose two closest members have the smallest distance (or: the two clusters with the smallest minimum pairwise distance)."
   ]
  },
  {
   "cell_type": "markdown",
   "id": "46cc3ae2",
   "metadata": {},
   "source": [
    "### 10. How does the apriori concept aid in the reduction of measurement overhead in a business\n",
    "basket analysis? Give an example to demonstrate your point."
   ]
  },
  {
   "cell_type": "code",
   "execution_count": null,
   "id": "a336aaf8",
   "metadata": {},
   "outputs": [],
   "source": []
  },
  {
   "cell_type": "code",
   "execution_count": null,
   "id": "45be8755",
   "metadata": {},
   "outputs": [],
   "source": []
  },
  {
   "cell_type": "code",
   "execution_count": null,
   "id": "04423d8f",
   "metadata": {},
   "outputs": [],
   "source": []
  },
  {
   "cell_type": "code",
   "execution_count": null,
   "id": "c1985fc6",
   "metadata": {},
   "outputs": [],
   "source": []
  },
  {
   "cell_type": "code",
   "execution_count": null,
   "id": "1b7fc5ce",
   "metadata": {},
   "outputs": [],
   "source": []
  }
 ],
 "metadata": {
  "kernelspec": {
   "display_name": "Python 3",
   "language": "python",
   "name": "python3"
  },
  "language_info": {
   "codemirror_mode": {
    "name": "ipython",
    "version": 3
   },
   "file_extension": ".py",
   "mimetype": "text/x-python",
   "name": "python",
   "nbconvert_exporter": "python",
   "pygments_lexer": "ipython3",
   "version": "3.8.8"
  }
 },
 "nbformat": 4,
 "nbformat_minor": 5
}
