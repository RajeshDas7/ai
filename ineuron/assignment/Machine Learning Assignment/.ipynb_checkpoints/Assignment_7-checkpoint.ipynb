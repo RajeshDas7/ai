{
 "cells": [
  {
   "cell_type": "markdown",
   "id": "c1b45482",
   "metadata": {},
   "source": [
    "### 1. What is the definition of a target function? In the sense of a real-life example, express the target\n",
    "function. How is a target function&#39;s fitness assessed?"
   ]
  },
  {
   "cell_type": "code",
   "execution_count": null,
   "id": "cdda7dce",
   "metadata": {},
   "outputs": [],
   "source": [
    "A target function, in machine learning, is a method for solving a problem that an\n",
    "AI algorithm parses its training data to find. Once an algorithm finds its target function, \n",
    "that function can be used to predict results (predictive analysis)\n",
    "The function can then be used to find output data related to inputs for\n",
    "real problems where, unlike training sets, outputs are not included.\n",
    "\n"
   ]
  },
  {
   "cell_type": "markdown",
   "id": "54fe81ef",
   "metadata": {},
   "source": [
    "### 2. What are predictive models, and how do they work? What are descriptive types, and how do you\n",
    "use them? Examples of both types of models should be provided. Distinguish between these two\n",
    "forms of models."
   ]
  },
  {
   "cell_type": "code",
   "execution_count": null,
   "id": "9d3578b1",
   "metadata": {},
   "outputs": [],
   "source": [
    " predictive modeling is a statistical technique using machine learning and data mining \n",
    "to predict and forecast likely future outcomes with the aid of historical and existing data. It works by\n",
    "analyzing current and historical data and projecting what it learns on a model generated to forecast likely outcomes. \n",
    "\n",
    "a predictive model could be used to predict past events, such as the date of a baby's\n",
    "conception using the mother's present-day hormone levels. \n",
    "Predictive models can also be used in real time to control traffic lights during rush hours\n",
    "\n",
    "A descriptive model is used for tasks that would benefit from the insight gained from \n",
    "summarizing data in new and interesting ways. As opposed to predictive models that predict \n",
    "a target of interest, in a descriptive model, no single feature is more important than any other. In fact,\n",
    "because there is no target to learn, the process of training a descriptive model is called unsupervised learning.\n",
    "\n",
    "For example, the descriptive modeling task called pattern discovery is used to identify\n",
    "useful associations within data. Pattern discovery is often used for market basket analysis on\n",
    "retailers' transactional purchase data. Here, the goal is to identify items \n",
    "that are frequently purchased together, such that the learned information can be used to refine marketing tactics."
   ]
  },
  {
   "cell_type": "markdown",
   "id": "d36d8026",
   "metadata": {},
   "source": [
    "### 3. Describe the method of assessing a classification model&#39;s efficiency in detail. Describe the various\n",
    "measurement parameters."
   ]
  },
  {
   "cell_type": "code",
   "execution_count": null,
   "id": "e912a8ea",
   "metadata": {},
   "outputs": [],
   "source": [
    "Average classification accuracy, representing the proportion of correctly classified observations.\n",
    "\n",
    "Confusion matrix, which is 2x2 table showing four parameters, including the number of true positives, true negatives, false negatives and false positives.\n",
    "\n",
    "Precision, Recall and Specificity, which are three major performance metrics describing a predictive classification model\n",
    "\n",
    "ROC curve, which is a graphical summary of the overall performance of the model, showing the proportion of true positives and false positives at all possible values of probability cutoff. The Area Under the Curve (AUC) summarizes the overall performance of the classifier."
   ]
  },
  {
   "cell_type": "markdown",
   "id": "749d8ddd",
   "metadata": {},
   "source": [
    "### 4.\n",
    "i. In the sense of machine learning models, what is underfitting? What is the most common\n",
    "reason for underfitting?\n",
    "\n",
    "ii. What does it mean to overfit? When is it going to happen?\n",
    "\n",
    "iii. In the sense of model fitting, explain the bias-variance trade-off."
   ]
  },
  {
   "cell_type": "code",
   "execution_count": null,
   "id": "870d4324",
   "metadata": {},
   "outputs": [],
   "source": [
    "Your model is underfitting the training data when the model performs poorly on the training data.\n",
    "This is because the model is unable to capture the relationship between the input examples (often called X) \n",
    "and the target values (often called Y). Your model is overfitting your training data when you see that the\n",
    "model performs well on the training data but does not perform well on the evaluation data. \n",
    "This is because the model is memorizing the data it has seen and is unable to generalize to unseen examples.\n",
    "\n",
    "If our model is too simple and has very few parameters then it may have high bias\n",
    "and low variance. On the other hand if our model has large number of parameters then it’s going\n",
    "to have high variance and low bias. So we need to find the right/good balance without overfitting \n",
    "and underfitting the data.\n",
    "This tradeoff in complexity is why there is a tradeoff between bias and variance.\n",
    "An algorithm can’t be more complex and less complex at the same time."
   ]
  },
  {
   "cell_type": "markdown",
   "id": "744a3a0a",
   "metadata": {},
   "source": [
    "### 5. Is it possible to boost the efficiency of a learning model? If so, please clarify how.\n"
   ]
  },
  {
   "cell_type": "code",
   "execution_count": null,
   "id": "145777ac",
   "metadata": {},
   "outputs": [],
   "source": [
    "1. Add more data\n",
    "2. Feature engineering\n",
    "3. Feature selection\n",
    "4. Missing value and Outlier Treatment\n",
    "5. Ensemble Models\n",
    "6. Using the suitable Machine learning algorithm\n",
    "7. Auto- feature generation\n",
    "8. Data distribution and Parameter Tuning\n",
    "\n",
    "\n",
    "More data is always useful. It helps us capture all the variance that the data has.\n",
    "Adding new feature decreases bias on the expense of variance of the model. New features\n",
    "can help algorithms to explain variance of the model in more effective way. When we do hypothesisgeneration, there should \n",
    "be enough time spent on features required for the model. Then we should create those features from existing data sets"
   ]
  },
  {
   "cell_type": "markdown",
   "id": "627a0cb4",
   "metadata": {},
   "source": [
    "### 6. How would you rate an unsupervised learning model&#39;s success? What are the most common\n",
    "success indicators for an unsupervised learning model?"
   ]
  },
  {
   "cell_type": "code",
   "execution_count": null,
   "id": "a51c512c",
   "metadata": {},
   "outputs": [],
   "source": []
  },
  {
   "cell_type": "markdown",
   "id": "d6104c86",
   "metadata": {},
   "source": [
    "### 7. Is it possible to use a classification model for numerical data or a regression model for categorical\n",
    "data with a classification model? Explain your answer."
   ]
  },
  {
   "cell_type": "code",
   "execution_count": null,
   "id": "793772b4",
   "metadata": {},
   "outputs": [],
   "source": [
    "Categorical regression quantifies categorical data by assigning numerical values to the categories,\n",
    "resulting in an optimal linear regression equation for the transformed variables."
   ]
  },
  {
   "cell_type": "markdown",
   "id": "0a3a2f53",
   "metadata": {},
   "source": [
    "### 8. Describe the predictive modeling method for numerical values. What distinguishes it from\n",
    "categorical predictive modeling?"
   ]
  },
  {
   "cell_type": "code",
   "execution_count": null,
   "id": "6d50908a",
   "metadata": {},
   "outputs": [],
   "source": [
    "predictive modeling is a statistical technique using machine learning\n",
    "and data mining to predict and forecast likely future outcomes with the aid of historical and existing data. It works by \n",
    "analyzing current and historical data and projecting what it learns on a model generated to forecast likely outcomes"
   ]
  },
  {
   "cell_type": "markdown",
   "id": "f24c7471",
   "metadata": {},
   "source": [
    "### 9. The following data were collected when using a classification model to predict the malignancy of a\n",
    "group of patients&#39; tumors:\n",
    "\n",
    "i. Accurate estimates – 15 cancerous, 75 benign\n",
    "\n",
    "ii. Wrong predictions – 3 cancerous, 7 benign\n",
    "\n",
    "Determine the model&#39;s error rate, Kappa value, sensitivity, precision, and F-measure."
   ]
  },
  {
   "cell_type": "code",
   "execution_count": null,
   "id": "53390e77",
   "metadata": {},
   "outputs": [],
   "source": []
  },
  {
   "cell_type": "markdown",
   "id": "07016d36",
   "metadata": {},
   "source": [
    "### 10. Make quick notes on:\n",
    "1. The process of holding out\n",
    "2. Cross-validation by tenfold\n",
    "3. Adjusting the parameters\n",
    "11. Define the following terms:\n",
    "1. Purity vs. Silhouette width\n",
    "2. Boosting vs. Bagging\n",
    "3. The eager learner vs. the lazy learner"
   ]
  },
  {
   "cell_type": "code",
   "execution_count": null,
   "id": "160f7feb",
   "metadata": {},
   "outputs": [],
   "source": [
    "Hold-out is when you split up your dataset into a 'train' and 'test' set. \n",
    "The training set is what the model is trained on,\n",
    "and the test set is used to see how well that model performs on unseen data.\n",
    "\n",
    "10-fold cross validation would perform the fitting procedure a total of ten times,\n",
    "with each fit being performed on a training set consisting of 90% \n",
    "of the total training set selected at random, with the remaining 10% used as a hold out set for validation.\n",
    "\n",
    "parameters in machine learning and deep learning are the values your learning algorithm\n",
    "can change independently as it learns and these values are affected by the choice of hyperparameters\n",
    "you provide. So you set the hyperparameters before training begins and the learning algorithm uses them \n",
    "to learn the parameters. Behind the training scene,\n",
    "parameters are continuously being updated and the final ones at the end of the training constitute your model.\n",
    "\n",
    "\n",
    "Bagging: It is a homogeneous weak learners’ model that learns from each other\n",
    "    independently in parallel and combines them for determining the model average.\n",
    "    \n",
    "Boosting: It is also a homogeneous weak learners’ model but works differently from Bagging.\n",
    "In this model, learners learn sequentially and adaptively to improve model predictions of a learning algorithm.\n",
    "\n",
    "\n",
    "Lazy learner:\n",
    "\n",
    "Just store Data set without learning from it\n",
    "Start classifying data when it receive Test data\n",
    "So it takes less time learning and more time classifying data\n",
    "\n",
    "Eager learner:\n",
    "\n",
    "When it receive data set it starts classifying (learning)\n",
    "Then it does not wait for test data to learn\n",
    "So it takes long time learning and less time classifying data"
   ]
  },
  {
   "cell_type": "code",
   "execution_count": null,
   "id": "67e3e2e4",
   "metadata": {},
   "outputs": [],
   "source": []
  }
 ],
 "metadata": {
  "kernelspec": {
   "display_name": "Python 3",
   "language": "python",
   "name": "python3"
  },
  "language_info": {
   "codemirror_mode": {
    "name": "ipython",
    "version": 3
   },
   "file_extension": ".py",
   "mimetype": "text/x-python",
   "name": "python",
   "nbconvert_exporter": "python",
   "pygments_lexer": "ipython3",
   "version": "3.8.8"
  }
 },
 "nbformat": 4,
 "nbformat_minor": 5
}
