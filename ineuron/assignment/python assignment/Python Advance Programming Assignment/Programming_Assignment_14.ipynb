{
 "cells": [
  {
   "cell_type": "markdown",
   "id": "b1a222e7",
   "metadata": {},
   "source": [
    "### 1. Given a list of numbers, create a function that removes 25% from every\n",
    "\n",
    "number in the list except the smallest number, and adds the total amount\n",
    "\n",
    "removed to the smallest number.\n",
    "\n",
    "Examples\n",
    "\n",
    "show_the_love([4, 1, 4]) ➞ [3, 3, 3]\n",
    "\n",
    "show_the_love([16, 10, 8]) ➞ [12, 7.5, 14.5]\n",
    "\n",
    "show_the_love([2, 100]) ➞ [27, 75]"
   ]
  },
  {
   "cell_type": "code",
   "execution_count": 9,
   "id": "7f274790",
   "metadata": {},
   "outputs": [
    {
     "name": "stdout",
     "output_type": "stream",
     "text": [
      "[27.0, 75.0]\n"
     ]
    }
   ],
   "source": [
    "def show_the_love(a):\n",
    "    b=sorted(a)\n",
    "    c=b[0]\n",
    "    e=c\n",
    "    d=[]\n",
    "    for i in b[1::]:\n",
    "        e+= i*0.25\n",
    "    for i in a:\n",
    "        if i != c:\n",
    "            d.append(i*0.75)\n",
    "        else:\n",
    "            d.append(e)\n",
    "        \n",
    "    \n",
    "    print(d)\n",
    "show_the_love([2, 100])"
   ]
  },
  {
   "cell_type": "markdown",
   "id": "ef7fdba0",
   "metadata": {},
   "source": [
    "### 2. Create a function that takes in two words as input and returns a list of three\n",
    "\n",
    "elements, in the following order:\n",
    "    \n",
    "1.Shared letters between two words.\n",
    "\n",
    "2.Letters unique to word 1.\n",
    "\n",
    "3.Letters unique to word 2.\n",
    "\n",
    "Each element should have unique letters, and have each letter be\n",
    "\n",
    "alphabetically sorted.\n",
    "\n",
    "Examples\n",
    "\n",
    "letters(&quot;sharp&quot;, &quot;soap&quot;) ➞ [&quot;aps&quot;, &quot;hr&quot;, &quot;o&quot;]\n",
    "\n",
    "letters(&quot;board&quot;, &quot;bored&quot;) ➞ [&quot;bdor&quot;, &quot;a&quot;, &quot;e&quot;]\n",
    "\n",
    "letters(&quot;happiness&quot;, &quot;envelope&quot;) ➞ [&quot;enp&quot;, &quot;ahis&quot;, &quot;lov&quot;]\n",
    "\n",
    "letters(&quot;kerfuffle&quot;, &quot;fluffy&quot;) ➞ [&quot;flu&quot;, &quot;ekr&quot;, &quot;y&quot;]\n",
    "\n",
    "#Even with multiple matching letters (e.g. 3 f&#39;s), there should\n",
    "#only exist a single &quot;f&quot; in your first element.\n",
    "\n",
    "letters(&quot;match&quot;, &quot;ham&quot;) ➞ [&quot;ahm&quot;, &quot;ct&quot;, &quot;&quot;]\n",
    "\n",
    "#&quot;ham&quot; does not contain any letters that are not found already\n",
    "#in &quot;match&quot;."
   ]
  },
  {
   "cell_type": "code",
   "execution_count": 38,
   "id": "0a28647e",
   "metadata": {},
   "outputs": [
    {
     "name": "stdout",
     "output_type": "stream",
     "text": [
      "aps hr o\n"
     ]
    }
   ],
   "source": [
    "def letters(a,b):\n",
    "    c=\"\"\n",
    "    for i in a:\n",
    "        if i in b:\n",
    "            c+=i\n",
    "    d=\"\".join(sorted(c))\n",
    "    \n",
    "    e=\"\"\n",
    "    for i in a:\n",
    "        if i not in d:\n",
    "            e+=i\n",
    "    \n",
    "    f=\"\"\n",
    "    for i in b:\n",
    "        if i not in d:\n",
    "            f+=i\n",
    "\n",
    "    print(d,e,f)\n",
    "    \n",
    "    \n",
    "letters(\"sharp\", \"soap\")"
   ]
  },
  {
   "cell_type": "markdown",
   "id": "b0518ab5",
   "metadata": {},
   "source": [
    "### 3. Write a function that pairs the first number in an array with the last, the\n",
    "\n",
    "second number with the second to last, etc.\n",
    "\n",
    "Examples\n",
    "\n",
    "pairs([1, 2, 3, 4, 5, 6, 7]) ➞ [[1, 7], [2, 6], [3, 5], [4, 4]]\n",
    "\n",
    "pairs([1, 2, 3, 4, 5, 6]) ➞ [[1, 6], [2, 5], [3, 4]]\n",
    "\n",
    "pairs([5, 9, 8, 1, 2]) ➞ [[5, 2], [9, 1], [8, 8]]\n",
    "\n",
    "pairs([]) ➞ []"
   ]
  },
  {
   "cell_type": "code",
   "execution_count": 48,
   "id": "fa0a19f7",
   "metadata": {},
   "outputs": [
    {
     "name": "stdout",
     "output_type": "stream",
     "text": [
      "[[1, 6], [2, 5], [3, 4]]\n"
     ]
    }
   ],
   "source": [
    "def pairs(a):\n",
    "    b=[]\n",
    "    for i in range(len(a)//2):\n",
    "        \n",
    "        b.append([a[i],a[(-i-1)]])\n",
    "                 \n",
    "    print(b)\n",
    "                 \n",
    "\n",
    "    \n",
    "pairs([1, 2, 3, 4, 5, 6]) "
   ]
  },
  {
   "cell_type": "markdown",
   "id": "02e9401e",
   "metadata": {},
   "source": [
    "### 4. Write a function that adds two numbers. The catch, however, is that the\n",
    "\n",
    "numbers will be strings.\n",
    "\n",
    "Examples\n",
    "\n",
    "add_str_nums(&quot;4&quot;, &quot;5&quot;) ➞ &quot;9&quot;\n",
    "\n",
    "add_str_nums(&quot;abcdefg&quot;, &quot;3&quot;) ➞ &quot;-1&quot;\n",
    "\n",
    "add_str_nums(&quot;1&quot;, &quot;&quot;) ➞ &quot;1&quot;\n",
    "\n",
    "add_str_nums(&quot;1874682736267235927359283579235789257&quot;,\n",
    "             \n",
    "&quot;32652983572985729&quot;) ➞ &quot;1874682736267235927391936562808774986&quot;\n"
   ]
  },
  {
   "cell_type": "code",
   "execution_count": 51,
   "id": "ae9a0f3e",
   "metadata": {},
   "outputs": [
    {
     "name": "stdout",
     "output_type": "stream",
     "text": [
      "1874682736267235927391936562808774986\n"
     ]
    }
   ],
   "source": [
    "def add_str_nums(a,b):\n",
    "    try:\n",
    "        q=int(a)\n",
    "        w=int(b)\n",
    "        r=q+w\n",
    "        print(str(r))\n",
    "    except Exception as e:\n",
    "        print(\"-1\")\n",
    "        \n",
    "add_str_nums(\"1874682736267235927359283579235789257\",\"32652983572985729\")"
   ]
  },
  {
   "cell_type": "markdown",
   "id": "8c0847ec",
   "metadata": {},
   "source": [
    "### 5. lPaeesh le pemu mnxit ehess rtnisg! Oh, sorry, that was supposed to say:\n",
    "    \n",
    "Please help me unmix these strings!\n",
    "\n",
    "Somehow my strings have all become mixed up; every pair of characters has\n",
    "\n",
    "been swapped. Help me undo this so I can understand my strings again.\n",
    "\n",
    "Examples\n",
    "\n",
    "unmix(&quot;123456&quot;) ➞ &quot;214365&quot;\n",
    "\n",
    "unmix(&quot;hTsii s aimex dpus rtni.g&quot;) ➞ &quot;This is a mixed up string.&quot;\n",
    "\n",
    "unmix(&quot;badce&quot;) ➞ &quot;abcde&quot;"
   ]
  },
  {
   "cell_type": "code",
   "execution_count": 57,
   "id": "85672b8d",
   "metadata": {},
   "outputs": [
    {
     "name": "stdout",
     "output_type": "stream",
     "text": [
      "abcde\n"
     ]
    }
   ],
   "source": [
    "def unmix(a):\n",
    "    q=\"\"\n",
    "    for i in range(len(a)):\n",
    "        if i%2==0:\n",
    "            q+=\" \"+a[i]\n",
    "        else:\n",
    "            q+=a[i]\n",
    "    w=q.split(\" \")\n",
    "    r=\"\"\n",
    "    for i in w:\n",
    "        r+=i[::-1]\n",
    "    print(r)\n",
    "unmix(\"badce\")"
   ]
  },
  {
   "cell_type": "code",
   "execution_count": null,
   "id": "bf258f61",
   "metadata": {},
   "outputs": [],
   "source": []
  },
  {
   "cell_type": "code",
   "execution_count": null,
   "id": "a3c03f22",
   "metadata": {},
   "outputs": [],
   "source": []
  },
  {
   "cell_type": "code",
   "execution_count": null,
   "id": "18106377",
   "metadata": {},
   "outputs": [],
   "source": []
  },
  {
   "cell_type": "code",
   "execution_count": null,
   "id": "087334c8",
   "metadata": {},
   "outputs": [],
   "source": []
  },
  {
   "cell_type": "code",
   "execution_count": null,
   "id": "0f1bccec",
   "metadata": {},
   "outputs": [],
   "source": []
  }
 ],
 "metadata": {
  "kernelspec": {
   "display_name": "Python 3",
   "language": "python",
   "name": "python3"
  },
  "language_info": {
   "codemirror_mode": {
    "name": "ipython",
    "version": 3
   },
   "file_extension": ".py",
   "mimetype": "text/x-python",
   "name": "python",
   "nbconvert_exporter": "python",
   "pygments_lexer": "ipython3",
   "version": "3.8.8"
  }
 },
 "nbformat": 4,
 "nbformat_minor": 5
}
