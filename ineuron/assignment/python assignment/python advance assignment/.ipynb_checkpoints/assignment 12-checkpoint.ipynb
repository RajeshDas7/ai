{
 "cells": [
  {
   "cell_type": "markdown",
   "id": "d38eddef",
   "metadata": {},
   "source": [
    "### Q1. Does assigning a value to a string&#39;s indexed character violate Python&#39;s string immutability?"
   ]
  },
  {
   "cell_type": "code",
   "execution_count": null,
   "id": "fb8f1636",
   "metadata": {},
   "outputs": [],
   "source": [
    "yes"
   ]
  },
  {
   "cell_type": "markdown",
   "id": "c09c4764",
   "metadata": {},
   "source": [
    "### Q2. Does using the += operator to concatenate strings violate Python&#39;s string immutability? Why or why not?"
   ]
  },
  {
   "cell_type": "code",
   "execution_count": null,
   "id": "f04bb9c3",
   "metadata": {},
   "outputs": [],
   "source": [
    "no.\n",
    "because it will create another object assign the new string to the new object"
   ]
  },
  {
   "cell_type": "code",
   "execution_count": null,
   "id": "0d0a1ad8",
   "metadata": {},
   "outputs": [],
   "source": []
  },
  {
   "cell_type": "code",
   "execution_count": null,
   "id": "04f63183",
   "metadata": {},
   "outputs": [],
   "source": []
  },
  {
   "cell_type": "markdown",
   "id": "c4006dd5",
   "metadata": {},
   "source": [
    "### Q3. In Python, how many different ways are there to index a character?"
   ]
  },
  {
   "cell_type": "code",
   "execution_count": null,
   "id": "f0c6d66f",
   "metadata": {},
   "outputs": [],
   "source": [
    "We can access characters in a String in Two ways : \n",
    "Accessing Characters by Positive Index Number. \n",
    "Accessing Characters by Negative Index Number"
   ]
  },
  {
   "cell_type": "markdown",
   "id": "e5f4cf40",
   "metadata": {},
   "source": [
    "### Q4. What is the relationship between indexing and slicing?"
   ]
  },
  {
   "cell_type": "code",
   "execution_count": null,
   "id": "8112e7cf",
   "metadata": {},
   "outputs": [],
   "source": [
    "indexing\n",
    "--------\n",
    "\n",
    "->indexing returns one items\n",
    "->ateempting to use a index that is too large will cause indexError\n",
    "->by item assignment in index ,we cant change the length of the list\n",
    "->assignment to indexing ,we can assign a single element or an iterable\n",
    "\n",
    "\n",
    "slicing\n",
    "-------\n",
    "->slicing returns new list/new tuple\n",
    "->out of range indexes are handled gracefully when used for slicing\n",
    "->by assignment to slicing  we can change the length of the list\n",
    "->assignment to slicing, if we assign a single element. it will raise type error"
   ]
  },
  {
   "cell_type": "markdown",
   "id": "2370d4f4",
   "metadata": {},
   "source": [
    "### Q5. What is an indexed character&#39;s exact data type? What is the data form of a slicing-generated substring?"
   ]
  },
  {
   "cell_type": "code",
   "execution_count": null,
   "id": "066b1704",
   "metadata": {},
   "outputs": [],
   "source": [
    "string\n",
    "string"
   ]
  },
  {
   "cell_type": "code",
   "execution_count": null,
   "id": "6537170d",
   "metadata": {},
   "outputs": [],
   "source": []
  },
  {
   "cell_type": "code",
   "execution_count": null,
   "id": "061411fc",
   "metadata": {},
   "outputs": [],
   "source": []
  },
  {
   "cell_type": "markdown",
   "id": "696387a5",
   "metadata": {},
   "source": [
    "### Q6. What is the relationship between string and character &quot;types&quot; in Python?"
   ]
  },
  {
   "cell_type": "code",
   "execution_count": null,
   "id": "63782212",
   "metadata": {},
   "outputs": [],
   "source": [
    "In Python, Strings are arrays of bytes representing Unicode characters. \n",
    "However, Python does not have a character data type, \n",
    "a single character is simply a string with a length of 1"
   ]
  },
  {
   "cell_type": "markdown",
   "id": "4b8793cb",
   "metadata": {},
   "source": [
    "### Q7. Identify at least two operators and one method that allow you to combine one or more smaller strings to create a larger string."
   ]
  },
  {
   "cell_type": "code",
   "execution_count": null,
   "id": "ec6f7a7a",
   "metadata": {},
   "outputs": [],
   "source": [
    "+ and * operator\n",
    "join method"
   ]
  },
  {
   "cell_type": "markdown",
   "id": "ae6ac3f8",
   "metadata": {},
   "source": [
    "### Q8. What is the benefit of first checking the target string with in or not in before using the index method to find a substring?"
   ]
  },
  {
   "cell_type": "code",
   "execution_count": null,
   "id": "06a587ef",
   "metadata": {},
   "outputs": [],
   "source": [
    "it will save computation resources"
   ]
  },
  {
   "cell_type": "markdown",
   "id": "a4d066c7",
   "metadata": {},
   "source": [
    "### Q9. Which operators and built-in string methods produce simple Boolean (true/false) results?"
   ]
  },
  {
   "cell_type": "code",
   "execution_count": 7,
   "id": "a0c5fabd",
   "metadata": {},
   "outputs": [
    {
     "data": {
      "text/plain": [
       "True"
      ]
     },
     "execution_count": 7,
     "metadata": {},
     "output_type": "execute_result"
    }
   ],
   "source": [
    "< , > operators\n",
    "isalnum(),isupper(),islower(),isnumeric(),startswith()"
   ]
  },
  {
   "cell_type": "code",
   "execution_count": null,
   "id": "e12d4a47",
   "metadata": {},
   "outputs": [],
   "source": []
  }
 ],
 "metadata": {
  "kernelspec": {
   "display_name": "Python 3",
   "language": "python",
   "name": "python3"
  },
  "language_info": {
   "codemirror_mode": {
    "name": "ipython",
    "version": 3
   },
   "file_extension": ".py",
   "mimetype": "text/x-python",
   "name": "python",
   "nbconvert_exporter": "python",
   "pygments_lexer": "ipython3",
   "version": "3.8.8"
  }
 },
 "nbformat": 4,
 "nbformat_minor": 5
}
