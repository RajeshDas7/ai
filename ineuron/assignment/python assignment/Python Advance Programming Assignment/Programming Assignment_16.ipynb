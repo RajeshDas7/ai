{
 "cells": [
  {
   "cell_type": "markdown",
   "id": "4b5abf39",
   "metadata": {},
   "source": [
    "### 1. Rondo Form is a type of musical structure, in which there is a recurring\n",
    "\n",
    "theme/refrain, notated as A. Here are the rules for valid rondo forms:\n",
    "    \n",
    "- Rondo forms always start and end with an A section.\n",
    "\n",
    "- In between the A sections, there should be contrasting sections notated as\n",
    "\n",
    "B, then C, then D, etc... No letter should be skipped.\n",
    "\n",
    "- There shouldn&#39;t be any repeats in the sequence (such as ABBACCA).\n",
    "\n",
    "Create a function which validates whether a given string is a valid Rondo Form.\n",
    "\n",
    "Examples\n",
    "\n",
    "valid_rondo(&quot;ABACADAEAFAGAHAIAJA&quot;) ➞ True\n",
    "\n",
    "valid_rondo(&quot;ABA&quot;) ➞ True\n",
    "\n",
    "valid_rondo(&quot;ABBACCA&quot;) ➞ False\n",
    "\n",
    "valid_rondo(&quot;ACAC&quot;) ➞ False\n",
    "\n",
    "valid_rondo(&quot;A&quot;) ➞ False"
   ]
  },
  {
   "cell_type": "code",
   "execution_count": null,
   "id": "3b1b4822",
   "metadata": {},
   "outputs": [],
   "source": []
  },
  {
   "cell_type": "markdown",
   "id": "f06d8660",
   "metadata": {},
   "source": [
    "### 2. Create a function that returns the whole of the first sentence which\n",
    "\n",
    "contains a specific word. Include the full stop at the end of the sentence.\n",
    "\n",
    "Examples\n",
    "\n",
    "txt = &quot;I have a cat. I have a mat. Things are going swell.&quot;\n",
    "\n",
    "sentence_searcher(txt, &quot;have&quot;) ➞ &quot;I have a cat.&quot;\n",
    "\n",
    "sentence_searcher(txt, &quot;MAT&quot;) ➞ &quot;I have a mat.&quot;\n",
    "\n",
    "sentence_searcher(txt, &quot;things&quot;) ➞ &quot;Things are going swell.&quot;\n",
    "\n",
    "sentence_searcher(txt, &quot;flat&quot;) ➞ &quot;&quot;\n"
   ]
  },
  {
   "cell_type": "code",
   "execution_count": 14,
   "id": "b9a50400",
   "metadata": {},
   "outputs": [
    {
     "name": "stdout",
     "output_type": "stream",
     "text": [
      "[]\n"
     ]
    }
   ],
   "source": [
    "def sentence_searcher(a,b):\n",
    "    x=a.lower()\n",
    "    y=b.lower()\n",
    "    c=x.split(\".\")\n",
    "    e=[]\n",
    "    for i in c:\n",
    "        if y in i:\n",
    "            e.append(i)\n",
    "            \n",
    "    print(e)\n",
    "   \n",
    "\n",
    "\n",
    "\n",
    "\n",
    "\n",
    "\n",
    "\n",
    "\n",
    "txt = \"I have a cat. I have a mat. Things are going swell.\"\n",
    "\n",
    "sentence_searcher(txt, \"flat\")"
   ]
  },
  {
   "cell_type": "markdown",
   "id": "d3014737",
   "metadata": {},
   "source": [
    "### 3. Given a number, find the &quot;round &quot;of each digit of the number. An integer is\n",
    "\n",
    "called &quot;round&quot; if all its digits except the leftmost (most significant) are equal to\n",
    "\n",
    "zero.\n",
    "\n",
    "- Round numbers: 4000, 1, 9, 800, 90\n",
    "    \n",
    "- Not round numbers: 110, 707, 222, 1001\n",
    "\n",
    "Create a function that takes a number and returns the &quot;round&quot; of each digit\n",
    "\n",
    "(except if the digit is zero) as a string. Check out the following examples for\n",
    "\n",
    "more clarification.\n",
    "\n",
    "Examples\n",
    "\n",
    "sum_round(101) ➞ &quot;1 100&quot;\n",
    "\n",
    "sum_round(1234) ➞ &quot;4 30 200 1000&quot;\n",
    "\n",
    "sum_round(54210) ➞ &quot;10 200 4000 50000&quot;\n"
   ]
  },
  {
   "cell_type": "code",
   "execution_count": 22,
   "id": "71d50e66",
   "metadata": {},
   "outputs": [
    {
     "name": "stdout",
     "output_type": "stream",
     "text": [
      "50000\n",
      "4000\n",
      "200\n",
      "10\n",
      "0\n"
     ]
    }
   ],
   "source": [
    "def sum_round(n):\n",
    "    l=len(str(n))\n",
    "    q=\"\"\n",
    "    for i in range(l,0,-1):\n",
    "        a=\"1\"+i*\"0\"\n",
    "        b=n%int(a)\n",
    "        c=str(b)[0]\n",
    "        print(c+(i-1)*\"0\")\n",
    "    \n",
    "    \n",
    "    \n",
    "sum_round(54210)"
   ]
  },
  {
   "cell_type": "markdown",
   "id": "26279de3",
   "metadata": {},
   "source": [
    "### 4. Your task, is to create N x N multiplication table, of size n provided in\n",
    "\n",
    "parameter.\n",
    "\n",
    "For example, when n is 5, the multiplication table is:\n",
    "    \n",
    "- 1, 2, 3, 4, 5\n",
    "\n",
    "- 2, 4, 6, 8, 10\n",
    "\n",
    "- 3, 6, 9, 12, 15\n",
    "\n",
    "- 4, 8, 12, 16, 20\n",
    "\n",
    "- 5, 10, 15, 20, 25\n",
    "\n",
    "This example will result in:\n",
    "    \n",
    "[[1, 2, 3, 4, 5], [2, 4, 6, 8, 10], [3, 6, 9, 12, 15], [4, 8, 12, 16, 20], [5, 10, 15, 20,\n",
    "25]]\n",
    "\n",
    "Examples\n",
    "\n",
    "multiplication_table(1) ➞ [[1]]\n",
    "\n",
    "multiplication_table(3) ➞ [[1, 2, 3], [2, 4, 6], [3, 6, 9]]\n"
   ]
  },
  {
   "cell_type": "code",
   "execution_count": 31,
   "id": "575fc214",
   "metadata": {},
   "outputs": [
    {
     "name": "stdout",
     "output_type": "stream",
     "text": [
      "1,2,3,--2,4,6,--3,6,9,--\n"
     ]
    }
   ],
   "source": [
    "def multiplication_table(n):\n",
    "    c=\"\"\n",
    "    for i in range(1,n+1):\n",
    "        for j in range(1,n+1):\n",
    "            \n",
    "            c+=str(i*j) + \",\"\n",
    "        c+=\"--\"\n",
    "    print(c)\n",
    "multiplication_table(3)"
   ]
  },
  {
   "cell_type": "markdown",
   "id": "f8ae4e3b",
   "metadata": {},
   "source": [
    "### 5. Create a function that returns True if two lines rhyme and False otherwise.\n",
    "\n",
    "For the purposes of this exercise, two lines rhyme if the last word from each\n",
    "\n",
    "sentence contains the same vowels.\n",
    "\n",
    "Examples\n",
    "\n",
    "does_rhyme(&quot;Sam I am!&quot;, &quot;Green eggs and ham.&quot;) ➞ True\n",
    "\n",
    "does_rhyme(&quot;Sam I am!&quot;, &quot;Green eggs and HAM.&quot;) ➞ True\n",
    "\n",
    "#Capitalization and punctuation should not matter.\n",
    "\n",
    "does_rhyme(&quot;You are off to the races&quot;, &quot;a splendid day.&quot;) ➞ False\n",
    "\n",
    "does_rhyme(&quot;and frequently do?&quot;, &quot;you gotta move.&quot;) ➞ False"
   ]
  },
  {
   "cell_type": "code",
   "execution_count": 37,
   "id": "750c0600",
   "metadata": {},
   "outputs": [
    {
     "name": "stdout",
     "output_type": "stream",
     "text": [
      "False\n",
      "do move\n"
     ]
    }
   ],
   "source": [
    "def does_rhyme(a,b):\n",
    "    c=a.split(\" \")\n",
    "    d=b.split(\" \")\n",
    "    e=c[-1]\n",
    "    f=d[-1]\n",
    "    g=\"\"\n",
    "    p=\"\"\n",
    "    for i in e:\n",
    "        if i.isalpha():\n",
    "            g+=i\n",
    "    for i in f:\n",
    "        if i.isalpha():\n",
    "            p+=i      \n",
    "    if g in p:\n",
    "        print(\"True\")\n",
    "    else:\n",
    "        print(\"False\")\n",
    "    print(g,p)\n",
    "    \n",
    "does_rhyme(\"and frequently do?\", \"you gotta move.\") "
   ]
  },
  {
   "cell_type": "code",
   "execution_count": null,
   "id": "1713275c",
   "metadata": {},
   "outputs": [],
   "source": []
  },
  {
   "cell_type": "code",
   "execution_count": null,
   "id": "ba73e323",
   "metadata": {},
   "outputs": [],
   "source": []
  },
  {
   "cell_type": "code",
   "execution_count": null,
   "id": "ca46737f",
   "metadata": {},
   "outputs": [],
   "source": []
  },
  {
   "cell_type": "code",
   "execution_count": null,
   "id": "545d9948",
   "metadata": {},
   "outputs": [],
   "source": []
  },
  {
   "cell_type": "code",
   "execution_count": null,
   "id": "e384c6a7",
   "metadata": {},
   "outputs": [],
   "source": []
  },
  {
   "cell_type": "code",
   "execution_count": null,
   "id": "95d7caf1",
   "metadata": {},
   "outputs": [],
   "source": []
  },
  {
   "cell_type": "code",
   "execution_count": null,
   "id": "25d1e643",
   "metadata": {},
   "outputs": [],
   "source": []
  }
 ],
 "metadata": {
  "kernelspec": {
   "display_name": "Python 3",
   "language": "python",
   "name": "python3"
  },
  "language_info": {
   "codemirror_mode": {
    "name": "ipython",
    "version": 3
   },
   "file_extension": ".py",
   "mimetype": "text/x-python",
   "name": "python",
   "nbconvert_exporter": "python",
   "pygments_lexer": "ipython3",
   "version": "3.8.8"
  }
 },
 "nbformat": 4,
 "nbformat_minor": 5
}
