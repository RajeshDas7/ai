{
 "cells": [
  {
   "cell_type": "markdown",
   "id": "04ab41f3",
   "metadata": {},
   "source": [
    "### 1. What exactly is a feature? Give an example to illustrate your point."
   ]
  },
  {
   "cell_type": "code",
   "execution_count": null,
   "id": "f23bedab",
   "metadata": {},
   "outputs": [],
   "source": [
    "In machine learning and pattern recognition, a feature is an individual measurable property\n",
    "or characteristic of a phenomenon. Choosing informative, discriminating and\n",
    "independent features is a crucial element of effective algorithms in pattern recognition, classification and regression."
   ]
  },
  {
   "cell_type": "markdown",
   "id": "500e5fd1",
   "metadata": {},
   "source": [
    "### 2. What are the various circumstances in which feature construction is required?"
   ]
  },
  {
   "cell_type": "code",
   "execution_count": null,
   "id": "7b2744c2",
   "metadata": {},
   "outputs": [],
   "source": [
    "Feature construction involves transforming a given set of input features to generate a new set of\n",
    "more power- ful features which are then used for prediction. This\n",
    "may be done either to compress the dataset by reducing the number of features or to improve the prediction performance."
   ]
  },
  {
   "cell_type": "markdown",
   "id": "a77101c7",
   "metadata": {},
   "source": [
    "### 3. Describe how nominal variables are encoded.\n"
   ]
  },
  {
   "cell_type": "code",
   "execution_count": null,
   "id": "771b825e",
   "metadata": {},
   "outputs": [],
   "source": [
    "One-Hot Encoding\n",
    "For categorical variables where no ordinal relationship exists, the integer encoding may not be enough,\n",
    "at best, or misleading to the model at worst.\n",
    "\n",
    "Forcing an ordinal relationship via an ordinal encoding and allowing the model to assume a natural ordering \n",
    "between categories may result in poor performance or unexpected results (predictions halfway between categories)."
   ]
  },
  {
   "cell_type": "markdown",
   "id": "80f1470e",
   "metadata": {},
   "source": [
    "### 4. Describe how numeric features are converted to categorical features.\n"
   ]
  },
  {
   "cell_type": "code",
   "execution_count": null,
   "id": "ac7f2c4f",
   "metadata": {},
   "outputs": [],
   "source": [
    "Discretization: It is the process of transforming continuous variables into categorical\n",
    "    variables by creating a set of intervals, which are contiguous, that span over the range of the variable’s values.\n",
    "    It is also known as “Binning”, where the bin is an analogous name for an interval."
   ]
  },
  {
   "cell_type": "markdown",
   "id": "402027fa",
   "metadata": {},
   "source": [
    "### 5. Describe the feature selection wrapper approach. State the advantages and disadvantages of this\n",
    "approach?"
   ]
  },
  {
   "cell_type": "code",
   "execution_count": null,
   "id": "4a064be4",
   "metadata": {},
   "outputs": [],
   "source": [
    "In wrapper methods, the feature selection process is based on a specific machine learning\n",
    "algorithm that we are trying to fit on a given dataset.\n",
    "\n",
    "It follows a greedy search approach by evaluating all the possible combinations of\n",
    "features against the evaluation criterion. \n",
    "The evaluation criterion is simply the performance measure which depends on the type of problem,"
   ]
  },
  {
   "cell_type": "markdown",
   "id": "51aced12",
   "metadata": {},
   "source": [
    "### 6. When is a feature considered irrelevant? What can be said to quantify it?\n"
   ]
  },
  {
   "cell_type": "code",
   "execution_count": null,
   "id": "436bab6a",
   "metadata": {},
   "outputs": [],
   "source": [
    "Strong relevance implies that the feature is indispensable in the sense that\n",
    "it cannot be removed without loss of prediction accuracy.\n",
    "are irrelevant otherwise. Irrelevant features can never contribute to prediction accuracy,"
   ]
  },
  {
   "cell_type": "markdown",
   "id": "2d9bb207",
   "metadata": {},
   "source": [
    "### 7. When is a function considered redundant? What criteria are used to identify features that could\n",
    "be redundant?"
   ]
  },
  {
   "cell_type": "code",
   "execution_count": null,
   "id": "f3726586",
   "metadata": {},
   "outputs": [],
   "source": [
    "An attribute (column or feature of data set) is called redundant if it can\n",
    "be derived from any other attribute or set of attributes.\n",
    "Inconsistencies in attribute or dimension naming can also lead to the redundancies in data set.\n",
    "\n",
    "Redundancies can be detected using following methods\n",
    "\n",
    "χ2Test (Used for nominal Data or categorical or qualitative data)\n",
    "Correlation coefficient and covariance (Used for numeric Data or quantitative data)"
   ]
  },
  {
   "cell_type": "markdown",
   "id": "3a4bf33d",
   "metadata": {},
   "source": [
    "### 8. What are the various distance measurements used to determine feature similarity?\n"
   ]
  },
  {
   "cell_type": "code",
   "execution_count": null,
   "id": "9de68e2b",
   "metadata": {},
   "outputs": [],
   "source": [
    "Euclidean distance\n",
    "Manhattan distance\n",
    "Minkowski distance\n",
    "Synonyms of Minkowski\n",
    "Cosine Similarity\n",
    "Jaccard Similarity"
   ]
  },
  {
   "cell_type": "markdown",
   "id": "b17892ec",
   "metadata": {},
   "source": [
    "### 9. State difference between Euclidean and Manhattan distances?\n"
   ]
  },
  {
   "cell_type": "code",
   "execution_count": null,
   "id": "28bb43a0",
   "metadata": {},
   "outputs": [],
   "source": [
    "Euclidean distance is the shortest path between source and destination which is a \n",
    "straight line. but Manhattan distance is sum of\n",
    "all the real distances between source(s) and destination(d) and each distance are always the straight lines"
   ]
  },
  {
   "cell_type": "markdown",
   "id": "2bf826b1",
   "metadata": {},
   "source": [
    "### 10. Distinguish between feature transformation and feature selection.\n"
   ]
  },
  {
   "cell_type": "code",
   "execution_count": null,
   "id": "6f67c9d5",
   "metadata": {},
   "outputs": [],
   "source": [
    "The key difference between feature selection and feature extraction techniques \n",
    "used for dimensionality reduction is that while the original features are maintained\n",
    "in the case of feature selection algorithms, \n",
    "the feature extraction algorithms transform the data onto a new feature space."
   ]
  },
  {
   "cell_type": "code",
   "execution_count": null,
   "id": "ec369c46",
   "metadata": {},
   "outputs": [],
   "source": [
    "11. Make brief notes on any two of the following:\n",
    "    1.SVD (Standard Variable Diameter Diameter)\n",
    "    2. Collection of features using a hybrid approach\n",
    "\n",
    "    3. The width of the silhouette\n",
    "\n",
    "    4. Receiver operating characteristic curve"
   ]
  },
  {
   "cell_type": "code",
   "execution_count": null,
   "id": "8ee8e113",
   "metadata": {},
   "outputs": [],
   "source": [
    "SVD is the decomposition of a matrix A into 3 matrices – U, S, and V.\n",
    "S is the diagonal matrix of singular values. Think of singular values as the importance values of \n",
    "different features in the matrix. The rank of a matrix is a measure of the unique information stored in a matrix\n",
    "\n",
    "A receiver operating characteristic curve, or ROC curve, is a graphical plot that illustrates \n",
    "the diagnostic ability of a binary classifier system as its discrimination threshold is varied. "
   ]
  },
  {
   "cell_type": "code",
   "execution_count": null,
   "id": "49124282",
   "metadata": {},
   "outputs": [],
   "source": [
    "\n"
   ]
  },
  {
   "cell_type": "code",
   "execution_count": null,
   "id": "7303575d",
   "metadata": {},
   "outputs": [],
   "source": []
  },
  {
   "cell_type": "code",
   "execution_count": null,
   "id": "55cc8518",
   "metadata": {},
   "outputs": [],
   "source": []
  },
  {
   "cell_type": "code",
   "execution_count": null,
   "id": "f216e9a8",
   "metadata": {},
   "outputs": [],
   "source": []
  },
  {
   "cell_type": "code",
   "execution_count": null,
   "id": "93a9e2ba",
   "metadata": {},
   "outputs": [],
   "source": []
  },
  {
   "cell_type": "code",
   "execution_count": null,
   "id": "4f615926",
   "metadata": {},
   "outputs": [],
   "source": []
  },
  {
   "cell_type": "code",
   "execution_count": null,
   "id": "f6fe0b50",
   "metadata": {},
   "outputs": [],
   "source": []
  },
  {
   "cell_type": "code",
   "execution_count": null,
   "id": "1962b140",
   "metadata": {},
   "outputs": [],
   "source": []
  },
  {
   "cell_type": "code",
   "execution_count": null,
   "id": "0aebe89d",
   "metadata": {},
   "outputs": [],
   "source": []
  },
  {
   "cell_type": "code",
   "execution_count": null,
   "id": "54a469ca",
   "metadata": {},
   "outputs": [],
   "source": []
  }
 ],
 "metadata": {
  "kernelspec": {
   "display_name": "Python 3",
   "language": "python",
   "name": "python3"
  },
  "language_info": {
   "codemirror_mode": {
    "name": "ipython",
    "version": 3
   },
   "file_extension": ".py",
   "mimetype": "text/x-python",
   "name": "python",
   "nbconvert_exporter": "python",
   "pygments_lexer": "ipython3",
   "version": "3.8.8"
  }
 },
 "nbformat": 4,
 "nbformat_minor": 5
}
