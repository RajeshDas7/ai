{
 "cells": [
  {
   "cell_type": "markdown",
   "id": "4217d410",
   "metadata": {},
   "source": [
    "### 1. In the sense of machine learning, what is a model? What is the best way to train a model?"
   ]
  },
  {
   "cell_type": "code",
   "execution_count": null,
   "id": "550f1235",
   "metadata": {},
   "outputs": [],
   "source": [
    "A machine learning model is a file that has been trained to recognize certain types of patterns.\n",
    "You train a model over a set of data,\n",
    "providing it an algorithm that it can use to reason over and learn from those data."
   ]
  },
  {
   "cell_type": "markdown",
   "id": "b4a95b47",
   "metadata": {},
   "source": [
    "### 2. In the sense of machine learning, explain the &quot;No Free Lunch&quot; theorem.\n"
   ]
  },
  {
   "cell_type": "code",
   "execution_count": null,
   "id": "311079b2",
   "metadata": {},
   "outputs": [],
   "source": [
    "The theorem states that all optimization algorithms perform equally well when \n",
    "their performance is averaged across all possible problems.\n",
    "\n",
    "It implies that there is no single best optimization algorithm.\n",
    "Because of the close relationship between optimization, search, and machine learning,\n",
    "it also implies that there is no single\n",
    "best machine learning algorithm for predictive modeling problems such as classification and regression."
   ]
  },
  {
   "cell_type": "markdown",
   "id": "06902216",
   "metadata": {},
   "source": [
    "### 3. Describe the K-fold cross-validation mechanism in detail.\n"
   ]
  },
  {
   "cell_type": "code",
   "execution_count": null,
   "id": "eae6bcb1",
   "metadata": {},
   "outputs": [],
   "source": [
    "Cross-validation is a resampling procedure used to evaluate machine learning models on a \n",
    "limited data sample. The procedure has a single\n",
    "parameter called k that refers to the number of groups that a given data sample is to be split into."
   ]
  },
  {
   "cell_type": "markdown",
   "id": "72657b89",
   "metadata": {},
   "source": [
    "### 4. Describe the bootstrap sampling method. What is the aim of it?\n"
   ]
  },
  {
   "cell_type": "code",
   "execution_count": null,
   "id": "7cf8eed3",
   "metadata": {},
   "outputs": [],
   "source": [
    "Bootstrap sampling is used in a machine learning ensemble algorithm called bootstrap aggregating (also called bagging). \n",
    "It helps in avoiding overfitting and improves the stability of machine learning algorithms.\n",
    "\n",
    "In bagging, a certain number of equally sized subsets of a dataset are extracted with replacement.\n",
    "Then, a machine learning algorithm is applied to each of these subsets and the outputs are ensembled"
   ]
  },
  {
   "cell_type": "markdown",
   "id": "9ec5c037",
   "metadata": {},
   "source": [
    "### 5. What is the significance of calculating the Kappa value for a classification model? Demonstrate\n",
    "how to measure the Kappa value of a classification model using a sample collection of results.\n"
   ]
  },
  {
   "cell_type": "code",
   "execution_count": null,
   "id": "c41e8fb7",
   "metadata": {},
   "outputs": [],
   "source": [
    "It basically tells you how much better your classifier is performing \n",
    "over the performance of a classifier that simply guesses at random according to the frequency of each class. \n",
    "Cohen's kappa is always less than or equal to 1. Values of 0 or less, indicate that the classifier is useless"
   ]
  },
  {
   "cell_type": "markdown",
   "id": "ea81d0b7",
   "metadata": {},
   "source": [
    "### 6. Describe the model ensemble method. In machine learning, what part does it play?\n"
   ]
  },
  {
   "cell_type": "code",
   "execution_count": null,
   "id": "ab85a0d3",
   "metadata": {},
   "outputs": [],
   "source": [
    "Ensemble methods is a machine learning technique that combines\n",
    "several base models in order to produce one optimal predictive model"
   ]
  },
  {
   "cell_type": "markdown",
   "id": "09726c9a",
   "metadata": {},
   "source": [
    "### 7. What is a descriptive model&#39;s main purpose? Give examples of real-world problems that\n",
    "descriptive models were used to solve."
   ]
  },
  {
   "cell_type": "code",
   "execution_count": null,
   "id": "77066985",
   "metadata": {},
   "outputs": [],
   "source": [
    "The purpose of descriptive analysis is to enable us to understand whether the machine learning model\n",
    "will perform poorly or whether it is the best model in a particular problem."
   ]
  },
  {
   "cell_type": "markdown",
   "id": "8d51dde2",
   "metadata": {},
   "source": [
    "### 8. Describe how to evaluate a linear regression model.\n"
   ]
  },
  {
   "cell_type": "code",
   "execution_count": null,
   "id": "62bf7dc5",
   "metadata": {},
   "outputs": [],
   "source": [
    "There are three main errors (metrics) used to evaluate models,\n",
    "Mean absolute error, Mean Squared error and R2 score."
   ]
  },
  {
   "cell_type": "markdown",
   "id": "37b73619",
   "metadata": {},
   "source": [
    "### 9. Distinguish :\n",
    "\n",
    "1. Descriptive vs. predictive models\n",
    "\n",
    "2. Underfitting vs. overfitting the model\n",
    "\n",
    "3. Bootstrapping vs. cross-validation"
   ]
  },
  {
   "cell_type": "code",
   "execution_count": null,
   "id": "08573700",
   "metadata": {},
   "outputs": [],
   "source": [
    "A descriptive model will exploit the past data that are stored in databases and provide you with the accurate report.\n",
    "In a Predictive model, it identifies patterns found in past and transactional data to find risks and future outcomes.\n",
    "\n",
    "This situation where any given model is performing too well on the training data\n",
    "but the performance drops significantly over the test set is called an overfitting model. On the other hand,\n",
    "if the model is performing poorly over the test and the train set, then we call that an underfitting model.\n",
    "\n",
    "bootstrap resamples with replacement (and usually produces new \"surrogate\" data sets with the same number of\n",
    "cases as the original data set). Due to the drawing with replacement, a bootstrapped data \n",
    "set may contain multiple instances of the same original cases, and may completely omit other original cases.\n",
    "\n",
    "cross validation resamples without replacement and thus produces surrogate data\n",
    "sets that are smaller than the original. These data sets are produced in a systematic \n",
    "way so that after a pre-specified number k of surrogate data sets, each of the n original \n",
    "cases has been left out exactly once. This is called k-fold cross validation or leave-x-out \n",
    "cross validation with x=nk, e.g. leave-one-out cross validation omits 1 case for each surrogate set, i.e. k=n."
   ]
  },
  {
   "cell_type": "markdown",
   "id": "e3176114",
   "metadata": {},
   "source": [
    "### 10. Make quick notes on:\n",
    "\n",
    "1. LOOCV.\n",
    "\n",
    "2. F-measurement\n",
    "\n",
    "3. The width of the silhouette"
   ]
  },
  {
   "cell_type": "code",
   "execution_count": null,
   "id": "628688b3",
   "metadata": {},
   "outputs": [],
   "source": [
    "LOOCV(Leave One Out Cross-Validation) is a type of cross-validation approach in which\n",
    "each observation is considered as the validation set and the rest (N-1) observations are considered as the training set.\n",
    "In LOOCV, fitting of the model is done and predicting using one observation validation set.\n",
    "\n",
    "We calculate an F-measure, which uses Harmonic Mean in place of Arithmetic\n",
    "Mean as it punishes the extreme values more.\n",
    "The F-Measure will always be nearer to the smaller value of Precision or Recall\n",
    "\n",
    "The Average Silhouette Width (ASW) is a popular cluster validation index to estimate the number of clusters."
   ]
  },
  {
   "cell_type": "code",
   "execution_count": null,
   "id": "0ab0bd1c",
   "metadata": {},
   "outputs": [],
   "source": []
  }
 ],
 "metadata": {
  "kernelspec": {
   "display_name": "Python 3",
   "language": "python",
   "name": "python3"
  },
  "language_info": {
   "codemirror_mode": {
    "name": "ipython",
    "version": 3
   },
   "file_extension": ".py",
   "mimetype": "text/x-python",
   "name": "python",
   "nbconvert_exporter": "python",
   "pygments_lexer": "ipython3",
   "version": "3.8.8"
  }
 },
 "nbformat": 4,
 "nbformat_minor": 5
}
