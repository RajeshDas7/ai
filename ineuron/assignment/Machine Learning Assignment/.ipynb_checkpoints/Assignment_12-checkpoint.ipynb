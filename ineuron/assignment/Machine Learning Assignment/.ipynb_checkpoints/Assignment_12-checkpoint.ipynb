{
 "cells": [
  {
   "cell_type": "markdown",
   "id": "cdc6656c",
   "metadata": {},
   "source": [
    "### 1. What is prior probability? Give an example.\n"
   ]
  },
  {
   "cell_type": "code",
   "execution_count": null,
   "id": "27973000",
   "metadata": {},
   "outputs": [],
   "source": [
    "Prior probability, in Bayesian statistical inference, is the probability of an event before\n",
    "new data is collected. This is the best \n",
    "rational assessment of the probability of an outcome based on the current\n",
    "knowledge before an experiment is performed.\n",
    "\n",
    "For example, three acres of land have the labels A, B, and C. One acre has reserves of oil below its surface,\n",
    "while the other two do not. The prior probability of oil being found on acre C is one third, or 0.333.\n",
    "But if a drilling test is conducted on acre B, and the results indicate that no oil is present at the location,\n",
    "then the posterior probability of oil being found on acres A and C become 0.5, as each acre has one out of two chances."
   ]
  },
  {
   "cell_type": "markdown",
   "id": "3b1d23eb",
   "metadata": {},
   "source": [
    "### 2. What is posterior probability? Give an example.\n"
   ]
  },
  {
   "cell_type": "code",
   "execution_count": null,
   "id": "a97762a4",
   "metadata": {},
   "outputs": [],
   "source": [
    "A posterior probability, in Bayesian statistics, is the revised or updated probability of\n",
    "an event occurring after taking into consideration new information.\n",
    "The posterior probability is calculated by updating the prior probability using Bayes theorem. \n",
    "In statistical terms, the posterior probability is the probability of event A occurring given that event B has occurred.\n",
    "\n",
    "For example, three acres of land have the labels A, B, and C. One acre has reserves of oil below its surface,\n",
    "while the other two do not. The prior probability of oil being found on acre C is one third, or 0.333.\n",
    "But if a drilling test is conducted on acre B, and the results indicate that no oil is present at the location,\n",
    "then the posterior probability of oil being found on acres A and C become 0.5, as each acre has one out of two chances."
   ]
  },
  {
   "cell_type": "markdown",
   "id": "2837362c",
   "metadata": {},
   "source": [
    "### 3. What is likelihood probability? Give an example.\n"
   ]
  },
  {
   "cell_type": "code",
   "execution_count": null,
   "id": "45efb2bc",
   "metadata": {},
   "outputs": [],
   "source": [
    " Probability attaches to possible results;\n",
    "likelihood attaches to hypotheses."
   ]
  },
  {
   "cell_type": "markdown",
   "id": "a328b386",
   "metadata": {},
   "source": [
    "### 4. What is Naïve Bayes classifier? Why is it named so?\n"
   ]
  },
  {
   "cell_type": "code",
   "execution_count": null,
   "id": "357f3f71",
   "metadata": {},
   "outputs": [],
   "source": [
    "Naive Bayes classifiers are a collection of classification algorithms based on Bayes’ Theorem.\n",
    "It is not a single algorithm but a family of algorithms where all of them share a common principle,\n",
    "i.e. every pair of features being classified is independent of each other."
   ]
  },
  {
   "cell_type": "markdown",
   "id": "058651c3",
   "metadata": {},
   "source": [
    "### 5. What is optimal Bayes classifier?\n"
   ]
  },
  {
   "cell_type": "code",
   "execution_count": null,
   "id": "f5d7271f",
   "metadata": {},
   "outputs": [],
   "source": [
    "The Bayes Optimal Classifier is a probabilistic model that makes the most probable prediction for a new example."
   ]
  },
  {
   "cell_type": "markdown",
   "id": "55b345e1",
   "metadata": {},
   "source": [
    "### 6. Write any two features of Bayesian learning methods.\n"
   ]
  },
  {
   "cell_type": "code",
   "execution_count": null,
   "id": "45cbb11e",
   "metadata": {},
   "outputs": [],
   "source": [
    "Each observed training example can incrementally decrease or increase the estimated\n",
    "probability that a hypothesis is correct.\n",
    "– This provides a more flexible approach to learning than algorithms that completely\n",
    "eliminate a hypothesis if it is found to be inconsistent with any single example.\n",
    "• Prior knowledge can be combined with observed data to determine the final\n",
    "probability of a hypothesis. In Bayesian learning, prior knowledge is provided by\n",
    "asserting\n",
    "– a prior probability for each candidate hypothesis, and\n",
    "– a probability distribution over observed data for each possible hypothesis.\n",
    "• Bayesian methods can accommodate hypotheses that make probabilistic predictions\n",
    "• New instances can be classified by combining the predictions of multiple hypotheses,\n",
    "weighted by their probabilities.\n",
    "• Even in cases where Bayesian methods prove computationally intractable, they can\n",
    "provide a standard of optimal decision making against which other practical methods\n",
    "can be measured"
   ]
  },
  {
   "cell_type": "markdown",
   "id": "74443207",
   "metadata": {},
   "source": [
    "### 7. Define the concept of consistent learners.\n"
   ]
  },
  {
   "cell_type": "code",
   "execution_count": null,
   "id": "ae24e728",
   "metadata": {},
   "outputs": [],
   "source": [
    "Consistent Learners.\n",
    "• A learner L using a hypothesis H and training data D is said to be a consistent learner if\n",
    "it always outputs a hypothesis with zero error on D whenever H contains such a hypothesis.\n",
    "• By definition, a consistent learner must produce a hypothesis in the version space for H given D."
   ]
  },
  {
   "cell_type": "markdown",
   "id": "156e6570",
   "metadata": {},
   "source": [
    "### 8. Write any two strengths of Bayes classifier.\n"
   ]
  },
  {
   "cell_type": "code",
   "execution_count": null,
   "id": "aacddffb",
   "metadata": {},
   "outputs": [],
   "source": [
    "It is simple and easy to implement.\n",
    "It doesn't require as much training data.\n",
    "It handles both continuous and discrete data.\n",
    "It is highly scalable with the number of predictors and data points.\n",
    "It is fast and can be used to make real-time predictions."
   ]
  },
  {
   "cell_type": "markdown",
   "id": "6b07e935",
   "metadata": {},
   "source": [
    "### 9. Write any two weaknesses of Bayes classifier.\n"
   ]
  },
  {
   "cell_type": "code",
   "execution_count": null,
   "id": "e1fcebb4",
   "metadata": {},
   "outputs": [],
   "source": [
    "The greatest weakness of the naïve Bayes classifier is that it relies on an often-faulty assumption of equally \n",
    "important and independent features which results in biased posterior probabilities.\n",
    "Although this assumption is rarely met, in practice, this algorithm works surprisingly well."
   ]
  },
  {
   "cell_type": "markdown",
   "id": "f237c94e",
   "metadata": {},
   "source": [
    "### 10. Explain how Naïve Bayes classifier is used for\n",
    "\n",
    "1. Text classification\n",
    "\n",
    "2. Spam filtering\n",
    "\n",
    "3. Market sentiment analysis"
   ]
  },
  {
   "cell_type": "code",
   "execution_count": null,
   "id": "55e5f78c",
   "metadata": {},
   "outputs": [],
   "source": []
  },
  {
   "cell_type": "code",
   "execution_count": null,
   "id": "a7eb47d0",
   "metadata": {},
   "outputs": [],
   "source": []
  },
  {
   "cell_type": "code",
   "execution_count": null,
   "id": "0e29a713",
   "metadata": {},
   "outputs": [],
   "source": []
  },
  {
   "cell_type": "code",
   "execution_count": null,
   "id": "1e0b3872",
   "metadata": {},
   "outputs": [],
   "source": []
  }
 ],
 "metadata": {
  "kernelspec": {
   "display_name": "Python 3",
   "language": "python",
   "name": "python3"
  },
  "language_info": {
   "codemirror_mode": {
    "name": "ipython",
    "version": 3
   },
   "file_extension": ".py",
   "mimetype": "text/x-python",
   "name": "python",
   "nbconvert_exporter": "python",
   "pygments_lexer": "ipython3",
   "version": "3.8.8"
  }
 },
 "nbformat": 4,
 "nbformat_minor": 5
}
