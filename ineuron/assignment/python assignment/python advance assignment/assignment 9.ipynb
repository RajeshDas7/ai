{
 "cells": [
  {
   "cell_type": "markdown",
   "id": "6ee2047a",
   "metadata": {},
   "source": [
    "### Q1. In Python 3.X, what are the names and functions of string object types?"
   ]
  },
  {
   "cell_type": "code",
   "execution_count": null,
   "id": "d635434f",
   "metadata": {},
   "outputs": [],
   "source": [
    "capitalize()===it capitalize the entire string\n",
    "isalpha()===it will return True if the string contains only alphabets\n",
    "count()====it will find the number of occurence of a character\n",
    "len()===it is used to find the lengh of the string\n",
    "isalnum()===it check whether the string has alphabet or number or both"
   ]
  },
  {
   "cell_type": "markdown",
   "id": "7bf713d1",
   "metadata": {},
   "source": [
    "### Q2. How do the string forms in Python 3.X vary in terms of operations?"
   ]
  },
  {
   "cell_type": "code",
   "execution_count": null,
   "id": "901e6faf",
   "metadata": {},
   "outputs": [],
   "source": []
  },
  {
   "cell_type": "markdown",
   "id": "d280295b",
   "metadata": {},
   "source": [
    "### Q3. In 3.X, how do you put non-ASCII Unicode characters in a string?"
   ]
  },
  {
   "cell_type": "code",
   "execution_count": null,
   "id": "fb539c8d",
   "metadata": {},
   "outputs": [],
   "source": [
    "by using unidecode method"
   ]
  },
  {
   "cell_type": "markdown",
   "id": "ef68a2ab",
   "metadata": {},
   "source": [
    "### Q4. In Python 3.X, what are the key differences between text-mode and binary-mode files?"
   ]
  },
  {
   "cell_type": "code",
   "execution_count": null,
   "id": "1c3dda07",
   "metadata": {},
   "outputs": [],
   "source": [
    "in text mode, the program writes data to file as text characters,\n",
    "and in binary mode, the program writes data to files as 0/1 bits\n",
    "\n",
    "Writing data using the binary mode takes smaller disk or memory sizes comparing to writing data using the text mode. \n",
    "That’s why large data storage and low latency file transmission often use binary formats."
   ]
  },
  {
   "cell_type": "code",
   "execution_count": null,
   "id": "05d151a6",
   "metadata": {},
   "outputs": [],
   "source": []
  },
  {
   "cell_type": "markdown",
   "id": "84fba474",
   "metadata": {},
   "source": [
    "### Q5. How can you interpret a Unicode text file containing text encoded in a different encoding than your platform&#39;s default?"
   ]
  },
  {
   "cell_type": "code",
   "execution_count": null,
   "id": "dae8a724",
   "metadata": {},
   "outputs": [],
   "source": []
  },
  {
   "cell_type": "code",
   "execution_count": null,
   "id": "4c244787",
   "metadata": {},
   "outputs": [],
   "source": []
  },
  {
   "cell_type": "markdown",
   "id": "e0f64e0e",
   "metadata": {},
   "source": [
    "### Q6. What is the best way to make a Unicode text file in a particular encoding format?"
   ]
  },
  {
   "cell_type": "code",
   "execution_count": null,
   "id": "0c7935ce",
   "metadata": {},
   "outputs": [],
   "source": [
    "Call str.encode(encoding) with encoding set to \"utf8\" to encode str. \n",
    "Call open(file, mode) to open a file with mode set to \"wb\" .\n",
    "\"wb\" writes to files in binary mode and preserves UTF-8 format.\n",
    "Call file.write(data) to write data to the file.\n",
    "\n",
    "example\n",
    "-------\n",
    "\n",
    "unicode_text = u'ʑʒʓʔʕʗʘʙʚʛʜʝʞ'\n",
    "encoded_unicode = unicode_text.encode(\"utf8\")\n",
    "\n",
    "a_file = open(\"textfile.txt\", \"wb\")\n",
    "a_file.write(encoded_unicode)\n",
    "\n",
    "a_file = open(\"textfile.txt\", \"r\")\n",
    "r reads contents of a file\n",
    "\n",
    "contents = a_file.read()\n",
    "\n",
    "print(contents)\n",
    "OUTPUT"
   ]
  },
  {
   "cell_type": "markdown",
   "id": "a8d8d2ec",
   "metadata": {},
   "source": [
    "### Q7. What qualifies ASCII text as a form of Unicode text?"
   ]
  },
  {
   "cell_type": "code",
   "execution_count": null,
   "id": "b494f305",
   "metadata": {},
   "outputs": [],
   "source": [
    "ASCII represents lowercase letters (a-z), uppercase letters (A-Z), digits (0–9) and symbols such as punctuation marks \n",
    "\n",
    "Unicode represents letters of English, Arabic, Greek etc. \n",
    "mathematical symbols, historical scripts,\n",
    "emoji covering a wide range of characters than ASCII"
   ]
  },
  {
   "cell_type": "markdown",
   "id": "5a48e5b2",
   "metadata": {},
   "source": [
    "### Q8. How much of an effect does the change in string types in Python 3.X have on your code?"
   ]
  },
  {
   "cell_type": "code",
   "execution_count": null,
   "id": "a5fdbb6c",
   "metadata": {},
   "outputs": [],
   "source": []
  }
 ],
 "metadata": {
  "kernelspec": {
   "display_name": "Python 3",
   "language": "python",
   "name": "python3"
  },
  "language_info": {
   "codemirror_mode": {
    "name": "ipython",
    "version": 3
   },
   "file_extension": ".py",
   "mimetype": "text/x-python",
   "name": "python",
   "nbconvert_exporter": "python",
   "pygments_lexer": "ipython3",
   "version": "3.8.8"
  }
 },
 "nbformat": 4,
 "nbformat_minor": 5
}
