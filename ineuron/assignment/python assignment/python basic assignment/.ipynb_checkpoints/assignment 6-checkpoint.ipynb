{
 "cells": [
  {
   "cell_type": "markdown",
   "id": "083727bd",
   "metadata": {},
   "source": [
    "### 1. What are escape characters, and how do you use them?"
   ]
  },
  {
   "cell_type": "code",
   "execution_count": null,
   "id": "5ac63217",
   "metadata": {},
   "outputs": [],
   "source": [
    "to insert character which are invalid in a string we can use a escape character.\n",
    "\n",
    "escape character is a \\ followed by the character we want to insert"
   ]
  },
  {
   "cell_type": "markdown",
   "id": "1d7162c6",
   "metadata": {},
   "source": [
    "### 2. What do the escape characters n and t stand for?"
   ]
  },
  {
   "cell_type": "code",
   "execution_count": null,
   "id": "b51ebdac",
   "metadata": {},
   "outputs": [],
   "source": [
    "the escape character \\n represent a NEWLINE\n",
    "the escape character \\T represent a  TAB"
   ]
  },
  {
   "cell_type": "markdown",
   "id": "1520dd03",
   "metadata": {},
   "source": [
    "### 3. What is the way to include backslash characters in a string?"
   ]
  },
  {
   "cell_type": "code",
   "execution_count": null,
   "id": "cc6cb465",
   "metadata": {},
   "outputs": [],
   "source": [
    "we can use \\\\ to represent a single backlash in a string"
   ]
  },
  {
   "cell_type": "markdown",
   "id": "20d92d9e",
   "metadata": {},
   "source": [
    "### 4. The string \"Howl's Moving Castle\" is a correct value. Why isn't the single quote character in the word Howl's not escaped a problem?"
   ]
  },
  {
   "cell_type": "code",
   "execution_count": null,
   "id": "1a1dc3ab",
   "metadata": {},
   "outputs": [],
   "source": [
    "we have used \" \" to start and end the string. \n",
    "so '' within the string will not cause any problem"
   ]
  },
  {
   "cell_type": "markdown",
   "id": "3c8551f9",
   "metadata": {},
   "source": [
    "### 5. How do you write a string of newlines if you don't want to use the n character?"
   ]
  },
  {
   "cell_type": "code",
   "execution_count": null,
   "id": "99eb7f2f",
   "metadata": {},
   "outputs": [],
   "source": [
    "we can use multiline strings to use newlines in strings without the \\n character"
   ]
  },
  {
   "cell_type": "markdown",
   "id": "175c4202",
   "metadata": {},
   "source": [
    "### 6. What are the values of the given expressions?\n",
    "'Hello, world!'[1]\n",
    "\n",
    "'Hello, world!'[0:5]\n",
    "\n",
    "'Hello, world!'[:5]\n",
    "\n",
    "'Hello, world!'[3:]\n"
   ]
  },
  {
   "cell_type": "code",
   "execution_count": null,
   "id": "8e6ec3e7",
   "metadata": {},
   "outputs": [],
   "source": [
    "'Hello, world!'[1]   ===  'e'\n",
    "\n",
    "'Hello, world!'[0:5]  === 'Hello'\n",
    "\n",
    "'Hello, world!'[:5]  === 'Hello'\n",
    "\n",
    "'Hello, world!'[3:]  ===  'lo, world!'"
   ]
  },
  {
   "cell_type": "code",
   "execution_count": null,
   "id": "1ef72f73",
   "metadata": {},
   "outputs": [],
   "source": []
  },
  {
   "cell_type": "markdown",
   "id": "7167a23c",
   "metadata": {},
   "source": [
    "### 7. What are the values of the following expressions?\n",
    "'Hello'.upper()\n",
    "\n",
    "'Hello'.upper().isupper()\n",
    "\n",
    "'Hello'.upper().lower()\n"
   ]
  },
  {
   "cell_type": "code",
   "execution_count": null,
   "id": "853beffc",
   "metadata": {},
   "outputs": [],
   "source": [
    "'Hello'.upper()   ====  'HELLO'\n",
    "\n",
    "'Hello'.upper().isupper()   ===  True\n",
    " \n",
    "'Hello'.upper().lower()   ===  'hello'"
   ]
  },
  {
   "cell_type": "markdown",
   "id": "4102ac61",
   "metadata": {},
   "source": [
    "### 8. What are the values of the following expressions?\n",
    "\n",
    "'Remember, remember, the fifth of July.'.split()\n",
    "\n",
    "'-'.join('There can only one.'.split())"
   ]
  },
  {
   "cell_type": "code",
   "execution_count": null,
   "id": "d39af0a5",
   "metadata": {},
   "outputs": [],
   "source": [
    "'Remember, remember, the fifth of July.'.split()  ===  ['Remember,', 'remember,', 'the', 'fifth', 'of', 'July.']\n",
    "\n",
    "'-'.join('There can only one.'.split()) ===  'There-can-only-one.'"
   ]
  },
  {
   "cell_type": "markdown",
   "id": "d0d049ce",
   "metadata": {},
   "source": [
    "### 9. What are the methods for right-justifying, left-justifying, and centering a string?"
   ]
  },
  {
   "cell_type": "code",
   "execution_count": null,
   "id": "56dd3e8f",
   "metadata": {},
   "outputs": [],
   "source": [
    "right-justifying  === rjust()\n",
    "\n",
    "left-justifying === ljust()\n",
    "\n",
    "centering === centre()"
   ]
  },
  {
   "cell_type": "markdown",
   "id": "077b5fba",
   "metadata": {},
   "source": [
    "### 10. What is the best way to remove whitespace characters from the start or end?"
   ]
  },
  {
   "cell_type": "code",
   "execution_count": null,
   "id": "d51c32a5",
   "metadata": {},
   "outputs": [],
   "source": [
    "lstrip() method can remove whitespace characters from start\n",
    "rstrip() method can remove whitespace characters from end"
   ]
  }
 ],
 "metadata": {
  "kernelspec": {
   "display_name": "Python 3",
   "language": "python",
   "name": "python3"
  },
  "language_info": {
   "codemirror_mode": {
    "name": "ipython",
    "version": 3
   },
   "file_extension": ".py",
   "mimetype": "text/x-python",
   "name": "python",
   "nbconvert_exporter": "python",
   "pygments_lexer": "ipython3",
   "version": "3.8.8"
  }
 },
 "nbformat": 4,
 "nbformat_minor": 5
}
