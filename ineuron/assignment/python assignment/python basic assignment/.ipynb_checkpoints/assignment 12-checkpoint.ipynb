{
 "cells": [
  {
   "cell_type": "markdown",
   "id": "74f2f464",
   "metadata": {},
   "source": [
    "### 1. In what modes should the PdfFileReader() and PdfFileWriter() File objects will be opened?"
   ]
  },
  {
   "cell_type": "code",
   "execution_count": null,
   "id": "524ceac6",
   "metadata": {},
   "outputs": [],
   "source": [
    "Read-binary ('rb') for PdfFileReader() and write-binary ('wb') for PdfFileWriter()"
   ]
  },
  {
   "cell_type": "markdown",
   "id": "96bcb289",
   "metadata": {},
   "source": [
    "### 2. From a PdfFileReader object, how do you get a Page object for page 5?"
   ]
  },
  {
   "cell_type": "code",
   "execution_count": null,
   "id": "822f7c78",
   "metadata": {},
   "outputs": [],
   "source": [
    "Calling getPage(4) will return a Page object"
   ]
  },
  {
   "cell_type": "markdown",
   "id": "6678a663",
   "metadata": {},
   "source": [
    "### 3. What PdfFileReader variable stores the number of pages in the PDF document?"
   ]
  },
  {
   "cell_type": "code",
   "execution_count": null,
   "id": "0b400915",
   "metadata": {},
   "outputs": [],
   "source": [
    "The numPages variable stores an integer of the number of pages in the PdfFileReader object."
   ]
  },
  {
   "cell_type": "markdown",
   "id": "6fdcedff",
   "metadata": {},
   "source": [
    "### 4. If a PdfFileReader object’s PDF is encrypted with the password swordfish, what must you do before you can obtain Page objects from it?"
   ]
  },
  {
   "cell_type": "code",
   "execution_count": null,
   "id": "01a94a0c",
   "metadata": {},
   "outputs": [],
   "source": [
    "Call decrypt('swordfish')."
   ]
  },
  {
   "cell_type": "markdown",
   "id": "d8f66fd0",
   "metadata": {},
   "source": [
    "### 5. What methods do you use to rotate a page?"
   ]
  },
  {
   "cell_type": "code",
   "execution_count": null,
   "id": "44ec0d0f",
   "metadata": {},
   "outputs": [],
   "source": [
    "The rotateClockwise() and rotateCounterClockwise() methods."
   ]
  },
  {
   "cell_type": "markdown",
   "id": "b35859db",
   "metadata": {},
   "source": [
    "### 6. What is the difference between a Run object and a Paragraph object?"
   ]
  },
  {
   "cell_type": "code",
   "execution_count": null,
   "id": "ed671b13",
   "metadata": {},
   "outputs": [],
   "source": [
    "A document contains multiple paragraphs.\n",
    "A paragraph begins on a new line and contains multiple runs.\n",
    "\n",
    "Runs are contiguous groups of characters within a paragraph."
   ]
  },
  {
   "cell_type": "markdown",
   "id": "7cd1f2e9",
   "metadata": {},
   "source": [
    "### 7. How do you obtain a list of Paragraph objects for a Document object that’s stored in a variable named doc?"
   ]
  },
  {
   "cell_type": "code",
   "execution_count": null,
   "id": "abfb5a2a",
   "metadata": {},
   "outputs": [],
   "source": [
    "doc.paragraphs."
   ]
  },
  {
   "cell_type": "markdown",
   "id": "83805ac6",
   "metadata": {},
   "source": [
    "### 8. What type of object has bold, underline, italic, strike, and outline variables?"
   ]
  },
  {
   "cell_type": "code",
   "execution_count": null,
   "id": "f3932902",
   "metadata": {},
   "outputs": [],
   "source": [
    "A Run object has these variables (not a Paragraph)."
   ]
  },
  {
   "cell_type": "markdown",
   "id": "b33b7dc3",
   "metadata": {},
   "source": [
    "### 9. What is the difference between False, True, and None for the bold variable?"
   ]
  },
  {
   "cell_type": "code",
   "execution_count": null,
   "id": "b543c5ae",
   "metadata": {},
   "outputs": [],
   "source": [
    "True always makes the Run object bolded\n",
    "and False makes it always not bolded,\n",
    "no matter what the style’s bold setting is.\n",
    "None will make the Run object just use the style’s bold setting."
   ]
  },
  {
   "cell_type": "markdown",
   "id": "eed749c5",
   "metadata": {},
   "source": [
    "### 10. How do you create a Document object for a new Word document?"
   ]
  },
  {
   "cell_type": "code",
   "execution_count": null,
   "id": "7ba8e208",
   "metadata": {},
   "outputs": [],
   "source": [
    "docx.Document()"
   ]
  },
  {
   "cell_type": "markdown",
   "id": "5f59d827",
   "metadata": {},
   "source": [
    "### 11. How do you add a paragraph with the text 'Hello, there!' to a Document object stored in a variable named doc?"
   ]
  },
  {
   "cell_type": "code",
   "execution_count": null,
   "id": "3c9a124e",
   "metadata": {},
   "outputs": [],
   "source": [
    "doc.add_paragraph('Hello there!')"
   ]
  },
  {
   "cell_type": "markdown",
   "id": "bfa30174",
   "metadata": {},
   "source": [
    "### 12. What integers represent the levels of headings available in Word documents?"
   ]
  },
  {
   "cell_type": "code",
   "execution_count": null,
   "id": "3459261d",
   "metadata": {},
   "outputs": [],
   "source": [
    "The integers 0, 1, 2, 3, and 4"
   ]
  },
  {
   "cell_type": "code",
   "execution_count": null,
   "id": "bd899223",
   "metadata": {},
   "outputs": [],
   "source": []
  }
 ],
 "metadata": {
  "kernelspec": {
   "display_name": "Python 3",
   "language": "python",
   "name": "python3"
  },
  "language_info": {
   "codemirror_mode": {
    "name": "ipython",
    "version": 3
   },
   "file_extension": ".py",
   "mimetype": "text/x-python",
   "name": "python",
   "nbconvert_exporter": "python",
   "pygments_lexer": "ipython3",
   "version": "3.8.8"
  }
 },
 "nbformat": 4,
 "nbformat_minor": 5
}
