{
 "cells": [
  {
   "cell_type": "markdown",
   "id": "7c3d9dab",
   "metadata": {},
   "source": [
    "### 1.Explain the term machine learning, and how does it work? Explain two machine learning\n",
    "applications in the business world. What are some of the ethical concerns that machine learning\n",
    "applications could raise?"
   ]
  },
  {
   "cell_type": "code",
   "execution_count": null,
   "id": "fd1563c0",
   "metadata": {},
   "outputs": [],
   "source": [
    "Machine Learning is about building systems that can learn from\n",
    "data. Learning means getting better at some task, given some\n",
    "performance measure.\n",
    "\n",
    "Machine learning is a form of artificial intelligence (AI) that\n",
    "teaches computers to think in a similar way to how humans do: Learning and improving upon past experiences.\n",
    "It works by exploring data and identifying patterns, and involves minimal human intervention. "
   ]
  },
  {
   "cell_type": "markdown",
   "id": "6bbedebc",
   "metadata": {},
   "source": [
    "### 2. Describe the process of human learning:\n",
    "i. Under the supervision of experts\n",
    "\n",
    "ii. With the assistance of experts in an indirect manner\n",
    "\n",
    "iii. Self-education"
   ]
  },
  {
   "cell_type": "code",
   "execution_count": null,
   "id": "247d6034",
   "metadata": {},
   "outputs": [],
   "source": []
  },
  {
   "cell_type": "markdown",
   "id": "86b602c8",
   "metadata": {},
   "source": [
    "### 3. Provide a few examples of various types of machine learning.\n"
   ]
  },
  {
   "cell_type": "code",
   "execution_count": null,
   "id": "37762799",
   "metadata": {},
   "outputs": [],
   "source": [
    "Types of Machine Learning\n",
    "• Supervised Learning\n",
    "• Unsupervised Learning\n",
    "• Reinforcement Learning\n",
    "\n",
    "An example of a classification problem would be the MNIST handwritten digits dataset\n",
    "where the inputs are images of handwritten digits (pixel data) and the output is a class\n",
    "label for what digit the image represents (numbers 0 to 9).\n",
    "\n",
    "An example of a regression problem would be the Boston house prices dataset\n",
    "where the inputs are variables that describe a neighborhood and the output is a house price in dollars.\n",
    "\n",
    "An example of a clustering algorithm is k-Means where k refers to the number of clusters to discover in the data.\n",
    "An example of a density estimation algorithm is Kernel Density Estimation that involves\n",
    "using small groups of closely related data samples to estimate the distribution for new points in the problem space.\n",
    "\n",
    "An example of a reinforcement problem is playing a game where the agent has the goal of getting \n",
    "a high score and can make moves in the game and received feedback in terms of punishments or rewards."
   ]
  },
  {
   "cell_type": "markdown",
   "id": "c1a18481",
   "metadata": {},
   "source": [
    "### 4. Examine the various forms of machine learning.\n"
   ]
  },
  {
   "cell_type": "code",
   "execution_count": null,
   "id": "1eeb7dc8",
   "metadata": {},
   "outputs": [],
   "source": [
    "Types of Machine Learning\n",
    "• Supervised Learning\n",
    "• Unsupervised Learning\n",
    "• Reinforcement Learning\n",
    "\n",
    "Supervised learning\n",
    "In a supervised learning model, the algorithm learns on a labeled dataset, to generate reasonable\n",
    "predictions for the response to new data. (Forecasting outcome of new data)\n",
    "• Regression\n",
    "• Classification\n",
    "\n",
    "\n",
    "Unsupervised learning\n",
    "An unsupervised model, in contrast, provides unlabelled data that the algorithm tries to make sense of by\n",
    "extracting features, co-occurrence and underlying patterns on its own. We use unsupervised learning for\n",
    "• Clustering\n",
    "• Anomaly detection\n",
    "• Association\n",
    "• Autoencoders\n",
    "Reinforcement Learning\n",
    "\n",
    "Reinforcement learning is less supervised and depends on the learning agent in determining the output\n",
    "solutions by arriving at different possible ways to achieve the best possible solution.\n"
   ]
  },
  {
   "cell_type": "markdown",
   "id": "77f10460",
   "metadata": {},
   "source": [
    "### 5. Can you explain what a well-posed learning problem is? Explain the main characteristics that must\n",
    "be present to identify a learning problem properly."
   ]
  },
  {
   "cell_type": "code",
   "execution_count": null,
   "id": "b1e23b88",
   "metadata": {},
   "outputs": [],
   "source": [
    "Well Posed Learning Problem – A computer program is said to learn from experience E \n",
    "in context to some task T and some performance measure P, if its performance on T, \n",
    "as was measured by P, upgrades with experience E. \n",
    "\n",
    "Any problem can be segregated as well-posed learning problem if it has three traits – \n",
    "Task\n",
    "Performance Measure \n",
    "Experience "
   ]
  },
  {
   "cell_type": "markdown",
   "id": "fa31f7f7",
   "metadata": {},
   "source": [
    "### 6. Is machine learning capable of solving all problems? Give a detailed explanation of your answer.\n"
   ]
  },
  {
   "cell_type": "code",
   "execution_count": null,
   "id": "8642780d",
   "metadata": {},
   "outputs": [],
   "source": [
    "given enough data, machine learning algorithms can solve all of humanity’s problems.\n",
    "\n",
    "but there are limitationas\n",
    "Limitation 1 — Ethics\n",
    "Limitation 2 — Deterministic Problems\n",
    "Limitation 3 — Data\n",
    "Limitation 4 — Misapplication\n",
    "Limitation 5 — Interpretability"
   ]
  },
  {
   "cell_type": "markdown",
   "id": "dddbfd32",
   "metadata": {},
   "source": [
    "### 7. What are the various methods and technologies for solving machine learning problems? Any two\n",
    "of them should be defined in detail."
   ]
  },
  {
   "cell_type": "code",
   "execution_count": null,
   "id": "93a13a69",
   "metadata": {},
   "outputs": [],
   "source": [
    "various  technologies for solving machine learning problems\n",
    "\n",
    "• Supervised Learning\n",
    "• Unsupervised Learning\n",
    "• Reinforcement Learning\n",
    "\n",
    "various  methods technologies for solving machine learning problems\n",
    "1. Get Data\n",
    "2. Clean, Prepare & Manipulate Data\n",
    "3. Train Model\n",
    "4. Test Model\n",
    "5. Improve"
   ]
  },
  {
   "cell_type": "markdown",
   "id": "500b934e",
   "metadata": {},
   "source": [
    "### 8. Can you explain the various forms of supervised learning? Explain each one with an example\n",
    "application."
   ]
  },
  {
   "cell_type": "code",
   "execution_count": null,
   "id": "8fa3e530",
   "metadata": {},
   "outputs": [],
   "source": [
    "Supervised learning\n",
    "In a supervised learning model, the algorithm learns on a labeled dataset, to generate reasonable\n",
    "predictions for the response to new data. (Forecasting outcome of new data)\n",
    "• Regression\n",
    "• Classification\n",
    "\n",
    "\n",
    "Suppose there is a marketing company A, who does various advertisement every year and get sales on that.\n",
    "The below list shows the advertisement made by the company in the last 5 years and the corresponding sales:\n",
    "Now, the company wants to do the advertisement of $200 in the year 2019 and wants to know the prediction about\n",
    "the sales for this year. So to solve such type of prediction problems in machine learning, we need regression analysis.\n",
    "\n",
    "In machine learning, classification refers to a predictive modeling problem \n",
    "where a class label is predicted for a given example of input data.\n",
    "\n",
    "Examples of classification problems include:\n",
    "\n",
    "Given an example, classify if it is spam or not.\n",
    "Given a handwritten character, classify it as one of the known characters.\n",
    "Given recent user behavior, classify as churn or not."
   ]
  },
  {
   "cell_type": "markdown",
   "id": "77e20bc0",
   "metadata": {},
   "source": [
    "### 9. What is the difference between supervised and unsupervised learning? With a sample application\n",
    "in each region, explain the differences."
   ]
  },
  {
   "cell_type": "code",
   "execution_count": null,
   "id": "2415a50f",
   "metadata": {},
   "outputs": [],
   "source": [
    "When training a machine, supervised learning refers to a category of methods\n",
    "in which we teach or train a machine learning algorithm using data, \n",
    "while guiding the algorithm model with labels associated with the data\n",
    "\n",
    "One practical example of supervised learning problems is predicting house prices.\n",
    "\n",
    "In unsupervised learning,we need to find our way without any supervision or guidance. \n",
    "This simply means that we are alone and need to figure out what is what by ourselves.\n",
    "\n",
    "Clustering is an unsupervised technique where the goal is to find natural\n",
    "groups or clusters in a feature space and interpret the input data. "
   ]
  },
  {
   "cell_type": "markdown",
   "id": "caa98163",
   "metadata": {},
   "source": [
    "### 10. Describe the machine learning process in depth.\n",
    "\n",
    "a. Make brief notes on any two of the following:\n",
    "\n",
    "MATLAB is one of the most widely used programming languages.\n",
    "\n",
    "ii. Deep learning applications in healthcare\n",
    "\n",
    "iii. Study of the market basket\n",
    "\n",
    "iv. Linear regression (simple)"
   ]
  },
  {
   "cell_type": "code",
   "execution_count": null,
   "id": "3b7d8805",
   "metadata": {},
   "outputs": [],
   "source": [
    " Deep learning applications in healthcare\n",
    "    \n",
    "    Drug discovery\n",
    "Deep learning in healthcare helps in discovery of medicines and their development. \n",
    "The technology analyzes the patient's medical history and provides the best treatment for them.\n",
    "Moreover, this technology is gaining insights from patient symptoms and tests.\n",
    "\n",
    "    Medical imaging\n",
    "Medical imaging techniques such as MRI scans, CT scans, ECG, are used to diagnose\n",
    "dreadful diseases such as heart disease, cancer, brain tumor. Hence, deep learning \n",
    "helps doctors to analyze the disease better and provide patients with the best treatment.\n",
    "\n",
    "    Insurance fraud\n",
    "Deep learning is used to analyze the medical insurance fraud claims.\n",
    "With predictive analytics, it can predict fraud claims that are likely to happen in the future.\n",
    "Moreover, deep learning helps insurance industry to send out discounts and offers to their target patients.\n",
    "\n",
    "    Alzheimer's disease\n",
    "Alzheimer is one of the significant challenges that\n",
    "medical industry faces. Deep learning technique is used to detect Alzheimer’s disease at an early stage.\n",
    "\n",
    "    Genome\n",
    "Deep learning technique is used to understand a genome and help patients get an idea \n",
    "about disease that might affect them. Deep learning has a promising future in genomics,\n",
    "and also insurance industry. Entilic says that they use deep learning technique to make doctors\n",
    "faster and more accurate. Cellscope uses deep learning technique and helps parents to monitor the\n",
    "health of their children through a smart device in real time, thus minimizing frequent visits to\n",
    "the doctor. Deep learning in healthcare can provide doctors and patients with astonishing \n",
    "applications, which will help doctors to make better medical treatments."
   ]
  },
  {
   "cell_type": "markdown",
   "id": "15257ea2",
   "metadata": {},
   "source": [
    "### 11. Make a comparison between:-\n",
    "\n",
    "1. Generalization and abstraction\n",
    "\n",
    "2. Learning that is guided and unsupervised\n",
    "\n",
    "3. Regression and classification"
   ]
  },
  {
   "cell_type": "code",
   "execution_count": null,
   "id": "18d24222",
   "metadata": {},
   "outputs": [],
   "source": [
    "2\n",
    "Supervised learning\n",
    "In a supervised learning model, the algorithm learns on a labeled dataset, to generate reasonable\n",
    "predictions for the response to new data. (Forecasting outcome of new data)\n",
    "• Regression\n",
    "• Classification\n",
    "\n",
    "Unsupervised learning\n",
    "An unsupervised model, in contrast, provides unlabelled data that the algorithm tries to make sense of by\n",
    "extracting features, co-occurrence and underlying patterns on its own. We use unsupervised learning for\n",
    "• Clustering\n",
    "• Anomaly detection\n",
    "• Association\n",
    "• Autoencoders\n",
    "\n",
    "3\n",
    "Regression in machine learning consists of mathematical methods that allow \n",
    "data scientists to predict a continuous outcome (y) based on the value of one or\n",
    "more predictor variables (x). Linear regression is probably\n",
    "the most popular form of regression analysis because of its ease-of-use in predicting and forecasting\n",
    "\n",
    "The Classification algorithm is a Supervised Learning technique that is used to identify \n",
    "the category of new observations on the basis of training data. In Classification, a program learns\n",
    "from the given dataset or observations and then classifies new observation into a number of classes or groups."
   ]
  }
 ],
 "metadata": {
  "kernelspec": {
   "display_name": "Python 3",
   "language": "python",
   "name": "python3"
  },
  "language_info": {
   "codemirror_mode": {
    "name": "ipython",
    "version": 3
   },
   "file_extension": ".py",
   "mimetype": "text/x-python",
   "name": "python",
   "nbconvert_exporter": "python",
   "pygments_lexer": "ipython3",
   "version": "3.8.8"
  }
 },
 "nbformat": 4,
 "nbformat_minor": 5
}
