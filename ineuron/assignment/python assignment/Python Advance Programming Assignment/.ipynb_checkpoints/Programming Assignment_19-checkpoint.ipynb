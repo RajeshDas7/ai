{
 "cells": [
  {
   "cell_type": "markdown",
   "id": "8f868376",
   "metadata": {},
   "source": [
    "### 1. Create a checker board generator, which takes as inputs n and 2 elements\n",
    "\n",
    "to generate an n x n checkerboard with those two elements as alternating\n",
    "\n",
    "squares.\n",
    "\n",
    "Examples\n",
    "\n",
    "checker_board(2, 7, 6) ➞ [\n",
    "    \n",
    "[7, 6],\n",
    "    \n",
    "[6, 7]\n",
    "    \n",
    "]\n",
    "\n",
    "checker_board(3, &quot;A&quot;, &quot;B&quot;) ➞ [\n",
    "    \n",
    "[&quot;A&quot;, &quot;B&quot;, &quot;A&quot;],\n",
    "    \n",
    "[&quot;B&quot;, &quot;A&quot;, &quot;B&quot;],\n",
    "    \n",
    "[&quot;A&quot;, &quot;B&quot;, &quot;A&quot;]\n",
    "]\n",
    "\n",
    "checker_board(4, &quot;c&quot;, &quot;d&quot;) ➞ [\n",
    "    \n",
    "[&quot;c&quot;, &quot;d&quot;, &quot;c&quot;, &quot;d&quot;],\n",
    "    \n",
    "[&quot;d&quot;, &quot;c&quot;, &quot;d&quot;, &quot;c&quot;],\n",
    "    \n",
    "[&quot;c&quot;, &quot;d&quot;, &quot;c&quot;, &quot;d&quot;],\n",
    "    \n",
    "[&quot;d&quot;, &quot;c&quot;, &quot;d&quot;, &quot;c&quot;]\n",
    "\n",
    "]\n",
    "\n",
    "checker_board(4, &quot;c&quot;, &quot;c&quot;) ➞ &quot;invalid&quot;"
   ]
  },
  {
   "cell_type": "code",
   "execution_count": 16,
   "id": "71fabb65",
   "metadata": {},
   "outputs": [
    {
     "name": "stdout",
     "output_type": "stream",
     "text": [
      "['A', 'B', 'A', 'B', 'A', 'B', 'A', 'B', 'A']\n",
      "[['A', 'B', 'A'], ['B', 'A', 'B'], ['A', 'B', 'A']]\n"
     ]
    }
   ],
   "source": [
    "def checker_board(a,b,c):\n",
    "    d=a*a\n",
    "    e=[]\n",
    "    while True:\n",
    "        \n",
    "        if len(e)<d:\n",
    "            e.append(b)\n",
    "        \n",
    "        else:\n",
    "            break\n",
    "        \n",
    "        if len(e)<d:\n",
    "            e.append(c)\n",
    "        else:\n",
    "\n",
    "            break\n",
    "            \n",
    "    n=a   \n",
    "    final = [e[i * n:(i + 1) * n] for i in range((len(e) + n - 1) // n )]   \n",
    "    \n",
    "    print(final)\n",
    "    \n",
    "    \n",
    "checker_board(3, \"A\", \"B\") "
   ]
  },
  {
   "cell_type": "markdown",
   "id": "91ef13b0",
   "metadata": {},
   "source": [
    "### 2. A string is an almost-palindrome if, by changing only one character, you\n",
    "\n",
    "can make it a palindrome. Create a function that returns True if a string is an\n",
    "\n",
    "almost-palindrome and False otherwise.\n",
    "\n",
    "Examples\n",
    "\n",
    "almost_palindrome(&quot;abcdcbg&quot;) ➞ True\n",
    "\n",
    "#Transformed to &quot;abcdcba&quot; by changing &quot;g&quot; to &quot;a&quot;.\n",
    "\n",
    "almost_palindrome(&quot;abccia&quot;) ➞ True\n",
    "\n",
    "#Transformed to &quot;abccba&quot; by changing &quot;i&quot; to &quot;b&quot;.\n",
    "\n",
    "almost_palindrome(&quot;abcdaaa&quot;) ➞ False\n",
    "\n",
    "#Can&#39;t be transformed to a palindrome in exactly 1 turn.\n",
    "\n",
    "almost_palindrome(&quot;1234312&quot;) ➞ False\n"
   ]
  },
  {
   "cell_type": "code",
   "execution_count": null,
   "id": "0ff91dc7",
   "metadata": {},
   "outputs": [],
   "source": []
  },
  {
   "cell_type": "markdown",
   "id": "2dc1d6d0",
   "metadata": {},
   "source": [
    "### 3. Create a function that finds how many prime numbers there are, up to the\n",
    "\n",
    "given integer.\n",
    "\n",
    "Examples\n",
    "\n",
    "prime_numbers(10) ➞ 4\n",
    "\n",
    "#2, 3, 5 and 7\n",
    "\n",
    "prime_numbers(20) ➞ 8\n",
    "\n",
    "#2, 3, 5, 7, 11, 13, 17 and 19\n",
    "\n",
    "prime_numbers(30) ➞ 10\n",
    "\n",
    "#2, 3, 5, 7, 11, 13, 17, 19, 23 and 29\n"
   ]
  },
  {
   "cell_type": "code",
   "execution_count": 19,
   "id": "da1976e9",
   "metadata": {},
   "outputs": [
    {
     "name": "stdout",
     "output_type": "stream",
     "text": [
      "8\n"
     ]
    }
   ],
   "source": [
    "\n",
    "from math import sqrt\n",
    "\n",
    "\n",
    "def prime1(n):\n",
    "    prime_flag = 0\n",
    "  \n",
    "    if(n > 1):\n",
    "        for i in range(2, int(sqrt(n)) + 1):\n",
    "            if (n % i == 0):\n",
    "                prime_flag = 1\n",
    "                break\n",
    "        if (prime_flag == 0):\n",
    "            return True\n",
    "        else:\n",
    "            return False\n",
    "    else:\n",
    "        return False\n",
    "    \n",
    "def prime_numbers(n):\n",
    "    c=0\n",
    "    for i in range(n):\n",
    "        if prime1(i):\n",
    "            c+=1\n",
    "    print(c)\n",
    "            \n",
    "prime_numbers(20)"
   ]
  },
  {
   "cell_type": "markdown",
   "id": "b513f3e4",
   "metadata": {},
   "source": [
    "### 4. If today was Monday, in two days, it would be Wednesday.\n",
    "\n",
    "Create a function that takes in a list of days as input and the number of days\n",
    "\n",
    "to increment by. Return a list of days after n number of days has passed.\n",
    "\n",
    "Examples\n",
    "\n",
    "after_n_days([&quot;Thursday&quot;, &quot;Monday&quot;], 4) ➞ [&quot;Monday&quot;, &quot;Friday&quot;]\n",
    "\n",
    "after_n_days([&quot;Sunday&quot;, &quot;Sunday&quot;, &quot;Sunday&quot;], 1) ➞ [&quot;Monday&quot;, &quot;Monday&quot;,&quot;Monday&quot;]\n",
    "\n",
    "after_n_days([&quot;Monday&quot;, &quot;Tuesday&quot;, &quot;Friday&quot;], 1) ➞ [&quot;Tuesday&quot;,&quot;Wednesday&quot;,&quot;Saturday&quot;]\n"
   ]
  },
  {
   "cell_type": "code",
   "execution_count": 20,
   "id": "5b2637c1",
   "metadata": {},
   "outputs": [
    {
     "data": {
      "text/plain": [
       "4"
      ]
     },
     "execution_count": 20,
     "metadata": {},
     "output_type": "execute_result"
    }
   ],
   "source": []
  },
  {
   "cell_type": "markdown",
   "id": "9a8024bd",
   "metadata": {},
   "source": [
    "### 5. You are in the process of creating a chat application and want to add an\n",
    "\n",
    "anonymous name feature. This anonymous name feature will create an alias\n",
    "\n",
    "that consists of two capitalized words beginning with the same letter as the\n",
    "\n",
    "users first name.\n",
    "\n",
    "Create a function that determines if the list of users is mapped to a list of\n",
    "\n",
    "anonymous names correctly.\n",
    "\n",
    "Examples\n",
    "\n",
    "is_correct_aliases([&quot;Adrian M.&quot;, &quot;Harriet S.&quot;, &quot;Mandy T.&quot;], [&quot;Amazing\n",
    "                                                                                           \n",
    "Artichoke&quot;, &quot;Hopeful Hedgehog&quot;, &quot;Marvelous Mouse&quot;]) ➞ True\n",
    "\n",
    "is_correct_aliases([&quot;Rachel F.&quot;, &quot;Pam G.&quot;, &quot;Fred Z.&quot;, &quot;Nancy K.&quot;],\n",
    "                   \n",
    "[&quot;Reassuring Rat&quot;, &quot;Peaceful Panda&quot;, &quot;Fantastic Frog&quot;, &quot;Notable Nickel&quot;]) ➞\n",
    "\n",
    "True\n",
    "\n",
    "is_correct_aliases([&quot;Beth T.&quot;], [&quot;Brandishing Mimosa&quot;]) ➞ False\n",
    "\n",
    "\n",
    "#Both words in &quot;Brandishing Mimosa&quot; should begin with a &quot;B&quot; - &quot;Brandishing\n",
    "\n",
    "Beaver&quot; would do the trick."
   ]
  },
  {
   "cell_type": "code",
   "execution_count": 30,
   "id": "f521dbdf",
   "metadata": {},
   "outputs": [
    {
     "name": "stdout",
     "output_type": "stream",
     "text": [
      "False\n"
     ]
    }
   ],
   "source": [
    "def is_correct_aliases(a,b):\n",
    "    flag=True\n",
    "    for i in range(len(a)):\n",
    "        c=a[i][0]\n",
    "        d=b[i].split(\" \")\n",
    "        for j in d:\n",
    "            if j[0]==c:\n",
    "                continue\n",
    "            else:\n",
    "                flag=False\n",
    "        \n",
    "    print(flag)\n",
    "is_correct_aliases([\"Beth T.\"], [\"Brandishing Mimosa\"]) "
   ]
  },
  {
   "cell_type": "code",
   "execution_count": null,
   "id": "4fbe0c1b",
   "metadata": {},
   "outputs": [],
   "source": []
  },
  {
   "cell_type": "code",
   "execution_count": null,
   "id": "9263bad6",
   "metadata": {},
   "outputs": [],
   "source": []
  },
  {
   "cell_type": "code",
   "execution_count": null,
   "id": "15eb2545",
   "metadata": {},
   "outputs": [],
   "source": []
  },
  {
   "cell_type": "code",
   "execution_count": null,
   "id": "8bb77d55",
   "metadata": {},
   "outputs": [],
   "source": []
  },
  {
   "cell_type": "code",
   "execution_count": null,
   "id": "74f800e9",
   "metadata": {},
   "outputs": [],
   "source": []
  }
 ],
 "metadata": {
  "kernelspec": {
   "display_name": "Python 3",
   "language": "python",
   "name": "python3"
  },
  "language_info": {
   "codemirror_mode": {
    "name": "ipython",
    "version": 3
   },
   "file_extension": ".py",
   "mimetype": "text/x-python",
   "name": "python",
   "nbconvert_exporter": "python",
   "pygments_lexer": "ipython3",
   "version": "3.8.8"
  }
 },
 "nbformat": 4,
 "nbformat_minor": 5
}
