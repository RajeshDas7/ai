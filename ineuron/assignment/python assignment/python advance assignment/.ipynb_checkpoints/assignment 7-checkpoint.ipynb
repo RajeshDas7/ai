{
 "cells": [
  {
   "cell_type": "markdown",
   "id": "6f4c1ce8",
   "metadata": {},
   "source": [
    "### Q1. What is the purpose of the try statement?"
   ]
  },
  {
   "cell_type": "code",
   "execution_count": null,
   "id": "c2f2244a",
   "metadata": {},
   "outputs": [],
   "source": [
    "try statement is used to put the suspicious code where\n",
    "there is a chance of getting error"
   ]
  },
  {
   "cell_type": "markdown",
   "id": "ab20bf96",
   "metadata": {},
   "source": [
    "### Q2. What are the two most popular try statement variations?"
   ]
  },
  {
   "cell_type": "code",
   "execution_count": null,
   "id": "90264887",
   "metadata": {},
   "outputs": [],
   "source": []
  },
  {
   "cell_type": "markdown",
   "id": "1d9c6878",
   "metadata": {},
   "source": [
    "### Q3. What is the purpose of the raise statement?"
   ]
  },
  {
   "cell_type": "code",
   "execution_count": null,
   "id": "ed26bbf0",
   "metadata": {},
   "outputs": [],
   "source": [
    "it is used to raise custon exception"
   ]
  },
  {
   "cell_type": "markdown",
   "id": "c6ef7e24",
   "metadata": {},
   "source": [
    "### Q4. What does the assert statement do, and what other statement is it like?"
   ]
  },
  {
   "cell_type": "code",
   "execution_count": null,
   "id": "21ee27bf",
   "metadata": {},
   "outputs": [],
   "source": [
    "the assert statement is used to continue the execute if the given condition evaluates to True. \n",
    "If the assert condition evaluates to False,\n",
    "then it raises the AssertionError exception with the specified error message\n",
    "\n",
    "the alternative for this is\n",
    "if else statement"
   ]
  },
  {
   "cell_type": "markdown",
   "id": "94fb15cf",
   "metadata": {},
   "source": [
    "### Q5. What is the purpose of the with/as argument, and what other statement is it like?"
   ]
  },
  {
   "cell_type": "code",
   "execution_count": null,
   "id": "b60a39c1",
   "metadata": {},
   "outputs": [],
   "source": [
    "the purpose of with is to open a file.\n",
    "In python the with keyword is used when working with unmanaged resources"
   ]
  },
  {
   "cell_type": "code",
   "execution_count": null,
   "id": "fc3b09ad",
   "metadata": {},
   "outputs": [],
   "source": []
  },
  {
   "cell_type": "code",
   "execution_count": null,
   "id": "2d6bd1f9",
   "metadata": {},
   "outputs": [],
   "source": []
  }
 ],
 "metadata": {
  "kernelspec": {
   "display_name": "Python 3",
   "language": "python",
   "name": "python3"
  },
  "language_info": {
   "codemirror_mode": {
    "name": "ipython",
    "version": 3
   },
   "file_extension": ".py",
   "mimetype": "text/x-python",
   "name": "python",
   "nbconvert_exporter": "python",
   "pygments_lexer": "ipython3",
   "version": "3.8.8"
  }
 },
 "nbformat": 4,
 "nbformat_minor": 5
}
