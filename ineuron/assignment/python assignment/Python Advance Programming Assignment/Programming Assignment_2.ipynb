{
 "cells": [
  {
   "cell_type": "markdown",
   "id": "cddd9071",
   "metadata": {},
   "source": [
    "### 1.\n",
    "Write a function that takes a positive integer num and calculates how many\n",
    "\n",
    "dots exist in a pentagonal shape around the center dot on the Nth iteration.\n",
    "\n",
    "In the image below you can see the first iteration is only a single dot. On the\n",
    "\n",
    "second, there are 6 dots. On the third, there are 16 dots, and on the fourth\n",
    "\n",
    "there are 31 dots.\n",
    "\n",
    "Return the number of dots that exist in the whole pentagon on the Nth iteration.\n",
    "\n",
    "Examples\n",
    "\n",
    "pentagonal(1) ➞ 1\n",
    "\n",
    "pentagonal(2) ➞ 6\n",
    "\n",
    "pentagonal(3) ➞ 16\n",
    "\n",
    "pentagonal(8) ➞ 141\n",
    "\n",
    "\n",
    "\n",
    "\n",
    "\n",
    "\n"
   ]
  },
  {
   "cell_type": "code",
   "execution_count": 3,
   "id": "a6817268",
   "metadata": {},
   "outputs": [
    {
     "data": {
      "text/plain": [
       "16"
      ]
     },
     "execution_count": 3,
     "metadata": {},
     "output_type": "execute_result"
    }
   ],
   "source": [
    "def pentagonal(n):\n",
    " \n",
    "    # Formula to calculate nth\n",
    "    # Centered pentagonal number.\n",
    "     \n",
    "    return (5 * n * n - 5 * n + 2) // 2\n",
    "\n",
    "\n",
    "pentagonal(3)"
   ]
  },
  {
   "cell_type": "code",
   "execution_count": null,
   "id": "c42411b6",
   "metadata": {},
   "outputs": [],
   "source": []
  },
  {
   "cell_type": "markdown",
   "id": "98de858c",
   "metadata": {},
   "source": [
    "### 2.\n",
    "Make a function that encrypts a given input with these steps:\n",
    "    \n",
    "Input: &quot;apple&quot;\n",
    "    \n",
    "Step 1: Reverse the input: &quot;elppa&quot;\n",
    "        \n",
    "Step 2: Replace all vowels using the following chart:\n",
    "        \n",
    "a =&gt; 0\n",
    "\n",
    "e =&gt; 1\n",
    "\n",
    "i =&gt; 2\n",
    "\n",
    "o =&gt; 2\n",
    "\n",
    "u =&gt; 3\n",
    "\n",
    "&quot;1lpp0&quot;\n",
    "\n",
    "\n",
    "Step 3:\n",
    "Add &quot;aca&quot; to the end of the word: &quot;1lpp0aca&quot;\n",
    "    \n",
    "Output: &quot;1lpp0aca&quot;\n",
    "    \n",
    "Examples\n",
    "\n",
    "encrypt(&quot;banana&quot;) ➞ &quot;0n0n0baca&quot;\n",
    "\n",
    "encrypt(&quot;karaca&quot;) ➞ &quot;0c0r0kaca&quot;\n",
    "\n",
    "encrypt(&quot;burak&quot;) ➞ &quot;k0r3baca&quot;\n",
    "\n",
    "encrypt(&quot;alpaca&quot;) ➞ &quot;0c0pl0aca&quot;"
   ]
  },
  {
   "cell_type": "code",
   "execution_count": 10,
   "id": "e9fa3d62",
   "metadata": {},
   "outputs": [
    {
     "name": "stdout",
     "output_type": "stream",
     "text": [
      "0c0pl0aca\n"
     ]
    }
   ],
   "source": [
    "def encrypt(a):\n",
    "    b=a[::-1]\n",
    "    c=\"\"\n",
    "    v=\"aeiou\"\n",
    "    v_dict = {\n",
    "        \"a\": 0,\n",
    "        \"e\" :1,\n",
    "        \"i\" : 2,\n",
    "        \"o\" : 2,\n",
    "        \"u\" : 3,\n",
    "    }\n",
    "    for i in b:\n",
    "        if i in v:\n",
    "            c+=str(v_dict[i])\n",
    "        else:\n",
    "            c+=i\n",
    "    d=c+\"aca\"\n",
    "    print(d)\n",
    "    \n",
    "encrypt(\"alpaca\") "
   ]
  },
  {
   "cell_type": "markdown",
   "id": "7958659a",
   "metadata": {},
   "source": [
    "### 3.\n",
    "Given the month and year as numbers, return whether that month contains\n",
    "\n",
    "a Friday 13th.(i.e You can check Python&#39;s datetime module)\n",
    "               \n",
    "Examples\n",
    "               \n",
    "has_friday_13(3, 2020) ➞ True\n",
    "               \n",
    "has_friday_13(10, 2017) ➞ True\n",
    "               \n",
    "has_friday_13(1, 1985) ➞ False"
   ]
  },
  {
   "cell_type": "code",
   "execution_count": 28,
   "id": "1406aec6",
   "metadata": {},
   "outputs": [
    {
     "name": "stdout",
     "output_type": "stream",
     "text": [
      "False\n"
     ]
    }
   ],
   "source": [
    "import datetime\n",
    "import calendar\n",
    " \n",
    "def has_friday_13(a,b):\n",
    "    date=\"13 \"+ str(a)+ \" \"+ str(b)\n",
    "    born = datetime.datetime.strptime(date, '%d %m %Y').weekday()\n",
    "    day =calendar.day_name[born]\n",
    "    if day ==\"Friday\":\n",
    "        print(\"True\")\n",
    "    else:\n",
    "        print(False)\n",
    "# Driver program\n",
    "# date = '03 02 2019'\n",
    "has_friday_13(1, 1985)"
   ]
  },
  {
   "cell_type": "code",
   "execution_count": null,
   "id": "43362245",
   "metadata": {},
   "outputs": [],
   "source": []
  },
  {
   "cell_type": "markdown",
   "id": "28444eae",
   "metadata": {},
   "source": [
    "### 4.\n",
    "Write a regular expression that will help us count how many bad cookies\n",
    "\n",
    "are produced every day. You must use RegEx negative lookbehind.\n",
    "\n",
    "Example\n",
    "\n",
    "lst = [&quot;bad cookie&quot;, &quot;good cookie&quot;, &quot;bad cookie&quot;, &quot;good cookie&quot;, &quot;good cookie&quot;]\n",
    "\n",
    "pattern = &quot;yourregularexpressionhere&quot;\n",
    "\n",
    "len(re.findall(pattern, &quot;, &quot;.join(lst))) ➞ 2"
   ]
  },
  {
   "cell_type": "code",
   "execution_count": null,
   "id": "c8090aeb",
   "metadata": {},
   "outputs": [],
   "source": []
  },
  {
   "cell_type": "code",
   "execution_count": null,
   "id": "b90242a2",
   "metadata": {},
   "outputs": [],
   "source": []
  },
  {
   "cell_type": "markdown",
   "id": "a767ea24",
   "metadata": {},
   "source": [
    "### 5.\n",
    "Given a list of words in the singular form, return a set of those words in the\n",
    "\n",
    "plural form if they appear more than once in the list.\n",
    "\n",
    "Examples\n",
    "\n",
    "pluralize([&quot;cow&quot;, &quot;pig&quot;, &quot;cow&quot;, &quot;cow&quot;]) ➞ { &quot;cows&quot;, &quot;pig&quot; }\n",
    "\n",
    "pluralize([&quot;table&quot;, &quot;table&quot;, &quot;table&quot;]) ➞ { &quot;tables&quot; }\n",
    "\n",
    "\n",
    "pluralize([&quot;chair&quot;, &quot;pencil&quot;, &quot;arm&quot;]) ➞ { &quot;chair&quot;, &quot;pencil&quot;, &quot;arm&quot; }"
   ]
  },
  {
   "cell_type": "code",
   "execution_count": 34,
   "id": "4e1d7896",
   "metadata": {},
   "outputs": [
    {
     "name": "stdout",
     "output_type": "stream",
     "text": [
      "['chair', 'arm', 'pencil']\n"
     ]
    }
   ],
   "source": [
    "def pluralize(a):\n",
    "    b=set(a)\n",
    "    c=[]\n",
    "    \n",
    "    for i in b:\n",
    "        if a.count(i)> 1:\n",
    "            c.append(i+\"s\")\n",
    "        else:\n",
    "            c.append(i)\n",
    "    print(c)\n",
    "    \n",
    "    \n",
    "#     print(b)\n",
    "    \n",
    "pluralize([\"chair\", \"pencil\", \"arm\"])"
   ]
  },
  {
   "cell_type": "code",
   "execution_count": null,
   "id": "7d0c0743",
   "metadata": {},
   "outputs": [],
   "source": []
  },
  {
   "cell_type": "code",
   "execution_count": null,
   "id": "dc4e9830",
   "metadata": {},
   "outputs": [],
   "source": []
  },
  {
   "cell_type": "code",
   "execution_count": null,
   "id": "b3c9c3ef",
   "metadata": {},
   "outputs": [],
   "source": []
  }
 ],
 "metadata": {
  "kernelspec": {
   "display_name": "Python 3",
   "language": "python",
   "name": "python3"
  },
  "language_info": {
   "codemirror_mode": {
    "name": "ipython",
    "version": 3
   },
   "file_extension": ".py",
   "mimetype": "text/x-python",
   "name": "python",
   "nbconvert_exporter": "python",
   "pygments_lexer": "ipython3",
   "version": "3.8.8"
  }
 },
 "nbformat": 4,
 "nbformat_minor": 5
}
