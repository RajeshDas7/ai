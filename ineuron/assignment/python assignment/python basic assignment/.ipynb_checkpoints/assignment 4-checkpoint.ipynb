{
 "cells": [
  {
   "cell_type": "markdown",
   "id": "62c1f6d3",
   "metadata": {},
   "source": [
    "### 1. What exactly is []?"
   ]
  },
  {
   "cell_type": "code",
   "execution_count": null,
   "id": "7f21d48a",
   "metadata": {},
   "outputs": [],
   "source": [
    "this is a empty list value\n",
    "when we try to define a list object we need to use [].\n",
    "[] is used to contain all the object of a list"
   ]
  },
  {
   "cell_type": "markdown",
   "id": "e322df57",
   "metadata": {},
   "source": [
    "### 2. In a list of values stored in a variable called spam, how would you assign the value &#39;hello&#39; as the third value? (Assume [2, 4, 6, 8, 10] are in spam.)"
   ]
  },
  {
   "cell_type": "code",
   "execution_count": null,
   "id": "7336f46e",
   "metadata": {},
   "outputs": [],
   "source": [
    "spam= [2, 4, 6, 8, 10]\n",
    "spam[2]='hello'\n",
    "spam"
   ]
  },
  {
   "cell_type": "code",
   "execution_count": null,
   "id": "c047520a",
   "metadata": {},
   "outputs": [],
   "source": []
  },
  {
   "cell_type": "markdown",
   "id": "473d55d3",
   "metadata": {},
   "source": [
    "### Let&#39;s pretend the spam includes the list [&#39;a&#39;, &#39;b&#39;, &#39;c&#39;, &#39;d&#39;] for the next three queries."
   ]
  },
  {
   "cell_type": "markdown",
   "id": "a239412b",
   "metadata": {},
   "source": [
    "### 3. What is the value of spam[int(int(&#39;3&#39; * 2) / 11)]?"
   ]
  },
  {
   "cell_type": "code",
   "execution_count": 1,
   "id": "f208da1d",
   "metadata": {},
   "outputs": [],
   "source": [
    "spam = ['a', 'b', 'c', 'd']\n"
   ]
  },
  {
   "cell_type": "code",
   "execution_count": null,
   "id": "04a62eaa",
   "metadata": {},
   "outputs": [],
   "source": [
    "the value of spam[int(int('3' * 2) / 11)]  ====   'd'"
   ]
  },
  {
   "cell_type": "code",
   "execution_count": null,
   "id": "6caa133f",
   "metadata": {},
   "outputs": [],
   "source": []
  },
  {
   "cell_type": "markdown",
   "id": "d6b24611",
   "metadata": {},
   "source": [
    "### 4. What is the value of spam[-1]?"
   ]
  },
  {
   "cell_type": "code",
   "execution_count": null,
   "id": "d98cf482",
   "metadata": {},
   "outputs": [],
   "source": [
    "'d'"
   ]
  },
  {
   "cell_type": "markdown",
   "id": "565d3761",
   "metadata": {},
   "source": [
    "### 5. What is the value of spam[:2]?"
   ]
  },
  {
   "cell_type": "code",
   "execution_count": null,
   "id": "c7d6a496",
   "metadata": {},
   "outputs": [],
   "source": [
    "['a', 'b']"
   ]
  },
  {
   "cell_type": "code",
   "execution_count": null,
   "id": "0afd3dc5",
   "metadata": {},
   "outputs": [],
   "source": []
  },
  {
   "cell_type": "markdown",
   "id": "205a6b9a",
   "metadata": {},
   "source": [
    "## Let&#39;s pretend bacon has the list [3.14, &#39;cat,&#39; 11, &#39;cat,&#39; True] for the next three questions."
   ]
  },
  {
   "cell_type": "code",
   "execution_count": 16,
   "id": "7ae0cdf6",
   "metadata": {},
   "outputs": [],
   "source": [
    "bacon= [3.14, 'cat', 11, 'cat', True]"
   ]
  },
  {
   "cell_type": "markdown",
   "id": "bbbda6da",
   "metadata": {},
   "source": [
    "### 6. What is the value of bacon.index(&#39;cat&#39;)?"
   ]
  },
  {
   "cell_type": "code",
   "execution_count": null,
   "id": "106987ca",
   "metadata": {},
   "outputs": [],
   "source": [
    "1"
   ]
  },
  {
   "cell_type": "markdown",
   "id": "18e95c02",
   "metadata": {},
   "source": [
    "### 7. How does bacon.append(99) change the look of the list value in bacon?"
   ]
  },
  {
   "cell_type": "code",
   "execution_count": null,
   "id": "69978e41",
   "metadata": {},
   "outputs": [],
   "source": [
    "[3.14, 'cat', 11, 'cat', True, 99]"
   ]
  },
  {
   "cell_type": "markdown",
   "id": "b3a951e2",
   "metadata": {},
   "source": [
    "### 8. How does bacon.remove(&#39;cat&#39;) change the look of the list in bacon?"
   ]
  },
  {
   "cell_type": "code",
   "execution_count": null,
   "id": "018abef4",
   "metadata": {},
   "outputs": [],
   "source": [
    "[3.14, 11, 'cat', True]"
   ]
  },
  {
   "cell_type": "markdown",
   "id": "2232809e",
   "metadata": {},
   "source": [
    "### 9. What are the list concatenation and list replication operators?"
   ]
  },
  {
   "cell_type": "code",
   "execution_count": null,
   "id": "592d4d8f",
   "metadata": {},
   "outputs": [],
   "source": [
    "list concatination operators is   + operator\n",
    "\n",
    "\n",
    "list replication operators is   * operator"
   ]
  },
  {
   "cell_type": "code",
   "execution_count": null,
   "id": "fde24bb1",
   "metadata": {},
   "outputs": [],
   "source": []
  },
  {
   "cell_type": "markdown",
   "id": "7824c9e5",
   "metadata": {},
   "source": [
    "### 10. What is difference between the list methods append() and insert()?"
   ]
  },
  {
   "cell_type": "code",
   "execution_count": null,
   "id": "0e0089c8",
   "metadata": {},
   "outputs": [],
   "source": [
    "in append() the value will be added to the list at the end position of the list.\n",
    "\n",
    "but in insert() the value can be inserted to the list at any specific index."
   ]
  },
  {
   "cell_type": "markdown",
   "id": "ee8b3321",
   "metadata": {},
   "source": [
    "### 11. What are the two methods for removing items from a list?"
   ]
  },
  {
   "cell_type": "code",
   "execution_count": null,
   "id": "d7aeb327",
   "metadata": {},
   "outputs": [],
   "source": [
    "pop()    ====  removes value from a perticular index\n",
    "remove() ====  removes a perticular value"
   ]
  },
  {
   "cell_type": "markdown",
   "id": "6bf52d37",
   "metadata": {},
   "source": [
    "### 12. Describe how list values and string values are identical."
   ]
  },
  {
   "cell_type": "code",
   "execution_count": null,
   "id": "4a2b7464",
   "metadata": {},
   "outputs": [],
   "source": [
    "a string is a sequence of characters.\n",
    "a list is a sequence of values.\n",
    "\n",
    "both can be indexed\n",
    "\n",
    "for both we can do operations using + and *\n",
    "\n",
    "for both we can use in operators\n",
    "\n",
    "for both we can use len()"
   ]
  },
  {
   "cell_type": "markdown",
   "id": "2f3aa120",
   "metadata": {},
   "source": [
    "### 13. What&#39;s the difference between tuples and lists?"
   ]
  },
  {
   "cell_type": "code",
   "execution_count": null,
   "id": "bb7234ff",
   "metadata": {},
   "outputs": [],
   "source": [
    "tuples are immutable in nature \n",
    "lists are mutable in nature"
   ]
  },
  {
   "cell_type": "markdown",
   "id": "b46bc1b5",
   "metadata": {},
   "source": [
    "### 14. How do you type a tuple value that only contains the integer 42?"
   ]
  },
  {
   "cell_type": "code",
   "execution_count": 24,
   "id": "b317b66f",
   "metadata": {},
   "outputs": [],
   "source": [
    "t1 = (42,)"
   ]
  },
  {
   "cell_type": "markdown",
   "id": "4a94b89e",
   "metadata": {},
   "source": [
    "### 15. How do you get a list value&#39;s tuple form? How do you get a tuple value&#39;s list form?"
   ]
  },
  {
   "cell_type": "code",
   "execution_count": null,
   "id": "ce1dd12b",
   "metadata": {},
   "outputs": [],
   "source": [
    "by using tuple() we can   get a list value's tuple form\n",
    "by using list() we can   get a tuple value's list form"
   ]
  },
  {
   "cell_type": "code",
   "execution_count": null,
   "id": "2b054b61",
   "metadata": {},
   "outputs": [],
   "source": []
  },
  {
   "cell_type": "markdown",
   "id": "ed5ea4c7",
   "metadata": {},
   "source": [
    "### 16. Variables that &quot;contain&quot; list values are not necessarily lists themselves. Instead, what do they contain?"
   ]
  },
  {
   "cell_type": "code",
   "execution_count": null,
   "id": "fcd32190",
   "metadata": {},
   "outputs": [],
   "source": [
    "they contain reference to list value"
   ]
  },
  {
   "cell_type": "markdown",
   "id": "f2d7b7c9",
   "metadata": {},
   "source": [
    "### 17. How do you distinguish between copy.copy() and copy.deepcopy()?"
   ]
  },
  {
   "cell_type": "code",
   "execution_count": null,
   "id": "009f6619",
   "metadata": {},
   "outputs": [],
   "source": [
    "copy.copy() ==it will do a shallow copy of a list\n",
    "\n",
    "copy.deepcopy()  == it will do a deep copy of a list.  it can duplicate any copy inside a list."
   ]
  },
  {
   "cell_type": "code",
   "execution_count": null,
   "id": "201d0307",
   "metadata": {},
   "outputs": [],
   "source": []
  }
 ],
 "metadata": {
  "kernelspec": {
   "display_name": "Python 3",
   "language": "python",
   "name": "python3"
  },
  "language_info": {
   "codemirror_mode": {
    "name": "ipython",
    "version": 3
   },
   "file_extension": ".py",
   "mimetype": "text/x-python",
   "name": "python",
   "nbconvert_exporter": "python",
   "pygments_lexer": "ipython3",
   "version": "3.8.8"
  }
 },
 "nbformat": 4,
 "nbformat_minor": 5
}
