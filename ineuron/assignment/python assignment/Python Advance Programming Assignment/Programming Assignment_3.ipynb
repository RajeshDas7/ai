{
 "cells": [
  {
   "cell_type": "markdown",
   "id": "ca39b695",
   "metadata": {},
   "source": [
    "### 1. \n",
    "Create a function to perform basic arithmetic operations that includes\n",
    "\n",
    "addition, subtraction, multiplication and division on a string number (e.g. &quot;12 + 24&quot; or &quot;23 - 21&quot; or &quot;12 // 12&quot; or &quot;12 * 21&quot;).\n",
    "\n",
    "Here, we have 1 followed by a space, operator followed by another space\n",
    "\n",
    "and 2. For the challenge, we are going to have only two numbers between 1\n",
    "\n",
    "valid operator. The return value should be a number.\n",
    "\n",
    "eval() is not allowed. In case of division, whenever the second number equals\n",
    "\n",
    "&quot;0&quot; return -1.\n",
    "\n",
    "For example:\n",
    "    \n",
    "&quot;15 // 0&quot; ➞ -1\n",
    "\n",
    "Examples\n",
    "\n",
    "arithmetic_operation(&quot;12 + 12&quot;) ➞ 24 // 12 + 12 = 24\n",
    "\n",
    "arithmetic_operation(&quot;12 - 12&quot;) ➞ 24 // 12 - 12 = 0\n",
    "\n",
    "arithmetic_operation(&quot;12 * 12&quot;) ➞ 144 // 12 * 12 = 144\n",
    "\n",
    "arithmetic_operation(&quot;12 // 0&quot;) ➞ -1 // 12 / 0 = -1"
   ]
  },
  {
   "cell_type": "code",
   "execution_count": 8,
   "id": "704de163",
   "metadata": {},
   "outputs": [
    {
     "name": "stdout",
     "output_type": "stream",
     "text": [
      "-1\n"
     ]
    }
   ],
   "source": [
    "def arithmetic_operation(a):\n",
    "    b=a.split(\" \")\n",
    "    \n",
    "    if b[2]==\"0\":\n",
    "        print(\"-1\")\n",
    "    \n",
    "    elif b[1]==\"+\":\n",
    "        print(int(b[0])+int(b[2]))\n",
    "    elif b[1]==\"-\":\n",
    "        print(int(b[0])-int(b[2]))\n",
    "    elif b[1]==\"*\":\n",
    "        print(int(b[0])*int(b[2]))\n",
    "    elif b[1]==\"//\":\n",
    "        print(int(b[0])//int(b[2]))\n",
    "        \n",
    "    \n",
    "    \n",
    "arithmetic_operation(\"12 // 0\")"
   ]
  },
  {
   "cell_type": "markdown",
   "id": "1e7bde87",
   "metadata": {},
   "source": [
    "### 2. \n",
    "Write a function that takes the coordinates of three points in the form of a\n",
    "\n",
    "2d array and returns the perimeter of the triangle. The given points are the\n",
    "\n",
    "vertices of a triangle on a two-dimensional plane.\n",
    "\n",
    "Examples\n",
    "\n",
    "perimeter( [ [15, 7], [5, 22], [11, 1] ] ) ➞ 47.08\n",
    "\n",
    "perimeter( [ [0, 0], [0, 1], [1, 0] ] ) ➞ 3.42\n",
    "\n",
    "perimeter( [ [-10, -10], [10, 10 ], [-10, 10] ] ) ➞ 68.28"
   ]
  },
  {
   "cell_type": "code",
   "execution_count": 13,
   "id": "791c7b9a",
   "metadata": {},
   "outputs": [
    {
     "name": "stdout",
     "output_type": "stream",
     "text": [
      "3.414213562373095\n"
     ]
    }
   ],
   "source": [
    "import math\n",
    "def perimeter(a):\n",
    "    q=a[0]\n",
    "    w=a[1]\n",
    "    e=a[2]\n",
    "    d1 = math.dist(q , w)\n",
    "    d2 = math.dist(q , e)\n",
    "    d3 = math.dist(e , w)\n",
    "    \n",
    "    print(d1+d2+d3)\n",
    "perimeter( [ [0, 0], [0, 1], [1, 0] ] )"
   ]
  },
  {
   "cell_type": "markdown",
   "id": "064f8bed",
   "metadata": {},
   "source": [
    "### 3.\n",
    "A city skyline can be represented as a 2-D list with 1s representing\n",
    "\n",
    "buildings. In the example below, the height of the tallest building is 4 (second-\n",
    "                                                                          \n",
    "most right column).\n",
    "\n",
    "[[0, 0, 0, 0, 0, 0],\n",
    " \n",
    "[0, 0, 0, 0, 1, 0],\n",
    " \n",
    "[0, 0, 1, 0, 1, 0],\n",
    " \n",
    "[0, 1, 1, 1, 1, 0],\n",
    "\n",
    "[1, 1, 1, 1, 1, 1]]\n",
    "\n",
    "Create a function that takes a skyline (2-D list of 0&#39;s and 1&#39;s) and returns the height of the tallest skyscraper.\n",
    "                                        \n",
    "Examples\n",
    "                                        \n",
    "tallest_skyscraper([\n",
    "    \n",
    "[0, 0, 0, 0],\n",
    "    \n",
    "[0, 1, 0, 0],\n",
    "    \n",
    "[0, 1, 1, 0],\n",
    "    \n",
    "[1, 1, 1, 1]\n",
    "    \n",
    "]) ➞ 3\n",
    "                                        \n",
    "tallest_skyscraper([\n",
    "    \n",
    "[0, 1, 0, 0],\n",
    "    \n",
    "[0, 1, 0, 0],\n",
    "    \n",
    "[0, 1, 1, 0],\n",
    "    \n",
    "[1, 1, 1, 1]\n",
    "    \n",
    "]) ➞ 4\n",
    "                                        \n",
    "tallest_skyscraper([\n",
    "    \n",
    "[0, 0, 0, 0],\n",
    "    \n",
    "[0, 0, 0, 0],\n",
    "    \n",
    "[1, 1, 1, 0],\n",
    "    \n",
    "[1, 1, 1, 1]\n",
    "    \n",
    "]) ➞ 2"
   ]
  },
  {
   "cell_type": "code",
   "execution_count": 21,
   "id": "55938835",
   "metadata": {},
   "outputs": [
    {
     "name": "stdout",
     "output_type": "stream",
     "text": [
      "4\n"
     ]
    }
   ],
   "source": [
    "def tallest_skyscraper(a):\n",
    "    q=a[0]\n",
    "    w=a[1]\n",
    "    e=a[2]\n",
    "    r=a[3]\n",
    "    \n",
    "    r1= q[0]+w[0]+e[0]+r[0]\n",
    "    r2= q[1]+w[1]+e[1]+r[1]\n",
    "    r3= q[2]+w[2]+e[2]+r[2]\n",
    "    r4= q[3]+w[3]+e[3]+r[3]\n",
    "    \n",
    "    r5=max(r1,r2,r3,r4)\n",
    "    \n",
    "    \n",
    "    \n",
    "    \n",
    "    \n",
    "    print(r5)\n",
    "    \n",
    "tallest_skyscraper([\n",
    "\n",
    "[0, 1, 0, 0],\n",
    "\n",
    "[0, 1, 0, 0],\n",
    "\n",
    "[0, 1, 1, 0],\n",
    "\n",
    "[1, 1, 1, 1]\n",
    "\n",
    "])"
   ]
  },
  {
   "cell_type": "markdown",
   "id": "8f1f4961",
   "metadata": {},
   "source": [
    "### 4.\n",
    "A financial institution provides professional services to banks and claims charges from the customers based on the number of \n",
    "\n",
    "man-days provided.Internally, it has set a scheme to motivate and reward staff to meet and\n",
    "\n",
    "exceed targeted billable utilization and revenues by paying a bonus for each\n",
    "\n",
    "day claimed from customers in excess of a threshold target.\n",
    "\n",
    "This quarterly scheme is calculated with a threshold target of 32 days per\n",
    "\n",
    "quarter, and the incentive payment for each billable day in excess of such\n",
    "\n",
    "threshold target is shown as follows:\n",
    "    \n",
    "Days Bonus\n",
    "\n",
    "0 to 32 days Zero\n",
    "\n",
    "33 to 40 days SGD$325 per billable day\n",
    "\n",
    "41 to 48 days SGD$550 per billable day\n",
    "\n",
    "Greater than 48 days SGD$600 per billable day\n",
    "\n",
    "Please note that incentive payment is calculated progressively. As an\n",
    "\n",
    "example, if an employee reached total billable days of 45 in a quarter, his/her\n",
    "\n",
    "incentive payment is computed as follows:\n",
    "    \n",
    "32*0 + 8*325 + 5*550 = 5350\n",
    "\n",
    "Write a function to read the billable days of an employee and return the bonus\n",
    "\n",
    "he/she has obtained in that quarter.\n",
    "\n",
    "Examples\n",
    "\n",
    "bonus(15) ➞ 0\n",
    "\n",
    "bonus(37) ➞ 1625\n",
    "\n",
    "bonus(50) ➞ 8200"
   ]
  },
  {
   "cell_type": "code",
   "execution_count": null,
   "id": "bec38d81",
   "metadata": {},
   "outputs": [],
   "source": []
  },
  {
   "cell_type": "markdown",
   "id": "49f402b2",
   "metadata": {},
   "source": [
    "### 5.\n",
    "A number is said to be Disarium if the sum of its digits raised to their\n",
    "\n",
    "respective positions is the number itself.\n",
    "\n",
    "Create a function that determines whether a number is a Disarium or not.\n",
    "\n",
    "Examples\n",
    "\n",
    "is_disarium(75) ➞ False\n",
    "\n",
    " 7^1 + 5^2 = 7 + 25 = 32\n",
    "\n",
    "is_disarium(135) ➞ True\n",
    "\n",
    " 1^1 + 3^2 + 5^3 = 1 + 9 + 125 = 135\n",
    "\n",
    "is_disarium(544) ➞ False\n",
    "\n",
    "is_disarium(518) ➞ True\n",
    "\n",
    "is_disarium(466) ➞ False\n",
    "\n",
    "is_disarium(8) ➞ True"
   ]
  },
  {
   "cell_type": "code",
   "execution_count": 32,
   "id": "498c5f73",
   "metadata": {},
   "outputs": [
    {
     "name": "stdout",
     "output_type": "stream",
     "text": [
      "true\n"
     ]
    }
   ],
   "source": [
    "def is_disarium(a):\n",
    "    b=list(str(a))\n",
    "    c=0\n",
    "    for i in range(1,len(b)+1):\n",
    "        c+=int(b[i-1])**i\n",
    "    if a==c:\n",
    "        \n",
    "        print(\"true\")\n",
    "    else:\n",
    "        print(\"false\")\n",
    "    \n",
    "    \n",
    "is_disarium(8)"
   ]
  },
  {
   "cell_type": "code",
   "execution_count": null,
   "id": "78e1c8d8",
   "metadata": {},
   "outputs": [],
   "source": []
  },
  {
   "cell_type": "code",
   "execution_count": null,
   "id": "0c61d403",
   "metadata": {},
   "outputs": [],
   "source": []
  },
  {
   "cell_type": "code",
   "execution_count": null,
   "id": "b035f575",
   "metadata": {},
   "outputs": [],
   "source": []
  },
  {
   "cell_type": "code",
   "execution_count": null,
   "id": "bab92510",
   "metadata": {},
   "outputs": [],
   "source": []
  },
  {
   "cell_type": "code",
   "execution_count": null,
   "id": "63fdaccf",
   "metadata": {},
   "outputs": [],
   "source": []
  },
  {
   "cell_type": "code",
   "execution_count": null,
   "id": "bc068a1f",
   "metadata": {},
   "outputs": [],
   "source": []
  },
  {
   "cell_type": "code",
   "execution_count": null,
   "id": "6053711a",
   "metadata": {},
   "outputs": [],
   "source": []
  }
 ],
 "metadata": {
  "kernelspec": {
   "display_name": "Python 3",
   "language": "python",
   "name": "python3"
  },
  "language_info": {
   "codemirror_mode": {
    "name": "ipython",
    "version": 3
   },
   "file_extension": ".py",
   "mimetype": "text/x-python",
   "name": "python",
   "nbconvert_exporter": "python",
   "pygments_lexer": "ipython3",
   "version": "3.8.8"
  }
 },
 "nbformat": 4,
 "nbformat_minor": 5
}
