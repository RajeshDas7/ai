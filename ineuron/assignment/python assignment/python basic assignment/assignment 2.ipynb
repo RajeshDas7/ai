{
 "cells": [
  {
   "cell_type": "markdown",
   "id": "f0506431",
   "metadata": {},
   "source": [
    "### 1.What are the two values of the Boolean data type? How do you write them?\n"
   ]
  },
  {
   "cell_type": "code",
   "execution_count": null,
   "id": "d29cf1bf",
   "metadata": {},
   "outputs": [],
   "source": [
    "the two value of the boolean data type is True Ans False\n",
    "\n",
    "it is written as\n",
    "\n",
    "True   \n",
    "\n",
    "False"
   ]
  },
  {
   "cell_type": "code",
   "execution_count": null,
   "id": "c44d61e7",
   "metadata": {},
   "outputs": [],
   "source": []
  },
  {
   "cell_type": "markdown",
   "id": "6974ff4c",
   "metadata": {},
   "source": [
    "### 2. What are the three different types of Boolean operators?"
   ]
  },
  {
   "cell_type": "code",
   "execution_count": null,
   "id": "f204af14",
   "metadata": {},
   "outputs": [],
   "source": [
    "the three type of boolean operator in python are\n",
    "\n",
    "and  , or , not"
   ]
  },
  {
   "cell_type": "code",
   "execution_count": null,
   "id": "95f5a2a6",
   "metadata": {},
   "outputs": [],
   "source": []
  },
  {
   "cell_type": "markdown",
   "id": "1ea93209",
   "metadata": {},
   "source": [
    "### 3. Make a list of each Boolean operator's truth tables (i.e. every possible combination of Boolean values for the operator and what it evaluate )."
   ]
  },
  {
   "cell_type": "code",
   "execution_count": null,
   "id": "43597373",
   "metadata": {},
   "outputs": [],
   "source": [
    "False and False == False\n",
    "False and True == False\n",
    "True and False == False\n",
    "True and True == True\n",
    "\n",
    "False or False == False\n",
    "False or True == True\n",
    "True or False == True\n",
    "True or True == True\n",
    "\n",
    "not True ==False\n",
    "not False ==True"
   ]
  },
  {
   "cell_type": "markdown",
   "id": "b300bdd0",
   "metadata": {},
   "source": [
    "### 4. What are the values of the following expressions?"
   ]
  },
  {
   "cell_type": "code",
   "execution_count": null,
   "id": "f5c82bb5",
   "metadata": {},
   "outputs": [],
   "source": [
    "(5 > 4) and (3 == 5)  <==> False\n",
    "\n",
    "not (5 > 4)   <==> False\n",
    "\n",
    "(5 > 4) or (3 == 5)   <==> True\n",
    "\n",
    "not ((5 > 4) or (3 == 5))   <==> False\n",
    "\n",
    "(True and True) and (True == False)   <==> False\n",
    "\n",
    "(not False) or (not True)   <==> True"
   ]
  },
  {
   "cell_type": "markdown",
   "id": "7b00a7d5",
   "metadata": {},
   "source": [
    "### 5. What are the six comparison operators?"
   ]
  },
  {
   "cell_type": "code",
   "execution_count": null,
   "id": "33ca0415",
   "metadata": {},
   "outputs": [],
   "source": [
    "the 6 comparision operators in python are\n",
    "\n",
    "less than                 <\n",
    "greater than              >\n",
    "less than or equal to     <=\n",
    "greater than or equal to  >=\n",
    "equal to                  ==\n",
    "not equal to              !=\n",
    "\n"
   ]
  },
  {
   "cell_type": "markdown",
   "id": "0023b1c2",
   "metadata": {},
   "source": [
    "### 6. How do you tell the difference between the equal to and assignment operators?Describe a condition and when you would use one."
   ]
  },
  {
   "cell_type": "code",
   "execution_count": null,
   "id": "edc0ac36",
   "metadata": {},
   "outputs": [],
   "source": [
    "==   equal to operator\n",
    "=    assignment operator\n",
    "\n",
    "assignment operator is used to assign a value on the right to the variable on the left\n",
    "example  ===>   a = 10\n",
    "\n",
    "equal operator is used to  check whether the two given operands are equal or not.\n",
    "if it is equal it returns True otherwise  it returns False"
   ]
  },
  {
   "cell_type": "markdown",
   "id": "9f0a3bc3",
   "metadata": {},
   "source": [
    "### 7. Identify the three blocks in this code:"
   ]
  },
  {
   "cell_type": "code",
   "execution_count": null,
   "id": "6d9048b9",
   "metadata": {},
   "outputs": [],
   "source": [
    "spam = 0\n",
    "\n",
    "#block 1\n",
    "if spam == 10:\n",
    "    print('egg')\n",
    "\n",
    "#block 2\n",
    "if spam > 5:\n",
    "    print('bacon')\n",
    "\n",
    "#block 3\n",
    "else:\n",
    "    print('ham')\n",
    "    print('spam')\n",
    "    print('spam')"
   ]
  },
  {
   "cell_type": "code",
   "execution_count": null,
   "id": "6ef81278",
   "metadata": {},
   "outputs": [],
   "source": []
  },
  {
   "cell_type": "markdown",
   "id": "5dd99701",
   "metadata": {},
   "source": [
    "### 8. Write code that prints Hello if 1 is stored in spam, prints Howdy if 2 is stored in spam, and prints Greetings! if anything else is stored in spam."
   ]
  },
  {
   "cell_type": "code",
   "execution_count": null,
   "id": "cfd4805a",
   "metadata": {},
   "outputs": [],
   "source": [
    "spam=3\n",
    "\n",
    "if spam ==1:\n",
    "    print(\"Hello\")\n",
    "\n",
    "elif spam ==2:\n",
    "    print(\"Howdy\")\n",
    "\n",
    "else:\n",
    "    print(\"Greeting\")\n",
    "    \n",
    "    "
   ]
  },
  {
   "cell_type": "code",
   "execution_count": null,
   "id": "a35143a7",
   "metadata": {},
   "outputs": [],
   "source": []
  }
 ],
 "metadata": {
  "kernelspec": {
   "display_name": "Python 3",
   "language": "python",
   "name": "python3"
  },
  "language_info": {
   "codemirror_mode": {
    "name": "ipython",
    "version": 3
   },
   "file_extension": ".py",
   "mimetype": "text/x-python",
   "name": "python",
   "nbconvert_exporter": "python",
   "pygments_lexer": "ipython3",
   "version": "3.8.8"
  }
 },
 "nbformat": 4,
 "nbformat_minor": 5
}
