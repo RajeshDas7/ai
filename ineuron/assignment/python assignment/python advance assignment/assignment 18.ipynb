{
 "cells": [
  {
   "cell_type": "markdown",
   "id": "01683b10",
   "metadata": {},
   "source": [
    "### Q1. Describe the differences between text and binary files in a single paragraph."
   ]
  },
  {
   "cell_type": "code",
   "execution_count": null,
   "id": "8eeb86e2",
   "metadata": {},
   "outputs": [],
   "source": [
    "Text files:\n",
    "    In this type of file, Each line of text is terminated \n",
    "with a special character called EOL (End of Line),\n",
    "which is the new line character (‘\\n’) in python by default.\n",
    "\n",
    "Binary files:\n",
    "    In this type of file, there is no terminator for a line\n",
    "    and the data is stored after converting\n",
    "    it into machine understandable binary language."
   ]
  },
  {
   "cell_type": "markdown",
   "id": "e4571b6f",
   "metadata": {},
   "source": [
    "### Q2. What are some scenarios where using text files will be the better option? When would you like to use binary files instead of text files?"
   ]
  },
  {
   "cell_type": "code",
   "execution_count": null,
   "id": "7c4c13cc",
   "metadata": {},
   "outputs": [],
   "source": [
    "---------\n",
    "Text File \n",
    "----------\n",
    "Bits represent character.\n",
    "\n",
    "Less prone to get corrupt as changes reflect as soon as the file is opened and can easily be undone.\n",
    "\n",
    "Can store only plain text in a file.\n",
    "\n",
    "Widely used file format and can be opened using any simple text editor.\t\n",
    "\n",
    "Mostly .txt and .rtf are used as extensions to text files.\n",
    "-----------\n",
    "Binary File\n",
    "----------\n",
    "Bits represent a custom data\n",
    "\n",
    "Can easily get corrupted, even a single bit change may corrupt the file.\n",
    "\n",
    "Can store different types of data (image, audio, text) in a single file.\n",
    "\n",
    "Developed especially for an application and may not be understood by other applications.\n",
    "Can have any application defined extension."
   ]
  },
  {
   "cell_type": "markdown",
   "id": "1c5d4916",
   "metadata": {},
   "source": [
    "### Q3. What are some of the issues with using binary operations to read and write a Python integer directly to disc?"
   ]
  },
  {
   "cell_type": "code",
   "execution_count": null,
   "id": "82f05159",
   "metadata": {},
   "outputs": [],
   "source": [
    "the file may get currupt"
   ]
  },
  {
   "cell_type": "markdown",
   "id": "03e191fc",
   "metadata": {},
   "source": [
    "### Q4. Describe a benefit of using the with keyword instead of explicitly opening a file.\n"
   ]
  },
  {
   "cell_type": "code",
   "execution_count": null,
   "id": "82e863b1",
   "metadata": {},
   "outputs": [],
   "source": [
    "The advantage of using a with statement is that it is guaranteed to close the file no matter how the nested block exits. \n",
    "If an exception occurs before the end of the block,\n",
    "it will close the file before the exception is caught by an outer exception handler."
   ]
  },
  {
   "cell_type": "markdown",
   "id": "3eb0cc19",
   "metadata": {},
   "source": [
    "### Q5. Does Python have the trailing newline while reading a line of text? Does Python append a newline when you write a line of text?"
   ]
  },
  {
   "cell_type": "code",
   "execution_count": null,
   "id": "7d41b66d",
   "metadata": {},
   "outputs": [],
   "source": [
    "Python readline() is a file method that helps to read one complete line from the given file.\n",
    "It has a trailing newline (“\\n”) at the end of the string returned.\n",
    "\n",
    "This uses a backslash escape, \\n , which Python converts to a newline character in string literals.\n",
    "It just concatenates your string, name , and that newline character into a bigger string, which gets written to the file"
   ]
  },
  {
   "cell_type": "markdown",
   "id": "b5dc80cc",
   "metadata": {},
   "source": [
    "### Q6. What file operations enable for random-access operation?\n"
   ]
  },
  {
   "cell_type": "code",
   "execution_count": null,
   "id": "a3714010",
   "metadata": {},
   "outputs": [],
   "source": []
  },
  {
   "cell_type": "markdown",
   "id": "e874cf33",
   "metadata": {},
   "source": [
    "### Q7. When do you think you&#39;ll use the struct package the most?\n"
   ]
  },
  {
   "cell_type": "code",
   "execution_count": null,
   "id": "d0643429",
   "metadata": {},
   "outputs": [],
   "source": [
    "This module performs conversions between Python values and C structs represented as Python bytes objects. \n",
    "This can be used in handling binary data stored in files or from network connections,\n",
    "among other sources. It uses Format Strings as compact descriptions of the\n",
    "layout of the C structs and the intended conversion to/from Python values."
   ]
  },
  {
   "cell_type": "markdown",
   "id": "48aef175",
   "metadata": {},
   "source": [
    "### Q8. When is pickling the best option?\n"
   ]
  },
  {
   "cell_type": "code",
   "execution_count": null,
   "id": "b043a6b8",
   "metadata": {},
   "outputs": [],
   "source": [
    "“Pickling” is the process whereby a Python object hierarchy is converted into a byte stream,\n",
    "and “unpickling” is the inverse operation, whereby a byte stream\n",
    "(from a binary file or bytes-like object) is converted back into an object hierarchy\n",
    "\n",
    "Pickle in Python is primarily used in serializing and deserializing a Python object structure. \n",
    "In other words, itis the process of converting a Python object into a byte stream to store\n",
    "it in a file/database, maintain program state across sessions, or transport data over the network"
   ]
  },
  {
   "cell_type": "markdown",
   "id": "cc2c242f",
   "metadata": {},
   "source": [
    "### Q9. When will it be best to use the shelve package?\n"
   ]
  },
  {
   "cell_type": "code",
   "execution_count": null,
   "id": "e2d9bb1f",
   "metadata": {},
   "outputs": [],
   "source": [
    "The shelve module can be used as a simple persistent storage option for Python objects when a relational database is overkill.\n",
    "The shelf is accessed by keys, just as with a dictionary.\n",
    "The values are pickled and written to a database created and managed by anydbm."
   ]
  },
  {
   "cell_type": "markdown",
   "id": "bcf11c28",
   "metadata": {},
   "source": [
    "### Q10. What is a special restriction when using the shelve package, as opposed to using other data dictionaries?"
   ]
  },
  {
   "cell_type": "code",
   "execution_count": null,
   "id": "dd85e2b0",
   "metadata": {},
   "outputs": [],
   "source": []
  },
  {
   "cell_type": "code",
   "execution_count": null,
   "id": "bf9e6fa2",
   "metadata": {},
   "outputs": [],
   "source": []
  },
  {
   "cell_type": "code",
   "execution_count": null,
   "id": "48d894f6",
   "metadata": {},
   "outputs": [],
   "source": []
  }
 ],
 "metadata": {
  "kernelspec": {
   "display_name": "Python 3",
   "language": "python",
   "name": "python3"
  },
  "language_info": {
   "codemirror_mode": {
    "name": "ipython",
    "version": 3
   },
   "file_extension": ".py",
   "mimetype": "text/x-python",
   "name": "python",
   "nbconvert_exporter": "python",
   "pygments_lexer": "ipython3",
   "version": "3.8.8"
  }
 },
 "nbformat": 4,
 "nbformat_minor": 5
}
