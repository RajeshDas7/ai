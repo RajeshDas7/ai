{
 "cells": [
  {
   "cell_type": "markdown",
   "id": "44483b4f",
   "metadata": {},
   "source": [
    "### Q1. Explain the difference between greedy and non-greedy syntax with visual terms in as few words as possible. What is the bare minimum effort required to transform a greedy pattern into a non-greedy one? What characters or characters can you introduce or change?"
   ]
  },
  {
   "cell_type": "code",
   "execution_count": null,
   "id": "25ca6701",
   "metadata": {},
   "outputs": [],
   "source": [
    "A greedy quantifier such as ?, *, +, and {m,n} matches as many characters as possible (longest match).\n",
    "For example, the regex 'a+' will match as many 'a's as possible \n",
    "in your string 'aaaa'—even though the substrings 'a', 'aa', 'aaa' all match the regex 'a+'.\n",
    "\n",
    "\n",
    "A non-greedy quantifier such as ??, *?, +?, and {m,n}? matches as few characters as possible\n",
    "(shortest possible match). For example, the regex 'a+?' will match as few 'a's as possible \n",
    "in your string 'aaaa'. Thus, it matches the first character 'a' and is done with it."
   ]
  },
  {
   "cell_type": "markdown",
   "id": "329d6dd4",
   "metadata": {},
   "source": [
    "### Q2. When exactly does greedy versus non-greedy make a difference?  What if you&#39;re looking for a non-greedy match but the only one available is greedy?"
   ]
  },
  {
   "cell_type": "code",
   "execution_count": null,
   "id": "fd48f824",
   "metadata": {},
   "outputs": [],
   "source": [
    "So the difference between the greedy and the non-greedy match is the following:\n",
    "The greedy match will try to match as many repetitions of the quantified pattern as possible.\n",
    "The non-greedy match will try to match as few repetitions of the quantified pattern as possible."
   ]
  },
  {
   "cell_type": "markdown",
   "id": "cfbdaef7",
   "metadata": {},
   "source": [
    "### Q3. In a simple match of a string, which looks only for one match and does not do any replacement, is the use of a nontagged group likely to make any practical difference?"
   ]
  },
  {
   "cell_type": "code",
   "execution_count": null,
   "id": "218a1ef5",
   "metadata": {},
   "outputs": [],
   "source": [
    "no"
   ]
  },
  {
   "cell_type": "markdown",
   "id": "98afef9b",
   "metadata": {},
   "source": [
    "### Q4. Describe a scenario in which using a nontagged category would have a significant impact on the program&#39;s outcomes."
   ]
  },
  {
   "cell_type": "code",
   "execution_count": null,
   "id": "86ace44a",
   "metadata": {},
   "outputs": [],
   "source": []
  },
  {
   "cell_type": "markdown",
   "id": "64ec03ee",
   "metadata": {},
   "source": [
    "### Q5. Unlike a normal regex pattern, a look-ahead condition does not consume the characters it examines. Describe a situation in which this could make a difference in the results of your programme."
   ]
  },
  {
   "cell_type": "code",
   "execution_count": null,
   "id": "f75d8f1d",
   "metadata": {},
   "outputs": [],
   "source": []
  },
  {
   "cell_type": "markdown",
   "id": "30b40fdb",
   "metadata": {},
   "source": [
    "### Q6. In standard expressions, what is the difference between positive look-ahead and negative look- ahead?"
   ]
  },
  {
   "cell_type": "code",
   "execution_count": null,
   "id": "2ad1b9c6",
   "metadata": {},
   "outputs": [],
   "source": []
  },
  {
   "cell_type": "markdown",
   "id": "9cbebf63",
   "metadata": {},
   "source": [
    "### Q7. What is the benefit of referring to groups by name rather than by number in a standard expression?"
   ]
  },
  {
   "cell_type": "code",
   "execution_count": null,
   "id": "3ea1da2e",
   "metadata": {},
   "outputs": [],
   "source": []
  },
  {
   "cell_type": "markdown",
   "id": "c2c55386",
   "metadata": {},
   "source": [
    "### Q8. Can you identify repeated items within a target string using named groups, as in &quot;The cow jumped over the moon&quot;?"
   ]
  },
  {
   "cell_type": "code",
   "execution_count": null,
   "id": "f4957679",
   "metadata": {},
   "outputs": [],
   "source": []
  },
  {
   "cell_type": "markdown",
   "id": "27307ba2",
   "metadata": {},
   "source": [
    "### Q9. When parsing a string, what is at least one thing that the Scanner interface does for you that the re.findall feature does not?"
   ]
  },
  {
   "cell_type": "code",
   "execution_count": null,
   "id": "a4e54eb3",
   "metadata": {},
   "outputs": [],
   "source": []
  },
  {
   "cell_type": "markdown",
   "id": "91f7bf21",
   "metadata": {},
   "source": [
    "### Q10. Does a scanner object have to be named scanner?"
   ]
  },
  {
   "cell_type": "code",
   "execution_count": null,
   "id": "68f140a2",
   "metadata": {},
   "outputs": [],
   "source": []
  },
  {
   "cell_type": "code",
   "execution_count": null,
   "id": "efa399f2",
   "metadata": {},
   "outputs": [],
   "source": []
  },
  {
   "cell_type": "code",
   "execution_count": null,
   "id": "84cd830b",
   "metadata": {},
   "outputs": [],
   "source": []
  },
  {
   "cell_type": "code",
   "execution_count": null,
   "id": "0f1a6b16",
   "metadata": {},
   "outputs": [],
   "source": []
  }
 ],
 "metadata": {
  "kernelspec": {
   "display_name": "Python 3",
   "language": "python",
   "name": "python3"
  },
  "language_info": {
   "codemirror_mode": {
    "name": "ipython",
    "version": 3
   },
   "file_extension": ".py",
   "mimetype": "text/x-python",
   "name": "python",
   "nbconvert_exporter": "python",
   "pygments_lexer": "ipython3",
   "version": "3.8.8"
  }
 },
 "nbformat": 4,
 "nbformat_minor": 5
}
