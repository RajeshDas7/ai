{
 "cells": [
  {
   "cell_type": "markdown",
   "id": "c71ece8c",
   "metadata": {},
   "source": [
    "### Q1. What is the relationship between classes and modules?"
   ]
  },
  {
   "cell_type": "code",
   "execution_count": null,
   "id": "20b03bc6",
   "metadata": {},
   "outputs": [],
   "source": [
    "The difference between a class and a module in python is that\n",
    "a class is used to define a blueprint for a given object,\n",
    "whereas a module is used to reuse a given piece of code inside another program"
   ]
  },
  {
   "cell_type": "markdown",
   "id": "a8b2af5b",
   "metadata": {},
   "source": [
    "### Q2. How do you make instances and classes?"
   ]
  },
  {
   "cell_type": "code",
   "execution_count": null,
   "id": "1337ec30",
   "metadata": {},
   "outputs": [],
   "source": [
    "to make any instance of a class we have to call the class name and assign it to a variable.\n",
    "\n",
    "to create a class we have to write class and the class name."
   ]
  },
  {
   "cell_type": "markdown",
   "id": "66e8f745",
   "metadata": {},
   "source": [
    "### Q3. Where and how should be class attributes created?"
   ]
  },
  {
   "cell_type": "code",
   "execution_count": null,
   "id": "f1bab0e2",
   "metadata": {},
   "outputs": [],
   "source": [
    "the class attribute should be created in the __init__ method.\n",
    "because when we use  __init__ method then when ever an object of an class is created the attributes will be initiated"
   ]
  },
  {
   "cell_type": "markdown",
   "id": "b402d7e3",
   "metadata": {},
   "source": [
    "### Q4. Where and how are instance attributes created?"
   ]
  },
  {
   "cell_type": "code",
   "execution_count": null,
   "id": "dc245c70",
   "metadata": {},
   "outputs": [],
   "source": [
    "the instance attributes are created in the class and inherited to the class.\n",
    "when an instance of the object is created it inherits all the class attributes."
   ]
  },
  {
   "cell_type": "markdown",
   "id": "b4ac6098",
   "metadata": {},
   "source": [
    "### Q5. What does the term &quot;self&quot; in a Python class mean?"
   ]
  },
  {
   "cell_type": "code",
   "execution_count": null,
   "id": "cfedc3a0",
   "metadata": {},
   "outputs": [],
   "source": [
    "self is used to point to the same class.\n",
    "if we want to access any variable or method of the class then we have to use self keyword."
   ]
  },
  {
   "cell_type": "markdown",
   "id": "91db00b8",
   "metadata": {},
   "source": [
    "### Q6. How does a Python class handle operator overloading?"
   ]
  },
  {
   "cell_type": "code",
   "execution_count": null,
   "id": "4cbbe56e",
   "metadata": {},
   "outputs": [],
   "source": [
    "To perform operator overloading,\n",
    "Python provides some special function or magic function \n",
    "that is automatically invoked when it is associated with that particular operator. \n",
    "\n",
    "Binary Operators:\n",
    "---------------------\n",
    "+  __add__(self, other)\n",
    "–  __sub__(self, other)\n",
    "*  __mul__(self, other)\n",
    "/  __truediv__(self, other)\n",
    "//  __floordiv__(self, other)\n",
    "%  __mod__(self, other)\n",
    "**  __pow__(self, other)\n",
    ">>  __rshift__(self, other)\n",
    "<<  __lshift__(self, other)\n",
    "&  __and__(self, other)\n",
    "|  __or__(self, other)\n",
    "^  __xor__(self, other)\n",
    "\n",
    "Comparison Operators :\n",
    "<  __LT__(SELF, OTHER)\n",
    ">  __GT__(SELF, OTHER)\n",
    "<= __LE__(SELF, OTHER)\n",
    ">= __GE__(SELF, OTHER)\n",
    "== __EQ__(SELF, OTHER)\n",
    "!= __NE__(SELF, OTHER)\n",
    "\n",
    "Assignment Operators :\n",
    "-= __ISUB__(SELF, OTHER)\n",
    "+= __IADD__(SELF, OTHER)\n",
    "*= __IMUL__(SELF, OTHER)\n",
    "/= __IDIV__(SELF, OTHER)\n",
    "//= __IFLOORDIV__(SELF, OTHER)\n",
    "%= __IMOD__(SELF, OTHER)\n",
    "**= __IPOW__(SELF, OTHER)\n",
    ">>= __IRSHIFT__(SELF, OTHER)\n",
    "<<= __ILSHIFT__(SELF, OTHER)\n",
    "&= __IAND__(SELF, OTHER)\n",
    "|= __IOR__(SELF, OTHER)\n",
    "^= __IXOR__(SELF, OTHER)\n",
    "\n",
    "Unary Operators :\n",
    "– __NEG__(SELF, OTHER)\n",
    "+ __POS__(SELF, OTHER)\n",
    "~ __INVERT__(SELF, OTHER)"
   ]
  },
  {
   "cell_type": "markdown",
   "id": "b3af4a48",
   "metadata": {},
   "source": [
    "### Q7. When do you consider allowing operator overloading of your classes?"
   ]
  },
  {
   "cell_type": "code",
   "execution_count": null,
   "id": "aa5ada58",
   "metadata": {},
   "outputs": [],
   "source": [
    "when we hava a method and\n",
    "we want different funtionality for different scinario\n",
    "then we use operator overloading for our class."
   ]
  },
  {
   "cell_type": "markdown",
   "id": "f7ea3b7f",
   "metadata": {},
   "source": [
    "### Q8. What is the most popular form of operator overloading?"
   ]
  },
  {
   "cell_type": "code",
   "execution_count": null,
   "id": "ed7ceb78",
   "metadata": {},
   "outputs": [],
   "source": [
    "‘+’ operator \n",
    "it is used to add two integers \n",
    "as well as join two strings\n",
    "and merge two lists."
   ]
  },
  {
   "cell_type": "markdown",
   "id": "932ca165",
   "metadata": {},
   "source": [
    "### Q9. What are the two most important concepts to grasp in order to comprehend Python OOP code?"
   ]
  },
  {
   "cell_type": "code",
   "execution_count": null,
   "id": "0da4e9c6",
   "metadata": {},
   "outputs": [],
   "source": [
    "two most important concepts to grasp in order to comprehend Python OOP code\n",
    " are objects and classes"
   ]
  },
  {
   "cell_type": "code",
   "execution_count": null,
   "id": "ef17ed06",
   "metadata": {},
   "outputs": [],
   "source": []
  }
 ],
 "metadata": {
  "kernelspec": {
   "display_name": "Python 3",
   "language": "python",
   "name": "python3"
  },
  "language_info": {
   "codemirror_mode": {
    "name": "ipython",
    "version": 3
   },
   "file_extension": ".py",
   "mimetype": "text/x-python",
   "name": "python",
   "nbconvert_exporter": "python",
   "pygments_lexer": "ipython3",
   "version": "3.8.8"
  }
 },
 "nbformat": 4,
 "nbformat_minor": 5
}
