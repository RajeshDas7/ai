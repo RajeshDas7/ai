{
 "cells": [
  {
   "cell_type": "markdown",
   "id": "464c166b",
   "metadata": {},
   "source": [
    "### Q1. Can you create a programme or function that employs both positive and negative indexing? Is there any repercussion if you do so?"
   ]
  },
  {
   "cell_type": "code",
   "execution_count": null,
   "id": "c2b8b916",
   "metadata": {},
   "outputs": [],
   "source": [
    "yes we can\n",
    "no there is no repurcusion"
   ]
  },
  {
   "cell_type": "markdown",
   "id": "95494b5f",
   "metadata": {},
   "source": [
    "### Q2. What is the most effective way of starting with 1,000 elements in a Python list? Assume that all elements should be set to the same value."
   ]
  },
  {
   "cell_type": "code",
   "execution_count": null,
   "id": "b9ff4184",
   "metadata": {},
   "outputs": [],
   "source": [
    "a=list(\"s\"*1000)\n",
    "print(a)"
   ]
  },
  {
   "cell_type": "markdown",
   "id": "0b24b66b",
   "metadata": {},
   "source": [
    "### Q3. How do you slice a list to get any other part while missing the rest? (For example, suppose you want to make a new list with the elements first, third, fifth, seventh, and so on.)"
   ]
  },
  {
   "cell_type": "code",
   "execution_count": null,
   "id": "5092cd92",
   "metadata": {},
   "outputs": [],
   "source": [
    "using the step in slicing\n",
    "a[::2]"
   ]
  },
  {
   "cell_type": "markdown",
   "id": "2c58f478",
   "metadata": {},
   "source": [
    "### Q4. Explain the distinctions between indexing and slicing."
   ]
  },
  {
   "cell_type": "code",
   "execution_count": null,
   "id": "f0bd3938",
   "metadata": {},
   "outputs": [],
   "source": [
    "indexing\n",
    "--------\n",
    "\n",
    "->indexing returns one items\n",
    "->ateempting to use a index that is too large will cause indexError\n",
    "->by item assignment in index ,we cant change the length of the list\n",
    "->assignment to indexing ,we can assign a single element or an iterable\n",
    "\n",
    "\n",
    "slicing\n",
    "-------\n",
    "->slicing returns new list/new tuple\n",
    "->out of range indexes are handled gracefully when used for slicing\n",
    "->by assignment to slicing  we can change the length of the list\n",
    "->assignment to slicing, if we assign a single element. it will raise type error"
   ]
  },
  {
   "cell_type": "markdown",
   "id": "377301dd",
   "metadata": {},
   "source": [
    "### Q5. What happens if one of the slicing expression&#39;s indexes is out of range?"
   ]
  },
  {
   "cell_type": "code",
   "execution_count": null,
   "id": "1c14ca8a",
   "metadata": {},
   "outputs": [],
   "source": [
    "Indexing returns a single item, but slicing returns a subsequence of items. \n",
    "So when you try to index a nonexistent value, there's nothing to return.\n",
    "But when you slice a sequence outside of bounds, you can still return an empty sequence."
   ]
  },
  {
   "cell_type": "markdown",
   "id": "7cb27843",
   "metadata": {},
   "source": [
    "### Q6. If you pass a list to a function, and if you want the function to be able to change the values of the list—so that the list is different after the function returns—what action should you avoid?"
   ]
  },
  {
   "cell_type": "code",
   "execution_count": null,
   "id": "88e01235",
   "metadata": {},
   "outputs": [],
   "source": [
    "we should not assign the list inside the function to another list"
   ]
  },
  {
   "cell_type": "markdown",
   "id": "baccc09b",
   "metadata": {},
   "source": [
    "### Q7. What is the concept of an unbalanced matrix?"
   ]
  },
  {
   "cell_type": "code",
   "execution_count": null,
   "id": "7a1cac8d",
   "metadata": {},
   "outputs": [],
   "source": [
    " Each cell of the  grid is not stable,\n",
    "so the overall grid is unbalanced."
   ]
  },
  {
   "cell_type": "markdown",
   "id": "da883c7f",
   "metadata": {},
   "source": [
    "### Q8. Why is it necessary to use either list comprehension or a loop to create arbitrarily large matrices?"
   ]
  },
  {
   "cell_type": "code",
   "execution_count": null,
   "id": "d1c4e43a",
   "metadata": {},
   "outputs": [],
   "source": [
    "to avoid memory over usage"
   ]
  },
  {
   "cell_type": "code",
   "execution_count": null,
   "id": "a762f91c",
   "metadata": {},
   "outputs": [],
   "source": []
  },
  {
   "cell_type": "code",
   "execution_count": null,
   "id": "410b55e4",
   "metadata": {},
   "outputs": [],
   "source": []
  }
 ],
 "metadata": {
  "kernelspec": {
   "display_name": "Python 3",
   "language": "python",
   "name": "python3"
  },
  "language_info": {
   "codemirror_mode": {
    "name": "ipython",
    "version": 3
   },
   "file_extension": ".py",
   "mimetype": "text/x-python",
   "name": "python",
   "nbconvert_exporter": "python",
   "pygments_lexer": "ipython3",
   "version": "3.8.8"
  }
 },
 "nbformat": 4,
 "nbformat_minor": 5
}
