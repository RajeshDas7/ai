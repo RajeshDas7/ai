{
 "cells": [
  {
   "cell_type": "code",
   "execution_count": null,
   "id": "1256777d",
   "metadata": {},
   "outputs": [],
   "source": [
    "1. Create a function that takes a list and returns a new list containing only prime numbers.\n",
    "\n",
    "Examples\n",
    "filter_primes([7, 9, 3, 9, 10, 11, 27]) ➞ [7, 3, 11]\n",
    "\n",
    "filter_primes([10007, 1009, 1007, 27, 147, 77, 1001, 70]) ➞ [10007, 1009]\n",
    "\n",
    "filter_primes([1009, 10, 10, 10, 3, 33, 9, 4, 1, 61, 63, 69, 1087, 1091, 1093,1097]) ➞ [1009, 3, 61, 1087, 1091, 1093, 1097]"
   ]
  },
  {
   "cell_type": "code",
   "execution_count": 4,
   "id": "cb17297d",
   "metadata": {},
   "outputs": [
    {
     "name": "stdout",
     "output_type": "stream",
     "text": [
      "[1009, 3, 61, 1087, 1091, 1093, 1097]\n"
     ]
    }
   ],
   "source": [
    "\n",
    "from math import sqrt\n",
    "\n",
    "def prime1(n):\n",
    "    prime_flag = 0\n",
    "  \n",
    "    if(n > 1):\n",
    "        for i in range(2, int(sqrt(n)) + 1):\n",
    "            if (n % i == 0):\n",
    "                prime_flag = 1\n",
    "                break\n",
    "        if (prime_flag == 0):\n",
    "            return True\n",
    "        else:\n",
    "            return False\n",
    "    else:\n",
    "        return False\n",
    "    \n",
    "def filter_primes(a):\n",
    "    b=[]\n",
    "    for i in a:\n",
    "        if prime1(i):\n",
    "            b.append(i)\n",
    "        \n",
    "    print(b)\n",
    "    \n",
    "filter_primes([1009, 10, 10, 10, 3, 33, 9, 4, 1, 61, 63, 69, 1087, 1091, 1093,1097])"
   ]
  },
  {
   "cell_type": "markdown",
   "id": "5d5fd625",
   "metadata": {},
   "source": [
    "### 2. Once a water balloon pops, is soaks the area around it. The ground gets\n",
    "\n",
    "drier the further away you travel from the balloon.\n",
    "\n",
    "The effect of a water balloon popping can be modeled using a list. Create a\n",
    "\n",
    "function that takes a list which takes the pre-pop state and returns the state\n",
    "\n",
    "after the balloon is popped. The pre-pop state will contain at most a single\n",
    "\n",
    "balloon, whose size is represented by the only non-zero element.\n",
    "\n",
    "Examples\n",
    "\n",
    "pop([0, 0, 0, 0, 4, 0, 0, 0, 0]) ➞ [0, 1, 2, 3, 4, 3, 2, 1, 0]\n",
    "\n",
    "pop([0, 0, 0, 3, 0, 0, 0]) ➞ [0, 1, 2, 3, 2, 1, 0]\n",
    "\n",
    "pop([0, 0, 2, 0, 0]) ➞ [0, 1, 2, 1, 0]\n",
    "\n",
    "pop([0]) ➞ [0]\n",
    "\n"
   ]
  },
  {
   "cell_type": "code",
   "execution_count": 9,
   "id": "afa62038",
   "metadata": {},
   "outputs": [
    {
     "name": "stdout",
     "output_type": "stream",
     "text": [
      "[0, 1, 2, 1, 0]\n"
     ]
    }
   ],
   "source": [
    "def pop(a):\n",
    "    b=0\n",
    "    c=[]\n",
    "    for i in a:\n",
    "        if i!=0:\n",
    "            b=i\n",
    "    for i in range(b):\n",
    "        c.append(i)\n",
    "    for j in range(b,-1,-1):\n",
    "        c.append(j)\n",
    "            \n",
    "    print(c)\n",
    "    \n",
    "    \n",
    "pop([0, 0, 2, 0, 0])"
   ]
  },
  {
   "cell_type": "markdown",
   "id": "31efbebb",
   "metadata": {},
   "source": [
    "### 3. &quot;Loves me, loves me not&quot; is a traditional game in which a person plucks off\n",
    "\n",
    "all the petals of a flower one by one, saying the phrase &quot;Loves me&quot; and\n",
    "\n",
    "&quot;Loves me not&quot; when determining whether the one that they love, loves them back.\n",
    "\n",
    "Given a number of petals, return a string which repeats the phrases &quot;Loves\n",
    "\n",
    "me&quot; and &quot;Loves me not&quot; for every alternating petal, and return the last phrase\n",
    "\n",
    "in all caps. Remember to put a comma and space between phrases.\n",
    "\n",
    "Examples\n",
    "\n",
    "loves_me(3) ➞ &quot;Loves me, Loves me not, LOVES ME&quot;\n",
    "\n",
    "loves_me(6) ➞ &quot;Loves me, Loves me not, Loves me, Loves me not, Loves\n",
    "\n",
    "me, LOVES ME NOT&quot;\n",
    "\n",
    "loves_me(1) ➞ &quot;LOVES ME&quot;\n"
   ]
  },
  {
   "cell_type": "code",
   "execution_count": 15,
   "id": "788f7d22",
   "metadata": {},
   "outputs": [
    {
     "name": "stdout",
     "output_type": "stream",
     "text": [
      " Loves Me, Loves Me Not, Loves Me, Loves Me Not, LOVES ME,\n"
     ]
    }
   ],
   "source": [
    "def loves_me(a):\n",
    "    b=\"\"\n",
    "    for i in range(a):\n",
    "        if i==a-1:\n",
    "            if i%2==0:\n",
    "                b+=\" LOVES ME,\"\n",
    "            else:\n",
    "                b+=\" LOVES ME NOT,\"\n",
    "        elif i%2==0:\n",
    "            b+=\" Loves Me,\"\n",
    "        else:\n",
    "            b+=\" Loves Me Not,\"\n",
    "        \n",
    "        \n",
    "    print(b)\n",
    "    \n",
    "\n",
    "loves_me(5)"
   ]
  },
  {
   "cell_type": "markdown",
   "id": "60cac5b7",
   "metadata": {},
   "source": [
    "### 4. Write a function that sorts each string in a list by the letter in alphabetic\n",
    "\n",
    "ascending order (a-z).\n",
    "\n",
    "Examples\n",
    "\n",
    "sort_by_letter([&quot;932c&quot;, &quot;832u32&quot;, &quot;2344b&quot;])\n",
    "\n",
    "➞ [&quot;2344b&quot;, &quot;932c&quot;, &quot;832u32&quot;]\n",
    "\n",
    "sort_by_letter([&quot;99a&quot;, &quot;78b&quot;, &quot;c2345&quot;, &quot;11d&quot;])\n",
    "\n",
    "➞ [&quot;99a&quot;, &quot;78b&quot;, &quot;c2345&quot;, &quot;11d&quot;]\n",
    "\n",
    "sort_by_letter([&quot;572z&quot;, &quot;5y5&quot;, &quot;304q2&quot;])\n",
    "\n",
    "➞ [&quot;304q2&quot;, &quot;5y5&quot;, &quot;572z&quot;]\n",
    "\n",
    "sort_by_letter([])\n",
    "\n",
    "➞ []\n"
   ]
  },
  {
   "cell_type": "code",
   "execution_count": 20,
   "id": "8397674e",
   "metadata": {},
   "outputs": [
    {
     "name": "stdout",
     "output_type": "stream",
     "text": [
      "['304q2', '5y5', '572z']\n"
     ]
    }
   ],
   "source": [
    "def sort_by_letter(a):\n",
    "    b=[]\n",
    "    w=[]\n",
    "    for i in a:\n",
    "        for j in i:\n",
    "            if j.isalpha():\n",
    "                b.append(j)\n",
    "    c=sorted(b)\n",
    "    \n",
    "    for k in c:\n",
    "        for l in a:\n",
    "            if k in l:\n",
    "                w.append(l)\n",
    "    print(w)\n",
    "    \n",
    "sort_by_letter([\"572z\", \"5y5\", \"304q2\"])"
   ]
  },
  {
   "cell_type": "markdown",
   "id": "d86e0da2",
   "metadata": {},
   "source": [
    "### 5. There are three cups on a table, at positions A, B, and C. At the start, there\n",
    "\n",
    "is a ball hidden under the cup at position B.\n",
    "\n",
    "However, I perform several swaps on the cups, which is notated as two\n",
    "\n",
    "letters. For example, if I swap the cups at positions A and B, I could notate\n",
    "\n",
    "this as AB or BA.\n",
    "\n",
    "Create a function that returns the letter position that the ball is at, once I finish\n",
    "\n",
    "swapping the cups. The swaps will be given to you as a list.\n",
    "\n",
    "Example\n",
    "\n",
    "cup_swapping([&quot;AB&quot;, &quot;CA&quot;, &quot;AB&quot;]) ➞ &quot;C&quot;\n",
    "\n",
    "#Ball begins at position B.\n",
    "#Cups A and B swap, so the ball is at position A.\n",
    "#Cups C and A swap, so the ball is at position C.\n",
    "#Cups A and B swap, but the ball is at position C, so it doesn&#39;t move."
   ]
  },
  {
   "cell_type": "code",
   "execution_count": null,
   "id": "ac810215",
   "metadata": {},
   "outputs": [],
   "source": []
  }
 ],
 "metadata": {
  "kernelspec": {
   "display_name": "Python 3",
   "language": "python",
   "name": "python3"
  },
  "language_info": {
   "codemirror_mode": {
    "name": "ipython",
    "version": 3
   },
   "file_extension": ".py",
   "mimetype": "text/x-python",
   "name": "python",
   "nbconvert_exporter": "python",
   "pygments_lexer": "ipython3",
   "version": "3.8.8"
  }
 },
 "nbformat": 4,
 "nbformat_minor": 5
}
