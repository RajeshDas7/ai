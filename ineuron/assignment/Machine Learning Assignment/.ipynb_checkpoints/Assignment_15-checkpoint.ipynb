{
 "cells": [
  {
   "cell_type": "markdown",
   "id": "3864d810",
   "metadata": {},
   "source": [
    "### 1. Recognize the differences between supervised, semi-supervised, and unsupervised learning."
   ]
  },
  {
   "cell_type": "code",
   "execution_count": null,
   "id": "0b3013c7",
   "metadata": {},
   "outputs": [],
   "source": [
    "Supervised learning is the process where you have input variables\n",
    "(X) and an output variable (Y) and you use an algorithm to learn the mapping function from the input to the output.\n",
    "\n",
    "Unsupervised learning is a machine learning technique, where you do not need to supervise the model. \n",
    "Instead, you need to allow the model to work on its own to discover information. It mainly deals with the unlabeled data.\n",
    "Algorithms are left to their own devises to discover and present the interesting structure in the data.\n",
    "Unsupervised learning is very useful in exploratory analysis because it can automatically identify structure in data.\n",
    "\n",
    "Semi-supervised machine learning is a combination of supervised and unsupervised machine learning methods. \n",
    "With more common supervised machine learning methods,\n",
    "you train a machine learning algorithm on a “labeled” dataset in which each record includes the outcome information"
   ]
  },
  {
   "cell_type": "markdown",
   "id": "ad8a4bee",
   "metadata": {},
   "source": [
    "### 2. Describe in detail any five examples of classification problems.\n"
   ]
  },
  {
   "cell_type": "code",
   "execution_count": null,
   "id": "45250a9f",
   "metadata": {},
   "outputs": [],
   "source": [
    "Customer behavior prediction: \n",
    "    Customers can be classified into different categories based on their buying patterns,\n",
    "web store browsing patterns etc. For example, classification models can be used to determine whether a customer\n",
    "is likely to purchase more items or not. If the classification model predicts a greater likelihood that they are\n",
    "about to make more purchases, then you might want to send them promotional offers and discounts accordingly.\n",
    "Or if it has been determined that they will probably\n",
    "fall off of their purchasing habits soon, maybe save them for later by making their information readily available.\n",
    "\n",
    "Document classification:\n",
    "    A multinomial classification model can be trained to classify documents in different categories.\n",
    "    \n",
    "Image classification:\n",
    "    A multinomial classification model can be trained to classify images into different categories.\n",
    "For example, in order to classify images of dogs and cats for use within machine vision systems,\n",
    "machine learning techniques can help automate this process based on pre-classified images of dogs and cats.rent categories\n",
    "\n",
    "Web text classification:\n",
    "    Classifies web text or assign tag to web text based on pre-determined categories learned\n",
    "from the past data. For example, classification models\n",
    "can be used to automatically classify web text into one of the following categories: Sports, Entertainment, or Technology.\n",
    "    \n",
    "Product categorization:\n",
    "    A multinomial classification can be used to categorize the products sold by different \n",
    "retailers in the same categories irrespective of categories assigned to the product by the respective retailers. \n",
    "This use case is relevant for eCommerce aggregators. Read this page on product categorization for greater details."
   ]
  },
  {
   "cell_type": "markdown",
   "id": "0c0d22d0",
   "metadata": {},
   "source": [
    "### 3. Describe each phase of the classification process in detail.\n"
   ]
  },
  {
   "cell_type": "code",
   "execution_count": null,
   "id": "d544056d",
   "metadata": {},
   "outputs": [],
   "source": [
    "Image Classification Approach\n",
    "\n",
    "I.\n",
    "Digital data. An image is captured by using a digital camera or any mobile phone camera.\n",
    "\n",
    "II.\n",
    "Pre-processing. Improvement of the image data, which includes obtaining a normalized image, \n",
    "enhancing contrast, obtaining a gray-scale image, binary image, resizing image, complementing binary image,\n",
    "removing noise, getting the image boundary.\n",
    "\n",
    "III.\n",
    "Feature extraction. The process of measuring, calculating or detecting the features from the image samples. \n",
    "The two most common types of feature extraction are (i) geometric feature extraction and (ii) color feature extraction.\n",
    "\n",
    "IV.\n",
    "Selection of preparing information. Selection of the specific property which best portrays the given example, \n",
    "e.g., info image, output image, after preprocessing train dataset name.\n",
    "\n",
    "V.\n",
    "Decision and classification. Categorizes recognized items into predefined classes by utilizing a reasonable\n",
    "strategy that contrasts the image designs and the objective examples.\n",
    "\n",
    "VI.\n",
    "Accuracy evaluation. Precision appraisal is acknowledged to distinguish conceivable wellsprings of mistakes\n",
    "and as a pointer utilized as a part of correlations. "
   ]
  },
  {
   "cell_type": "markdown",
   "id": "6d506b86",
   "metadata": {},
   "source": [
    "### 4. Go through the SVM model in depth using various scenarios.\n"
   ]
  },
  {
   "cell_type": "code",
   "execution_count": null,
   "id": "fad824e7",
   "metadata": {},
   "outputs": [],
   "source": []
  },
  {
   "cell_type": "markdown",
   "id": "98606310",
   "metadata": {},
   "source": [
    "### 5. What are some of the benefits and drawbacks of SVM?\n"
   ]
  },
  {
   "cell_type": "code",
   "execution_count": null,
   "id": "dfaed2ef",
   "metadata": {},
   "outputs": [],
   "source": [
    "Advantages:\n",
    "SVM works relatively well when there is a clear margin of separation between classes.\n",
    "SVM is more effective in high dimensional spaces.\n",
    "SVM is effective in cases where the number of dimensions is greater than the number of samples.\n",
    "SVM is relatively memory efficient\n",
    "\n",
    "Disadvantages:\n",
    "SVM algorithm is not suitable for large data sets.\n",
    "SVM does not perform very well when the data set has more noise i.e. target classes are overlapping.\n",
    "In cases where the number of features for each data point exceeds the number of training data samples, the SVM will underperform.\n",
    "As the support vector classifier works by putting data points, above and below the classifying hyperplane there is no probabilistic explanation for the classification."
   ]
  },
  {
   "cell_type": "markdown",
   "id": "f2485ee8",
   "metadata": {},
   "source": [
    "### 6. Go over the kNN model in depth.\n"
   ]
  },
  {
   "cell_type": "code",
   "execution_count": null,
   "id": "03da1458",
   "metadata": {},
   "outputs": [],
   "source": []
  },
  {
   "cell_type": "markdown",
   "id": "7c1c0139",
   "metadata": {},
   "source": [
    "### 7. Discuss the kNN algorithm&#39;s error rate and validation error.\n"
   ]
  },
  {
   "cell_type": "code",
   "execution_count": null,
   "id": "2a7b1020",
   "metadata": {},
   "outputs": [],
   "source": []
  },
  {
   "cell_type": "markdown",
   "id": "e34e4933",
   "metadata": {},
   "source": [
    "### 8. For kNN, talk about how to measure the difference between the test and training results.\n"
   ]
  },
  {
   "cell_type": "code",
   "execution_count": null,
   "id": "3fe2e388",
   "metadata": {},
   "outputs": [],
   "source": []
  },
  {
   "cell_type": "markdown",
   "id": "9e8e7aa2",
   "metadata": {},
   "source": [
    "### 9. Create the kNN algorithm.\n",
    "\n",
    "What is a decision tree, exactly? What are the various kinds of nodes? Explain all in depth."
   ]
  },
  {
   "cell_type": "code",
   "execution_count": null,
   "id": "7c7af028",
   "metadata": {},
   "outputs": [],
   "source": [
    "Decision Tree : Decision tree is the most powerful and popular tool for classification and prediction.\n",
    "A Decision tree is a flowchart like tree structure, where each internal node denotes a test on an attribute, \n",
    "each branch represents an outcome of the test, and each leaf node (terminal node) holds a class label. \n",
    "\n",
    "A decision tree is a structure that includes a root node, branches, and leaf nodes.\n",
    "Each internal node denotes a test on an attribute, each branch denotes the outcome of a test,\n",
    "and each leaf node holds a class label. The topmost node in the tree is the root node."
   ]
  },
  {
   "cell_type": "markdown",
   "id": "6f5b1a8f",
   "metadata": {},
   "source": [
    "### 11. Describe the different ways to scan a decision tree.\n"
   ]
  },
  {
   "cell_type": "code",
   "execution_count": null,
   "id": "1a956ad8",
   "metadata": {},
   "outputs": [],
   "source": []
  },
  {
   "cell_type": "markdown",
   "id": "3b05172d",
   "metadata": {},
   "source": [
    "### 12. Describe in depth the decision tree algorithm.\n"
   ]
  },
  {
   "cell_type": "code",
   "execution_count": null,
   "id": "ebc84764",
   "metadata": {},
   "outputs": [],
   "source": [
    "Decision Tree is a Supervised learning technique that can be used for both classification and Regression problems,\n",
    "but mostly it is preferred for solving Classification problems. It is a tree-structured classifier, where internal \n",
    "nodes represent the features of a dataset, branches represent the decision rules and each leaf node represents the outcome.\n",
    "In a Decision tree, there are two nodes, which are the Decision Node and Leaf Node. Decision nodes are used\n",
    "to make any decision and have multiple branches, whereas Leaf nodes are the output of those decisions and do \n",
    "not contain any further branches.\n",
    "The decisions or the test are performed on the basis of features of the given dataset.\n",
    "\n",
    "It is called a decision tree because, similar to a tree, it starts with the root node, which expands\n",
    "on further branches and constructs a tree-like structure.\n",
    "In order to build a tree, we use the CART algorithm, which stands for Classification and Regression Tree algorithm.\n",
    "A decision tree simply asks a question, and based on the answer (Yes/No), it further split the tree into subtrees."
   ]
  },
  {
   "cell_type": "markdown",
   "id": "9657da31",
   "metadata": {},
   "source": [
    "### 13. In a decision tree, what is inductive bias? What would you do to stop overfitting?\n"
   ]
  },
  {
   "cell_type": "code",
   "execution_count": null,
   "id": "29cb36bd",
   "metadata": {},
   "outputs": [],
   "source": [
    "The inductive bias (also known as learning bias) of a learning\n",
    "algorithm is the set of assumptions that the learner uses to predict outputs of given inputs that it has not encountered\n",
    "\n",
    "Cross-validation\n",
    "Train with more data\n",
    "Remove features\n",
    "Early stopping\n",
    "Regularization\n",
    "Ensembling"
   ]
  },
  {
   "cell_type": "markdown",
   "id": "8512e055",
   "metadata": {},
   "source": [
    "### 14.Explain advantages and disadvantages of using a decision tree?\n"
   ]
  },
  {
   "cell_type": "code",
   "execution_count": null,
   "id": "3e985332",
   "metadata": {},
   "outputs": [],
   "source": [
    "Advantages:\n",
    "Compared to other algorithms decision trees requires less effort for data preparation during pre-processing.\n",
    "A decision tree does not require normalization of data.\n",
    "A decision tree does not require scaling of data as well.\n",
    "Missing values in the data also do NOT affect the process of building a decision tree to any considerable extent.\n",
    "A Decision tree model is very intuitive and easy to explain to technical teams as well as stakeholders.\n",
    "\n",
    "Disadvantage:\n",
    "A small change in the data can cause a large change in the structure of the decision tree causing instability.\n",
    "For a Decision tree sometimes calculation can go far more complex compared to other algorithms.\n",
    "Decision tree often involves higher time to train the model.\n",
    "Decision tree training is relatively expensive as the complexity and time has taken are more.\n",
    "The Decision Tree algorithm is inadequate for applying regression and predicting continuous values."
   ]
  },
  {
   "cell_type": "markdown",
   "id": "55db8449",
   "metadata": {},
   "source": [
    "### 15. Describe in depth the problems that are suitable for decision tree learning.\n"
   ]
  },
  {
   "cell_type": "code",
   "execution_count": null,
   "id": "48ec742c",
   "metadata": {},
   "outputs": [],
   "source": [
    "Instances are represented by attribute-value pairs.\n",
    "There is a finite list of attributes (e.g. hair colour) and each instance stores a value for that attribute (e.g. blonde).\n",
    "When each attribute has a small number of distinct values (e.g. blonde, brown, red) it is easier for the decision tree to reach a useful solution.\n",
    "The algorithm can be extended to handle real-valued attributes (e.g. a floating point temperature)\n",
    "The target function has discrete output values.\n",
    "A decision tree classifies each example as one of the output values.\n",
    "Simplest case exists when there are only two possible classes (Boolean classification).\n",
    "However, it is easy to extend the decision tree to produce a target function with more than two possible output values.\n",
    "Although it is less common, the algorithm can also be extended to produce a target function with real-valued outputs.\n",
    "Disjunctive descriptions may be required.\n",
    "Decision trees naturally represent disjunctive expressions.\n",
    "The training data may contain errors.\n",
    "Errors in the classification of examples, or in the attribute values describing those examples are handled well by decision trees, making them a robust learning method.\n",
    "The training data may contain missing attribute values.\n",
    "Decision tree methods can be used even when some training examples have unknown values (e.g., humidity is known for only a fraction of the examples)."
   ]
  },
  {
   "cell_type": "markdown",
   "id": "40efd0bc",
   "metadata": {},
   "source": [
    "### 16. Describe in depth the random forest model. What distinguishes a random forest?\n"
   ]
  },
  {
   "cell_type": "code",
   "execution_count": null,
   "id": "a39b36df",
   "metadata": {},
   "outputs": [],
   "source": [
    "Random forest is a supervised learning algorithm. The \"forest\" it builds, is an ensemble of decision trees,\n",
    "usually trained with the “bagging” method.\n",
    "The general idea of the bagging method is that a combination of learning models increases the overall result."
   ]
  },
  {
   "cell_type": "markdown",
   "id": "319af5f7",
   "metadata": {},
   "source": [
    "### 17. In a random forest, talk about OOB error and variable value."
   ]
  },
  {
   "cell_type": "code",
   "execution_count": null,
   "id": "295bbedf",
   "metadata": {},
   "outputs": [],
   "source": []
  },
  {
   "cell_type": "code",
   "execution_count": null,
   "id": "5667fd2e",
   "metadata": {},
   "outputs": [],
   "source": []
  }
 ],
 "metadata": {
  "kernelspec": {
   "display_name": "Python 3",
   "language": "python",
   "name": "python3"
  },
  "language_info": {
   "codemirror_mode": {
    "name": "ipython",
    "version": 3
   },
   "file_extension": ".py",
   "mimetype": "text/x-python",
   "name": "python",
   "nbconvert_exporter": "python",
   "pygments_lexer": "ipython3",
   "version": "3.8.8"
  }
 },
 "nbformat": 4,
 "nbformat_minor": 5
}
