{
 "cells": [
  {
   "cell_type": "markdown",
   "id": "2af79e24",
   "metadata": {},
   "source": [
    "### 1. What does RGBA stand for?"
   ]
  },
  {
   "cell_type": "code",
   "execution_count": null,
   "id": "df7ccaf2",
   "metadata": {},
   "outputs": [],
   "source": [
    "An RGBA value is a tuple of 4 integers, each ranging from 0 to 255.\n",
    "The four integers correspond to the amount of red, green, blue, and alpha (transparency) in the color."
   ]
  },
  {
   "cell_type": "markdown",
   "id": "92ff623e",
   "metadata": {},
   "source": [
    "### 2. From the Pillow module, how do you get the RGBA value of any images?"
   ]
  },
  {
   "cell_type": "code",
   "execution_count": null,
   "id": "5a2579ab",
   "metadata": {},
   "outputs": [],
   "source": [
    "A function call to ImageColor.getcolor('imagecolour', 'RGBA') \n",
    "will return (100, 149, 237, 255), the RGBA value for that color."
   ]
  },
  {
   "cell_type": "markdown",
   "id": "d09bacd1",
   "metadata": {},
   "source": [
    "### 3. What is a box tuple, and how does it work?"
   ]
  },
  {
   "cell_type": "code",
   "execution_count": null,
   "id": "9f9f21e8",
   "metadata": {},
   "outputs": [],
   "source": [
    "A box tuple is a tuple value of four integers:\n",
    "the left edge x-coordinate,\n",
    "the top edge y-coordinate, \n",
    "the width, and the height, respectively."
   ]
  },
  {
   "cell_type": "markdown",
   "id": "d3fba4aa",
   "metadata": {},
   "source": [
    "### 4. Use your image and load in notebook then, How can you find out the width and height of an Image object?"
   ]
  },
  {
   "cell_type": "code",
   "execution_count": null,
   "id": "d36dc8e4",
   "metadata": {},
   "outputs": [],
   "source": [
    "imageObj.size is a tuple of two integers,\n",
    "the width and the height."
   ]
  },
  {
   "cell_type": "markdown",
   "id": "15ea67ca",
   "metadata": {},
   "source": [
    "### 5. What method would you call to get Image object for a 100×100 image, excluding the lower-left quarter of it?"
   ]
  },
  {
   "cell_type": "code",
   "execution_count": null,
   "id": "99db32dd",
   "metadata": {},
   "outputs": [],
   "source": [
    "imageObj.crop((0, 50, 50, 50)). "
   ]
  },
  {
   "cell_type": "markdown",
   "id": "4564cafd",
   "metadata": {},
   "source": [
    "### 6. After making changes to an Image object, how could you save it as an image file?"
   ]
  },
  {
   "cell_type": "code",
   "execution_count": null,
   "id": "9e6b8751",
   "metadata": {},
   "outputs": [],
   "source": [
    "imageObj.save('new_filename.png')"
   ]
  },
  {
   "cell_type": "markdown",
   "id": "7e3b2de4",
   "metadata": {},
   "source": [
    "### 7. What module contains Pillow’s shape-drawing code?"
   ]
  },
  {
   "cell_type": "code",
   "execution_count": null,
   "id": "4a2b60a9",
   "metadata": {},
   "outputs": [],
   "source": [
    "The ImageDraw module contains code to draw on images."
   ]
  },
  {
   "cell_type": "markdown",
   "id": "946bed24",
   "metadata": {},
   "source": [
    "### 8. Image objects do not have drawing methods. What kind of object does? How do you get this kind of object?"
   ]
  },
  {
   "cell_type": "code",
   "execution_count": null,
   "id": "a36dfaed",
   "metadata": {},
   "outputs": [],
   "source": [
    "ImageDraw objects have shape-drawing methods such as\n",
    "point(), line(), or rectangle(). \n",
    "They are returned by passing the Image object to the ImageDraw.Draw() function."
   ]
  }
 ],
 "metadata": {
  "kernelspec": {
   "display_name": "Python 3",
   "language": "python",
   "name": "python3"
  },
  "language_info": {
   "codemirror_mode": {
    "name": "ipython",
    "version": 3
   },
   "file_extension": ".py",
   "mimetype": "text/x-python",
   "name": "python",
   "nbconvert_exporter": "python",
   "pygments_lexer": "ipython3",
   "version": "3.8.8"
  }
 },
 "nbformat": 4,
 "nbformat_minor": 5
}
