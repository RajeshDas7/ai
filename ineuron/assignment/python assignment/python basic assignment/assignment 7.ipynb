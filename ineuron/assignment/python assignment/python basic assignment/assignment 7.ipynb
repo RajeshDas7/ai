{
 "cells": [
  {
   "cell_type": "markdown",
   "id": "ebdc852f",
   "metadata": {},
   "source": [
    "### 1. What is the name of the feature responsible for generating Regex objects?"
   ]
  },
  {
   "cell_type": "code",
   "execution_count": null,
   "id": "f5295df5",
   "metadata": {},
   "outputs": [],
   "source": [
    "re.compile() function responsible for generating Regex objects."
   ]
  },
  {
   "cell_type": "markdown",
   "id": "77420bd6",
   "metadata": {},
   "source": [
    "### 2. Why do raw strings often appear in Regex objects?"
   ]
  },
  {
   "cell_type": "code",
   "execution_count": null,
   "id": "4e1a4cc3",
   "metadata": {},
   "outputs": [],
   "source": [
    "Raw strings are used so that backslashes do not have to be escaped."
   ]
  },
  {
   "cell_type": "markdown",
   "id": "a96cf858",
   "metadata": {},
   "source": [
    "### 3. What is the return value of the search() method?"
   ]
  },
  {
   "cell_type": "code",
   "execution_count": null,
   "id": "cd292740",
   "metadata": {},
   "outputs": [],
   "source": [
    "The search() method returns Match objects."
   ]
  },
  {
   "cell_type": "markdown",
   "id": "ed89e5a2",
   "metadata": {},
   "source": [
    "### 4. From a Match item, how do you get the actual strings that match the pattern?"
   ]
  },
  {
   "cell_type": "code",
   "execution_count": null,
   "id": "740e1fe1",
   "metadata": {},
   "outputs": [],
   "source": [
    "The group() method returns strings of the matched text."
   ]
  },
  {
   "cell_type": "markdown",
   "id": "2f19cbee",
   "metadata": {},
   "source": [
    "### 5. In the regex which created from the r'(\\d\\d\\d)-(\\d\\d\\d-\\d\\d\\d\\d)', what does group zero cover? Group 2? Group 1?"
   ]
  },
  {
   "cell_type": "code",
   "execution_count": null,
   "id": "ac4c1794",
   "metadata": {},
   "outputs": [],
   "source": [
    "Group 0 is the entire match,\n",
    "group 1 covers the first set of parentheses, \n",
    "and group 2 covers the second set of parentheses."
   ]
  },
  {
   "cell_type": "markdown",
   "id": "4cf85061",
   "metadata": {},
   "source": [
    "### 6. In standard expression syntax, parentheses and intervals have distinct meanings. How can you tell a regex that you want it to fit real parentheses and periods?"
   ]
  },
  {
   "cell_type": "code",
   "execution_count": null,
   "id": "99001226",
   "metadata": {},
   "outputs": [],
   "source": [
    "Periods and parentheses can be escaped with a backslash: \\., \\(, and \\)."
   ]
  },
  {
   "cell_type": "markdown",
   "id": "0c69eeda",
   "metadata": {},
   "source": [
    "### 7. The findall() method returns a string list or a list of string tuples. What causes it to return one of the two options?"
   ]
  },
  {
   "cell_type": "code",
   "execution_count": null,
   "id": "aa42bc0f",
   "metadata": {},
   "outputs": [],
   "source": [
    "If the regex has no groups, a list of strings is returned. \n",
    "If the regex has groups, a list of tuples of strings is returned."
   ]
  },
  {
   "cell_type": "markdown",
   "id": "9df9d19b",
   "metadata": {},
   "source": [
    "### 8. In standard expressions, what does the | character mean?"
   ]
  },
  {
   "cell_type": "code",
   "execution_count": null,
   "id": "a81e47a9",
   "metadata": {},
   "outputs": [],
   "source": [
    "The | character signifies matching \"either, or\" between two groups."
   ]
  },
  {
   "cell_type": "markdown",
   "id": "e33747a1",
   "metadata": {},
   "source": [
    "### 9. In regular expressions, what does the character stand for?"
   ]
  },
  {
   "cell_type": "code",
   "execution_count": null,
   "id": "88ef4d16",
   "metadata": {},
   "outputs": [],
   "source": []
  },
  {
   "cell_type": "markdown",
   "id": "5950d925",
   "metadata": {},
   "source": [
    "### 10.In regular expressions, what is the difference between the + and * characters?"
   ]
  },
  {
   "cell_type": "code",
   "execution_count": null,
   "id": "dc8175d4",
   "metadata": {},
   "outputs": [],
   "source": [
    "The + matches one or more. The * matches zero or more."
   ]
  },
  {
   "cell_type": "markdown",
   "id": "348d0e32",
   "metadata": {},
   "source": [
    "### 11. What is the difference between {4} and {4,5} in regular expression?"
   ]
  },
  {
   "cell_type": "code",
   "execution_count": null,
   "id": "44b510d3",
   "metadata": {},
   "outputs": [],
   "source": [
    "The {4} matches exactly four instances of the preceding group. \n",
    "The {4,5} matches between four and five instances."
   ]
  },
  {
   "cell_type": "markdown",
   "id": "c5ef4981",
   "metadata": {},
   "source": [
    "### 12. What do you mean by the \\d, \\w, and \\s shorthand character classes signify in regular expressions?"
   ]
  },
  {
   "cell_type": "code",
   "execution_count": null,
   "id": "56603c1d",
   "metadata": {},
   "outputs": [],
   "source": [
    "The \\d shorthand character classes match a single digit .\n",
    "\n",
    "The \\w shorthand character classes match a single word .\n",
    "\n",
    "The \\s shorthand character classes match a single space character .\n"
   ]
  },
  {
   "cell_type": "markdown",
   "id": "132df336",
   "metadata": {},
   "source": [
    "### 13. What do means by \\D, \\W, and \\S shorthand character classes signify in regular expressions?"
   ]
  },
  {
   "cell_type": "code",
   "execution_count": null,
   "id": "7e7ba2a4",
   "metadata": {},
   "outputs": [],
   "source": [
    "The \\D shorthand character classes match a single character that is not a digit  .\n",
    "\n",
    "The \\W shorthand character classes match a single character that is not a word .\n",
    "\n",
    "The \\S shorthand character classes match a single character that is not a space  .\n"
   ]
  },
  {
   "cell_type": "markdown",
   "id": "aaa9d7e7",
   "metadata": {},
   "source": [
    "### 14. What is the difference between  . * ? and . * ?"
   ]
  },
  {
   "cell_type": "code",
   "execution_count": null,
   "id": "9e2eba24",
   "metadata": {},
   "outputs": [],
   "source": []
  },
  {
   "cell_type": "markdown",
   "id": "5af06fcb",
   "metadata": {},
   "source": [
    "### 15. What is the syntax for matching both numbers and lowercase letters with a character class?"
   ]
  },
  {
   "cell_type": "code",
   "execution_count": null,
   "id": "d6495351",
   "metadata": {},
   "outputs": [],
   "source": [
    "Either [0-9a-z] or [a-z0-9]"
   ]
  },
  {
   "cell_type": "markdown",
   "id": "f2fa78b6",
   "metadata": {},
   "source": [
    "### 16. What is the procedure for making a normal expression in regax case insensitive?"
   ]
  },
  {
   "cell_type": "code",
   "execution_count": null,
   "id": "811d75f7",
   "metadata": {},
   "outputs": [],
   "source": [
    "Passing re.I or re.IGNORECASE as the second argument to\n",
    "re.compile() will make the matching case insensitive"
   ]
  },
  {
   "cell_type": "markdown",
   "id": "c2517eda",
   "metadata": {},
   "source": [
    "### 17. What does the . character normally match? What does it match if re.DOTALL is passed as 2nd argument in re.compile()?"
   ]
  },
  {
   "cell_type": "code",
   "execution_count": null,
   "id": "518cb133",
   "metadata": {},
   "outputs": [],
   "source": [
    "The . character normally matches any character except the newline character. \n",
    "If re.DOTALL is passed as the second argument to re.compile(),\n",
    "then the dot will also match newline characters."
   ]
  },
  {
   "cell_type": "markdown",
   "id": "cab48fab",
   "metadata": {},
   "source": [
    "### 18. If numReg = re.compile(r'\\d+'), what will numRegex.sub('X', '11 drummers, 10 pipers, five rings, 4 hen') return?"
   ]
  },
  {
   "cell_type": "code",
   "execution_count": null,
   "id": "c30da229",
   "metadata": {},
   "outputs": [],
   "source": [
    "'X drummers, X pipers, five rings, X hens'"
   ]
  },
  {
   "cell_type": "markdown",
   "id": "e8d36ceb",
   "metadata": {},
   "source": [
    "### 19. What does passing re.VERBOSE as the 2nd argument to re.compile() allow to do?"
   ]
  },
  {
   "cell_type": "code",
   "execution_count": null,
   "id": "cf232b66",
   "metadata": {},
   "outputs": [],
   "source": [
    "The re.VERBOSE argument allows you to add\n",
    "whitespace and comments to the string passed to re.compile()."
   ]
  },
  {
   "cell_type": "markdown",
   "id": "f55ffb76",
   "metadata": {},
   "source": [
    "### 20. How would you write a regex that match a number with comma for every three digits? It must match the given following:\n",
    "\n",
    "'42'\n",
    "\n",
    "'1,234'\n",
    "\n",
    "'6,368,745'\n"
   ]
  },
  {
   "cell_type": "code",
   "execution_count": null,
   "id": "43efe9be",
   "metadata": {},
   "outputs": [],
   "source": [
    "re.compile(r'^\\d{1,3}(,\\d{3})*$')"
   ]
  }
 ],
 "metadata": {
  "kernelspec": {
   "display_name": "Python 3",
   "language": "python",
   "name": "python3"
  },
  "language_info": {
   "codemirror_mode": {
    "name": "ipython",
    "version": 3
   },
   "file_extension": ".py",
   "mimetype": "text/x-python",
   "name": "python",
   "nbconvert_exporter": "python",
   "pygments_lexer": "ipython3",
   "version": "3.8.8"
  }
 },
 "nbformat": 4,
 "nbformat_minor": 5
}
